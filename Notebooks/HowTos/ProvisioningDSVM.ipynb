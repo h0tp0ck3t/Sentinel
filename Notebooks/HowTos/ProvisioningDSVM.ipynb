{
  "cells": [
    {
      "metadata": {},
      "cell_type": "markdown",
      "source": "# How To: Provisioning Data Science Virtual Machine (DSVM)\n\n__Notebook Version:__ 1.0<br>\n__Python Version:__ Python 3.6<br>\n__Platforms Supported:__<br>\n    -  Azure Notebooks Free Compute\n__Data Source Required:__<br>\n    -  no\n    \n### Description\nThe sample notebook shows how to provision a Azure DSVM as an alternate computing resource for hosting Azure Notebooks.\n\nAzure Notebooks provides Free Compute as the default computing resource, which is free of charge.  However, sometimes you do want to have a powerful computing environment, and you don't want to go through Direct Compute route which requires JupyterHub installation on Linux machines, then Data Science Virtual Machine (DSVM) becomes a vital choice.\n\nYou may reference <a href='https://docs.microsoft.com/en-us/azure/notebooks/configure-manage-azure-notebooks-projects' target='_blank'>this article</a> for details.  In a nutshell, you need to select Linux VM with Ubuntu flavor.  And keep in mind that on Azure DSVM, if you want to use Python 3.6 which is required by Azure Sentinel notebooks, you need to <font color=red> select Python 3.6 - AzureML.</font>"
    },
    {
      "metadata": {},
      "cell_type": "markdown",
      "source": "## Table of Contents\n\n1. How to create a new DSVM \n2. How to use DSVM\n3. Things to know about using DSVM"
    },
    {
      "metadata": {},
      "cell_type": "markdown",
      "source": "## 1. How to create a new DSVM\n\n0. First, please read <a href='https://docs.microsoft.com/en-us/azure/machine-learning/data-science-virtual-machine/dsvm-ubuntu-intro' target='_blank'>this article</a> for details\n1. Go to Azure portal\n2. Search for Data Science Virtual Machine under All Services<br>\n![select](images/select.png)<br>\n3. Select DSVM for Linux (Ubuntu), read the introduction, click Create button.  On the following page shown below, following the instruction to complete the form.  You need to use the same Azure subscription that you are using for your Azure Sentinel and Azure Log Analytics.  And make sure you select Password and check 'Login with Azure Active Directory'.<br>\n![create](images/create.png)<br>\n4. Once a DSVM created, make sure you keep SSH public key and password in a safe place.\n5. If you want to remote into the VM using SSH, you can add inbound port rule for port 22."
    },
    {
      "metadata": {
        "trusted": true
      },
      "cell_type": "markdown",
      "source": "## 2. How to use DSVM\n\n1. Now that you have a DSVM, when you login to https://notebooks.azure.com, you can see you DSVM on the drop down list under Free Compute and Direct Compute.<br>\n![dropdown](images/dropdown.png)<br>\n2. Of course you will select DSVM, it will ask you to validate your JIT credentials.<br>\n![login](images/login.png)<br>\n3. Once you pick a notebook to run, you may encounter the following warning:<br>\n![warning](images/warning.png)<br>\nAs you may see, [Python 3.6 - AzureML] is the correct answer.\n"
    },
    {
      "metadata": {
        "trusted": true
      },
      "cell_type": "markdown",
      "source": "## 3. Things to know about using DSVM\n\n1. The most important thing to know about Azure Notebooks on DSVM is that: Azure Notebooks project home directory is not mounted on the DSVM.  So any references to Azure Notebooks  folders / files will incur File/folder not found exception.  In other words, each ipynb notebook need to be independent of other files.  \n2. There are work-around solutions:<br>\n    a. Data files can be stored on Azure Blob storage and <a href='https://github.com/Azure/azure-storage-fuse' target='_blank'>blobfufe</a><br>\n    b. Python files can be added to the notebook by using the Jupyter magic, you can find an example here: <a href='https://github.com/Microsoft/connect-petdetector/blob/master/setup.ipynb' target='_blank'>%%writefile</a><br>\n    c. Configuration files are a bit more complicated.  Using our Azure Sentinel config.json as an example, it is generated when you import Azure Sentinel Jupyter project from GitHub repo through Azure portal.  The configuration JSON is Azure Log Analytics workspace specific file, so you clone one project for one Log Analytics workspace.  You can find the config.json file at the root of the project home directory.  <a href='https://orion-zhaozp.notebooks.azure.com/j/notebooks/Notebooks/Get%20Start.ipynb' target='_blank'>Get Start.jpynb</a>  section 1 demonstrates how to set the configuration settings manually. "
    },
    {
      "metadata": {
        "trusted": true
      },
      "cell_type": "code",
      "source": "",
      "execution_count": null,
      "outputs": []
    }
  ],
  "metadata": {
    "kernelspec": {
      "name": "python3-azureml",
      "display_name": "Python 3.6 - AzureML",
      "language": "python"
    },
    "language_info": {
      "pygments_lexer": "ipython3",
      "name": "python",
      "file_extension": ".py",
      "codemirror_mode": {
        "name": "ipython",
        "version": 3
      },
      "nbconvert_exporter": "python",
      "mimetype": "text/x-python",
      "version": "3.6.7"
    }
  },
  "nbformat": 4,
  "nbformat_minor": 1
}