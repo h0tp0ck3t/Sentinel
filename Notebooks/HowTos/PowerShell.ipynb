{
 "cells": [
  {
   "cell_type": "markdown",
   "metadata": {},
   "source": [
    "# Using PowerShell on Local Jupyter Environment\n",
    "\n",
    "__Notebook Version:__ 1.0<br>\n",
    "__Python Version:__ Python 3.6<br>\n",
    "__Platforms Supported:__<br>\n",
    "\n",
    "-  Local Jupyter installation on Windows 10\n",
    "\n",
    "__Data Source Required:__<br>\n",
    "-  no<br>\n",
    "\n",
    "__Description__<br>\n",
    "The notebook demonstrates how to enable PowerShell on Jupyter.<br>"
   ]
  },
  {
   "cell_type": "code",
   "execution_count": null,
   "metadata": {},
   "outputs": [],
   "source": [
    "import sys\n",
    "sys.path.append('c:\\program files (x86)\\microsoft visual studio\\shared\\anaconda3_64\\lib\\dist-packages')\n",
    "\n",
    "!pip install powershellmagic"
   ]
  },
  {
   "cell_type": "code",
   "execution_count": null,
   "metadata": {},
   "outputs": [],
   "source": [
    "%load_ext powershellmagic"
   ]
  },
  {
   "cell_type": "code",
   "execution_count": null,
   "metadata": {},
   "outputs": [],
   "source": [
    "%%powershell\n",
    "Get-Command"
   ]
  },
  {
   "cell_type": "code",
   "execution_count": null,
   "metadata": {},
   "outputs": [],
   "source": []
  }
 ],
 "metadata": {
  "kernelspec": {
   "display_name": "Python 3",
   "language": "python",
   "name": "python3"
  },
  "language_info": {
   "codemirror_mode": {
    "name": "ipython",
    "version": 3
   },
   "file_extension": ".py",
   "mimetype": "text/x-python",
   "name": "python",
   "nbconvert_exporter": "python",
   "pygments_lexer": "ipython3",
   "version": "3.6.4"
  }
 },
 "nbformat": 4,
 "nbformat_minor": 2
}
