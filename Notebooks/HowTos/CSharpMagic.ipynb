{
  "cells": [
    {
      "metadata": {},
      "cell_type": "markdown",
      "source": "# Using C# on Local Jupyter Environment\n\n__Notebook Version:__ 1.0<br>\n__Python Version:__ Python 3.6<br>\n__Platforms Supported:__<br>\n\n-  Local Jupyter installation on Windows 10\n\n__Data Source Required:__<br>\n-  no<br>\n\n__Description__<br>\nThe notebook demonstrates how to run C# programs on Jupyter.<br>"
    },
    {
      "metadata": {
        "trusted": false
      },
      "cell_type": "code",
      "source": "# Run only once\n!pip install clrmagic",
      "execution_count": null,
      "outputs": []
    },
    {
      "metadata": {
        "trusted": false
      },
      "cell_type": "code",
      "source": "# Load CLR_Magic \n%reload_ext clrmagic",
      "execution_count": null,
      "outputs": []
    },
    {
      "metadata": {
        "trusted": false
      },
      "cell_type": "code",
      "source": "# Display all magic commands\n%lsmagic",
      "execution_count": null,
      "outputs": []
    },
    {
      "metadata": {
        "trusted": false
      },
      "cell_type": "code",
      "source": "%%CS Hello System.dll\npublic static string Hello(string name)\n{\n    string temp = \"Hello {0}\";\n    return string.Format(temp, name);\n}",
      "execution_count": null,
      "outputs": []
    },
    {
      "metadata": {
        "trusted": false
      },
      "cell_type": "code",
      "source": "# Calling C# method\nHello('Your name')",
      "execution_count": null,
      "outputs": []
    },
    {
      "metadata": {
        "trusted": false
      },
      "cell_type": "code",
      "source": "",
      "execution_count": null,
      "outputs": []
    }
  ],
  "metadata": {
    "kernelspec": {
      "name": "python3",
      "display_name": "Python 3",
      "language": "python"
    },
    "language_info": {
      "mimetype": "text/x-python",
      "nbconvert_exporter": "python",
      "name": "python",
      "pygments_lexer": "ipython3",
      "version": "3.5.4",
      "file_extension": ".py",
      "codemirror_mode": {
        "version": 3,
        "name": "ipython"
      }
    },
    "celltoolbar": "Tags"
  },
  "nbformat": 4,
  "nbformat_minor": 2
}