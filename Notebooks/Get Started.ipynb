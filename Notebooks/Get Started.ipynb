{
  "cells": [
    {
      "metadata": {
        "collapsed": true
      },
      "cell_type": "markdown",
      "source": "# Get Started\n\n__Notebook Version:__ 1.0<br>\n__Python Version:__ Python 3.6 (including Python 3.6 - AzureML)<br>\n__Required Packages:__ Kqlmagic 0.1.90<br>\n__Platforms Supported:__<br>\n    -  Azure Notebooks Free Compute\n    -  Azure Notebooks DSVM\n__Data Source Required:__<br>\n    -  Log Analytics - SecurityEvent\n    \n### Description\nThe notebook provides you basic knowledge to use Azure Sentinel Notebooks.\n\n<font color=red>When you switch between Azure Notebooks Free Compute and Data Science Virtual Machine (DSVM), you may need to select Python version: please select Python 3.6 for Free Compute, and Python 3.6 - AzureML for DSVM.</font>"
    },
    {
      "metadata": {},
      "cell_type": "markdown",
      "source": "## Prerequisite check"
    },
    {
      "metadata": {
        "trusted": true
      },
      "cell_type": "code",
      "source": "# only run once, current version 0.1.2\n!pip install --upgrade Sentinel-Utilities",
      "execution_count": null,
      "outputs": []
    },
    {
      "metadata": {
        "trusted": true
      },
      "cell_type": "code",
      "source": "import SentinelUtils\n# checking Python version\ncheck = SentinelUtils.version_management.ModuleVersionCheck()\npy_check = check.validate_python('3.6.0')\nif py_check.requirement_met == False:\n    print('Please select Python 3.6 or Python 3.6 - AzureML at the upper right corner')\nelse:\n    print('Please continue')",
      "execution_count": null,
      "outputs": []
    },
    {
      "metadata": {
        "trusted": true
      },
      "cell_type": "code",
      "source": "# checking required packages\nmods_check = check.validate_installed_modules(['Kqlmagic>=0.1.90'])\nfor mod_info in mods_check:\n    if mod_info.requirement_met == False:\n        print('Please install {} {} at the following cell.'.format(mod_info.name, mod_info.required_version))",
      "execution_count": null,
      "outputs": []
    },
    {
      "metadata": {
        "trusted": true
      },
      "cell_type": "code",
      "source": "# Please install required packages based on the check at last cellp\n#!pip install Kqlmagic --upgrade",
      "execution_count": null,
      "outputs": []
    },
    {
      "metadata": {},
      "cell_type": "markdown",
      "source": "## Table of Contents\n\n1. Retrieve Log Analytics information \n2. Log into Log Analytics\n3. Get a list of available data tables from Log Analytics\n4. Run a simple Kusto query"
    },
    {
      "metadata": {},
      "cell_type": "markdown",
      "source": "## 1. Retrieve Log Analytics Information"
    },
    {
      "metadata": {
        "trusted": true
      },
      "cell_type": "code",
      "source": "path = %env PATH\ndsvm = False\nif '/dsvm/' in path:\n    dsvm = True\n    \nif dsvm == False:\n    # Run this if you are using Free Compute\n    tenant_id = SentinelUtils.config_reader.ConfigReader.read_config_values(\"config.json\")[0]\n    subscription_id = SentinelUtils.config_reader.ConfigReader.read_config_values(\"config.json\")[1]\n    resource_group = SentinelUtils.config_reader.ConfigReader.read_config_values(\"config.json\")[2]\n    workspace_id = SentinelUtils.config_reader.ConfigReader.read_config_values(\"config.json\")[3]\n    workspace_name = SentinelUtils.config_reader.ConfigReader.read_config_values(\"config.json\")[4]\n    print('Your Log Analytic Workspace: {}'.format(workspace_name))\nelse:\n    # Run this if you are using DSVM.  You need to copy the values from config.json, if the file has no value, then you need to go to Log Analytics Portal to get the information.\n    tenant_id = input('tenant_id:')\n    subscription_id = input('subscription_id:')\n    resource_group = input('resource_group:')\n    workspace_id = input('workspace_id:')\n    workspace_name = input('workspace_name:')",
      "execution_count": null,
      "outputs": []
    },
    {
      "metadata": {},
      "cell_type": "markdown",
      "source": "## 2. Log into Log Analytics"
    },
    {
      "metadata": {
        "trusted": true
      },
      "cell_type": "code",
      "source": "# You must run this cell to log into Log Analytics to continue\n# Make sure you have 0.1.90 or above, if not, run Kqlmagic installation again\n%reload_ext Kqlmagic\n%kql loganalytics://code;workspace=workspace_id;tenant=tenant_id;alias=\"SentinelDB\"",
      "execution_count": null,
      "outputs": []
    },
    {
      "metadata": {},
      "cell_type": "markdown",
      "source": "## 3. Get a list of available data tables from Log Analytics"
    },
    {
      "metadata": {},
      "cell_type": "markdown",
      "source": "1. Tables with records"
    },
    {
      "metadata": {
        "trusted": true
      },
      "cell_type": "code",
      "source": "%kql search * | summarize count() by Type",
      "execution_count": null,
      "outputs": []
    },
    {
      "metadata": {},
      "cell_type": "markdown",
      "source": "2. All Tables in drop down"
    },
    {
      "metadata": {
        "scrolled": true,
        "trusted": true
      },
      "cell_type": "code",
      "source": "import ipywidgets as widgets\nfrom IPython.display import display\ndbSchema = %kql --schema \"SentinelDB@loganalytics\"\ntables = list(dbSchema.keys())\nselected_table = widgets.Dropdown(options=tables, value=tables[1],description='Data Table:')\ndisplay(selected_table)",
      "execution_count": null,
      "outputs": []
    },
    {
      "metadata": {},
      "cell_type": "markdown",
      "source": "3. Choose columns from the selected table"
    },
    {
      "metadata": {
        "trusted": true
      },
      "cell_type": "code",
      "source": "columns = list(dbSchema[selected_table.value])\ncolumns.sort()\nselected_columns = widgets.SelectMultiple(options=columns, value=[],description='Data Columns:')\ndisplay(selected_columns)",
      "execution_count": null,
      "outputs": []
    },
    {
      "metadata": {},
      "cell_type": "markdown",
      "source": "4. List unique values for selected columns"
    },
    {
      "metadata": {
        "trusted": true
      },
      "cell_type": "code",
      "source": "%kql {selected_table.value} | where TimeGenerated >= ago(30d) | take 1000\nif len(_kql_raw_result_) > 0:\n    df = _kql_raw_result_.to_dataframe()\nelse:\n    df = None\n    print('no data')",
      "execution_count": null,
      "outputs": []
    },
    {
      "metadata": {
        "trusted": true
      },
      "cell_type": "code",
      "source": "for index, column in enumerate(selected_columns.value):\n    unique_values = df[column].drop_duplicates().sort_values()\n    values_dropdown = widgets.Dropdown(options=unique_values, description=column)\n    display(values_dropdown)",
      "execution_count": null,
      "outputs": []
    },
    {
      "metadata": {},
      "cell_type": "markdown",
      "source": "5. Search a term"
    },
    {
      "metadata": {
        "trusted": true
      },
      "cell_type": "code",
      "source": "# scope to a table and a column\n%kql search in ({selected_table.value}) {selected_columns.value[0]}: '*local service' | take 5",
      "execution_count": null,
      "outputs": []
    },
    {
      "metadata": {},
      "cell_type": "markdown",
      "source": "## 4. Run a simple Kusto query"
    },
    {
      "metadata": {
        "trusted": true
      },
      "cell_type": "code",
      "source": "# Checking required Data Sources\nrequired_data_sources = ['SecurityEvent']\ndbSchema = %kql --schema \"SentinelDB@loganalytics\"\ntables = list(dbSchema.keys())\nfor source in required_data_sources:\n    if source not in tables:\n        print('You do not have required data source: {}'.format(source))\n    else:\n        print('Please continue')",
      "execution_count": null,
      "outputs": []
    },
    {
      "metadata": {
        "trusted": true
      },
      "cell_type": "code",
      "source": "%kql SecurityEvent | take 5 | project Account, Computer\ndf = _kql_raw_result_.to_dataframe()\ndf",
      "execution_count": null,
      "outputs": []
    },
    {
      "metadata": {
        "trusted": true
      },
      "cell_type": "code",
      "source": "",
      "execution_count": null,
      "outputs": []
    }
  ],
  "metadata": {
    "celltoolbar": "Tags",
    "hide_input": false,
    "kernelspec": {
      "name": "python3-azureml",
      "display_name": "Python 3.6 - AzureML",
      "language": "python"
    },
    "language_info": {
      "pygments_lexer": "ipython3",
      "name": "python",
      "file_extension": ".py",
      "codemirror_mode": {
        "name": "ipython",
        "version": 3
      },
      "nbconvert_exporter": "python",
      "mimetype": "text/x-python",
      "version": "3.6.7"
    },
    "toc": {
      "base_numbering": 1,
      "nav_menu": {},
      "number_sections": false,
      "sideBar": true,
      "skip_h1_title": false,
      "title_cell": "Table of Contents",
      "title_sidebar": "Contents",
      "toc_cell": false,
      "toc_position": {},
      "toc_section_display": true,
      "toc_window_display": false
    }
  },
  "nbformat": 4,
  "nbformat_minor": 2
}